{
 "cells": [
  {
   "cell_type": "code",
   "execution_count": 2,
   "id": "b44d016b",
   "metadata": {},
   "outputs": [],
   "source": [
    "from sklearn import datasets\n",
    "import pandas as pd\n",
    "import numpy as np\n",
    "import matplotlib.pyplot as plt\n",
    "import seaborn as sns\n",
    "%matplotlib inline"
   ]
  },
  {
   "cell_type": "code",
   "execution_count": 3,
   "id": "abd046f9",
   "metadata": {},
   "outputs": [
    {
     "name": "stdout",
     "output_type": "stream",
     "text": [
      "target_names: ['setosa' 'versicolor' 'virginica']\n"
     ]
    },
    {
     "data": {
      "text/html": [
       "<div>\n",
       "<style scoped>\n",
       "    .dataframe tbody tr th:only-of-type {\n",
       "        vertical-align: middle;\n",
       "    }\n",
       "\n",
       "    .dataframe tbody tr th {\n",
       "        vertical-align: top;\n",
       "    }\n",
       "\n",
       "    .dataframe thead th {\n",
       "        text-align: right;\n",
       "    }\n",
       "</style>\n",
       "<table border=\"1\" class=\"dataframe\">\n",
       "  <thead>\n",
       "    <tr style=\"text-align: right;\">\n",
       "      <th></th>\n",
       "      <th>sepal length (cm)</th>\n",
       "      <th>petal length (cm)</th>\n",
       "      <th>target</th>\n",
       "    </tr>\n",
       "  </thead>\n",
       "  <tbody>\n",
       "    <tr>\n",
       "      <th>0</th>\n",
       "      <td>5.1</td>\n",
       "      <td>1.4</td>\n",
       "      <td>0</td>\n",
       "    </tr>\n",
       "    <tr>\n",
       "      <th>1</th>\n",
       "      <td>4.9</td>\n",
       "      <td>1.4</td>\n",
       "      <td>0</td>\n",
       "    </tr>\n",
       "    <tr>\n",
       "      <th>2</th>\n",
       "      <td>4.7</td>\n",
       "      <td>1.3</td>\n",
       "      <td>0</td>\n",
       "    </tr>\n",
       "  </tbody>\n",
       "</table>\n",
       "</div>"
      ],
      "text/plain": [
       "   sepal length (cm)  petal length (cm)  target\n",
       "0                5.1                1.4       0\n",
       "1                4.9                1.4       0\n",
       "2                4.7                1.3       0"
      ]
     },
     "execution_count": 3,
     "metadata": {},
     "output_type": "execute_result"
    }
   ],
   "source": [
    "iris = datasets.load_iris()\n",
    "x = pd.DataFrame(iris['data'], columns=iris['feature_names'])\n",
    "print(\"target_names: \"+str(iris['target_names']))\n",
    "y = pd.DataFrame(iris['target'], columns=['target'])\n",
    "iris_data = pd.concat([x,y], axis=1)\n",
    "iris_data = iris_data[['sepal length (cm)','petal length (cm)','target']]\n",
    "iris_data = iris_data[iris_data['target'].isin([0,1])]\n",
    "iris_data.head(3)"
   ]
  },
  {
   "cell_type": "code",
   "execution_count": 5,
   "id": "1cad0b3d",
   "metadata": {},
   "outputs": [],
   "source": [
    "#分割資料為7:3(train/test)\n",
    "from sklearn.model_selection import train_test_split"
   ]
  },
  {
   "cell_type": "code",
   "execution_count": 24,
   "id": "c95483ef",
   "metadata": {},
   "outputs": [],
   "source": [
    "X_train, X_test, y_train, y_test = train_test_split(\n",
    "    iris_data[['sepal length (cm)','petal length (cm)']], iris_data[['target']], test_size=0.3, random_state=0)"
   ]
  },
  {
   "cell_type": "code",
   "execution_count": 25,
   "id": "cb1d39d0",
   "metadata": {},
   "outputs": [
    {
     "data": {
      "text/html": [
       "<div>\n",
       "<style scoped>\n",
       "    .dataframe tbody tr th:only-of-type {\n",
       "        vertical-align: middle;\n",
       "    }\n",
       "\n",
       "    .dataframe tbody tr th {\n",
       "        vertical-align: top;\n",
       "    }\n",
       "\n",
       "    .dataframe thead th {\n",
       "        text-align: right;\n",
       "    }\n",
       "</style>\n",
       "<table border=\"1\" class=\"dataframe\">\n",
       "  <thead>\n",
       "    <tr style=\"text-align: right;\">\n",
       "      <th></th>\n",
       "      <th>sepal length (cm)</th>\n",
       "      <th>petal length (cm)</th>\n",
       "    </tr>\n",
       "  </thead>\n",
       "  <tbody>\n",
       "    <tr>\n",
       "      <th>60</th>\n",
       "      <td>5.0</td>\n",
       "      <td>3.5</td>\n",
       "    </tr>\n",
       "    <tr>\n",
       "      <th>80</th>\n",
       "      <td>5.5</td>\n",
       "      <td>3.8</td>\n",
       "    </tr>\n",
       "    <tr>\n",
       "      <th>90</th>\n",
       "      <td>5.5</td>\n",
       "      <td>4.4</td>\n",
       "    </tr>\n",
       "    <tr>\n",
       "      <th>68</th>\n",
       "      <td>6.2</td>\n",
       "      <td>4.5</td>\n",
       "    </tr>\n",
       "    <tr>\n",
       "      <th>51</th>\n",
       "      <td>6.4</td>\n",
       "      <td>4.5</td>\n",
       "    </tr>\n",
       "    <tr>\n",
       "      <th>...</th>\n",
       "      <td>...</td>\n",
       "      <td>...</td>\n",
       "    </tr>\n",
       "    <tr>\n",
       "      <th>96</th>\n",
       "      <td>5.7</td>\n",
       "      <td>4.2</td>\n",
       "    </tr>\n",
       "    <tr>\n",
       "      <th>67</th>\n",
       "      <td>5.8</td>\n",
       "      <td>4.1</td>\n",
       "    </tr>\n",
       "    <tr>\n",
       "      <th>64</th>\n",
       "      <td>5.6</td>\n",
       "      <td>3.6</td>\n",
       "    </tr>\n",
       "    <tr>\n",
       "      <th>47</th>\n",
       "      <td>4.6</td>\n",
       "      <td>1.4</td>\n",
       "    </tr>\n",
       "    <tr>\n",
       "      <th>44</th>\n",
       "      <td>5.1</td>\n",
       "      <td>1.9</td>\n",
       "    </tr>\n",
       "  </tbody>\n",
       "</table>\n",
       "<p>70 rows × 2 columns</p>\n",
       "</div>"
      ],
      "text/plain": [
       "    sepal length (cm)  petal length (cm)\n",
       "60                5.0                3.5\n",
       "80                5.5                3.8\n",
       "90                5.5                4.4\n",
       "68                6.2                4.5\n",
       "51                6.4                4.5\n",
       "..                ...                ...\n",
       "96                5.7                4.2\n",
       "67                5.8                4.1\n",
       "64                5.6                3.6\n",
       "47                4.6                1.4\n",
       "44                5.1                1.9\n",
       "\n",
       "[70 rows x 2 columns]"
      ]
     },
     "execution_count": 25,
     "metadata": {},
     "output_type": "execute_result"
    }
   ],
   "source": [
    "X_train"
   ]
  },
  {
   "cell_type": "code",
   "execution_count": 26,
   "id": "8017573f",
   "metadata": {},
   "outputs": [
    {
     "data": {
      "text/plain": [
       "70"
      ]
     },
     "execution_count": 26,
     "metadata": {},
     "output_type": "execute_result"
    }
   ],
   "source": [
    "len(X_train)"
   ]
  },
  {
   "cell_type": "code",
   "execution_count": 27,
   "id": "684d72b3",
   "metadata": {},
   "outputs": [
    {
     "data": {
      "text/plain": [
       "30"
      ]
     },
     "execution_count": 27,
     "metadata": {},
     "output_type": "execute_result"
    }
   ],
   "source": [
    "len(X_test)"
   ]
  },
  {
   "cell_type": "code",
   "execution_count": 28,
   "id": "142997f0",
   "metadata": {},
   "outputs": [],
   "source": [
    "#特徵範圍縮小到一樣範圍，可縮小到0-1之間\n",
    "#資料標準法\n",
    "from sklearn.preprocessing import StandardScaler\n",
    "sc = StandardScaler()\n",
    "sc.fit(X_train)\n",
    "X_train_std = sc.transform(X_train)\n",
    "X_test_std = sc.transform(X_test)"
   ]
  },
  {
   "cell_type": "code",
   "execution_count": 29,
   "id": "bb1df675",
   "metadata": {},
   "outputs": [
    {
     "data": {
      "text/plain": [
       "array([[-0.80800774,  0.43666598],\n",
       "       [ 0.01648995,  0.64460217],\n",
       "       [ 0.01648995,  1.06047453],\n",
       "       [ 1.17078673,  1.12978659],\n",
       "       [ 1.50058581,  1.12978659],\n",
       "       [-0.47820866, -0.94957523],\n",
       "       [ 0.34628903, -0.81095111],\n",
       "       [ 1.33568627,  1.26841071],\n",
       "       [ 1.00588719,  1.26841071],\n",
       "       [ 1.50058581,  0.99116247],\n",
       "       [-0.97290728, -1.01888729],\n",
       "       [ 0.67608811,  0.92185041],\n",
       "       [-1.79740498, -1.08819936],\n",
       "       [-1.63250544, -1.08819936],\n",
       "       [-0.80800774, -1.01888729],\n",
       "       [ 0.34628903, -0.94957523],\n",
       "       [-0.6431082 , -1.01888729],\n",
       "       [-0.80800774, -1.08819936],\n",
       "       [-1.79740498, -1.08819936],\n",
       "       [-0.14840959, -0.81095111],\n",
       "       [ 1.00588719,  1.19909865],\n",
       "       [-0.47820866,  0.71391423],\n",
       "       [-0.6431082 , -1.01888729],\n",
       "       [-0.97290728, -0.94957523],\n",
       "       [-0.47820866, -1.01888729],\n",
       "       [ 2.48998304,  1.26841071],\n",
       "       [-1.13780682, -0.88026317],\n",
       "       [-0.80800774, -1.15751142],\n",
       "       [-0.6431082 , -0.81095111],\n",
       "       [ 2.3250835 ,  1.40703483],\n",
       "       [-0.14840959, -0.94957523],\n",
       "       [-0.14840959, -0.94957523],\n",
       "       [ 0.18138949,  1.12978659],\n",
       "       [-0.97290728,  0.29804186],\n",
       "       [ 0.34628903,  0.43666598],\n",
       "       [ 0.84098765,  1.12978659],\n",
       "       [-0.47820866, -0.94957523],\n",
       "       [-0.14840959,  1.12978659],\n",
       "       [ 0.51118857, -1.15751142],\n",
       "       [ 0.01648995,  0.78322629],\n",
       "       [-0.6431082 , -0.94957523],\n",
       "       [-1.30270636, -0.88026317],\n",
       "       [-0.80800774, -1.01888729],\n",
       "       [ 1.17078673,  0.99116247],\n",
       "       [-0.6431082 ,  0.09010568],\n",
       "       [ 0.18138949,  0.71391423],\n",
       "       [-0.14840959, -0.81095111],\n",
       "       [ 0.18138949,  0.92185041],\n",
       "       [ 1.33568627,  1.40703483],\n",
       "       [ 1.99528442,  1.4763469 ],\n",
       "       [-0.80800774, -0.88026317],\n",
       "       [-0.97290728, -1.01888729],\n",
       "       [ 0.01648995,  0.5752901 ],\n",
       "       [-0.6431082 , -0.88026317],\n",
       "       [-0.6431082 , -0.94957523],\n",
       "       [ 1.99528442,  1.06047453],\n",
       "       [ 1.83038488,  1.19909865],\n",
       "       [-1.13780682, -1.01888729],\n",
       "       [ 0.18138949,  0.85253835],\n",
       "       [ 0.67608811,  1.33772277],\n",
       "       [ 1.33568627,  1.06047453],\n",
       "       [ 0.01648995, -1.08819936],\n",
       "       [-0.6431082 , -0.94957523],\n",
       "       [ 0.84098765,  1.54565896],\n",
       "       [-0.97290728, -0.94957523],\n",
       "       [ 0.34628903,  0.92185041],\n",
       "       [ 0.51118857,  0.85253835],\n",
       "       [ 0.18138949,  0.50597804],\n",
       "       [-1.4676059 , -1.01888729],\n",
       "       [-0.6431082 , -0.67232699]])"
      ]
     },
     "execution_count": 29,
     "metadata": {},
     "output_type": "execute_result"
    }
   ],
   "source": [
    "X_train_std"
   ]
  },
  {
   "cell_type": "code",
   "execution_count": 30,
   "id": "b8f4d341",
   "metadata": {},
   "outputs": [],
   "source": [
    "from IPython.display import Math"
   ]
  },
  {
   "cell_type": "code",
   "execution_count": 31,
   "id": "c0ca82cd",
   "metadata": {},
   "outputs": [
    {
     "data": {
      "text/latex": [
       "$\\displaystyle z=w^Tx$"
      ],
      "text/plain": [
       "<IPython.core.display.Math object>"
      ]
     },
     "execution_count": 31,
     "metadata": {},
     "output_type": "execute_result"
    }
   ],
   "source": [
    "Math(r'z=w^Tx')"
   ]
  },
  {
   "cell_type": "code",
   "execution_count": 32,
   "id": "c52ff6fc",
   "metadata": {},
   "outputs": [
    {
     "data": {
      "text/latex": [
       "$\\displaystyle \\phi{(z)}=\\frac{1}{1+e^{-z}}$"
      ],
      "text/plain": [
       "<IPython.core.display.Math object>"
      ]
     },
     "execution_count": 32,
     "metadata": {},
     "output_type": "execute_result"
    }
   ],
   "source": [
    "Math(r'\\phi{(z)}=\\frac{1}{1+e^{-z}}')"
   ]
  },
  {
   "cell_type": "code",
   "execution_count": 33,
   "id": "9878c9d3",
   "metadata": {},
   "outputs": [
    {
     "data": {
      "image/png": "[encoded data removed]",
      "text/plain": [
       "<Figure size 432x288 with 1 Axes>"
      ]
     },
     "metadata": {},
     "output_type": "display_data"
    }
   ],
   "source": [
    "sns.set_style('darkgrid')\n",
    "import matplotlib.pyplot as plt\n",
    "import numpy as np\n",
    "\n",
    "\n",
    "def sigmoid(z):\n",
    "    return 1.0 / (1.0 + np.exp(-z))\n",
    "\n",
    "z = np.arange(-7, 7, 0.1)\n",
    "phi_z = sigmoid(z)\n",
    "\n",
    "plt.plot(z, phi_z)\n",
    "plt.axvline(0.0, color='k')\n",
    "plt.ylim(-0.1, 1.1)\n",
    "plt.xlabel('z')\n",
    "plt.ylabel('$\\phi (z)$')\n",
    "\n",
    "# y axis ticks and gridline\n",
    "plt.yticks([0.0, 0.5, 1.0])\n",
    "ax = plt.gca()\n",
    "ax.yaxis.grid(True)\n",
    "\n",
    "plt.tight_layout()\n",
    "# plt.savefig('./figures/sigmoid.png', dpi=300)\n",
    "plt.show()"
   ]
  },
  {
   "cell_type": "code",
   "execution_count": 18,
   "id": "6e80ebb6",
   "metadata": {},
   "outputs": [
    {
     "data": {
      "text/plain": [
       "array([1, 1, 1, 1, 1, 0, 0, 1, 1, 1, 0, 1, 0, 0, 0, 0, 0, 0, 0, 0, 1, 1,\n",
       "       0, 0, 0, 1, 0, 0, 0, 1, 0, 0, 1, 1, 1, 1, 0, 1, 0, 1, 0, 0, 0, 1,\n",
       "       1, 1, 0, 1, 1, 1, 0, 0, 1, 0, 0, 1, 1, 0, 1, 1, 1, 0, 0, 1, 0, 1,\n",
       "       1, 1, 0, 0])"
      ]
     },
     "execution_count": 18,
     "metadata": {},
     "output_type": "execute_result"
    }
   ],
   "source": [
    "y_train['target'].values"
   ]
  },
  {
   "cell_type": "code",
   "execution_count": 35,
   "id": "71079776",
   "metadata": {},
   "outputs": [],
   "source": [
    "from sklearn.linear_model import LogisticRegression"
   ]
  },
  {
   "cell_type": "code",
   "execution_count": 36,
   "id": "32f35ae2",
   "metadata": {},
   "outputs": [
    {
     "data": {
      "text/plain": [
       "LogisticRegression()"
      ]
     },
     "execution_count": 36,
     "metadata": {},
     "output_type": "execute_result"
    }
   ],
   "source": [
    "lr = LogisticRegression()\n",
    "lr.fit(X_train_std,y_train['target'].values)"
   ]
  },
  {
   "cell_type": "code",
   "execution_count": 37,
   "id": "a25ad6be",
   "metadata": {},
   "outputs": [],
   "source": [
    "from matplotlib.colors import ListedColormap\n",
    "\n",
    "def plot_decision_regions(X, y, classifier, test_idx=None, resolution=0.02):\n",
    "\n",
    "    # setup marker generator and color map\n",
    "    markers = ('s', 'x', 'o', '^', 'v')\n",
    "    colors = ('red', 'blue', 'lightgreen', 'gray', 'cyan')\n",
    "    cmap = ListedColormap(colors[:len(np.unique(y))])\n",
    "\n",
    "    # plot the decision surface\n",
    "    x1_min, x1_max = X[:, 0].min() - 1, X[:, 0].max() + 1\n",
    "    x2_min, x2_max = X[:, 1].min() - 1, X[:, 1].max() + 1\n",
    "    xx1, xx2 = np.meshgrid(np.arange(x1_min, x1_max, resolution),\n",
    "                           np.arange(x2_min, x2_max, resolution))\n",
    "    Z = classifier.predict(np.array([xx1.ravel(), xx2.ravel()]).T)\n",
    "    Z = Z.reshape(xx1.shape)\n",
    "    plt.contourf(xx1, xx2, Z, alpha=0.4, cmap=cmap)\n",
    "    plt.xlim(xx1.min(), xx1.max())\n",
    "    plt.ylim(xx2.min(), xx2.max())\n",
    "\n",
    "    for idx, cl in enumerate(np.unique(y)):\n",
    "        plt.scatter(x=X[y == cl, 0], \n",
    "                    y=X[y == cl, 1],\n",
    "                    alpha=0.6, \n",
    "                    c=cmap(idx),\n",
    "                    edgecolor='black',\n",
    "                    marker=markers[idx], \n",
    "                    label=cl)\n",
    "\n",
    "    # highlight test samples\n",
    "    if test_idx:\n",
    "        # plot all samples\n",
    "        if not versiontuple(np.__version__) >= versiontuple('1.9.0'):\n",
    "            X_test, y_test = X[list(test_idx), :], y[list(test_idx)]\n",
    "            warnings.warn('Please update to NumPy 1.9.0 or newer')\n",
    "        else:\n",
    "            X_test, y_test = X[test_idx, :], y[test_idx]\n",
    "\n",
    "        plt.scatter(X_test[:, 0],\n",
    "                    X_test[:, 1],\n",
    "                    c='',\n",
    "                    alpha=1.0,\n",
    "                    edgecolor='black',\n",
    "                    linewidths=1,\n",
    "                    marker='o',\n",
    "                    s=55, label='test set')\n"
   ]
  },
  {
   "cell_type": "code",
   "execution_count": 38,
   "id": "10273de0",
   "metadata": {},
   "outputs": [
    {
     "name": "stderr",
     "output_type": "stream",
     "text": [
      "*c* argument looks like a single numeric RGB or RGBA sequence, which should be avoided as value-mapping will have precedence in case its length matches with *x* & *y*.  Please use the *color* keyword-argument or provide a 2-D array with a single row if you intend to specify the same RGB or RGBA value for all points.\n",
      "*c* argument looks like a single numeric RGB or RGBA sequence, which should be avoided as value-mapping will have precedence in case its length matches with *x* & *y*.  Please use the *color* keyword-argument or provide a 2-D array with a single row if you intend to specify the same RGB or RGBA value for all points.\n"
     ]
    },
    {
     "data": {
      "image/png": "[encoded data removed]",
      "text/plain": [
       "<Figure size 432x288 with 1 Axes>"
      ]
     },
     "metadata": {},
     "output_type": "display_data"
    }
   ],
   "source": [
    "plot_decision_regions(X_train_std, y_train['target'].values, classifier=lr)\n",
    "plt.xlabel('sepal length (cm) [standardized]')\n",
    "plt.ylabel('petal width [standardized]')\n",
    "plt.legend(loc='upper left')\n",
    "plt.tight_layout()\n",
    "plt.show()"
   ]
  },
  {
   "cell_type": "code",
   "execution_count": 39,
   "id": "48d54a0f",
   "metadata": {},
   "outputs": [
    {
     "data": {
      "text/plain": [
       "array([0, 1, 0, 1, 1, 1, 0, 1, 1, 1, 1, 1, 1, 0, 0, 0, 0, 0, 0, 0, 0, 1,\n",
       "       0, 1, 0, 0, 0, 1, 1, 1])"
      ]
     },
     "execution_count": 39,
     "metadata": {},
     "output_type": "execute_result"
    }
   ],
   "source": [
    "lr.predict(X_test_std)"
   ]
  },
  {
   "cell_type": "code",
   "execution_count": 40,
   "id": "394f79ab",
   "metadata": {},
   "outputs": [
    {
     "data": {
      "text/plain": [
       "array([0, 1, 0, 1, 1, 1, 0, 1, 1, 1, 1, 1, 1, 0, 0, 0, 0, 0, 0, 0, 0, 1,\n",
       "       0, 1, 0, 0, 0, 1, 1, 1])"
      ]
     },
     "execution_count": 40,
     "metadata": {},
     "output_type": "execute_result"
    }
   ],
   "source": [
    "y_test['target'].values"
   ]
  },
  {
   "cell_type": "code",
   "execution_count": 41,
   "id": "31c614e5",
   "metadata": {},
   "outputs": [
    {
     "name": "stdout",
     "output_type": "stream",
     "text": [
      "0\n"
     ]
    }
   ],
   "source": [
    "error = 0\n",
    "for i, v in enumerate(lr.predict(X_test_std)):\n",
    "    if v!= y_test['target'].values[i]:\n",
    "        error+=1\n",
    "print(error)"
   ]
  },
  {
   "cell_type": "code",
   "execution_count": 42,
   "id": "2826c80c",
   "metadata": {},
   "outputs": [
    {
     "data": {
      "text/plain": [
       "array([[0.93606171, 0.06393829],\n",
       "       [0.00497007, 0.99502993],\n",
       "       [0.97297313, 0.02702687],\n",
       "       [0.01892083, 0.98107917],\n",
       "       [0.01007719, 0.98992281],\n",
       "       [0.30602173, 0.69397827],\n",
       "       [0.94913163, 0.05086837],\n",
       "       [0.0086973 , 0.9913027 ],\n",
       "       [0.00735109, 0.99264891],\n",
       "       [0.03454645, 0.96545355],\n",
       "       [0.06120019, 0.93879981],\n",
       "       [0.04688146, 0.95311854],\n",
       "       [0.01434288, 0.98565712],\n",
       "       [0.9875209 , 0.0124791 ],\n",
       "       [0.94733967, 0.05266033],\n",
       "       [0.94642148, 0.05357852],\n",
       "       [0.98655365, 0.01344635],\n",
       "       [0.90494712, 0.09505288],\n",
       "       [0.93254052, 0.06745948],\n",
       "       [0.97489243, 0.02510757],\n",
       "       [0.93606171, 0.06393829],\n",
       "       [0.03916972, 0.96083028],\n",
       "       [0.96322075, 0.03677925],\n",
       "       [0.03578511, 0.96421489],\n",
       "       [0.96386204, 0.03613796],\n",
       "       [0.93138299, 0.06861701],\n",
       "       [0.96986241, 0.03013759],\n",
       "       [0.04211754, 0.95788246],\n",
       "       [0.05699625, 0.94300375],\n",
       "       [0.00368696, 0.99631304]])"
      ]
     },
     "execution_count": 42,
     "metadata": {},
     "output_type": "execute_result"
    }
   ],
   "source": [
    "lr.predict_proba(X_test_std)"
   ]
  },
  {
   "cell_type": "code",
   "execution_count": null,
   "id": "5e445082",
   "metadata": {},
   "outputs": [],
   "source": []
  },
  {
   "cell_type": "code",
   "execution_count": null,
   "id": "a1aba25a",
   "metadata": {},
   "outputs": [],
   "source": []
  },
  {
   "cell_type": "code",
   "execution_count": null,
   "id": "31f5fa1c",
   "metadata": {},
   "outputs": [],
   "source": []
  }
 ],
 "metadata": {
  "kernelspec": {
   "display_name": "Python 3",
   "language": "python",
   "name": "python3"
  },
  "language_info": {
   "codemirror_mode": {
    "name": "ipython",
    "version": 3
   },
   "file_extension": ".py",
   "mimetype": "text/x-python",
   "name": "python",
   "nbconvert_exporter": "python",
   "pygments_lexer": "ipython3",
   "version": "3.8.8"
  }
 },
 "nbformat": 4,
 "nbformat_minor": 5
}
