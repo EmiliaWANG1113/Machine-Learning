{
 "cells": [
  {
   "cell_type": "code",
   "execution_count": 1,
   "id": "69aa62bb",
   "metadata": {},
   "outputs": [],
   "source": [
    "from sklearn import datasets\n",
    "import pandas as pd\n",
    "import numpy as np"
   ]
  },
  {
   "cell_type": "code",
   "execution_count": 2,
   "id": "36e92e8e",
   "metadata": {},
   "outputs": [
    {
     "name": "stdout",
     "output_type": "stream",
     "text": [
      "target_names: ['setosa' 'versicolor' 'virginica']\n"
     ]
    },
    {
     "data": {
      "text/html": [
       "<div>\n",
       "<style scoped>\n",
       "    .dataframe tbody tr th:only-of-type {\n",
       "        vertical-align: middle;\n",
       "    }\n",
       "\n",
       "    .dataframe tbody tr th {\n",
       "        vertical-align: top;\n",
       "    }\n",
       "\n",
       "    .dataframe thead th {\n",
       "        text-align: right;\n",
       "    }\n",
       "</style>\n",
       "<table border=\"1\" class=\"dataframe\">\n",
       "  <thead>\n",
       "    <tr style=\"text-align: right;\">\n",
       "      <th></th>\n",
       "      <th>sepal length (cm)</th>\n",
       "      <th>sepal width (cm)</th>\n",
       "      <th>petal length (cm)</th>\n",
       "      <th>petal width (cm)</th>\n",
       "      <th>target</th>\n",
       "    </tr>\n",
       "  </thead>\n",
       "  <tbody>\n",
       "    <tr>\n",
       "      <th>0</th>\n",
       "      <td>5.1</td>\n",
       "      <td>3.5</td>\n",
       "      <td>1.4</td>\n",
       "      <td>0.2</td>\n",
       "      <td>0</td>\n",
       "    </tr>\n",
       "    <tr>\n",
       "      <th>1</th>\n",
       "      <td>4.9</td>\n",
       "      <td>3.0</td>\n",
       "      <td>1.4</td>\n",
       "      <td>0.2</td>\n",
       "      <td>0</td>\n",
       "    </tr>\n",
       "    <tr>\n",
       "      <th>2</th>\n",
       "      <td>4.7</td>\n",
       "      <td>3.2</td>\n",
       "      <td>1.3</td>\n",
       "      <td>0.2</td>\n",
       "      <td>0</td>\n",
       "    </tr>\n",
       "  </tbody>\n",
       "</table>\n",
       "</div>"
      ],
      "text/plain": [
       "   sepal length (cm)  sepal width (cm)  petal length (cm)  petal width (cm)  \\\n",
       "0                5.1               3.5                1.4               0.2   \n",
       "1                4.9               3.0                1.4               0.2   \n",
       "2                4.7               3.2                1.3               0.2   \n",
       "\n",
       "   target  \n",
       "0       0  \n",
       "1       0  \n",
       "2       0  "
      ]
     },
     "execution_count": 2,
     "metadata": {},
     "output_type": "execute_result"
    }
   ],
   "source": [
    "iris = datasets.load_iris()\n",
    "x = pd.DataFrame(iris['data'], columns=iris['feature_names'])\n",
    "print(\"target_names: \"+str(iris['target_names']))\n",
    "y = pd.DataFrame(iris['target'], columns=['target'])\n",
    "iris_data = pd.concat([x,y], axis=1)\n",
    "iris_data.head(3)"
   ]
  },
  {
   "cell_type": "markdown",
   "id": "d6b45148",
   "metadata": {},
   "source": [
    "# Matplotlib"
   ]
  },
  {
   "cell_type": "code",
   "execution_count": 4,
   "id": "de47922b",
   "metadata": {},
   "outputs": [],
   "source": [
    "import matplotlib.pyplot as plt"
   ]
  },
  {
   "cell_type": "code",
   "execution_count": 5,
   "id": "83f7de70",
   "metadata": {},
   "outputs": [
    {
     "data": {
      "text/plain": [
       "<function matplotlib.pyplot.show(close=None, block=None)>"
      ]
     },
     "execution_count": 5,
     "metadata": {},
     "output_type": "execute_result"
    },
    {
     "data": {
      "image/png": "[encoded data removed]",
      "text/plain": [
       "<Figure size 432x288 with 1 Axes>"
      ]
     },
     "metadata": {
      "needs_background": "light"
     },
     "output_type": "display_data"
    }
   ],
   "source": [
    "plt.plot([1,2,3,4])\n",
    "plt.show"
   ]
  },
  {
   "cell_type": "code",
   "execution_count": 8,
   "id": "44ba608c",
   "metadata": {},
   "outputs": [],
   "source": [
    "#不加show即可畫出\n",
    "%matplotlib inline"
   ]
  },
  {
   "cell_type": "code",
   "execution_count": 9,
   "id": "b4c2e875",
   "metadata": {},
   "outputs": [
    {
     "data": {
      "text/plain": [
       "[<matplotlib.lines.Line2D at 0x7fad08117eb0>]"
      ]
     },
     "execution_count": 9,
     "metadata": {},
     "output_type": "execute_result"
    },
    {
     "data": {
      "image/png": "[encoded data removed]",
      "text/plain": [
       "<Figure size 432x288 with 1 Axes>"
      ]
     },
     "metadata": {
      "needs_background": "light"
     },
     "output_type": "display_data"
    }
   ],
   "source": [
    "plt.plot([1,2,3,4])"
   ]
  },
  {
   "cell_type": "code",
   "execution_count": 11,
   "id": "7fba43a3",
   "metadata": {},
   "outputs": [
    {
     "data": {
      "text/plain": [
       "Text(0.5, 0, 'x label')"
      ]
     },
     "execution_count": 11,
     "metadata": {},
     "output_type": "execute_result"
    },
    {
     "data": {
      "image/png": "[encoded data removed]",
      "text/plain": [
       "<Figure size 432x288 with 1 Axes>"
      ]
     },
     "metadata": {
      "needs_background": "light"
     },
     "output_type": "display_data"
    }
   ],
   "source": [
    "#按shift+tab可看出說明\n",
    "plt.plot([1,2,3,4],[1,4,9,16])\n",
    "plt.ylabel('y label')\n",
    "plt.xlabel('x label')"
   ]
  },
  {
   "cell_type": "code",
   "execution_count": 12,
   "id": "25b35a5a",
   "metadata": {},
   "outputs": [
    {
     "data": {
      "text/plain": [
       "[<matplotlib.lines.Line2D at 0x7facc8a8b220>]"
      ]
     },
     "execution_count": 12,
     "metadata": {},
     "output_type": "execute_result"
    },
    {
     "data": {
      "image/png": "[encoded data removed]",
      "text/plain": [
       "<Figure size 432x288 with 1 Axes>"
      ]
     },
     "metadata": {
      "needs_background": "light"
     },
     "output_type": "display_data"
    }
   ],
   "source": [
    "#以點畫出\n",
    "plt.plot([1,2,3,4],[1,4,9,16],'ro')"
   ]
  },
  {
   "cell_type": "code",
   "execution_count": 13,
   "id": "cf403cec",
   "metadata": {},
   "outputs": [
    {
     "data": {
      "text/plain": [
       "(0.0, 6.0, 0.0, 20.0)"
      ]
     },
     "execution_count": 13,
     "metadata": {},
     "output_type": "execute_result"
    },
    {
     "data": {
      "image/png": "[encoded data removed]",
      "text/plain": [
       "<Figure size 432x288 with 1 Axes>"
      ]
     },
     "metadata": {
      "needs_background": "light"
     },
     "output_type": "display_data"
    }
   ],
   "source": [
    "plt.plot([1,2,3,4],[1,4,9,16],'ro')\n",
    "#指定軸範圍\n",
    "plt.axis([0,6,0,20])"
   ]
  },
  {
   "cell_type": "code",
   "execution_count": 14,
   "id": "92188a0a",
   "metadata": {},
   "outputs": [
    {
     "name": "stdout",
     "output_type": "stream",
     "text": [
      "t: [0.  0.2 0.4 0.6 0.8 1.  1.2 1.4 1.6 1.8 2.  2.2 2.4 2.6 2.8 3.  3.2 3.4\n",
      " 3.6 3.8 4.  4.2 4.4 4.6 4.8]\n"
     ]
    },
    {
     "data": {
      "text/plain": [
       "[<matplotlib.lines.Line2D at 0x7facc8abcee0>,\n",
       " <matplotlib.lines.Line2D at 0x7facc8abcd90>,\n",
       " <matplotlib.lines.Line2D at 0x7facc8abcfd0>]"
      ]
     },
     "execution_count": 14,
     "metadata": {},
     "output_type": "execute_result"
    },
    {
     "data": {
      "image/png": "[encoded data removed]",
      "text/plain": [
       "<Figure size 432x288 with 1 Axes>"
      ]
     },
     "metadata": {
      "needs_background": "light"
     },
     "output_type": "display_data"
    }
   ],
   "source": [
    "# evenly sampled time at 200ms intervals\n",
    "t = np.arange(0., 5., 0.2)\n",
    "print(\"t: \" + str(t))\n",
    "# red dashes, blue squares and green triangles\n",
    "plt.plot(t, t, 'r--', t, t**2, 'bs', t, t**3, 'g^')"
   ]
  },
  {
   "cell_type": "markdown",
   "id": "c0f18627",
   "metadata": {},
   "source": [
    "## 直方圖"
   ]
  },
  {
   "cell_type": "code",
   "execution_count": 15,
   "id": "dd1a9941",
   "metadata": {},
   "outputs": [
    {
     "data": {
      "text/plain": [
       "<BarContainer object of 50 artists>"
      ]
     },
     "execution_count": 15,
     "metadata": {},
     "output_type": "execute_result"
    },
    {
     "data": {
      "image/png": "[encoded data removed]",
      "text/plain": [
       "<Figure size 432x288 with 1 Axes>"
      ]
     },
     "metadata": {
      "needs_background": "light"
     },
     "output_type": "display_data"
    }
   ],
   "source": [
    "x = [4, 4, 7, 7, 8, 9, 10, 10, 10, 11, 11, 12, 12, 12, 12, 13, 13, 13, 13, 14, 14, 14, 14, 15, 15, 15, 16, 16, 17, 17, 17, 18, 18, 18, 18, 19, 19, 19, 20, 20, 20, 20, 20, 22, 23, 24, 24, 24, 24, 25]\n",
    "y = [2, 10, 4, 22, 16, 10, 18, 26, 34, 17, 28, 14, 20, 24, 28, 26, 34, 34, 46, 26, 36, 60, 80, 20, 26, 54, 32, 40, 32, 40, 50, 42, 56, 76, 84, 36, 46, 68, 32, 48, 52, 56, 64, 66, 54, 70, 92, 93, 120, 85]\n",
    "plt.bar(x, y)"
   ]
  },
  {
   "cell_type": "markdown",
   "id": "0b6f2e15",
   "metadata": {},
   "source": [
    "## 散佈圖"
   ]
  },
  {
   "cell_type": "code",
   "execution_count": 16,
   "id": "55b76fcf",
   "metadata": {},
   "outputs": [
    {
     "data": {
      "text/plain": [
       "<matplotlib.collections.PathCollection at 0x7facc8a08a30>"
      ]
     },
     "execution_count": 16,
     "metadata": {},
     "output_type": "execute_result"
    },
    {
     "data": {
      "image/png": "[encoded data removed]",
      "text/plain": [
       "<Figure size 432x288 with 1 Axes>"
      ]
     },
     "metadata": {
      "needs_background": "light"
     },
     "output_type": "display_data"
    }
   ],
   "source": [
    "x = [4, 4, 7, 7, 8, 9, 10, 10, 10, 11, 11, 12, 12, 12, 12, 13, 13, 13, 13, 14, 14, 14, 14, 15, 15, 15, 16, 16, 17, 17, 17, 18, 18, 18, 18, 19, 19, 19, 20, 20, 20, 20, 20, 22, 23, 24, 24, 24, 24, 25]\n",
    "y = [2, 10, 4, 22, 16, 10, 18, 26, 34, 17, 28, 14, 20, 24, 28, 26, 34, 34, 46, 26, 36, 60, 80, 20, 26, 54, 32, 40, 32, 40, 50, 42, 56, 76, 84, 36, 46, 68, 32, 48, 52, 56, 64, 66, 54, 70, 92, 93, 120, 85]\n",
    "\n",
    "plt.scatter(x, y)"
   ]
  },
  {
   "cell_type": "markdown",
   "id": "fb8b7407",
   "metadata": {},
   "source": [
    "## Pandas plot"
   ]
  },
  {
   "cell_type": "code",
   "execution_count": 17,
   "id": "59c0e995",
   "metadata": {},
   "outputs": [
    {
     "data": {
      "text/html": [
       "<div>\n",
       "<style scoped>\n",
       "    .dataframe tbody tr th:only-of-type {\n",
       "        vertical-align: middle;\n",
       "    }\n",
       "\n",
       "    .dataframe tbody tr th {\n",
       "        vertical-align: top;\n",
       "    }\n",
       "\n",
       "    .dataframe thead th {\n",
       "        text-align: right;\n",
       "    }\n",
       "</style>\n",
       "<table border=\"1\" class=\"dataframe\">\n",
       "  <thead>\n",
       "    <tr style=\"text-align: right;\">\n",
       "      <th></th>\n",
       "      <th>sepal length (cm)</th>\n",
       "      <th>sepal width (cm)</th>\n",
       "      <th>petal length (cm)</th>\n",
       "      <th>petal width (cm)</th>\n",
       "      <th>target</th>\n",
       "    </tr>\n",
       "  </thead>\n",
       "  <tbody>\n",
       "    <tr>\n",
       "      <th>0</th>\n",
       "      <td>5.1</td>\n",
       "      <td>3.5</td>\n",
       "      <td>1.4</td>\n",
       "      <td>0.2</td>\n",
       "      <td>0</td>\n",
       "    </tr>\n",
       "    <tr>\n",
       "      <th>1</th>\n",
       "      <td>4.9</td>\n",
       "      <td>3.0</td>\n",
       "      <td>1.4</td>\n",
       "      <td>0.2</td>\n",
       "      <td>0</td>\n",
       "    </tr>\n",
       "    <tr>\n",
       "      <th>2</th>\n",
       "      <td>4.7</td>\n",
       "      <td>3.2</td>\n",
       "      <td>1.3</td>\n",
       "      <td>0.2</td>\n",
       "      <td>0</td>\n",
       "    </tr>\n",
       "    <tr>\n",
       "      <th>3</th>\n",
       "      <td>4.6</td>\n",
       "      <td>3.1</td>\n",
       "      <td>1.5</td>\n",
       "      <td>0.2</td>\n",
       "      <td>0</td>\n",
       "    </tr>\n",
       "    <tr>\n",
       "      <th>4</th>\n",
       "      <td>5.0</td>\n",
       "      <td>3.6</td>\n",
       "      <td>1.4</td>\n",
       "      <td>0.2</td>\n",
       "      <td>0</td>\n",
       "    </tr>\n",
       "  </tbody>\n",
       "</table>\n",
       "</div>"
      ],
      "text/plain": [
       "   sepal length (cm)  sepal width (cm)  petal length (cm)  petal width (cm)  \\\n",
       "0                5.1               3.5                1.4               0.2   \n",
       "1                4.9               3.0                1.4               0.2   \n",
       "2                4.7               3.2                1.3               0.2   \n",
       "3                4.6               3.1                1.5               0.2   \n",
       "4                5.0               3.6                1.4               0.2   \n",
       "\n",
       "   target  \n",
       "0       0  \n",
       "1       0  \n",
       "2       0  \n",
       "3       0  \n",
       "4       0  "
      ]
     },
     "execution_count": 17,
     "metadata": {},
     "output_type": "execute_result"
    }
   ],
   "source": [
    "iris_data.head(5)"
   ]
  },
  {
   "cell_type": "code",
   "execution_count": 18,
   "id": "eeb797a6",
   "metadata": {},
   "outputs": [
    {
     "data": {
      "text/plain": [
       "<AxesSubplot:xlabel='sepal length (cm)', ylabel='sepal width (cm)'>"
      ]
     },
     "execution_count": 18,
     "metadata": {},
     "output_type": "execute_result"
    },
    {
     "data": {
      "image/png": "[encoded data removed]",
      "text/plain": [
       "<Figure size 432x288 with 2 Axes>"
      ]
     },
     "metadata": {
      "needs_background": "light"
     },
     "output_type": "display_data"
    }
   ],
   "source": [
    "#c=> color\n",
    "iris_data.plot.scatter(x='sepal length (cm)', y='sepal width (cm)', c='target')"
   ]
  },
  {
   "cell_type": "code",
   "execution_count": 19,
   "id": "34a46165",
   "metadata": {},
   "outputs": [],
   "source": [
    "color = {\n",
    "    0:'r',\n",
    "    1:'g',\n",
    "    2:'b'\n",
    "}"
   ]
  },
  {
   "cell_type": "code",
   "execution_count": 21,
   "id": "1e69ab20",
   "metadata": {},
   "outputs": [
    {
     "data": {
      "text/html": [
       "<div>\n",
       "<style scoped>\n",
       "    .dataframe tbody tr th:only-of-type {\n",
       "        vertical-align: middle;\n",
       "    }\n",
       "\n",
       "    .dataframe tbody tr th {\n",
       "        vertical-align: top;\n",
       "    }\n",
       "\n",
       "    .dataframe thead th {\n",
       "        text-align: right;\n",
       "    }\n",
       "</style>\n",
       "<table border=\"1\" class=\"dataframe\">\n",
       "  <thead>\n",
       "    <tr style=\"text-align: right;\">\n",
       "      <th></th>\n",
       "      <th>sepal length (cm)</th>\n",
       "      <th>sepal width (cm)</th>\n",
       "      <th>petal length (cm)</th>\n",
       "      <th>petal width (cm)</th>\n",
       "      <th>target</th>\n",
       "      <th>color</th>\n",
       "    </tr>\n",
       "  </thead>\n",
       "  <tbody>\n",
       "    <tr>\n",
       "      <th>0</th>\n",
       "      <td>5.1</td>\n",
       "      <td>3.5</td>\n",
       "      <td>1.4</td>\n",
       "      <td>0.2</td>\n",
       "      <td>0</td>\n",
       "      <td>r</td>\n",
       "    </tr>\n",
       "    <tr>\n",
       "      <th>1</th>\n",
       "      <td>4.9</td>\n",
       "      <td>3.0</td>\n",
       "      <td>1.4</td>\n",
       "      <td>0.2</td>\n",
       "      <td>0</td>\n",
       "      <td>r</td>\n",
       "    </tr>\n",
       "    <tr>\n",
       "      <th>2</th>\n",
       "      <td>4.7</td>\n",
       "      <td>3.2</td>\n",
       "      <td>1.3</td>\n",
       "      <td>0.2</td>\n",
       "      <td>0</td>\n",
       "      <td>r</td>\n",
       "    </tr>\n",
       "    <tr>\n",
       "      <th>3</th>\n",
       "      <td>4.6</td>\n",
       "      <td>3.1</td>\n",
       "      <td>1.5</td>\n",
       "      <td>0.2</td>\n",
       "      <td>0</td>\n",
       "      <td>r</td>\n",
       "    </tr>\n",
       "    <tr>\n",
       "      <th>4</th>\n",
       "      <td>5.0</td>\n",
       "      <td>3.6</td>\n",
       "      <td>1.4</td>\n",
       "      <td>0.2</td>\n",
       "      <td>0</td>\n",
       "      <td>r</td>\n",
       "    </tr>\n",
       "  </tbody>\n",
       "</table>\n",
       "</div>"
      ],
      "text/plain": [
       "   sepal length (cm)  sepal width (cm)  petal length (cm)  petal width (cm)  \\\n",
       "0                5.1               3.5                1.4               0.2   \n",
       "1                4.9               3.0                1.4               0.2   \n",
       "2                4.7               3.2                1.3               0.2   \n",
       "3                4.6               3.1                1.5               0.2   \n",
       "4                5.0               3.6                1.4               0.2   \n",
       "\n",
       "   target color  \n",
       "0       0     r  \n",
       "1       0     r  \n",
       "2       0     r  \n",
       "3       0     r  \n",
       "4       0     r  "
      ]
     },
     "execution_count": 21,
     "metadata": {},
     "output_type": "execute_result"
    }
   ],
   "source": [
    "iris_data['color'] = iris_data['target'].map(color)\n",
    "iris_data.head(5)"
   ]
  },
  {
   "cell_type": "code",
   "execution_count": 22,
   "id": "cb5bec3d",
   "metadata": {},
   "outputs": [
    {
     "data": {
      "text/plain": [
       "<AxesSubplot:xlabel='sepal length (cm)', ylabel='sepal width (cm)'>"
      ]
     },
     "execution_count": 22,
     "metadata": {},
     "output_type": "execute_result"
    },
    {
     "data": {
      "image/png": "[encoded data removed]",
      "text/plain": [
       "<Figure size 432x288 with 1 Axes>"
      ]
     },
     "metadata": {
      "needs_background": "light"
     },
     "output_type": "display_data"
    }
   ],
   "source": [
    "iris_data.plot.scatter(x='sepal length (cm)', y='sepal width (cm)', c=iris_data['color'])"
   ]
  },
  {
   "cell_type": "code",
   "execution_count": 23,
   "id": "24ec8302",
   "metadata": {},
   "outputs": [
    {
     "data": {
      "text/plain": [
       "<AxesSubplot:xlabel='sepal length (cm)', ylabel='petal width (cm)'>"
      ]
     },
     "execution_count": 23,
     "metadata": {},
     "output_type": "execute_result"
    },
    {
     "data": {
      "image/png": "[encoded data removed]",
      "text/plain": [
       "<Figure size 432x288 with 1 Axes>"
      ]
     },
     "metadata": {
      "needs_background": "light"
     },
     "output_type": "display_data"
    },
    {
     "data": {
      "image/png": "[encoded data removed]",
      "text/plain": [
       "<Figure size 432x288 with 1 Axes>"
      ]
     },
     "metadata": {
      "needs_background": "light"
     },
     "output_type": "display_data"
    },
    {
     "data": {
      "image/png": "[encoded data removed]",
      "text/plain": [
       "<Figure size 432x288 with 1 Axes>"
      ]
     },
     "metadata": {
      "needs_background": "light"
     },
     "output_type": "display_data"
    }
   ],
   "source": [
    "#Add label\n",
    "iris_data[iris_data['target']==0].plot.scatter(x='sepal length (cm)', y='petal width (cm)',color='r', label='setosa')\n",
    "iris_data[iris_data['target']==1].plot.scatter(x='sepal length (cm)', y='petal width (cm)',color='g', label='versicolor')\n",
    "iris_data[iris_data['target']==2].plot.scatter(x='sepal length (cm)', y='petal width (cm)',color='b', label='virginica')"
   ]
  },
  {
   "cell_type": "code",
   "execution_count": 28,
   "id": "9ce6603b",
   "metadata": {},
   "outputs": [
    {
     "data": {
      "text/plain": [
       "<AxesSubplot:xlabel='sepal length (cm)', ylabel='petal width (cm)'>"
      ]
     },
     "execution_count": 28,
     "metadata": {},
     "output_type": "execute_result"
    },
    {
     "data": {
      "image/png": "[encoded data removed]",
      "text/plain": [
       "<Figure size 432x288 with 1 Axes>"
      ]
     },
     "metadata": {
      "needs_background": "light"
     },
     "output_type": "display_data"
    }
   ],
   "source": [
    "#合併三張圖\n",
    "ax = iris_data[iris_data['target']==0].plot.scatter(x='sepal length (cm)', y='petal width (cm)', alpha=0.5,color='r', label='setosa')\n",
    "ax = iris_data[iris_data['target']==1].plot.scatter(x='sepal length (cm)', y='petal width (cm)', alpha=0.5,color='g', label='versicolor', ax=ax)\n",
    "iris_data[iris_data['target']==2].plot.scatter(x='sepal length (cm)', y='petal width (cm)', alpha=0.5,color='b', label='virginica', ax=ax)                         "
   ]
  },
  {
   "cell_type": "code",
   "execution_count": 27,
   "id": "cda9906f",
   "metadata": {},
   "outputs": [
    {
     "data": {
      "image/png": "[encoded data removed]",
      "text/plain": [
       "<Figure size 432x288 with 1 Axes>"
      ]
     },
     "metadata": {
      "needs_background": "light"
     },
     "output_type": "display_data"
    }
   ],
   "source": [
    "N = 50\n",
    "x = np.random.rand(N)\n",
    "y = np.random.rand(N)\n",
    "colors = np.random.rand(N)\n",
    "area = np.pi * (15 * np.random.rand(N))**2  # 0 to 15 point radii\n",
    "#加點的透明度alpha=0.5\n",
    "plt.scatter(x, y, s=area, c=colors, alpha=0.5)\n",
    "plt.show()"
   ]
  },
  {
   "cell_type": "code",
   "execution_count": 29,
   "id": "e843579c",
   "metadata": {},
   "outputs": [
    {
     "data": {
      "text/plain": [
       "['Solarize_Light2',\n",
       " '_classic_test_patch',\n",
       " 'bmh',\n",
       " 'classic',\n",
       " 'dark_background',\n",
       " 'fast',\n",
       " 'fivethirtyeight',\n",
       " 'ggplot',\n",
       " 'grayscale',\n",
       " 'seaborn',\n",
       " 'seaborn-bright',\n",
       " 'seaborn-colorblind',\n",
       " 'seaborn-dark',\n",
       " 'seaborn-dark-palette',\n",
       " 'seaborn-darkgrid',\n",
       " 'seaborn-deep',\n",
       " 'seaborn-muted',\n",
       " 'seaborn-notebook',\n",
       " 'seaborn-paper',\n",
       " 'seaborn-pastel',\n",
       " 'seaborn-poster',\n",
       " 'seaborn-talk',\n",
       " 'seaborn-ticks',\n",
       " 'seaborn-white',\n",
       " 'seaborn-whitegrid',\n",
       " 'tableau-colorblind10']"
      ]
     },
     "execution_count": 29,
     "metadata": {},
     "output_type": "execute_result"
    }
   ],
   "source": [
    "plt.style.available"
   ]
  },
  {
   "cell_type": "code",
   "execution_count": 31,
   "id": "bdbb344c",
   "metadata": {},
   "outputs": [
    {
     "data": {
      "image/png": "[encoded data removed]",
      "text/plain": [
       "<Figure size 432x288 with 1 Axes>"
      ]
     },
     "metadata": {},
     "output_type": "display_data"
    }
   ],
   "source": [
    "plt.style.use('ggplot')\n",
    "N = 50\n",
    "x = np.random.rand(N)\n",
    "y = np.random.rand(N)\n",
    "colors = np.random.rand(N)\n",
    "area = np.pi * (15 * np.random.rand(N))**2  # 0 to 15 point radii\n",
    "\n",
    "plt.scatter(x, y, s=area, c=colors, alpha=0.5)\n",
    "plt.show()"
   ]
  },
  {
   "cell_type": "code",
   "execution_count": 32,
   "id": "2b9ffdbb",
   "metadata": {},
   "outputs": [
    {
     "data": {
      "image/png": "[encoded data removed]",
      "text/plain": [
       "<Figure size 640x480 with 1 Axes>"
      ]
     },
     "metadata": {},
     "output_type": "display_data"
    }
   ],
   "source": [
    "plt.style.use('classic')\n",
    "N = 50\n",
    "x = np.random.rand(N)\n",
    "y = np.random.rand(N)\n",
    "colors = np.random.rand(N)\n",
    "area = np.pi * (15 * np.random.rand(N))**2  # 0 to 15 point radii\n",
    "\n",
    "plt.scatter(x, y, s=area, c=colors, alpha=0.5)\n",
    "plt.show()"
   ]
  },
  {
   "cell_type": "markdown",
   "id": "4830e245",
   "metadata": {},
   "source": [
    "# Seaborn"
   ]
  },
  {
   "cell_type": "code",
   "execution_count": 36,
   "id": "e341cfc0",
   "metadata": {},
   "outputs": [],
   "source": [
    "import seaborn as sns"
   ]
  },
  {
   "cell_type": "code",
   "execution_count": 37,
   "id": "2ab75be6",
   "metadata": {},
   "outputs": [
    {
     "name": "stderr",
     "output_type": "stream",
     "text": [
      "/opt/anaconda3/lib/python3.8/site-packages/seaborn/_decorators.py:36: FutureWarning: Pass the following variables as keyword args: x, y. From version 0.12, the only valid positional argument will be `data`, and passing other arguments without an explicit keyword will result in an error or misinterpretation.\n",
      "  warnings.warn(\n"
     ]
    },
    {
     "data": {
      "text/plain": [
       "<seaborn.axisgrid.FacetGrid at 0x7fad18404250>"
      ]
     },
     "execution_count": 37,
     "metadata": {},
     "output_type": "execute_result"
    },
    {
     "data": {
      "image/png": "[encoded data removed]",
      "text/plain": [
       "<Figure size 467.725x400 with 1 Axes>"
      ]
     },
     "metadata": {},
     "output_type": "display_data"
    }
   ],
   "source": [
    "sns.lmplot('sepal length (cm)','petal width (cm)',data=iris_data, fit_reg=False,hue='target')"
   ]
  },
  {
   "cell_type": "code",
   "execution_count": 38,
   "id": "a1ee1633",
   "metadata": {},
   "outputs": [],
   "source": [
    "target_name = {\n",
    "    0:'setosa',\n",
    "    1:'versicolor',\n",
    "    2:'virginica'\n",
    "}"
   ]
  },
  {
   "cell_type": "code",
   "execution_count": 39,
   "id": "e87859b8",
   "metadata": {},
   "outputs": [],
   "source": [
    "iris_data['target_name'] = iris_data['target'].map(target_name)"
   ]
  },
  {
   "cell_type": "code",
   "execution_count": 41,
   "id": "4ed15b89",
   "metadata": {},
   "outputs": [
    {
     "name": "stderr",
     "output_type": "stream",
     "text": [
      "/opt/anaconda3/lib/python3.8/site-packages/seaborn/_decorators.py:36: FutureWarning: Pass the following variables as keyword args: x, y. From version 0.12, the only valid positional argument will be `data`, and passing other arguments without an explicit keyword will result in an error or misinterpretation.\n",
      "  warnings.warn(\n"
     ]
    },
    {
     "data": {
      "text/plain": [
       "<seaborn.axisgrid.FacetGrid at 0x7fad2b4e69d0>"
      ]
     },
     "execution_count": 41,
     "metadata": {},
     "output_type": "execute_result"
    },
    {
     "data": {
      "image/png": "[encoded data removed]",
      "text/plain": [
       "<Figure size 535.725x400 with 1 Axes>"
      ]
     },
     "metadata": {},
     "output_type": "display_data"
    }
   ],
   "source": [
    "sns.lmplot('sepal length (cm)','petal width (cm)', data=iris_data, hue='target_name')"
   ]
  },
  {
   "cell_type": "markdown",
   "id": "b87e65c6",
   "metadata": {},
   "source": [
    "# Plotly"
   ]
  },
  {
   "cell_type": "code",
   "execution_count": 58,
   "id": "1fb4b521",
   "metadata": {},
   "outputs": [
    {
     "data": {
      "text/html": [
       "        <script type=\"text/javascript\">\n",
       "        window.PlotlyConfig = {MathJaxConfig: 'local'};\n",
       "        if (window.MathJax && window.MathJax.Hub && window.MathJax.Hub.Config) {window.MathJax.Hub.Config({SVG: {font: \"STIX-Web\"}});}\n",
       "        if (typeof require !== 'undefined') {\n",
       "        require.undef(\"plotly\");\n",
       "        requirejs.config({\n",
       "            paths: {\n",
       "                'plotly': ['https://cdn.plot.ly/plotly-2.12.1.min']\n",
       "            }\n",
       "        });\n",
       "        require(['plotly'], function(Plotly) {\n",
       "            window._Plotly = Plotly;\n",
       "        });\n",
       "        }\n",
       "        </script>\n",
       "        "
      ]
     },
     "metadata": {},
     "output_type": "display_data"
    },
    {
     "data": {
      "application/vnd.plotly.v1+json": {
       "config": {
        "linkText": "Export to plot.ly",
        "plotlyServerURL": "https://plot.ly",
        "showLink": false
       },
       "data": [
        {
         "type": "scatter",
         "x": [
          1,
          2,
          3,
          4
         ],
         "y": [
          4,
          3,
          2,
          1
         ]
        }
       ],
       "layout": {
        "template": {
         "data": {
          "bar": [
           {
            "error_x": {
             "color": "#2a3f5f"
            },
            "error_y": {
             "color": "#2a3f5f"
            },
            "marker": {
             "line": {
              "color": "#E5ECF6",
              "width": 0.5
             },
             "pattern": {
              "fillmode": "overlay",
              "size": 10,
              "solidity": 0.2
             }
            },
            "type": "bar"
           }
          ],
          "barpolar": [
           {
            "marker": {
             "line": {
              "color": "#E5ECF6",
              "width": 0.5
             },
             "pattern": {
              "fillmode": "overlay",
              "size": 10,
              "solidity": 0.2
             }
            },
            "type": "barpolar"
           }
          ],
          "carpet": [
           {
            "aaxis": {
             "endlinecolor": "#2a3f5f",
             "gridcolor": "white",
             "linecolor": "white",
             "minorgridcolor": "white",
             "startlinecolor": "#2a3f5f"
            },
            "baxis": {
             "endlinecolor": "#2a3f5f",
             "gridcolor": "white",
             "linecolor": "white",
             "minorgridcolor": "white",
             "startlinecolor": "#2a3f5f"
            },
            "type": "carpet"
           }
          ],
          "choropleth": [
           {
            "colorbar": {
             "outlinewidth": 0,
             "ticks": ""
            },
            "type": "choropleth"
           }
          ],
          "contour": [
           {
            "colorbar": {
             "outlinewidth": 0,
             "ticks": ""
            },
            "colorscale": [
             [
              0,
              "#0d0887"
             ],
             [
              0.1111111111111111,
              "#46039f"
             ],
             [
              0.2222222222222222,
              "#7201a8"
             ],
             [
              0.3333333333333333,
              "#9c179e"
             ],
             [
              0.4444444444444444,
              "#bd3786"
             ],
             [
              0.5555555555555556,
              "#d8576b"
             ],
             [
              0.6666666666666666,
              "#ed7953"
             ],
             [
              0.7777777777777778,
              "#fb9f3a"
             ],
             [
              0.8888888888888888,
              "#fdca26"
             ],
             [
              1,
              "#f0f921"
             ]
            ],
            "type": "contour"
           }
          ],
          "contourcarpet": [
           {
            "colorbar": {
             "outlinewidth": 0,
             "ticks": ""
            },
            "type": "contourcarpet"
           }
          ],
          "heatmap": [
           {
            "colorbar": {
             "outlinewidth": 0,
             "ticks": ""
            },
            "colorscale": [
             [
              0,
              "#0d0887"
             ],
             [
              0.1111111111111111,
              "#46039f"
             ],
             [
              0.2222222222222222,
              "#7201a8"
             ],
             [
              0.3333333333333333,
              "#9c179e"
             ],
             [
              0.4444444444444444,
              "#bd3786"
             ],
             [
              0.5555555555555556,
              "#d8576b"
             ],
             [
              0.6666666666666666,
              "#ed7953"
             ],
             [
              0.7777777777777778,
              "#fb9f3a"
             ],
             [
              0.8888888888888888,
              "#fdca26"
             ],
             [
              1,
              "#f0f921"
             ]
            ],
            "type": "heatmap"
           }
          ],
          "heatmapgl": [
           {
            "colorbar": {
             "outlinewidth": 0,
             "ticks": ""
            },
            "colorscale": [
             [
              0,
              "#0d0887"
             ],
             [
              0.1111111111111111,
              "#46039f"
             ],
             [
              0.2222222222222222,
              "#7201a8"
             ],
             [
              0.3333333333333333,
              "#9c179e"
             ],
             [
              0.4444444444444444,
              "#bd3786"
             ],
             [
              0.5555555555555556,
              "#d8576b"
             ],
             [
              0.6666666666666666,
              "#ed7953"
             ],
             [
              0.7777777777777778,
              "#fb9f3a"
             ],
             [
              0.8888888888888888,
              "#fdca26"
             ],
             [
              1,
              "#f0f921"
             ]
            ],
            "type": "heatmapgl"
           }
          ],
          "histogram": [
           {
            "marker": {
             "pattern": {
              "fillmode": "overlay",
              "size": 10,
              "solidity": 0.2
             }
            },
            "type": "histogram"
           }
          ],
          "histogram2d": [
           {
            "colorbar": {
             "outlinewidth": 0,
             "ticks": ""
            },
            "colorscale": [
             [
              0,
              "#0d0887"
             ],
             [
              0.1111111111111111,
              "#46039f"
             ],
             [
              0.2222222222222222,
              "#7201a8"
             ],
             [
              0.3333333333333333,
              "#9c179e"
             ],
             [
              0.4444444444444444,
              "#bd3786"
             ],
             [
              0.5555555555555556,
              "#d8576b"
             ],
             [
              0.6666666666666666,
              "#ed7953"
             ],
             [
              0.7777777777777778,
              "#fb9f3a"
             ],
             [
              0.8888888888888888,
              "#fdca26"
             ],
             [
              1,
              "#f0f921"
             ]
            ],
            "type": "histogram2d"
           }
          ],
          "histogram2dcontour": [
           {
            "colorbar": {
             "outlinewidth": 0,
             "ticks": ""
            },
            "colorscale": [
             [
              0,
              "#0d0887"
             ],
             [
              0.1111111111111111,
              "#46039f"
             ],
             [
              0.2222222222222222,
              "#7201a8"
             ],
             [
              0.3333333333333333,
              "#9c179e"
             ],
             [
              0.4444444444444444,
              "#bd3786"
             ],
             [
              0.5555555555555556,
              "#d8576b"
             ],
             [
              0.6666666666666666,
              "#ed7953"
             ],
             [
              0.7777777777777778,
              "#fb9f3a"
             ],
             [
              0.8888888888888888,
              "#fdca26"
             ],
             [
              1,
              "#f0f921"
             ]
            ],
            "type": "histogram2dcontour"
           }
          ],
          "mesh3d": [
           {
            "colorbar": {
             "outlinewidth": 0,
             "ticks": ""
            },
            "type": "mesh3d"
           }
          ],
          "parcoords": [
           {
            "line": {
             "colorbar": {
              "outlinewidth": 0,
              "ticks": ""
             }
            },
            "type": "parcoords"
           }
          ],
          "pie": [
           {
            "automargin": true,
            "type": "pie"
           }
          ],
          "scatter": [
           {
            "fillpattern": {
             "fillmode": "overlay",
             "size": 10,
             "solidity": 0.2
            },
            "type": "scatter"
           }
          ],
          "scatter3d": [
           {
            "line": {
             "colorbar": {
              "outlinewidth": 0,
              "ticks": ""
             }
            },
            "marker": {
             "colorbar": {
              "outlinewidth": 0,
              "ticks": ""
             }
            },
            "type": "scatter3d"
           }
          ],
          "scattercarpet": [
           {
            "marker": {
             "colorbar": {
              "outlinewidth": 0,
              "ticks": ""
             }
            },
            "type": "scattercarpet"
           }
          ],
          "scattergeo": [
           {
            "marker": {
             "colorbar": {
              "outlinewidth": 0,
              "ticks": ""
             }
            },
            "type": "scattergeo"
           }
          ],
          "scattergl": [
           {
            "marker": {
             "colorbar": {
              "outlinewidth": 0,
              "ticks": ""
             }
            },
            "type": "scattergl"
           }
          ],
          "scattermapbox": [
           {
            "marker": {
             "colorbar": {
              "outlinewidth": 0,
              "ticks": ""
             }
            },
            "type": "scattermapbox"
           }
          ],
          "scatterpolar": [
           {
            "marker": {
             "colorbar": {
              "outlinewidth": 0,
              "ticks": ""
             }
            },
            "type": "scatterpolar"
           }
          ],
          "scatterpolargl": [
           {
            "marker": {
             "colorbar": {
              "outlinewidth": 0,
              "ticks": ""
             }
            },
            "type": "scatterpolargl"
           }
          ],
          "scatterternary": [
           {
            "marker": {
             "colorbar": {
              "outlinewidth": 0,
              "ticks": ""
             }
            },
            "type": "scatterternary"
           }
          ],
          "surface": [
           {
            "colorbar": {
             "outlinewidth": 0,
             "ticks": ""
            },
            "colorscale": [
             [
              0,
              "#0d0887"
             ],
             [
              0.1111111111111111,
              "#46039f"
             ],
             [
              0.2222222222222222,
              "#7201a8"
             ],
             [
              0.3333333333333333,
              "#9c179e"
             ],
             [
              0.4444444444444444,
              "#bd3786"
             ],
             [
              0.5555555555555556,
              "#d8576b"
             ],
             [
              0.6666666666666666,
              "#ed7953"
             ],
             [
              0.7777777777777778,
              "#fb9f3a"
             ],
             [
              0.8888888888888888,
              "#fdca26"
             ],
             [
              1,
              "#f0f921"
             ]
            ],
            "type": "surface"
           }
          ],
          "table": [
           {
            "cells": {
             "fill": {
              "color": "#EBF0F8"
             },
             "line": {
              "color": "white"
             }
            },
            "header": {
             "fill": {
              "color": "#C8D4E3"
             },
             "line": {
              "color": "white"
             }
            },
            "type": "table"
           }
          ]
         },
         "layout": {
          "annotationdefaults": {
           "arrowcolor": "#2a3f5f",
           "arrowhead": 0,
           "arrowwidth": 1
          },
          "autotypenumbers": "strict",
          "coloraxis": {
           "colorbar": {
            "outlinewidth": 0,
            "ticks": ""
           }
          },
          "colorscale": {
           "diverging": [
            [
             0,
             "#8e0152"
            ],
            [
             0.1,
             "#c51b7d"
            ],
            [
             0.2,
             "#de77ae"
            ],
            [
             0.3,
             "#f1b6da"
            ],
            [
             0.4,
             "#fde0ef"
            ],
            [
             0.5,
             "#f7f7f7"
            ],
            [
             0.6,
             "#e6f5d0"
            ],
            [
             0.7,
             "#b8e186"
            ],
            [
             0.8,
             "#7fbc41"
            ],
            [
             0.9,
             "#4d9221"
            ],
            [
             1,
             "#276419"
            ]
           ],
           "sequential": [
            [
             0,
             "#0d0887"
            ],
            [
             0.1111111111111111,
             "#46039f"
            ],
            [
             0.2222222222222222,
             "#7201a8"
            ],
            [
             0.3333333333333333,
             "#9c179e"
            ],
            [
             0.4444444444444444,
             "#bd3786"
            ],
            [
             0.5555555555555556,
             "#d8576b"
            ],
            [
             0.6666666666666666,
             "#ed7953"
            ],
            [
             0.7777777777777778,
             "#fb9f3a"
            ],
            [
             0.8888888888888888,
             "#fdca26"
            ],
            [
             1,
             "#f0f921"
            ]
           ],
           "sequentialminus": [
            [
             0,
             "#0d0887"
            ],
            [
             0.1111111111111111,
             "#46039f"
            ],
            [
             0.2222222222222222,
             "#7201a8"
            ],
            [
             0.3333333333333333,
             "#9c179e"
            ],
            [
             0.4444444444444444,
             "#bd3786"
            ],
            [
             0.5555555555555556,
             "#d8576b"
            ],
            [
             0.6666666666666666,
             "#ed7953"
            ],
            [
             0.7777777777777778,
             "#fb9f3a"
            ],
            [
             0.8888888888888888,
             "#fdca26"
            ],
            [
             1,
             "#f0f921"
            ]
           ]
          },
          "colorway": [
           "#636efa",
           "#EF553B",
           "#00cc96",
           "#ab63fa",
           "#FFA15A",
           "#19d3f3",
           "#FF6692",
           "#B6E880",
           "#FF97FF",
           "#FECB52"
          ],
          "font": {
           "color": "#2a3f5f"
          },
          "geo": {
           "bgcolor": "white",
           "lakecolor": "white",
           "landcolor": "#E5ECF6",
           "showlakes": true,
           "showland": true,
           "subunitcolor": "white"
          },
          "hoverlabel": {
           "align": "left"
          },
          "hovermode": "closest",
          "mapbox": {
           "style": "light"
          },
          "paper_bgcolor": "white",
          "plot_bgcolor": "#E5ECF6",
          "polar": {
           "angularaxis": {
            "gridcolor": "white",
            "linecolor": "white",
            "ticks": ""
           },
           "bgcolor": "#E5ECF6",
           "radialaxis": {
            "gridcolor": "white",
            "linecolor": "white",
            "ticks": ""
           }
          },
          "scene": {
           "xaxis": {
            "backgroundcolor": "#E5ECF6",
            "gridcolor": "white",
            "gridwidth": 2,
            "linecolor": "white",
            "showbackground": true,
            "ticks": "",
            "zerolinecolor": "white"
           },
           "yaxis": {
            "backgroundcolor": "#E5ECF6",
            "gridcolor": "white",
            "gridwidth": 2,
            "linecolor": "white",
            "showbackground": true,
            "ticks": "",
            "zerolinecolor": "white"
           },
           "zaxis": {
            "backgroundcolor": "#E5ECF6",
            "gridcolor": "white",
            "gridwidth": 2,
            "linecolor": "white",
            "showbackground": true,
            "ticks": "",
            "zerolinecolor": "white"
           }
          },
          "shapedefaults": {
           "line": {
            "color": "#2a3f5f"
           }
          },
          "ternary": {
           "aaxis": {
            "gridcolor": "white",
            "linecolor": "white",
            "ticks": ""
           },
           "baxis": {
            "gridcolor": "white",
            "linecolor": "white",
            "ticks": ""
           },
           "bgcolor": "#E5ECF6",
           "caxis": {
            "gridcolor": "white",
            "linecolor": "white",
            "ticks": ""
           }
          },
          "title": {
           "x": 0.05
          },
          "xaxis": {
           "automargin": true,
           "gridcolor": "white",
           "linecolor": "white",
           "ticks": "",
           "title": {
            "standoff": 15
           },
           "zerolinecolor": "white",
           "zerolinewidth": 2
          },
          "yaxis": {
           "automargin": true,
           "gridcolor": "white",
           "linecolor": "white",
           "ticks": "",
           "title": {
            "standoff": 15
           },
           "zerolinecolor": "white",
           "zerolinewidth": 2
          }
         }
        },
        "title": {
         "text": "hello world"
        }
       }
      },
      "text/html": [
       "<div>                            <div id=\"43c039ee-2c34-4529-afc8-c5793d391172\" class=\"plotly-graph-div\" style=\"height:525px; width:100%;\"></div>            <script type=\"text/javascript\">                require([\"plotly\"], function(Plotly) {                    window.PLOTLYENV=window.PLOTLYENV || {};                                    if (document.getElementById(\"43c039ee-2c34-4529-afc8-c5793d391172\")) {                    Plotly.newPlot(                        \"43c039ee-2c34-4529-afc8-c5793d391172\",                        [{\"x\":[1,2,3,4],\"y\":[4,3,2,1],\"type\":\"scatter\"}],                        {\"template\":{\"data\":{\"barpolar\":[{\"marker\":{\"line\":{\"color\":\"#E5ECF6\",\"width\":0.5},\"pattern\":{\"fillmode\":\"overlay\",\"size\":10,\"solidity\":0.2}},\"type\":\"barpolar\"}],\"bar\":[{\"error_x\":{\"color\":\"#2a3f5f\"},\"error_y\":{\"color\":\"#2a3f5f\"},\"marker\":{\"line\":{\"color\":\"#E5ECF6\",\"width\":0.5},\"pattern\":{\"fillmode\":\"overlay\",\"size\":10,\"solidity\":0.2}},\"type\":\"bar\"}],\"carpet\":[{\"aaxis\":{\"endlinecolor\":\"#2a3f5f\",\"gridcolor\":\"white\",\"linecolor\":\"white\",\"minorgridcolor\":\"white\",\"startlinecolor\":\"#2a3f5f\"},\"baxis\":{\"endlinecolor\":\"#2a3f5f\",\"gridcolor\":\"white\",\"linecolor\":\"white\",\"minorgridcolor\":\"white\",\"startlinecolor\":\"#2a3f5f\"},\"type\":\"carpet\"}],\"choropleth\":[{\"colorbar\":{\"outlinewidth\":0,\"ticks\":\"\"},\"type\":\"choropleth\"}],\"contourcarpet\":[{\"colorbar\":{\"outlinewidth\":0,\"ticks\":\"\"},\"type\":\"contourcarpet\"}],\"contour\":[{\"colorbar\":{\"outlinewidth\":0,\"ticks\":\"\"},\"colorscale\":[[0.0,\"#0d0887\"],[0.1111111111111111,\"#46039f\"],[0.2222222222222222,\"#7201a8\"],[0.3333333333333333,\"#9c179e\"],[0.4444444444444444,\"#bd3786\"],[0.5555555555555556,\"#d8576b\"],[0.6666666666666666,\"#ed7953\"],[0.7777777777777778,\"#fb9f3a\"],[0.8888888888888888,\"#fdca26\"],[1.0,\"#f0f921\"]],\"type\":\"contour\"}],\"heatmapgl\":[{\"colorbar\":{\"outlinewidth\":0,\"ticks\":\"\"},\"colorscale\":[[0.0,\"#0d0887\"],[0.1111111111111111,\"#46039f\"],[0.2222222222222222,\"#7201a8\"],[0.3333333333333333,\"#9c179e\"],[0.4444444444444444,\"#bd3786\"],[0.5555555555555556,\"#d8576b\"],[0.6666666666666666,\"#ed7953\"],[0.7777777777777778,\"#fb9f3a\"],[0.8888888888888888,\"#fdca26\"],[1.0,\"#f0f921\"]],\"type\":\"heatmapgl\"}],\"heatmap\":[{\"colorbar\":{\"outlinewidth\":0,\"ticks\":\"\"},\"colorscale\":[[0.0,\"#0d0887\"],[0.1111111111111111,\"#46039f\"],[0.2222222222222222,\"#7201a8\"],[0.3333333333333333,\"#9c179e\"],[0.4444444444444444,\"#bd3786\"],[0.5555555555555556,\"#d8576b\"],[0.6666666666666666,\"#ed7953\"],[0.7777777777777778,\"#fb9f3a\"],[0.8888888888888888,\"#fdca26\"],[1.0,\"#f0f921\"]],\"type\":\"heatmap\"}],\"histogram2dcontour\":[{\"colorbar\":{\"outlinewidth\":0,\"ticks\":\"\"},\"colorscale\":[[0.0,\"#0d0887\"],[0.1111111111111111,\"#46039f\"],[0.2222222222222222,\"#7201a8\"],[0.3333333333333333,\"#9c179e\"],[0.4444444444444444,\"#bd3786\"],[0.5555555555555556,\"#d8576b\"],[0.6666666666666666,\"#ed7953\"],[0.7777777777777778,\"#fb9f3a\"],[0.8888888888888888,\"#fdca26\"],[1.0,\"#f0f921\"]],\"type\":\"histogram2dcontour\"}],\"histogram2d\":[{\"colorbar\":{\"outlinewidth\":0,\"ticks\":\"\"},\"colorscale\":[[0.0,\"#0d0887\"],[0.1111111111111111,\"#46039f\"],[0.2222222222222222,\"#7201a8\"],[0.3333333333333333,\"#9c179e\"],[0.4444444444444444,\"#bd3786\"],[0.5555555555555556,\"#d8576b\"],[0.6666666666666666,\"#ed7953\"],[0.7777777777777778,\"#fb9f3a\"],[0.8888888888888888,\"#fdca26\"],[1.0,\"#f0f921\"]],\"type\":\"histogram2d\"}],\"histogram\":[{\"marker\":{\"pattern\":{\"fillmode\":\"overlay\",\"size\":10,\"solidity\":0.2}},\"type\":\"histogram\"}],\"mesh3d\":[{\"colorbar\":{\"outlinewidth\":0,\"ticks\":\"\"},\"type\":\"mesh3d\"}],\"parcoords\":[{\"line\":{\"colorbar\":{\"outlinewidth\":0,\"ticks\":\"\"}},\"type\":\"parcoords\"}],\"pie\":[{\"automargin\":true,\"type\":\"pie\"}],\"scatter3d\":[{\"line\":{\"colorbar\":{\"outlinewidth\":0,\"ticks\":\"\"}},\"marker\":{\"colorbar\":{\"outlinewidth\":0,\"ticks\":\"\"}},\"type\":\"scatter3d\"}],\"scattercarpet\":[{\"marker\":{\"colorbar\":{\"outlinewidth\":0,\"ticks\":\"\"}},\"type\":\"scattercarpet\"}],\"scattergeo\":[{\"marker\":{\"colorbar\":{\"outlinewidth\":0,\"ticks\":\"\"}},\"type\":\"scattergeo\"}],\"scattergl\":[{\"marker\":{\"colorbar\":{\"outlinewidth\":0,\"ticks\":\"\"}},\"type\":\"scattergl\"}],\"scattermapbox\":[{\"marker\":{\"colorbar\":{\"outlinewidth\":0,\"ticks\":\"\"}},\"type\":\"scattermapbox\"}],\"scatterpolargl\":[{\"marker\":{\"colorbar\":{\"outlinewidth\":0,\"ticks\":\"\"}},\"type\":\"scatterpolargl\"}],\"scatterpolar\":[{\"marker\":{\"colorbar\":{\"outlinewidth\":0,\"ticks\":\"\"}},\"type\":\"scatterpolar\"}],\"scatter\":[{\"fillpattern\":{\"fillmode\":\"overlay\",\"size\":10,\"solidity\":0.2},\"type\":\"scatter\"}],\"scatterternary\":[{\"marker\":{\"colorbar\":{\"outlinewidth\":0,\"ticks\":\"\"}},\"type\":\"scatterternary\"}],\"surface\":[{\"colorbar\":{\"outlinewidth\":0,\"ticks\":\"\"},\"colorscale\":[[0.0,\"#0d0887\"],[0.1111111111111111,\"#46039f\"],[0.2222222222222222,\"#7201a8\"],[0.3333333333333333,\"#9c179e\"],[0.4444444444444444,\"#bd3786\"],[0.5555555555555556,\"#d8576b\"],[0.6666666666666666,\"#ed7953\"],[0.7777777777777778,\"#fb9f3a\"],[0.8888888888888888,\"#fdca26\"],[1.0,\"#f0f921\"]],\"type\":\"surface\"}],\"table\":[{\"cells\":{\"fill\":{\"color\":\"#EBF0F8\"},\"line\":{\"color\":\"white\"}},\"header\":{\"fill\":{\"color\":\"#C8D4E3\"},\"line\":{\"color\":\"white\"}},\"type\":\"table\"}]},\"layout\":{\"annotationdefaults\":{\"arrowcolor\":\"#2a3f5f\",\"arrowhead\":0,\"arrowwidth\":1},\"autotypenumbers\":\"strict\",\"coloraxis\":{\"colorbar\":{\"outlinewidth\":0,\"ticks\":\"\"}},\"colorscale\":{\"diverging\":[[0,\"#8e0152\"],[0.1,\"#c51b7d\"],[0.2,\"#de77ae\"],[0.3,\"#f1b6da\"],[0.4,\"#fde0ef\"],[0.5,\"#f7f7f7\"],[0.6,\"#e6f5d0\"],[0.7,\"#b8e186\"],[0.8,\"#7fbc41\"],[0.9,\"#4d9221\"],[1,\"#276419\"]],\"sequential\":[[0.0,\"#0d0887\"],[0.1111111111111111,\"#46039f\"],[0.2222222222222222,\"#7201a8\"],[0.3333333333333333,\"#9c179e\"],[0.4444444444444444,\"#bd3786\"],[0.5555555555555556,\"#d8576b\"],[0.6666666666666666,\"#ed7953\"],[0.7777777777777778,\"#fb9f3a\"],[0.8888888888888888,\"#fdca26\"],[1.0,\"#f0f921\"]],\"sequentialminus\":[[0.0,\"#0d0887\"],[0.1111111111111111,\"#46039f\"],[0.2222222222222222,\"#7201a8\"],[0.3333333333333333,\"#9c179e\"],[0.4444444444444444,\"#bd3786\"],[0.5555555555555556,\"#d8576b\"],[0.6666666666666666,\"#ed7953\"],[0.7777777777777778,\"#fb9f3a\"],[0.8888888888888888,\"#fdca26\"],[1.0,\"#f0f921\"]]},\"colorway\":[\"#636efa\",\"#EF553B\",\"#00cc96\",\"#ab63fa\",\"#FFA15A\",\"#19d3f3\",\"#FF6692\",\"#B6E880\",\"#FF97FF\",\"#FECB52\"],\"font\":{\"color\":\"#2a3f5f\"},\"geo\":{\"bgcolor\":\"white\",\"lakecolor\":\"white\",\"landcolor\":\"#E5ECF6\",\"showlakes\":true,\"showland\":true,\"subunitcolor\":\"white\"},\"hoverlabel\":{\"align\":\"left\"},\"hovermode\":\"closest\",\"mapbox\":{\"style\":\"light\"},\"paper_bgcolor\":\"white\",\"plot_bgcolor\":\"#E5ECF6\",\"polar\":{\"angularaxis\":{\"gridcolor\":\"white\",\"linecolor\":\"white\",\"ticks\":\"\"},\"bgcolor\":\"#E5ECF6\",\"radialaxis\":{\"gridcolor\":\"white\",\"linecolor\":\"white\",\"ticks\":\"\"}},\"scene\":{\"xaxis\":{\"backgroundcolor\":\"#E5ECF6\",\"gridcolor\":\"white\",\"gridwidth\":2,\"linecolor\":\"white\",\"showbackground\":true,\"ticks\":\"\",\"zerolinecolor\":\"white\"},\"yaxis\":{\"backgroundcolor\":\"#E5ECF6\",\"gridcolor\":\"white\",\"gridwidth\":2,\"linecolor\":\"white\",\"showbackground\":true,\"ticks\":\"\",\"zerolinecolor\":\"white\"},\"zaxis\":{\"backgroundcolor\":\"#E5ECF6\",\"gridcolor\":\"white\",\"gridwidth\":2,\"linecolor\":\"white\",\"showbackground\":true,\"ticks\":\"\",\"zerolinecolor\":\"white\"}},\"shapedefaults\":{\"line\":{\"color\":\"#2a3f5f\"}},\"ternary\":{\"aaxis\":{\"gridcolor\":\"white\",\"linecolor\":\"white\",\"ticks\":\"\"},\"baxis\":{\"gridcolor\":\"white\",\"linecolor\":\"white\",\"ticks\":\"\"},\"bgcolor\":\"#E5ECF6\",\"caxis\":{\"gridcolor\":\"white\",\"linecolor\":\"white\",\"ticks\":\"\"}},\"title\":{\"x\":0.05},\"xaxis\":{\"automargin\":true,\"gridcolor\":\"white\",\"linecolor\":\"white\",\"ticks\":\"\",\"title\":{\"standoff\":15},\"zerolinecolor\":\"white\",\"zerolinewidth\":2},\"yaxis\":{\"automargin\":true,\"gridcolor\":\"white\",\"linecolor\":\"white\",\"ticks\":\"\",\"title\":{\"standoff\":15},\"zerolinecolor\":\"white\",\"zerolinewidth\":2}}},\"title\":{\"text\":\"hello world\"}},                        {\"responsive\": true}                    ).then(function(){\n",
       "                            \n",
       "var gd = document.getElementById('43c039ee-2c34-4529-afc8-c5793d391172');\n",
       "var x = new MutationObserver(function (mutations, observer) {{\n",
       "        var display = window.getComputedStyle(gd).display;\n",
       "        if (!display || display === 'none') {{\n",
       "            console.log([gd, 'removed!']);\n",
       "            Plotly.purge(gd);\n",
       "            observer.disconnect();\n",
       "        }}\n",
       "}});\n",
       "\n",
       "// Listen for the removal of the full notebook cells\n",
       "var notebookContainer = gd.closest('#notebook-container');\n",
       "if (notebookContainer) {{\n",
       "    x.observe(notebookContainer, {childList: true});\n",
       "}}\n",
       "\n",
       "// Listen for the clearing of the current output cell\n",
       "var outputEl = gd.closest('.output');\n",
       "if (outputEl) {{\n",
       "    x.observe(outputEl, {childList: true});\n",
       "}}\n",
       "\n",
       "                        })                };                });            </script>        </div>"
      ]
     },
     "metadata": {},
     "output_type": "display_data"
    }
   ],
   "source": [
    "import plotly\n",
    "from plotly.graph_objs import Scatter, Layout\n",
    "plotly.offline.init_notebook_mode(connected=True)\n",
    "plotly.offline.iplot({\n",
    "    \"data\": [Scatter(x=[1, 2, 3, 4], y=[4, 3, 2, 1])],\n",
    "    \"layout\": Layout(title=\"hello world\")\n",
    "})"
   ]
  },
  {
   "cell_type": "code",
   "execution_count": 55,
   "id": "10f6a2ef",
   "metadata": {},
   "outputs": [],
   "source": [
    "#import plotly.plotly as py\n",
    "import plotly.graph_objs as go"
   ]
  },
  {
   "cell_type": "code",
   "execution_count": 57,
   "id": "c15b00b3",
   "metadata": {},
   "outputs": [
    {
     "data": {
      "application/vnd.plotly.v1+json": {
       "config": {
        "linkText": "Export to plot.ly",
        "plotlyServerURL": "https://plot.ly",
        "showLink": false
       },
       "data": [
        {
         "mode": "markers",
         "type": "scatter",
         "x": [
          1.8038110332464579,
          -1.2159645463106699,
          0.61646669446136,
          0.46947970471202805,
          -0.13132810025152225,
          0.39248053265408445,
          0.7663658961499435,
          0.6670843070157144,
          -1.53757739995059,
          -0.7656560144317739,
          -1.5576113693390075,
          -0.2923026841065694,
          1.385791854979133,
          -0.36499835629693483,
          0.06518773982716093,
          0.4234975693587862,
          -0.36542074490858184,
          1.421734797276448,
          1.5863585832462626,
          0.1863430457509954,
          -0.5922371294783826,
          -0.26435696307797074,
          0.5151527071988593,
          -0.37725074070753556,
          1.9241716076615647,
          -1.1535508750358232,
          -0.061378049255313934,
          -0.1870432123281826,
          -0.28853595917497893,
          2.085511868663845,
          -0.6286783903564753,
          -0.33084637994427357,
          -1.0160498133108709,
          1.2005575699372575,
          -0.9161671146761388,
          -1.528018421490684,
          -1.3411750610536424,
          -0.5988239872167023,
          -1.402515033695807,
          0.678227652783308,
          0.33224360032869854,
          0.7721222188936192,
          -0.4047448130359756,
          0.3110184212648167,
          -0.22151730019665872,
          0.8340843914032579,
          -0.3445314848446144,
          1.3089863673800495,
          -1.1991324076476335,
          1.2243838180279274,
          -0.6789804276083629,
          -0.8997648186388874,
          0.3352449615365155,
          -1.806639265993216,
          0.35536874292143744,
          0.9285944898892937,
          0.29608052542595875,
          -1.1627180751809787,
          -0.464900151463001,
          0.7179574424513638,
          -0.4212830196136184,
          0.02520678591024487,
          2.144746106099191,
          -1.2416691099139143,
          -0.0353484849634395,
          -0.8554382885296882,
          -2.129947440819553,
          0.05672010373018752,
          -1.504781721688495,
          1.2344638612544876,
          -1.11508700565408,
          -0.637849935751653,
          0.1678588443318359,
          0.29319188206168184,
          -0.6322054375634218,
          3.1010580532133596,
          0.17405638813216212,
          -1.7307217959184409,
          -0.4457088409429121,
          -0.1463571435256216,
          -0.8917195494672017,
          -0.20474541728821297,
          0.096564950631411,
          -0.29687547710628426,
          -0.5029144229655543,
          -1.1103501800248685,
          -0.3414090174757932,
          0.004975414419313506,
          1.4765163226736155,
          0.2945978716343619,
          -0.5196667640003634,
          1.7286910066053318,
          0.6315910977148117,
          -0.42435359001989653,
          -0.17886793347530872,
          -2.0800835289122905,
          -0.12425672380780776,
          0.10825243457894271,
          -0.8132543542163289,
          0.9171898302552031,
          -1.9076671995506012,
          0.2155620368406879,
          1.3790094808219664,
          0.6603255118218232,
          -0.07387434034056792,
          0.9027618297820214,
          0.8018425857883681,
          2.29292062687782,
          0.5576087416045115,
          1.1937851528828516,
          -1.0082453469787198,
          2.03877159600812,
          -0.8083051128481196,
          -0.259308974533192,
          0.5247855294720238,
          -2.194104581009123,
          0.6784630039847316,
          -0.7977173884729477,
          0.09957822866058805,
          1.14913815035773,
          0.2779508914731396,
          0.8838720928275785,
          -1.1831766117874274,
          1.711535209951359,
          0.5338895047894411,
          -1.1098996177819895,
          -0.8444344083337517,
          -0.5852363896475452,
          0.8077613111217006,
          1.1323607960995516,
          -0.18193078375387706,
          -0.31087752234719346,
          1.7837188921590297,
          1.0540651298703492,
          -0.2641895511253726,
          0.6473361805514268,
          -0.18475277253498018,
          1.0495046531516299,
          -0.04397435382035432,
          -1.3540351604632743,
          -0.40027865149642106,
          -1.3175979788492727,
          0.5871548860714328,
          -1.1824875356645466,
          1.8872055862979966,
          1.6571684576725672,
          1.1796150076754612,
          0.7746103239430342,
          0.626455953643725,
          0.7169221853622685,
          2.0791507726404412,
          0.13934351702708192,
          -0.19591287207794925,
          -1.1391122195908934,
          -1.305491309584662,
          -1.7439008125559121,
          -0.8832773804329644,
          2.6696404087289882,
          0.7131192177329075,
          0.6736016368502475,
          -0.1529931666296441,
          1.5754321492398469,
          -0.3001219772587493,
          1.7672513544479016,
          -0.22480596649691886,
          0.0924891638613973,
          0.7735655152812054,
          0.28967017994430455,
          0.8503580262648583,
          -0.07920209205698008,
          -0.18155289630764423,
          0.23764073439796915,
          -1.5847341715310714,
          -0.6365146530503348,
          -0.9746847499619394,
          0.3296772805895462,
          0.5680080004183194,
          -0.0960174692278767,
          0.436904305149,
          -0.7420577376817664,
          0.8108949049019007,
          0.28754826240376546,
          -1.4522144021020817,
          -0.49152668209732053,
          -0.6138507808374514,
          -0.11652725389590514,
          0.25905671724433066,
          0.4863383597319307,
          -0.30157297642226377,
          2.3715183634354733,
          -0.2504144103305986,
          0.5403238526258699,
          -0.06724988353452918,
          -0.339185548313765,
          -1.0896213803106418,
          0.9870649451373271,
          -0.334813612770166,
          2.9014232826087993,
          -0.370141888614836,
          -0.6820469568610849,
          -1.9330876223602127,
          0.3201224707263958,
          0.2708856647642454,
          0.9982524858089104,
          0.4385218131857354,
          -0.5098032052165786,
          -1.3696117676839286,
          -1.6575988102437258,
          0.2969684995188897,
          0.24393290385131353,
          -0.6766981976765084,
          -0.67063362803667,
          0.04304090207849122,
          1.3128005750753309,
          -0.4476017793370105,
          -0.19722328288249077,
          -0.06302723930118403,
          0.4447863156695342,
          -0.1541409683717271,
          0.7528174294122725,
          -0.9622663056272325,
          0.04415459180018939,
          -0.85792528679194,
          0.8330104948286806,
          1.3368030747034947,
          0.21490483677275551,
          -0.22126209289304405,
          -0.9550300440970408,
          1.1731409136806852,
          0.8922215472905357,
          0.6604709857755167,
          -0.5606574405738267,
          -0.1046520857178878,
          0.19781172472618894,
          -1.4277061033717235,
          1.7095620753960252,
          1.4039607982136937,
          -1.3610037136545596,
          -0.2584688417410708,
          1.3425576911355737,
          -0.7569668253017305,
          -0.6914848310894579,
          0.37421074396809195,
          1.0944894400599683,
          -0.3453158148757404,
          -1.352626224885997,
          -1.7621308022252993,
          -0.23515630558237427,
          0.2695115214596798,
          -1.3452919228154554,
          0.07302916117448194,
          0.49734151892230966,
          -1.1834719483957368,
          -0.049645827336733804,
          1.958067410139867,
          -1.2328915166423338,
          0.9996252042617626,
          1.6401411582124417,
          0.7697361635000358,
          1.720130090858687,
          1.3968451719537895,
          0.43631082655850206,
          0.9625497204953581,
          0.5914820794756895,
          -0.24653482749807404,
          0.574932916755553,
          0.6449004488195493,
          0.18935349466700463,
          0.47342235952774236,
          0.2865595287549985,
          0.5275942920907797,
          0.002033945981911053,
          0.303315348373378,
          1.0065479583605819,
          0.6647459052215513,
          0.25085525585608737,
          -0.20814348572653302,
          -0.37316281693171566,
          -0.04600007234329245,
          -1.341627429386527,
          -1.0404799758505001,
          -1.827087301093114,
          -0.938594569277727,
          0.3143747136131472,
          -0.0464922973709261,
          -0.3740716775234871,
          0.15733574352191504,
          0.6979594618540248,
          -0.04554040133820601,
          0.22983285192675593,
          -0.5749064771612237,
          -0.26948528478846595,
          -1.4166659908205683,
          0.8492603537532931,
          -0.458724966739307,
          -0.7540304749379594,
          -1.3063856099562716,
          1.4973556164589121,
          -0.3531496338977585,
          -0.9255152066723558,
          -1.2702696399679294,
          -0.5267554495176616,
          -3.2698629049060277,
          -0.7876423162112924,
          0.8243885618147658,
          -0.06311070472867548,
          0.5144801317090235,
          1.5622947468662463,
          0.8189720749057539,
          -0.21473379428213932,
          2.6776441465543575,
          1.2501197902666312,
          0.932668014217984,
          -0.746099861732922,
          0.4191691465821831,
          1.577081369224705,
          1.592905242160158,
          0.1657571581033277,
          -2.0854942428130996,
          0.41289270841551234,
          1.2497983064275995,
          -0.0495153875714958,
          0.5926890585684202,
          0.389723915697268,
          0.10083415376696445,
          -0.9420783695794447,
          -0.6570128759768862,
          1.2671098444542508,
          -0.09415509047317767,
          -1.5815314481315117,
          0.9027253914943978,
          -0.9425122688443417,
          0.320956184801264,
          -0.1823613868879326,
          -0.1360285443089824,
          0.17271565430532,
          -2.0872863891987783,
          1.6612062202048765,
          0.43460855639053714,
          -0.0391106535941379,
          0.5668348777091082,
          -0.27256518630083226,
          0.41747285512586985,
          -0.16064906947316065,
          1.2414704871805564,
          -0.5759893491931457,
          -0.6226601842968129,
          0.6444326318129283,
          -1.0737665842881123,
          1.3905041680264283,
          -0.22925065576557427,
          -1.1072170471505116,
          -0.6051781205044149,
          1.050066326614572,
          -1.266813823658837,
          -0.5126568176450288,
          -0.1941811318008835,
          -0.2566909566251095,
          0.2696623420767872,
          -0.8305665282895858,
          1.6092331552632744,
          -0.2565520346250608,
          -1.4649701602150436,
          0.6424603213251278,
          -2.036724235665477,
          0.5464266871113512,
          1.0259925119948579,
          1.2051050574309585,
          2.5294922163765112,
          1.4819221947361803,
          1.0342740337903258,
          -0.4564351273619303,
          1.0598678279648501,
          -1.43123191986083,
          -0.2599815186836503,
          -0.4089418840578622,
          -1.501918472325022,
          1.4256321747548562,
          -1.1883036963147084,
          1.9646387750937166,
          -1.1549698184106136,
          1.0086629023964513,
          0.10975249321783553,
          0.05214608583298922,
          0.7679730943779037,
          -1.3747057694877765,
          -0.7959356881608931,
          -1.9375580275676383,
          1.4104209791457283,
          0.9634538228217238,
          -0.8935993326095897,
          -0.5302958834147379,
          -1.7807746802926259,
          -0.7254005071986755,
          -0.24128980830840766,
          -0.35439819720198334,
          -0.697133632997211,
          -0.9516732083510963,
          0.4079323741151317,
          0.7945221304948137,
          0.49346404460725307,
          0.15359601997840483,
          -0.9243074078530641,
          -0.09536826567947437,
          0.7443375933206934,
          -0.4986697445749818,
          0.362420075423592,
          -0.07496688379405604,
          -1.5001828155486971,
          -1.5495185903805668,
          -0.8913963955903582,
          2.70909809539362,
          0.244438399190857,
          1.1460748462759596,
          0.7502641302453408,
          -1.8517199269601539,
          -0.44898371392884123,
          1.2935052559174567,
          1.7810557934597568,
          0.1906020757273146,
          -0.35376216963959306,
          0.6748404710338141,
          -0.3536929519113159,
          -1.0475311332212105,
          -0.42992074688379484,
          -1.3303171161634826,
          0.2855237405201791,
          0.36669538917888556,
          -0.7388971938649069,
          0.8082803632694371,
          -0.28763681811876307,
          1.301221079157111,
          1.772413407953747,
          0.5114573185235584,
          0.3331292080687137,
          1.0901256447128602,
          0.14193624568437832,
          0.7566097766708482,
          1.0141487365592996,
          -1.3624978957421208,
          -0.3172589209003571,
          -0.09019034766800592,
          -1.2630897996679853,
          0.39875243437798014,
          0.4942142259802067,
          1.6977658320615232,
          0.7759489608835511,
          0.9824564559282326,
          0.08827644692067609,
          1.0442657210734672,
          -0.2681510693162444,
          -0.4197399372418833,
          -0.7804640190965302,
          2.0100819817235713,
          -0.26825924689795666,
          0.13968424688885028,
          0.3632621773757227,
          2.0656300204145226,
          -1.892914845225501,
          -0.919970314773928,
          0.17087684197134564,
          1.484531111836126,
          -0.7734301371331581,
          0.6025347172195746,
          1.8524728961325394,
          1.030846718439417,
          1.0339485380700315,
          -0.5153458936581196,
          0.16088938195070487,
          -0.4284581366285191,
          0.18105377241885426,
          0.06543961863789273,
          -0.13666998019807147,
          -1.3665660672618427,
          -0.48276068842961817,
          -0.5071795219287388,
          0.9884242522356593,
          0.17172097859493513,
          -1.40667065943111,
          -0.6717984915712159,
          -0.07175543641808019,
          0.3382912392977216,
          -0.4337793826241685,
          1.4274656139028397,
          0.19198471006486575,
          0.05435244511413298,
          -0.4467121517252459,
          0.0021511202170033314,
          1.2117510388791397,
          -0.0817267071979983,
          -0.0746033624975788,
          -1.0625118443611443,
          -0.1558045272045579,
          0.08214281942856257,
          1.4655265668117199,
          -0.9103153435357323,
          1.2065611851036424,
          -0.15357390184878544,
          0.819938875835398,
          1.142584658098864,
          -0.7576865949545589,
          0.5558416103357291,
          -1.0243428999290627,
          0.3214530265252541,
          1.566877650388921,
          -0.18959848445616814,
          -0.9452248878603252,
          0.7712290112585378,
          -1.5792182358834466,
          0.3355101339213324,
          0.6156158573110085,
          -1.2028585265298768,
          1.1866836233829738,
          0.07681607530009923,
          1.034339682577327,
          1.52350479082871,
          0.7442654689432256,
          1.0947726567148706,
          -1.4586081125654637,
          -0.1561572082974932,
          0.9836310942788112,
          -1.8760459190439018,
          -0.566443033893234,
          -0.4391394221772059,
          -0.455502083142792,
          -1.1021275501903078,
          -1.8890278335041502,
          -0.27141761771385625,
          0.17261593872667913,
          -0.013642235902381216,
          -0.1947356303742269,
          0.30555815020660665,
          -0.9015439156925111,
          0.08108149461303239,
          0.8023296372841788,
          -1.1392449258630826,
          -0.11479082573633817,
          -0.7516639715103214,
          -0.13271243850192893,
          -1.0867893664912043,
          -0.8515156863546699,
          -0.9898078547956456,
          0.08672657218242191,
          1.7091517042747195,
          1.096450842937189,
          0.8583249260245608,
          0.01887094540080466,
          -0.38412089338047467,
          0.747914938657177,
          0.38582668519409485,
          -2.9946503360351784,
          -0.16658527800117923,
          -0.5947845434430501,
          -0.3190334690808561,
          -2.52819152707205,
          -0.5356360153643853,
          1.2609755486657936,
          -0.4673374808704295,
          0.5504607570694491,
          0.6767700018367435,
          0.7010728372760053,
          1.0685213595723733,
          0.18033952650025906,
          -0.2889864864457202,
          -0.8073102223992118,
          0.9485097596964541,
          -2.0175131146204963,
          -1.0255959459074488,
          0.23737164491671717,
          0.133119065584641,
          -0.07274460142507556,
          -0.08541531365905612,
          -1.8369415225869916,
          -0.4186599620919002,
          -0.676364249596102,
          -1.2128098686977198,
          0.2090955737204097,
          0.702397327438008,
          -0.19687003094410938,
          -0.6058107858233892,
          -0.009028687998488364,
          -0.8988062113875755,
          0.21171729535768838,
          0.9021677584530975,
          -0.27586927217700125,
          -2.330898059658112,
          1.2180322918328443,
          2.648845780395057,
          -1.4021317849260908,
          0.508441273651004,
          -0.03626972832537063,
          1.064957244065199,
          -0.11245693745275852,
          -0.2022751759857822,
          -1.8264943588169729,
          2.2330036687694226,
          -1.3417164622428908,
          0.4112677797074695,
          -0.9096284884718355,
          0.33749310869876004,
          -0.23136948465278892,
          -0.6467176371727649,
          -0.6757146350957892,
          0.5855969198782883,
          -1.3058754376937827,
          0.8981387222015292,
          0.006228063556694059,
          0.6586154652907165,
          1.5628787398334072,
          -2.2096286445322306,
          -1.2051242768669017,
          1.3655743086992234,
          -0.6085644485505524,
          -0.002328949280058126,
          -0.622430386151281,
          0.8189620590502886,
          -0.14550417950285213,
          1.4433154265103882,
          -0.5611329102360082,
          -0.5918815134264546,
          1.4673131816353375,
          0.2674143586444083,
          -0.07421682342638336,
          -0.5709163484940086,
          -0.2682112147430046,
          -1.446883400837213,
          -1.2423608352073756,
          0.025119722995561426,
          -1.7928275019075774,
          1.2964284953807033,
          -1.5625691524502607,
          -0.5502652948728202,
          1.6435255399378201,
          -0.24449582077041124,
          -0.46544191111173205,
          -0.2785459729522842,
          1.7407342266829535,
          -0.14106868045387508,
          0.3404584260031387,
          -0.19351738629320306,
          0.14553315293597902,
          -1.1769334904930064,
          0.058798247862772775,
          -0.9474192083547426,
          -0.3815411302290329,
          -0.06556928046019429,
          -0.8896077755817975,
          1.3339669074795004,
          0.43905723959840837,
          -1.385959287390943,
          0.7068158497389178,
          0.5321516608266286,
          0.9414028302917585,
          0.8825553686530826,
          -0.9825326706444464,
          0.4772149901522147,
          -0.24246554528638942,
          -0.38538503182124095,
          0.7011447343315489,
          0.9112063729669612,
          -0.614966741174434,
          0.4058894064036313,
          -0.049762674908224884,
          -0.3621004073542544,
          -0.21822084144843729,
          0.8803645334548703,
          0.2612766624053543,
          0.5031814635774953,
          0.6899165055316765,
          -0.11748453701128386,
          0.8984163530238627,
          0.012075881626157496,
          -0.48943765033990133,
          -0.6597740398852056,
          0.25893690032771005,
          1.2909902277906198,
          -0.7437990977317452,
          -0.3679535662076776,
          -0.664408973643878,
          -0.298017106383863,
          -0.6527302115017186,
          1.3049403518395521,
          -0.14735567361298743,
          0.7570114210144384,
          -1.0644497412325025,
          1.384780252782437,
          0.3050149011002676,
          -0.04986590777882129,
          0.5039525450526979,
          -0.4680715904314032,
          1.0293813291285507,
          0.10953897373334412,
          -1.044082097114642,
          0.24403012479965425,
          -0.009078111242875962,
          -0.20762505794456307,
          -0.2935410771532757,
          0.020875423103693877,
          -2.022576450545777,
          0.24562658523854614,
          -0.755332519863902,
          -0.08477214477056326,
          -0.6201736255376532,
          0.37795637054068676,
          -0.8580087752389525,
          1.9458493905555259,
          -1.7141700156683715,
          0.328627315961588,
          0.40908090499221994,
          -0.10548021304566099,
          -0.5835871809529347,
          0.27240929150394294,
          0.4462843498692457,
          -0.10463450207059856,
          -0.5852916429811179,
          0.6320889716250407,
          -1.3572281784874798,
          -0.3226269969213741,
          1.5798574199311888,
          -0.7147538544207357,
          -0.360476318538833,
          0.1619724987215907,
          -1.2744907986736693,
          -1.1090117451176582,
          0.2421327156793627,
          -1.187076052644066,
          -0.7783140443973882,
          0.015033323190178393,
          0.8833419932762395,
          -0.3682986435167202,
          2.2257553585115697,
          -0.9965704078528353,
          -0.5074036786805161,
          -0.1396936238217709,
          0.1448911176820226,
          -0.5071780026335784,
          0.545076446155878,
          1.010974328795052,
          -0.44108190471571096,
          0.9593783027857339,
          0.8306677821472264,
          2.598551550582372,
          1.1843651994679898,
          -1.0822921081483738,
          -0.6212595126562599,
          1.885599989849567,
          -0.4176886167428642,
          0.6766494432365674,
          0.6739798423379322,
          0.28667600248688724,
          -0.31594134303558596,
          -0.20694536716434217,
          -0.7640298711484843,
          -1.8115711076643117,
          -1.6687645028571476,
          0.46336064046633313,
          0.7984286213749324,
          0.8392907719560806,
          -0.015256342193520856,
          0.02854505896762339,
          -1.4035764151028505,
          -0.36313308014718715,
          0.26434208434076556,
          1.2370234307982706,
          -2.5865542664023056,
          -1.0854802355916662,
          0.5099407453306187,
          -1.205686883839556,
          1.010743615855998,
          2.5431278318958457,
          -0.7348491553924101,
          0.25074305125272106,
          -1.8306506469747605,
          0.3256285164395056,
          0.9132592525409158,
          0.9377076003357592,
          -0.12973344919261204,
          -0.7247104066116927,
          0.4272346052287904,
          -1.2140184547584132,
          0.5595510561562913,
          -0.637071255601236,
          1.4200734014327339,
          0.18596706128092624,
          2.942303558089968,
          -1.181959801201723,
          -0.23699878328971763,
          -1.5869570094524093,
          0.9984994786859109,
          0.49591471857781644,
          -0.07858781400416695,
          1.751340194803253,
          -1.8267023089211682,
          0.9741421516299472,
          -0.49917925157266324,
          1.4399194307101182,
          -1.6462008359698033,
          0.9572128470477911,
          -1.3071088482968143,
          -1.6169753791391483,
          -0.9583315270317679,
          0.9551399438512189,
          0.03477475427097066,
          2.28301149889421,
          -1.7216105146734952,
          0.9814286167771159,
          -0.7061982907059162,
          1.0890552645786071,
          0.27446654253147695,
          0.4981463077450027,
          0.6681334579381177,
          0.3631400700448279,
          -0.4158422330346341,
          -0.5356987463361867,
          -0.6653071960529169,
          0.7041189659799388,
          0.7521759495207325,
          1.831456722341784,
          0.31642099147761743,
          -1.4820942582119796,
          1.7588850400814044,
          1.8971157265449201,
          -0.3684597254319067,
          0.5708064263837952,
          -2.0134353412987,
          -0.3109871721365766,
          -0.459397319823031,
          0.18057807436312698,
          -0.7570169660684685,
          -1.32884515714289,
          -0.6080331254636425,
          -0.10464111026795002,
          0.8121168690645408,
          -0.35455990417260697,
          0.21395196375733266,
          -0.6542825022477984,
          -1.8823431784306957,
          1.3040956460741011,
          1.6902829400053372,
          -0.04492777980960702,
          0.7608306757610224,
          0.19632633132290017,
          0.2581370908293121,
          -0.0802824577910609,
          -1.5094546015160382,
          1.1137894351397892,
          0.077726335699203,
          -1.4114179318995492,
          -0.021802420218810504,
          0.5799772797692684,
          -0.09846390661474791,
          -0.6586463197323797,
          -0.5623452574514163,
          -0.27639963705548687,
          -0.8297390750328952,
          -2.793428850913763,
          1.2281561295042842,
          0.9401797464020646,
          -0.8987061591084873,
          -1.3685278005848933,
          0.6275043307899589,
          -2.774984389071313,
          0.3953740252494863,
          0.2396483797753327,
          -2.6139806947249182,
          0.6202202634552927,
          -1.4964891480063,
          1.2559996754440017,
          -1.5968410609695878,
          -0.504457854969337,
          -0.27586530821708627,
          -0.10922362130530347,
          0.4069519000185561,
          -1.2401165622961376,
          2.72534671821575,
          -2.0231148217843606,
          -0.3246715879430894,
          1.3930189418281969,
          0.5041807191826233,
          -0.4294289168763645,
          -2.0410597866834754,
          -0.9973128394033105,
          1.752208617793234,
          0.9358643333504425,
          -0.08511043555957547,
          0.33475859589200735,
          0.44468992765089627,
          -0.44557619010130617,
          -0.07607335493962418,
          -0.2789761110527855,
          -1.0121340350072738,
          1.1206517788468968,
          0.13463116110920326,
          -0.056551981568159354,
          0.339120590382572,
          1.132030572066006,
          0.9898412108775154,
          -0.42109339417892233,
          0.9093269573886499,
          1.158010818984219,
          -0.9972919191135662,
          0.06474143023520532,
          -1.7291801465317722,
          -0.6527314686147848,
          0.01782500693701606,
          1.4753316437480757,
          0.6251327271070252,
          -0.11825658674078371,
          -0.2735639413570516,
          -0.08274387585694468,
          0.6757606214042793,
          0.04110776441821842,
          -0.4027740681619586,
          1.578290433774219,
          0.016850720391779022,
          -0.17646037733636422,
          -1.0451098936659415,
          1.852553735179101,
          0.8631292029478687,
          -0.20009397409712423,
          0.03182557236169929,
          -0.6259363524840933,
          0.32755904873893726,
          -1.1283265578326944,
          1.5942518471274596,
          0.6379789452941912,
          1.3866922152266528,
          -0.38724763955122044,
          0.058581560357646556,
          0.2768883015374712,
          1.0846105719920027,
          -0.982737393426647,
          0.35940822721559174,
          -0.11031948127136018,
          -0.08041546697610547,
          -2.5435669666360203,
          2.7103694155721856,
          0.6186573153420973,
          0.4803712502122721,
          -0.6505410383141735,
          2.0659629580584333,
          1.8119465752333204,
          0.09510673500482458,
          0.03530406625427386,
          -1.648836707154465,
          -0.6517549632708914,
          -0.6534750711391779,
          -1.2387345013283861,
          -0.018064012252608806,
          0.9442042659072256,
          0.3339621576803473,
          -0.0666770027992097,
          -0.5225059851070527,
          -1.7421287097397455,
          -1.6844182442729285,
          -0.7703820845556356,
          0.3301703746424916,
          -0.9696780492666817,
          -0.10891506642855212,
          -0.451778058759044,
          -0.19170379519168348,
          -0.763242671282478,
          -1.862241627250982,
          0.19845592310132232,
          0.5377727572559656,
          0.16131150377238204,
          1.979332086517767,
          -0.6385735702240198,
          0.24378268047697935,
          -0.9596098961876303,
          0.6126374898594507,
          1.1612775729445304,
          -1.9132600084003668,
          -0.3545974202582918,
          -0.47123298944240083,
          0.8190613609787394,
          1.7096646558951285,
          -0.0781028143634635,
          -1.811345085939612,
          2.3293898093556336,
          1.4707069297751776,
          0.9617219637551864,
          3.3362852364332674,
          1.9121449939042914,
          -1.0775979531036466,
          0.15390346984010234,
          1.6128238915502933,
          -0.38962510244872695,
          -1.6780321053185883,
          -0.2142097785377781,
          0.26743134797232154,
          -0.3428710722434966,
          -1.7345211713043596,
          -0.40815710964217133,
          -0.4990248791832928,
          -0.5285519720608002,
          1.806780389373458,
          -0.8602279041097968,
          0.2206090908814053,
          -0.33582404304979724
         ],
         "y": [
          -1.6701030323564918,
          0.3368290857704442,
          0.4085634112147711,
          -0.2609292027374199,
          1.03858526766539,
          -1.1834942836859748,
          0.329115112510825,
          -0.5062439315857767,
          -0.20258699151402954,
          -1.5165171746692285,
          0.6797520584930642,
          0.46829304879061284,
          2.1200868882484314,
          0.09783346801088524,
          1.0010410681439061,
          -1.2527328267374065,
          0.5754792234124635,
          -0.3889304908545396,
          -0.373242293460391,
          1.0037913240827707,
          -1.4026704979708402,
          -0.5646043317513443,
          0.3532007676964699,
          1.2276551334301977,
          -0.3175360368197647,
          0.41860523409267536,
          -1.8499485045881012,
          -0.5920222165195655,
          1.5497216444864297,
          -0.281370254788845,
          -0.7036704257574311,
          -0.33973740921140927,
          -1.3476936284037948,
          0.8035616999883674,
          -2.085385636751772,
          0.8599946278231366,
          0.6066664541090648,
          0.1429239286914942,
          -0.7818185576279524,
          -0.16342631454320167,
          -0.4839660374870785,
          0.6832631608974632,
          0.36461909340238174,
          -0.6048358849457867,
          -0.4877087422906153,
          0.7626006743590177,
          -0.801194850110795,
          -0.16391986424584382,
          -0.2760379768886679,
          -0.2818069058368221,
          0.3415670473408656,
          -0.9083408301431953,
          0.9417175775117806,
          -0.17014946757555932,
          -0.7689132288795508,
          -0.016602113918186258,
          -0.012166090442086145,
          0.04943436967091934,
          1.05954732768156,
          0.26919748530736987,
          -0.06289933675464783,
          1.1051302838258188,
          -1.1128818858171763,
          0.10265854156733796,
          -0.3059741692652197,
          -1.1851294314657834,
          -0.21532493535923913,
          1.505372756166192,
          -2.1090645180957406,
          -0.9006287160772863,
          0.3016813791381589,
          0.3264687018343165,
          1.2453894983688352,
          0.14407596240337592,
          1.0621366631787224,
          -0.7772308168662023,
          1.4000027059493336,
          0.21164261135950327,
          1.1156317236556874,
          -0.7363576081712462,
          1.2016978430115075,
          1.4000767040820903,
          -0.49535032860372397,
          -0.22343647718972454,
          -1.6564231099080602,
          -0.6916618538666285,
          -0.3610743852822338,
          1.2302810526366341,
          1.4370046180337912,
          0.4486464895794693,
          0.18226283025247542,
          0.7905816629685782,
          1.7479008559921185,
          -0.41200224945744646,
          -0.9731172217423998,
          -0.22570279201620733,
          1.0226899662754614,
          0.8181400034846601,
          2.461406949546242,
          -0.17909699650262223,
          -0.13388172817083574,
          0.24577268771813593,
          -0.3661375551049507,
          1.261994026617479,
          -1.6449632114329593,
          1.0710546900692706,
          -1.0123481223261825,
          -0.10732652255073866,
          -2.481948708083967,
          -0.6175939568803854,
          -1.4216861067564381,
          -1.0817272549385628,
          0.29529341999296077,
          0.5806010591765883,
          1.043927188805293,
          0.13091510871708897,
          0.5807905454452187,
          0.17686751685059443,
          0.17937352750242033,
          -0.7484445355821028,
          -0.9703806915122216,
          -0.4337360380997433,
          -0.6331593615676779,
          0.32544563336609694,
          0.5976844567357417,
          1.2319496976802649,
          -1.0371024714109998,
          -0.08572326586195973,
          1.0408120555187297,
          -2.0715650657766123,
          1.9478997427551057,
          -0.4376430561465631,
          -0.3054668886493835,
          -0.8666083620095719,
          -1.2311732952505794,
          0.3242170113752961,
          1.0993115121388526,
          -0.3666424325511977,
          -1.2997361461996093,
          0.9567241605795869,
          1.2942436078325161,
          1.0523803240199425,
          0.33765906959837866,
          0.6110027403076047,
          -0.12446924830309676,
          -1.122345003389952,
          0.366980416488248,
          0.428401270904547,
          1.2260051275070452,
          -0.31511592179833403,
          1.2362119311595485,
          -0.7793160112538006,
          1.443865357531846,
          0.24150415157501665,
          0.7315195945150514,
          -1.1005600303619723,
          0.620066518932852,
          0.8173386154549596,
          0.7342205613425437,
          -1.4092658209944984,
          0.1401879456309687,
          -0.4644950711453617,
          0.06213369963806236,
          1.6067967613834873,
          0.08792559850183225,
          0.780034836624588,
          -1.6091317357843369,
          0.33207491472610046,
          -1.2356834856378898,
          1.126499132170484,
          -2.203168506358293,
          1.6745046074333039,
          1.0654341639946807,
          -0.691356915947782,
          -2.1033945855906264,
          -0.2689377030358262,
          0.4691594152088457,
          -0.053651215144174355,
          -0.09330278497629953,
          1.2014658720635545,
          -1.6495888211229426,
          0.2136491156734022,
          0.13515417694070836,
          -0.285284666874493,
          -0.3437996604152277,
          0.3013216281526066,
          -0.8958565389521076,
          -1.1317212417888396,
          -0.51089818235969,
          0.703714506385458,
          -0.9076139406578618,
          1.8058161714293637,
          1.3187018622712359,
          0.4377296481095245,
          -1.715273562742603,
          -0.0052931144840435655,
          0.6364324405152546,
          0.20047941867911034,
          -0.5030102098982037,
          0.25596072714956486,
          -0.7877089569283989,
          -0.9131771616609577,
          0.6638886658954963,
          -1.1734727513100247,
          0.7700749322275173,
          0.331943665840448,
          0.09317870553037438,
          -0.06651034841258148,
          1.9973546033056169,
          0.7166827979823174,
          -0.6520634133675779,
          -0.018997944134986948,
          -0.6879692119553023,
          -0.6557233969305847,
          0.6388218955468054,
          -0.8792739998191414,
          -0.19631320498136295,
          -0.24792742208223328,
          -0.7769080253770755,
          -0.8513438906193173,
          1.5501705529157186,
          1.9766972607706663,
          -1.5075666953561584,
          -1.0889960536244143,
          0.30334792106499825,
          0.1976507414227278,
          -1.5960165419300454,
          1.4530058502071748,
          0.5811448167773754,
          -0.23714217164637305,
          -0.5808566819910415,
          1.4698676722063357,
          -1.3870458763053324,
          -0.35801457374341056,
          -0.03712936962944276,
          -0.15686257776748574,
          0.44051037721802866,
          1.165071797554002,
          0.4918545679862106,
          -0.6375657500528898,
          -0.7219467303780995,
          0.8102822911181504,
          0.4772028444327678,
          -0.10625869141004701,
          0.02814014746639756,
          -0.6927897035904265,
          1.4444713079576785,
          -0.05287299487656706,
          0.5425331981461196,
          1.4819389777952345,
          0.3430032331132436,
          -0.8228548199309192,
          -1.833661678896224,
          -0.13175284319513555,
          0.17223306062518137,
          -1.7792341661738407,
          -0.831492930084593,
          -0.22958923829115244,
          -0.3027079669983431,
          1.1973257701704776,
          1.5867149937627856,
          -0.1980636408862411,
          -0.1655401220659,
          0.262343394075536,
          2.0856015796421614,
          -0.436677889321195,
          -0.5986061049801219,
          -1.1709301174869535,
          1.126095862643624,
          1.4691201864037136,
          -1.6993696350147776,
          -0.17693950382919377,
          0.09865635049528876,
          0.7308892999276265,
          -0.9324391538892126,
          -0.24172642911521403,
          1.3256119287264128,
          -0.8284658669287895,
          -0.37955712671472064,
          -0.08178714302372614,
          0.9296316265377857,
          -1.3920989299736692,
          -0.46162404189687123,
          0.7824727213247228,
          -0.32973898961039233,
          -0.759019817381409,
          0.3848348575587726,
          -0.2334949041554579,
          2.0190975686885193,
          -0.8827125920953716,
          -0.11220223809375544,
          -0.3009371732710363,
          -2.6036320470250156,
          -0.05799590897514521,
          -0.2118966277231749,
          -0.9736080743864512,
          0.6910668852995177,
          0.20513885949877428,
          -0.08779437791354701,
          2.0249663219244214,
          1.126979785669987,
          0.6147816540263772,
          0.880493599271284,
          -0.15266537920596487,
          0.5844773632188305,
          0.10663754038415586,
          2.228886318892564,
          -1.111915540968317,
          -2.1394618295726753,
          -1.4462547383870614,
          -2.062527755498634,
          -0.1540075644920927,
          -0.0557775153901629,
          0.3315244183394539,
          -0.5466994546709073,
          0.11222181677067475,
          0.12840113561293998,
          0.3527024617235935,
          -0.7439206778391348,
          2.0847182790683907,
          -1.4093274150787454,
          -0.11851758128214875,
          1.2751017563094278,
          1.1307578912446146,
          1.0786893433020752,
          1.652173980430373,
          -0.9324805341424685,
          1.1490461577898277,
          0.36560109234061555,
          0.08596559668158127,
          -1.3019607354294407,
          0.5035676242078739,
          0.9225471773700861,
          -0.18482442599095805,
          1.1317349404316248,
          1.205843096120693,
          1.6351972218784974,
          0.5286812333729487,
          -1.3173574084725115,
          -0.5515286586778452,
          0.14808858980832126,
          0.8179361578608209,
          -0.19984436018718565,
          -1.3346378085687014,
          0.9830147726406567,
          0.4147142932420545,
          -0.9191251370155652,
          -0.9599794840384884,
          -0.3559370718310508,
          0.68258463094506,
          1.1281677361038966,
          -0.31268016769983004,
          -1.360155130809929,
          1.8731934525491754,
          -0.14413990329531212,
          0.45467341772297426,
          -0.2820799528559125,
          0.18371882639942685,
          -0.9135685428820755,
          -1.076928467219569,
          0.4578397407763209,
          0.987581642070146,
          0.5901120771667888,
          -1.1008188786530408,
          -0.6788952160389223,
          0.7617016526875895,
          0.46716616374881786,
          0.5675715363465424,
          0.8758474177527253,
          0.4607700758885596,
          -0.3159185700041984,
          0.5435221047243859,
          -0.3542561667306151,
          -0.09531971021348536,
          0.07769181193232512,
          -2.3094345323423644,
          0.879067405544819,
          0.5565786021417272,
          -0.21742873421490083,
          -0.6688523773104427,
          -1.2154936791126671,
          0.7058093705142977,
          0.8250200883340634,
          -0.5431597821255251,
          0.4762461388568398,
          0.17928680995527502,
          1.0830675095670743,
          0.5145106396875615,
          -0.9612318313695442,
          1.049685215324207,
          1.067428401150978,
          -0.04457220823500035,
          1.5247823606292,
          -0.05554049280582325,
          0.23438251979209754,
          -0.8337581104042019,
          -0.046992460430074996,
          -0.49826361932653623,
          -0.3866702615114681,
          -2.5325298059885206,
          -0.6350262433490518,
          -1.5890234899043332,
          1.2425525723245134,
          1.7105837680014693,
          0.143565298914263,
          1.179815359171094,
          0.5970643420252738,
          0.07305940063402092,
          0.12850952092513512,
          0.6652039014342533,
          -0.6053086909894121,
          -1.9296659165789054,
          1.7431815114632412,
          0.32014018797429483,
          -0.33548777938368385,
          -1.0954203361913453,
          0.9016911370943754,
          0.4404480950463742,
          -1.5208009856531552,
          -0.2696565377804391,
          0.8308634877990421,
          -1.6608539172484427,
          0.2318930143520407,
          0.7248883039110643,
          0.034024441900911084,
          -0.8282472646828266,
          0.45421459603846925,
          0.3550447225884157,
          -0.5254951335102663,
          -0.021880851918866802,
          -0.43503824708900846,
          0.686292274651367,
          -0.8722589136510408,
          0.451420185841558,
          0.8701617369697945,
          -0.8733362576889216,
          -0.15260944754587671,
          0.41561086987831664,
          0.40941363731494057,
          1.3120760361659283,
          -0.13018996422059667,
          0.844762058722851,
          0.8003876611225869,
          0.41017627540219004,
          -1.3640495737209877,
          0.7621656113308255,
          0.4977869478229671,
          -1.0027329388393502,
          0.2333540294820123,
          -1.816482977139983,
          0.06019024406939205,
          -0.47665888510027543,
          -0.5617347252593416,
          0.2937161799458143,
          -0.1955337622861237,
          0.4579704544061019,
          0.09696911585548629,
          -1.708137846308231,
          -0.7439766533627414,
          1.0626604286025414,
          -0.2974372840682379,
          -1.7310472981390963,
          -0.6000521797460986,
          1.2409552147292533,
          -1.3905961073447517,
          -0.3505843928022024,
          0.26028638851934754,
          -3.6016865196441663,
          -0.36903960321674156,
          -0.6368903661331526,
          -1.0846383132014203,
          0.2477677318021537,
          0.6218518180049265,
          -0.4564061131217417,
          -0.20200646661357033,
          -0.022576530769860603,
          0.018385412771091784,
          0.5143221706192341,
          1.3195235203563216,
          0.1828301828699795,
          -1.2209036180809032,
          -0.5811777778495912,
          1.4400462535544374,
          1.0183013243913765,
          0.9909705739400765,
          -1.9160069181121908,
          -0.6853672317556149,
          0.36494842831550345,
          -0.09653992385578818,
          -0.595272553684257,
          0.4811589526880218,
          -0.6139715625639833,
          0.2566268372602098,
          0.6241697526460896,
          -2.5150103418457372,
          -0.40229643949103094,
          -1.2721742557262297,
          -1.3461090544896361,
          -1.3887397539398716,
          0.6414381987498089,
          -0.7243310229599685,
          -0.5852989199930213,
          1.9219584518485289,
          1.2217515324495825,
          0.6553678464040981,
          -1.1828818396308431,
          1.1424426839219326,
          2.46067067284129,
          0.4228378226412304,
          0.6437821996451525,
          -0.016527584085193437,
          0.7318218299701852,
          0.19303090779922832,
          0.2977731360149916,
          -0.748769396185726,
          0.15846295144029368,
          0.47370087675412675,
          0.05879392305672877,
          -0.4784097484631836,
          -0.1366000202530582,
          -0.1676117805665879,
          1.15672537670987,
          1.3648650472890775,
          -2.71309296507236,
          -0.003749185098295499,
          0.006853204077714833,
          0.3099010058620675,
          -0.9104002541308712,
          -0.7791126458650223,
          -1.1506785078494162,
          1.5355821516924062,
          0.4016163072368429,
          2.1090130949747685,
          1.2129491493924978,
          -0.39106048900303997,
          -0.07182310263802995,
          -1.5967544034509276,
          1.9455872037637667,
          -0.03223715287537644,
          -1.7407473014419528,
          0.05561632766596572,
          -0.9721179437252802,
          -0.2582670747532983,
          -0.658122453111194,
          -1.8604861950719742,
          0.5934202436438083,
          1.1101962398229288,
          0.6817996242701775,
          2.3991190091458092,
          -0.16146589085611712,
          -1.5819321721442363,
          2.3951051738331555,
          -1.4334539340226686,
          -0.9553580414168317,
          -1.0145412800099454,
          0.6378415429256158,
          0.2650327726574263,
          1.3828086244614088,
          1.2348066264418511,
          -0.6658763874118007,
          -1.0192138852391217,
          -0.5821712854865422,
          -0.0108311318897529,
          0.00684036515994531,
          0.008704097115465749,
          1.2069559709720366,
          0.6360806874844958,
          0.36293364813791096,
          0.22673117377867325,
          1.7055137101883413,
          0.14121812026442965,
          -0.4365328079819276,
          -1.5472853435776743,
          -1.3059365110456205,
          1.652370382779471,
          0.4690202004437895,
          -0.06797380724554378,
          0.7745283318325474,
          -1.383692662897637,
          1.7244853235729078,
          0.6768778555662947,
          0.8183005059793806,
          -1.96376129305244,
          0.40051315718934194,
          -0.9902607409486676,
          -0.5519855028069449,
          0.0007422599356801717,
          1.175779650909369,
          -0.015386852114518639,
          -0.45787068021233657,
          -1.6634810616115003,
          -1.9302654365890701,
          -0.24897425909897844,
          -0.9241297336897211,
          0.8167137690176797,
          -0.4665524178407046,
          -1.3916118605225287,
          0.34934496341649324,
          -1.4770834332222462,
          -0.29059231394629687,
          0.35621827111686144,
          0.2001234259121954,
          0.5697589276450886,
          -0.23251225216903537,
          -0.5856940330764373,
          -0.7225138843842731,
          -1.4166999026084952,
          -0.3457521903489675,
          0.28222327848052275,
          2.167393916873146,
          0.46703296057941934,
          1.3344731885704122,
          -0.7491037345548635,
          1.5389314592168823,
          -1.6534100366563864,
          -0.03405394400273514,
          -0.43370836909563587,
          1.5770499732118406,
          -0.08577542429904166,
          1.1518407410243463,
          -0.44021076543942844,
          -0.2518763663823839,
          0.578831103432568,
          1.5351964700550949,
          1.6934300185764424,
          -0.0447524779282568,
          0.619047427703744,
          0.7525372763273198,
          -1.2940734469019728,
          -0.4028080854193348,
          1.0397957456279767,
          0.30117454106957814,
          -0.5179507917159456,
          0.5861674776550577,
          1.800266382584988,
          2.192415481455989,
          -3.0526500417110003,
          1.5269171732501605,
          -0.20681272331762504,
          -0.7406165542319857,
          -0.03434047657233865,
          -0.6182147643406302,
          0.05243642895922271,
          0.039200515389014506,
          -1.7525331694388628,
          -1.6422559022424623,
          0.8016238159678334,
          -0.8648818271268165,
          0.8386324684245983,
          1.0969551733468736,
          -1.000053720031543,
          0.2540213262291591,
          0.002425033995670827,
          -0.6242197078029335,
          -0.32565187089837133,
          -1.1782009832191471,
          1.2040904084869741,
          -1.7203126709305232,
          1.3950516049922506,
          -0.6016647774805042,
          -0.6031672162947387,
          -1.8004061872560877,
          1.7151913340428326,
          -0.7441639652827184,
          0.6689156455035695,
          -0.010580728271083818,
          0.9552971851082473,
          -0.8772937362689646,
          -0.32367671964135664,
          -0.09528486334742832,
          1.3578375943772196,
          0.6031482084242735,
          -0.4073005572548626,
          1.037679562467223,
          0.5159385648636747,
          0.7718565701684424,
          0.24106504411909513,
          0.08484183011938548,
          -0.020303583751576385,
          1.0321865641279397,
          0.5804514793987834,
          1.6950907745305095,
          -1.277386761871279,
          -0.02523517739470843,
          0.9315044448865142,
          0.011210881351909202,
          0.17143916722350658,
          -0.6357728728521718,
          -0.7648779298319651,
          -1.4000108520425496,
          -1.808936581845516,
          -0.03432558872682917,
          -0.4199716028543874,
          -0.21677686164028984,
          -0.7194432169792917,
          0.6078414154692022,
          -0.11723540679578781,
          0.24192516230461694,
          0.7768313304337124,
          -1.4766210833609061,
          0.5412771416270956,
          2.0767405480866574,
          1.764592579615399,
          -1.8977695846292462,
          -1.5481743497326714,
          -1.702984786684866,
          1.6850786380426024,
          0.7244343451278524,
          0.4916849019102923,
          0.8752211419403831,
          0.32004056820161697,
          0.2596159830064363,
          0.9765758741395776,
          -0.5881301035528489,
          -0.28148468174894714,
          0.7905954827403867,
          1.5022302544736872,
          0.6672640474394546,
          -0.6897957192384511,
          0.3205393960445668,
          -0.5484313474296688,
          -0.10495736208743116,
          -0.13939220318272658,
          -1.1615787381431355,
          -0.0937235530722808,
          0.20585387530206514,
          1.7442726102409094,
          -1.6522029779864906,
          0.4910015527679473,
          -2.3989865869495794,
          0.28015532084408445,
          -2.2758076170252193,
          1.0917984071083164,
          1.2082535621842632,
          0.2610389978954911,
          0.3636218191009498,
          -0.31525986513358606,
          -0.2185769788653285,
          0.5562548072763229,
          -0.6078685842543943,
          -0.023322073043847823,
          -0.1707241815813599,
          -0.5290379479024304,
          -0.13363053865058416,
          0.38649915754273984,
          0.13860111692715427,
          -0.06131839839424539,
          -1.1326441199854784,
          0.8925014237926034,
          0.7593826652039104,
          -0.05788258658682802,
          1.307978219750916,
          0.9859245500835071,
          -0.5024121186893723,
          -0.8890374746511749,
          0.5823985860021785,
          -0.6144063795957091,
          -0.6447309349124977,
          -0.32282549802741156,
          0.17680667952574064,
          0.14831706809644551,
          -0.9734896393197059,
          -1.0336258393137971,
          0.47252616159916777,
          0.2967491933561305,
          0.339409979768811,
          1.6989894707044748,
          -0.5809607611980743,
          0.47630083573855736,
          0.6186505679647982,
          0.29362859125284235,
          0.25586626157495956,
          0.7018579535963587,
          0.8042975142117245,
          -0.10573867855076535,
          0.8754536951862477,
          -0.6748299471286109,
          -1.0762783962234144,
          -0.7810522703081919,
          -1.21121279810834,
          0.3361771568258197,
          0.3050957105218247,
          -0.265625314395616,
          -0.09053540085028836,
          1.9989996607341767,
          -0.1297693073666284,
          1.7351263390934735,
          0.7665428928280887,
          0.20602156539502267,
          -1.1134172528617508,
          -1.2316491692133757,
          1.081065562674779,
          -0.8546206647492212,
          -1.0447857137450485,
          1.3234466697906726,
          -1.3615846886329872,
          -0.2153641059239748,
          2.0865364763274292,
          0.8755068585241228,
          -1.1730276510929056,
          0.6863405667344994,
          -0.06944217264228957,
          0.607678728879115,
          1.581467051102434,
          0.4802678985551041,
          1.0910109441957396,
          0.7815702177912554,
          0.5286226900312075,
          -0.1388461907627023,
          0.7727429640829373,
          0.067400136715937,
          -2.0337332328982107,
          0.3738972450771068,
          -0.4489941850274653,
          -0.951626387244612,
          -0.6593735679212883,
          -1.063214929350644,
          -0.24048898345551,
          0.4167226204992176,
          0.4502377516416486,
          -1.10002421352539,
          0.6911139101926268,
          1.9479512314953604,
          0.5883868984142758,
          -0.04139218926689246,
          -0.5526011831733222,
          -1.2280974521352765,
          1.1209198370566076,
          0.334032078582344,
          1.405393458838029,
          0.2896575126125951,
          0.8036132501840956,
          -0.5719348026404485,
          0.6829883931533135,
          0.19453359710347104,
          -1.6362910832293869,
          -1.4611618765307475,
          -1.864490122915156,
          0.5710973218314247,
          -0.4288408357405686,
          0.10278257719153631,
          0.3934081568920037,
          -1.4748490626980721,
          0.6833152513070846,
          0.371075348689164,
          -0.535972411390593,
          0.3784824149897522,
          -0.6703028833443955,
          2.2141720510679286,
          0.8388410725957383,
          0.9920822149574806,
          1.6460471481237233,
          -1.581290917451671,
          1.7063645682825774,
          -1.145403455827265,
          0.4774862625464906,
          -0.6546448875341554,
          -0.8600378909523345,
          -1.8478665865374393,
          -0.2169911922935749,
          0.9973863057577178,
          0.5070022391235369,
          -2.086880855955845,
          -0.11954381643899777,
          0.9216156812085572,
          -0.13587691963190693,
          0.5160342759486785,
          -0.6781076388453503,
          0.2164275294377423,
          -1.1055421348087415,
          0.40351980072762034,
          2.918423170229868,
          0.5365613619767142,
          0.35063390545291245,
          -0.9073608618350868,
          -0.18916879173013898,
          -0.4646045024374096,
          -1.2703398549241065,
          0.8659454893220235,
          0.8429353993358796,
          0.4266331925488124,
          -0.21221960649690724,
          -0.8000388050793981,
          -0.7489760740949055,
          1.5620796518710536,
          -0.3364618588063353,
          1.6759298437494143,
          1.6808554175184591,
          -0.21321078205117064,
          -0.8129160519590729,
          0.6085996955807313,
          0.025837927421624822,
          -0.3409580182292332,
          0.16205828632178632,
          0.1536791178059343,
          3.763960422018893,
          0.40558630102195914,
          1.142902437228093,
          0.29776126064851116,
          -0.1398051976233221,
          0.644332585464977,
          0.1672411989499797,
          1.421540231083173,
          -1.8139083229096429,
          1.6594780558985747,
          0.6440179598324708,
          -1.1220219845436241,
          0.6651117200952466,
          -0.05637329519811541,
          1.467391975602535,
          -0.6219554508598617,
          2.296356208064693,
          -0.18040105887484986,
          0.8894677491611954,
          -0.5221100536579137,
          -0.3048707391129538,
          -1.878784202025484,
          0.8348508196178187,
          0.6049347001977734,
          0.5178307584506469,
          -0.9779068892249881,
          -0.5406525724218014,
          -3.0336390549310774,
          0.3629674185656675,
          -1.5505127381915542,
          -0.3386474454430413,
          0.08589759356261482,
          -1.4334807208708642,
          -1.088877962698406,
          -1.4009773305390785,
          0.586490131698208,
          -0.7827869020387237,
          -0.043495293521085394,
          -1.3588278180818978,
          0.2202003282910385,
          -1.0027807143146181,
          -0.26863703497883124,
          0.03155208022196887,
          1.3629791110422287,
          0.465113549874979,
          1.6040302749988629,
          -0.09294479832217462,
          0.04678676825203577,
          -1.096801438399018,
          0.25049051500408576,
          0.12265040175255931,
          -0.41312696755215017,
          -0.45192602199945187,
          0.14501394082874874,
          -0.12287848320114894,
          2.394420247855446,
          0.16959149853646913,
          -0.7285909793546806,
          -1.6264236211512961,
          -0.014558229571824876,
          -0.20088010003735082,
          -0.4461651844690883,
          2.108640429006534,
          -1.005748366677895,
          -0.6762837285589723,
          -0.2918202257175614,
          -0.8324538834050522,
          1.061241491077624,
          1.2885917056957676,
          0.07787518291570857,
          -0.9275206112422509,
          1.862377726071916,
          -1.4250485597644214,
          -0.27490473874467597,
          -1.4798507381848436,
          0.2314890985569204,
          -0.16133793447231354,
          -0.8248883470639617,
          0.54985680545976,
          1.4579242169736244,
          -0.2664374192764085,
          1.2351844492333346,
          1.5437546323950417,
          3.0313999610393836,
          2.5668327275322045,
          -2.597744764928392,
          -0.4620751695465803,
          -1.0548504697712877,
          -0.279922808329116,
          0.23048574717837744,
          -1.8197225666143066,
          1.6303744185459834,
          1.253672368300516,
          1.7013006320797535,
          2.8466800799466,
          -0.06116688100811116,
          -0.8186243447981953,
          0.5548938895328139,
          1.3411099479900868,
          0.36704219094422297,
          0.6674151910694174,
          1.0448051892637824,
          -1.1176159469290556,
          -0.04286485342052699,
          -0.23606806627004315
         ]
        }
       ],
       "layout": {
        "template": {
         "data": {
          "bar": [
           {
            "error_x": {
             "color": "#2a3f5f"
            },
            "error_y": {
             "color": "#2a3f5f"
            },
            "marker": {
             "line": {
              "color": "#E5ECF6",
              "width": 0.5
             },
             "pattern": {
              "fillmode": "overlay",
              "size": 10,
              "solidity": 0.2
             }
            },
            "type": "bar"
           }
          ],
          "barpolar": [
           {
            "marker": {
             "line": {
              "color": "#E5ECF6",
              "width": 0.5
             },
             "pattern": {
              "fillmode": "overlay",
              "size": 10,
              "solidity": 0.2
             }
            },
            "type": "barpolar"
           }
          ],
          "carpet": [
           {
            "aaxis": {
             "endlinecolor": "#2a3f5f",
             "gridcolor": "white",
             "linecolor": "white",
             "minorgridcolor": "white",
             "startlinecolor": "#2a3f5f"
            },
            "baxis": {
             "endlinecolor": "#2a3f5f",
             "gridcolor": "white",
             "linecolor": "white",
             "minorgridcolor": "white",
             "startlinecolor": "#2a3f5f"
            },
            "type": "carpet"
           }
          ],
          "choropleth": [
           {
            "colorbar": {
             "outlinewidth": 0,
             "ticks": ""
            },
            "type": "choropleth"
           }
          ],
          "contour": [
           {
            "colorbar": {
             "outlinewidth": 0,
             "ticks": ""
            },
            "colorscale": [
             [
              0,
              "#0d0887"
             ],
             [
              0.1111111111111111,
              "#46039f"
             ],
             [
              0.2222222222222222,
              "#7201a8"
             ],
             [
              0.3333333333333333,
              "#9c179e"
             ],
             [
              0.4444444444444444,
              "#bd3786"
             ],
             [
              0.5555555555555556,
              "#d8576b"
             ],
             [
              0.6666666666666666,
              "#ed7953"
             ],
             [
              0.7777777777777778,
              "#fb9f3a"
             ],
             [
              0.8888888888888888,
              "#fdca26"
             ],
             [
              1,
              "#f0f921"
             ]
            ],
            "type": "contour"
           }
          ],
          "contourcarpet": [
           {
            "colorbar": {
             "outlinewidth": 0,
             "ticks": ""
            },
            "type": "contourcarpet"
           }
          ],
          "heatmap": [
           {
            "colorbar": {
             "outlinewidth": 0,
             "ticks": ""
            },
            "colorscale": [
             [
              0,
              "#0d0887"
             ],
             [
              0.1111111111111111,
              "#46039f"
             ],
             [
              0.2222222222222222,
              "#7201a8"
             ],
             [
              0.3333333333333333,
              "#9c179e"
             ],
             [
              0.4444444444444444,
              "#bd3786"
             ],
             [
              0.5555555555555556,
              "#d8576b"
             ],
             [
              0.6666666666666666,
              "#ed7953"
             ],
             [
              0.7777777777777778,
              "#fb9f3a"
             ],
             [
              0.8888888888888888,
              "#fdca26"
             ],
             [
              1,
              "#f0f921"
             ]
            ],
            "type": "heatmap"
           }
          ],
          "heatmapgl": [
           {
            "colorbar": {
             "outlinewidth": 0,
             "ticks": ""
            },
            "colorscale": [
             [
              0,
              "#0d0887"
             ],
             [
              0.1111111111111111,
              "#46039f"
             ],
             [
              0.2222222222222222,
              "#7201a8"
             ],
             [
              0.3333333333333333,
              "#9c179e"
             ],
             [
              0.4444444444444444,
              "#bd3786"
             ],
             [
              0.5555555555555556,
              "#d8576b"
             ],
             [
              0.6666666666666666,
              "#ed7953"
             ],
             [
              0.7777777777777778,
              "#fb9f3a"
             ],
             [
              0.8888888888888888,
              "#fdca26"
             ],
             [
              1,
              "#f0f921"
             ]
            ],
            "type": "heatmapgl"
           }
          ],
          "histogram": [
           {
            "marker": {
             "pattern": {
              "fillmode": "overlay",
              "size": 10,
              "solidity": 0.2
             }
            },
            "type": "histogram"
           }
          ],
          "histogram2d": [
           {
            "colorbar": {
             "outlinewidth": 0,
             "ticks": ""
            },
            "colorscale": [
             [
              0,
              "#0d0887"
             ],
             [
              0.1111111111111111,
              "#46039f"
             ],
             [
              0.2222222222222222,
              "#7201a8"
             ],
             [
              0.3333333333333333,
              "#9c179e"
             ],
             [
              0.4444444444444444,
              "#bd3786"
             ],
             [
              0.5555555555555556,
              "#d8576b"
             ],
             [
              0.6666666666666666,
              "#ed7953"
             ],
             [
              0.7777777777777778,
              "#fb9f3a"
             ],
             [
              0.8888888888888888,
              "#fdca26"
             ],
             [
              1,
              "#f0f921"
             ]
            ],
            "type": "histogram2d"
           }
          ],
          "histogram2dcontour": [
           {
            "colorbar": {
             "outlinewidth": 0,
             "ticks": ""
            },
            "colorscale": [
             [
              0,
              "#0d0887"
             ],
             [
              0.1111111111111111,
              "#46039f"
             ],
             [
              0.2222222222222222,
              "#7201a8"
             ],
             [
              0.3333333333333333,
              "#9c179e"
             ],
             [
              0.4444444444444444,
              "#bd3786"
             ],
             [
              0.5555555555555556,
              "#d8576b"
             ],
             [
              0.6666666666666666,
              "#ed7953"
             ],
             [
              0.7777777777777778,
              "#fb9f3a"
             ],
             [
              0.8888888888888888,
              "#fdca26"
             ],
             [
              1,
              "#f0f921"
             ]
            ],
            "type": "histogram2dcontour"
           }
          ],
          "mesh3d": [
           {
            "colorbar": {
             "outlinewidth": 0,
             "ticks": ""
            },
            "type": "mesh3d"
           }
          ],
          "parcoords": [
           {
            "line": {
             "colorbar": {
              "outlinewidth": 0,
              "ticks": ""
             }
            },
            "type": "parcoords"
           }
          ],
          "pie": [
           {
            "automargin": true,
            "type": "pie"
           }
          ],
          "scatter": [
           {
            "fillpattern": {
             "fillmode": "overlay",
             "size": 10,
             "solidity": 0.2
            },
            "type": "scatter"
           }
          ],
          "scatter3d": [
           {
            "line": {
             "colorbar": {
              "outlinewidth": 0,
              "ticks": ""
             }
            },
            "marker": {
             "colorbar": {
              "outlinewidth": 0,
              "ticks": ""
             }
            },
            "type": "scatter3d"
           }
          ],
          "scattercarpet": [
           {
            "marker": {
             "colorbar": {
              "outlinewidth": 0,
              "ticks": ""
             }
            },
            "type": "scattercarpet"
           }
          ],
          "scattergeo": [
           {
            "marker": {
             "colorbar": {
              "outlinewidth": 0,
              "ticks": ""
             }
            },
            "type": "scattergeo"
           }
          ],
          "scattergl": [
           {
            "marker": {
             "colorbar": {
              "outlinewidth": 0,
              "ticks": ""
             }
            },
            "type": "scattergl"
           }
          ],
          "scattermapbox": [
           {
            "marker": {
             "colorbar": {
              "outlinewidth": 0,
              "ticks": ""
             }
            },
            "type": "scattermapbox"
           }
          ],
          "scatterpolar": [
           {
            "marker": {
             "colorbar": {
              "outlinewidth": 0,
              "ticks": ""
             }
            },
            "type": "scatterpolar"
           }
          ],
          "scatterpolargl": [
           {
            "marker": {
             "colorbar": {
              "outlinewidth": 0,
              "ticks": ""
             }
            },
            "type": "scatterpolargl"
           }
          ],
          "scatterternary": [
           {
            "marker": {
             "colorbar": {
              "outlinewidth": 0,
              "ticks": ""
             }
            },
            "type": "scatterternary"
           }
          ],
          "surface": [
           {
            "colorbar": {
             "outlinewidth": 0,
             "ticks": ""
            },
            "colorscale": [
             [
              0,
              "#0d0887"
             ],
             [
              0.1111111111111111,
              "#46039f"
             ],
             [
              0.2222222222222222,
              "#7201a8"
             ],
             [
              0.3333333333333333,
              "#9c179e"
             ],
             [
              0.4444444444444444,
              "#bd3786"
             ],
             [
              0.5555555555555556,
              "#d8576b"
             ],
             [
              0.6666666666666666,
              "#ed7953"
             ],
             [
              0.7777777777777778,
              "#fb9f3a"
             ],
             [
              0.8888888888888888,
              "#fdca26"
             ],
             [
              1,
              "#f0f921"
             ]
            ],
            "type": "surface"
           }
          ],
          "table": [
           {
            "cells": {
             "fill": {
              "color": "#EBF0F8"
             },
             "line": {
              "color": "white"
             }
            },
            "header": {
             "fill": {
              "color": "#C8D4E3"
             },
             "line": {
              "color": "white"
             }
            },
            "type": "table"
           }
          ]
         },
         "layout": {
          "annotationdefaults": {
           "arrowcolor": "#2a3f5f",
           "arrowhead": 0,
           "arrowwidth": 1
          },
          "autotypenumbers": "strict",
          "coloraxis": {
           "colorbar": {
            "outlinewidth": 0,
            "ticks": ""
           }
          },
          "colorscale": {
           "diverging": [
            [
             0,
             "#8e0152"
            ],
            [
             0.1,
             "#c51b7d"
            ],
            [
             0.2,
             "#de77ae"
            ],
            [
             0.3,
             "#f1b6da"
            ],
            [
             0.4,
             "#fde0ef"
            ],
            [
             0.5,
             "#f7f7f7"
            ],
            [
             0.6,
             "#e6f5d0"
            ],
            [
             0.7,
             "#b8e186"
            ],
            [
             0.8,
             "#7fbc41"
            ],
            [
             0.9,
             "#4d9221"
            ],
            [
             1,
             "#276419"
            ]
           ],
           "sequential": [
            [
             0,
             "#0d0887"
            ],
            [
             0.1111111111111111,
             "#46039f"
            ],
            [
             0.2222222222222222,
             "#7201a8"
            ],
            [
             0.3333333333333333,
             "#9c179e"
            ],
            [
             0.4444444444444444,
             "#bd3786"
            ],
            [
             0.5555555555555556,
             "#d8576b"
            ],
            [
             0.6666666666666666,
             "#ed7953"
            ],
            [
             0.7777777777777778,
             "#fb9f3a"
            ],
            [
             0.8888888888888888,
             "#fdca26"
            ],
            [
             1,
             "#f0f921"
            ]
           ],
           "sequentialminus": [
            [
             0,
             "#0d0887"
            ],
            [
             0.1111111111111111,
             "#46039f"
            ],
            [
             0.2222222222222222,
             "#7201a8"
            ],
            [
             0.3333333333333333,
             "#9c179e"
            ],
            [
             0.4444444444444444,
             "#bd3786"
            ],
            [
             0.5555555555555556,
             "#d8576b"
            ],
            [
             0.6666666666666666,
             "#ed7953"
            ],
            [
             0.7777777777777778,
             "#fb9f3a"
            ],
            [
             0.8888888888888888,
             "#fdca26"
            ],
            [
             1,
             "#f0f921"
            ]
           ]
          },
          "colorway": [
           "#636efa",
           "#EF553B",
           "#00cc96",
           "#ab63fa",
           "#FFA15A",
           "#19d3f3",
           "#FF6692",
           "#B6E880",
           "#FF97FF",
           "#FECB52"
          ],
          "font": {
           "color": "#2a3f5f"
          },
          "geo": {
           "bgcolor": "white",
           "lakecolor": "white",
           "landcolor": "#E5ECF6",
           "showlakes": true,
           "showland": true,
           "subunitcolor": "white"
          },
          "hoverlabel": {
           "align": "left"
          },
          "hovermode": "closest",
          "mapbox": {
           "style": "light"
          },
          "paper_bgcolor": "white",
          "plot_bgcolor": "#E5ECF6",
          "polar": {
           "angularaxis": {
            "gridcolor": "white",
            "linecolor": "white",
            "ticks": ""
           },
           "bgcolor": "#E5ECF6",
           "radialaxis": {
            "gridcolor": "white",
            "linecolor": "white",
            "ticks": ""
           }
          },
          "scene": {
           "xaxis": {
            "backgroundcolor": "#E5ECF6",
            "gridcolor": "white",
            "gridwidth": 2,
            "linecolor": "white",
            "showbackground": true,
            "ticks": "",
            "zerolinecolor": "white"
           },
           "yaxis": {
            "backgroundcolor": "#E5ECF6",
            "gridcolor": "white",
            "gridwidth": 2,
            "linecolor": "white",
            "showbackground": true,
            "ticks": "",
            "zerolinecolor": "white"
           },
           "zaxis": {
            "backgroundcolor": "#E5ECF6",
            "gridcolor": "white",
            "gridwidth": 2,
            "linecolor": "white",
            "showbackground": true,
            "ticks": "",
            "zerolinecolor": "white"
           }
          },
          "shapedefaults": {
           "line": {
            "color": "#2a3f5f"
           }
          },
          "ternary": {
           "aaxis": {
            "gridcolor": "white",
            "linecolor": "white",
            "ticks": ""
           },
           "baxis": {
            "gridcolor": "white",
            "linecolor": "white",
            "ticks": ""
           },
           "bgcolor": "#E5ECF6",
           "caxis": {
            "gridcolor": "white",
            "linecolor": "white",
            "ticks": ""
           }
          },
          "title": {
           "x": 0.05
          },
          "xaxis": {
           "automargin": true,
           "gridcolor": "white",
           "linecolor": "white",
           "ticks": "",
           "title": {
            "standoff": 15
           },
           "zerolinecolor": "white",
           "zerolinewidth": 2
          },
          "yaxis": {
           "automargin": true,
           "gridcolor": "white",
           "linecolor": "white",
           "ticks": "",
           "title": {
            "standoff": 15
           },
           "zerolinecolor": "white",
           "zerolinewidth": 2
          }
         }
        }
       }
      },
      "text/html": [
       "<div>                            <div id=\"1d3bb653-878a-4eaa-a16f-09dad7f26986\" class=\"plotly-graph-div\" style=\"height:525px; width:100%;\"></div>            <script type=\"text/javascript\">                require([\"plotly\"], function(Plotly) {                    window.PLOTLYENV=window.PLOTLYENV || {};                                    if (document.getElementById(\"1d3bb653-878a-4eaa-a16f-09dad7f26986\")) {                    Plotly.newPlot(                        \"1d3bb653-878a-4eaa-a16f-09dad7f26986\",                        [{\"mode\":\"markers\",\"x\":[1.8038110332464579,-1.2159645463106699,0.61646669446136,0.46947970471202805,-0.13132810025152225,0.39248053265408445,0.7663658961499435,0.6670843070157144,-1.53757739995059,-0.7656560144317739,-1.5576113693390075,-0.2923026841065694,1.385791854979133,-0.36499835629693483,0.06518773982716093,0.4234975693587862,-0.36542074490858184,1.421734797276448,1.5863585832462626,0.1863430457509954,-0.5922371294783826,-0.26435696307797074,0.5151527071988593,-0.37725074070753556,1.9241716076615647,-1.1535508750358232,-0.061378049255313934,-0.1870432123281826,-0.28853595917497893,2.085511868663845,-0.6286783903564753,-0.33084637994427357,-1.0160498133108709,1.2005575699372575,-0.9161671146761388,-1.528018421490684,-1.3411750610536424,-0.5988239872167023,-1.402515033695807,0.678227652783308,0.33224360032869854,0.7721222188936192,-0.4047448130359756,0.3110184212648167,-0.22151730019665872,0.8340843914032579,-0.3445314848446144,1.3089863673800495,-1.1991324076476335,1.2243838180279274,-0.6789804276083629,-0.8997648186388874,0.3352449615365155,-1.806639265993216,0.35536874292143744,0.9285944898892937,0.29608052542595875,-1.1627180751809787,-0.464900151463001,0.7179574424513638,-0.4212830196136184,0.02520678591024487,2.144746106099191,-1.2416691099139143,-0.0353484849634395,-0.8554382885296882,-2.129947440819553,0.05672010373018752,-1.504781721688495,1.2344638612544876,-1.11508700565408,-0.637849935751653,0.1678588443318359,0.29319188206168184,-0.6322054375634218,3.1010580532133596,0.17405638813216212,-1.7307217959184409,-0.4457088409429121,-0.1463571435256216,-0.8917195494672017,-0.20474541728821297,0.096564950631411,-0.29687547710628426,-0.5029144229655543,-1.1103501800248685,-0.3414090174757932,0.004975414419313506,1.4765163226736155,0.2945978716343619,-0.5196667640003634,1.7286910066053318,0.6315910977148117,-0.42435359001989653,-0.17886793347530872,-2.0800835289122905,-0.12425672380780776,0.10825243457894271,-0.8132543542163289,0.9171898302552031,-1.9076671995506012,0.2155620368406879,1.3790094808219664,0.6603255118218232,-0.07387434034056792,0.9027618297820214,0.8018425857883681,2.29292062687782,0.5576087416045115,1.1937851528828516,-1.0082453469787198,2.03877159600812,-0.8083051128481196,-0.259308974533192,0.5247855294720238,-2.194104581009123,0.6784630039847316,-0.7977173884729477,0.09957822866058805,1.14913815035773,0.2779508914731396,0.8838720928275785,-1.1831766117874274,1.711535209951359,0.5338895047894411,-1.1098996177819895,-0.8444344083337517,-0.5852363896475452,0.8077613111217006,1.1323607960995516,-0.18193078375387706,-0.31087752234719346,1.7837188921590297,1.0540651298703492,-0.2641895511253726,0.6473361805514268,-0.18475277253498018,1.0495046531516299,-0.04397435382035432,-1.3540351604632743,-0.40027865149642106,-1.3175979788492727,0.5871548860714328,-1.1824875356645466,1.8872055862979966,1.6571684576725672,1.1796150076754612,0.7746103239430342,0.626455953643725,0.7169221853622685,2.0791507726404412,0.13934351702708192,-0.19591287207794925,-1.1391122195908934,-1.305491309584662,-1.7439008125559121,-0.8832773804329644,2.6696404087289882,0.7131192177329075,0.6736016368502475,-0.1529931666296441,1.5754321492398469,-0.3001219772587493,1.7672513544479016,-0.22480596649691886,0.0924891638613973,0.7735655152812054,0.28967017994430455,0.8503580262648583,-0.07920209205698008,-0.18155289630764423,0.23764073439796915,-1.5847341715310714,-0.6365146530503348,-0.9746847499619394,0.3296772805895462,0.5680080004183194,-0.0960174692278767,0.436904305149,-0.7420577376817664,0.8108949049019007,0.28754826240376546,-1.4522144021020817,-0.49152668209732053,-0.6138507808374514,-0.11652725389590514,0.25905671724433066,0.4863383597319307,-0.30157297642226377,2.3715183634354733,-0.2504144103305986,0.5403238526258699,-0.06724988353452918,-0.339185548313765,-1.0896213803106418,0.9870649451373271,-0.334813612770166,2.9014232826087993,-0.370141888614836,-0.6820469568610849,-1.9330876223602127,0.3201224707263958,0.2708856647642454,0.9982524858089104,0.4385218131857354,-0.5098032052165786,-1.3696117676839286,-1.6575988102437258,0.2969684995188897,0.24393290385131353,-0.6766981976765084,-0.67063362803667,0.04304090207849122,1.3128005750753309,-0.4476017793370105,-0.19722328288249077,-0.06302723930118403,0.4447863156695342,-0.1541409683717271,0.7528174294122725,-0.9622663056272325,0.04415459180018939,-0.85792528679194,0.8330104948286806,1.3368030747034947,0.21490483677275551,-0.22126209289304405,-0.9550300440970408,1.1731409136806852,0.8922215472905357,0.6604709857755167,-0.5606574405738267,-0.1046520857178878,0.19781172472618894,-1.4277061033717235,1.7095620753960252,1.4039607982136937,-1.3610037136545596,-0.2584688417410708,1.3425576911355737,-0.7569668253017305,-0.6914848310894579,0.37421074396809195,1.0944894400599683,-0.3453158148757404,-1.352626224885997,-1.7621308022252993,-0.23515630558237427,0.2695115214596798,-1.3452919228154554,0.07302916117448194,0.49734151892230966,-1.1834719483957368,-0.049645827336733804,1.958067410139867,-1.2328915166423338,0.9996252042617626,1.6401411582124417,0.7697361635000358,1.720130090858687,1.3968451719537895,0.43631082655850206,0.9625497204953581,0.5914820794756895,-0.24653482749807404,0.574932916755553,0.6449004488195493,0.18935349466700463,0.47342235952774236,0.2865595287549985,0.5275942920907797,0.002033945981911053,0.303315348373378,1.0065479583605819,0.6647459052215513,0.25085525585608737,-0.20814348572653302,-0.37316281693171566,-0.04600007234329245,-1.341627429386527,-1.0404799758505001,-1.827087301093114,-0.938594569277727,0.3143747136131472,-0.0464922973709261,-0.3740716775234871,0.15733574352191504,0.6979594618540248,-0.04554040133820601,0.22983285192675593,-0.5749064771612237,-0.26948528478846595,-1.4166659908205683,0.8492603537532931,-0.458724966739307,-0.7540304749379594,-1.3063856099562716,1.4973556164589121,-0.3531496338977585,-0.9255152066723558,-1.2702696399679294,-0.5267554495176616,-3.2698629049060277,-0.7876423162112924,0.8243885618147658,-0.06311070472867548,0.5144801317090235,1.5622947468662463,0.8189720749057539,-0.21473379428213932,2.6776441465543575,1.2501197902666312,0.932668014217984,-0.746099861732922,0.4191691465821831,1.577081369224705,1.592905242160158,0.1657571581033277,-2.0854942428130996,0.41289270841551234,1.2497983064275995,-0.0495153875714958,0.5926890585684202,0.389723915697268,0.10083415376696445,-0.9420783695794447,-0.6570128759768862,1.2671098444542508,-0.09415509047317767,-1.5815314481315117,0.9027253914943978,-0.9425122688443417,0.320956184801264,-0.1823613868879326,-0.1360285443089824,0.17271565430532,-2.0872863891987783,1.6612062202048765,0.43460855639053714,-0.0391106535941379,0.5668348777091082,-0.27256518630083226,0.41747285512586985,-0.16064906947316065,1.2414704871805564,-0.5759893491931457,-0.6226601842968129,0.6444326318129283,-1.0737665842881123,1.3905041680264283,-0.22925065576557427,-1.1072170471505116,-0.6051781205044149,1.050066326614572,-1.266813823658837,-0.5126568176450288,-0.1941811318008835,-0.2566909566251095,0.2696623420767872,-0.8305665282895858,1.6092331552632744,-0.2565520346250608,-1.4649701602150436,0.6424603213251278,-2.036724235665477,0.5464266871113512,1.0259925119948579,1.2051050574309585,2.5294922163765112,1.4819221947361803,1.0342740337903258,-0.4564351273619303,1.0598678279648501,-1.43123191986083,-0.2599815186836503,-0.4089418840578622,-1.501918472325022,1.4256321747548562,-1.1883036963147084,1.9646387750937166,-1.1549698184106136,1.0086629023964513,0.10975249321783553,0.05214608583298922,0.7679730943779037,-1.3747057694877765,-0.7959356881608931,-1.9375580275676383,1.4104209791457283,0.9634538228217238,-0.8935993326095897,-0.5302958834147379,-1.7807746802926259,-0.7254005071986755,-0.24128980830840766,-0.35439819720198334,-0.697133632997211,-0.9516732083510963,0.4079323741151317,0.7945221304948137,0.49346404460725307,0.15359601997840483,-0.9243074078530641,-0.09536826567947437,0.7443375933206934,-0.4986697445749818,0.362420075423592,-0.07496688379405604,-1.5001828155486971,-1.5495185903805668,-0.8913963955903582,2.70909809539362,0.244438399190857,1.1460748462759596,0.7502641302453408,-1.8517199269601539,-0.44898371392884123,1.2935052559174567,1.7810557934597568,0.1906020757273146,-0.35376216963959306,0.6748404710338141,-0.3536929519113159,-1.0475311332212105,-0.42992074688379484,-1.3303171161634826,0.2855237405201791,0.36669538917888556,-0.7388971938649069,0.8082803632694371,-0.28763681811876307,1.301221079157111,1.772413407953747,0.5114573185235584,0.3331292080687137,1.0901256447128602,0.14193624568437832,0.7566097766708482,1.0141487365592996,-1.3624978957421208,-0.3172589209003571,-0.09019034766800592,-1.2630897996679853,0.39875243437798014,0.4942142259802067,1.6977658320615232,0.7759489608835511,0.9824564559282326,0.08827644692067609,1.0442657210734672,-0.2681510693162444,-0.4197399372418833,-0.7804640190965302,2.0100819817235713,-0.26825924689795666,0.13968424688885028,0.3632621773757227,2.0656300204145226,-1.892914845225501,-0.919970314773928,0.17087684197134564,1.484531111836126,-0.7734301371331581,0.6025347172195746,1.8524728961325394,1.030846718439417,1.0339485380700315,-0.5153458936581196,0.16088938195070487,-0.4284581366285191,0.18105377241885426,0.06543961863789273,-0.13666998019807147,-1.3665660672618427,-0.48276068842961817,-0.5071795219287388,0.9884242522356593,0.17172097859493513,-1.40667065943111,-0.6717984915712159,-0.07175543641808019,0.3382912392977216,-0.4337793826241685,1.4274656139028397,0.19198471006486575,0.05435244511413298,-0.4467121517252459,0.0021511202170033314,1.2117510388791397,-0.0817267071979983,-0.0746033624975788,-1.0625118443611443,-0.1558045272045579,0.08214281942856257,1.4655265668117199,-0.9103153435357323,1.2065611851036424,-0.15357390184878544,0.819938875835398,1.142584658098864,-0.7576865949545589,0.5558416103357291,-1.0243428999290627,0.3214530265252541,1.566877650388921,-0.18959848445616814,-0.9452248878603252,0.7712290112585378,-1.5792182358834466,0.3355101339213324,0.6156158573110085,-1.2028585265298768,1.1866836233829738,0.07681607530009923,1.034339682577327,1.52350479082871,0.7442654689432256,1.0947726567148706,-1.4586081125654637,-0.1561572082974932,0.9836310942788112,-1.8760459190439018,-0.566443033893234,-0.4391394221772059,-0.455502083142792,-1.1021275501903078,-1.8890278335041502,-0.27141761771385625,0.17261593872667913,-0.013642235902381216,-0.1947356303742269,0.30555815020660665,-0.9015439156925111,0.08108149461303239,0.8023296372841788,-1.1392449258630826,-0.11479082573633817,-0.7516639715103214,-0.13271243850192893,-1.0867893664912043,-0.8515156863546699,-0.9898078547956456,0.08672657218242191,1.7091517042747195,1.096450842937189,0.8583249260245608,0.01887094540080466,-0.38412089338047467,0.747914938657177,0.38582668519409485,-2.9946503360351784,-0.16658527800117923,-0.5947845434430501,-0.3190334690808561,-2.52819152707205,-0.5356360153643853,1.2609755486657936,-0.4673374808704295,0.5504607570694491,0.6767700018367435,0.7010728372760053,1.0685213595723733,0.18033952650025906,-0.2889864864457202,-0.8073102223992118,0.9485097596964541,-2.0175131146204963,-1.0255959459074488,0.23737164491671717,0.133119065584641,-0.07274460142507556,-0.08541531365905612,-1.8369415225869916,-0.4186599620919002,-0.676364249596102,-1.2128098686977198,0.2090955737204097,0.702397327438008,-0.19687003094410938,-0.6058107858233892,-0.009028687998488364,-0.8988062113875755,0.21171729535768838,0.9021677584530975,-0.27586927217700125,-2.330898059658112,1.2180322918328443,2.648845780395057,-1.4021317849260908,0.508441273651004,-0.03626972832537063,1.064957244065199,-0.11245693745275852,-0.2022751759857822,-1.8264943588169729,2.2330036687694226,-1.3417164622428908,0.4112677797074695,-0.9096284884718355,0.33749310869876004,-0.23136948465278892,-0.6467176371727649,-0.6757146350957892,0.5855969198782883,-1.3058754376937827,0.8981387222015292,0.006228063556694059,0.6586154652907165,1.5628787398334072,-2.2096286445322306,-1.2051242768669017,1.3655743086992234,-0.6085644485505524,-0.002328949280058126,-0.622430386151281,0.8189620590502886,-0.14550417950285213,1.4433154265103882,-0.5611329102360082,-0.5918815134264546,1.4673131816353375,0.2674143586444083,-0.07421682342638336,-0.5709163484940086,-0.2682112147430046,-1.446883400837213,-1.2423608352073756,0.025119722995561426,-1.7928275019075774,1.2964284953807033,-1.5625691524502607,-0.5502652948728202,1.6435255399378201,-0.24449582077041124,-0.46544191111173205,-0.2785459729522842,1.7407342266829535,-0.14106868045387508,0.3404584260031387,-0.19351738629320306,0.14553315293597902,-1.1769334904930064,0.058798247862772775,-0.9474192083547426,-0.3815411302290329,-0.06556928046019429,-0.8896077755817975,1.3339669074795004,0.43905723959840837,-1.385959287390943,0.7068158497389178,0.5321516608266286,0.9414028302917585,0.8825553686530826,-0.9825326706444464,0.4772149901522147,-0.24246554528638942,-0.38538503182124095,0.7011447343315489,0.9112063729669612,-0.614966741174434,0.4058894064036313,-0.049762674908224884,-0.3621004073542544,-0.21822084144843729,0.8803645334548703,0.2612766624053543,0.5031814635774953,0.6899165055316765,-0.11748453701128386,0.8984163530238627,0.012075881626157496,-0.48943765033990133,-0.6597740398852056,0.25893690032771005,1.2909902277906198,-0.7437990977317452,-0.3679535662076776,-0.664408973643878,-0.298017106383863,-0.6527302115017186,1.3049403518395521,-0.14735567361298743,0.7570114210144384,-1.0644497412325025,1.384780252782437,0.3050149011002676,-0.04986590777882129,0.5039525450526979,-0.4680715904314032,1.0293813291285507,0.10953897373334412,-1.044082097114642,0.24403012479965425,-0.009078111242875962,-0.20762505794456307,-0.2935410771532757,0.020875423103693877,-2.022576450545777,0.24562658523854614,-0.755332519863902,-0.08477214477056326,-0.6201736255376532,0.37795637054068676,-0.8580087752389525,1.9458493905555259,-1.7141700156683715,0.328627315961588,0.40908090499221994,-0.10548021304566099,-0.5835871809529347,0.27240929150394294,0.4462843498692457,-0.10463450207059856,-0.5852916429811179,0.6320889716250407,-1.3572281784874798,-0.3226269969213741,1.5798574199311888,-0.7147538544207357,-0.360476318538833,0.1619724987215907,-1.2744907986736693,-1.1090117451176582,0.2421327156793627,-1.187076052644066,-0.7783140443973882,0.015033323190178393,0.8833419932762395,-0.3682986435167202,2.2257553585115697,-0.9965704078528353,-0.5074036786805161,-0.1396936238217709,0.1448911176820226,-0.5071780026335784,0.545076446155878,1.010974328795052,-0.44108190471571096,0.9593783027857339,0.8306677821472264,2.598551550582372,1.1843651994679898,-1.0822921081483738,-0.6212595126562599,1.885599989849567,-0.4176886167428642,0.6766494432365674,0.6739798423379322,0.28667600248688724,-0.31594134303558596,-0.20694536716434217,-0.7640298711484843,-1.8115711076643117,-1.6687645028571476,0.46336064046633313,0.7984286213749324,0.8392907719560806,-0.015256342193520856,0.02854505896762339,-1.4035764151028505,-0.36313308014718715,0.26434208434076556,1.2370234307982706,-2.5865542664023056,-1.0854802355916662,0.5099407453306187,-1.205686883839556,1.010743615855998,2.5431278318958457,-0.7348491553924101,0.25074305125272106,-1.8306506469747605,0.3256285164395056,0.9132592525409158,0.9377076003357592,-0.12973344919261204,-0.7247104066116927,0.4272346052287904,-1.2140184547584132,0.5595510561562913,-0.637071255601236,1.4200734014327339,0.18596706128092624,2.942303558089968,-1.181959801201723,-0.23699878328971763,-1.5869570094524093,0.9984994786859109,0.49591471857781644,-0.07858781400416695,1.751340194803253,-1.8267023089211682,0.9741421516299472,-0.49917925157266324,1.4399194307101182,-1.6462008359698033,0.9572128470477911,-1.3071088482968143,-1.6169753791391483,-0.9583315270317679,0.9551399438512189,0.03477475427097066,2.28301149889421,-1.7216105146734952,0.9814286167771159,-0.7061982907059162,1.0890552645786071,0.27446654253147695,0.4981463077450027,0.6681334579381177,0.3631400700448279,-0.4158422330346341,-0.5356987463361867,-0.6653071960529169,0.7041189659799388,0.7521759495207325,1.831456722341784,0.31642099147761743,-1.4820942582119796,1.7588850400814044,1.8971157265449201,-0.3684597254319067,0.5708064263837952,-2.0134353412987,-0.3109871721365766,-0.459397319823031,0.18057807436312698,-0.7570169660684685,-1.32884515714289,-0.6080331254636425,-0.10464111026795002,0.8121168690645408,-0.35455990417260697,0.21395196375733266,-0.6542825022477984,-1.8823431784306957,1.3040956460741011,1.6902829400053372,-0.04492777980960702,0.7608306757610224,0.19632633132290017,0.2581370908293121,-0.0802824577910609,-1.5094546015160382,1.1137894351397892,0.077726335699203,-1.4114179318995492,-0.021802420218810504,0.5799772797692684,-0.09846390661474791,-0.6586463197323797,-0.5623452574514163,-0.27639963705548687,-0.8297390750328952,-2.793428850913763,1.2281561295042842,0.9401797464020646,-0.8987061591084873,-1.3685278005848933,0.6275043307899589,-2.774984389071313,0.3953740252494863,0.2396483797753327,-2.6139806947249182,0.6202202634552927,-1.4964891480063,1.2559996754440017,-1.5968410609695878,-0.504457854969337,-0.27586530821708627,-0.10922362130530347,0.4069519000185561,-1.2401165622961376,2.72534671821575,-2.0231148217843606,-0.3246715879430894,1.3930189418281969,0.5041807191826233,-0.4294289168763645,-2.0410597866834754,-0.9973128394033105,1.752208617793234,0.9358643333504425,-0.08511043555957547,0.33475859589200735,0.44468992765089627,-0.44557619010130617,-0.07607335493962418,-0.2789761110527855,-1.0121340350072738,1.1206517788468968,0.13463116110920326,-0.056551981568159354,0.339120590382572,1.132030572066006,0.9898412108775154,-0.42109339417892233,0.9093269573886499,1.158010818984219,-0.9972919191135662,0.06474143023520532,-1.7291801465317722,-0.6527314686147848,0.01782500693701606,1.4753316437480757,0.6251327271070252,-0.11825658674078371,-0.2735639413570516,-0.08274387585694468,0.6757606214042793,0.04110776441821842,-0.4027740681619586,1.578290433774219,0.016850720391779022,-0.17646037733636422,-1.0451098936659415,1.852553735179101,0.8631292029478687,-0.20009397409712423,0.03182557236169929,-0.6259363524840933,0.32755904873893726,-1.1283265578326944,1.5942518471274596,0.6379789452941912,1.3866922152266528,-0.38724763955122044,0.058581560357646556,0.2768883015374712,1.0846105719920027,-0.982737393426647,0.35940822721559174,-0.11031948127136018,-0.08041546697610547,-2.5435669666360203,2.7103694155721856,0.6186573153420973,0.4803712502122721,-0.6505410383141735,2.0659629580584333,1.8119465752333204,0.09510673500482458,0.03530406625427386,-1.648836707154465,-0.6517549632708914,-0.6534750711391779,-1.2387345013283861,-0.018064012252608806,0.9442042659072256,0.3339621576803473,-0.0666770027992097,-0.5225059851070527,-1.7421287097397455,-1.6844182442729285,-0.7703820845556356,0.3301703746424916,-0.9696780492666817,-0.10891506642855212,-0.451778058759044,-0.19170379519168348,-0.763242671282478,-1.862241627250982,0.19845592310132232,0.5377727572559656,0.16131150377238204,1.979332086517767,-0.6385735702240198,0.24378268047697935,-0.9596098961876303,0.6126374898594507,1.1612775729445304,-1.9132600084003668,-0.3545974202582918,-0.47123298944240083,0.8190613609787394,1.7096646558951285,-0.0781028143634635,-1.811345085939612,2.3293898093556336,1.4707069297751776,0.9617219637551864,3.3362852364332674,1.9121449939042914,-1.0775979531036466,0.15390346984010234,1.6128238915502933,-0.38962510244872695,-1.6780321053185883,-0.2142097785377781,0.26743134797232154,-0.3428710722434966,-1.7345211713043596,-0.40815710964217133,-0.4990248791832928,-0.5285519720608002,1.806780389373458,-0.8602279041097968,0.2206090908814053,-0.33582404304979724],\"y\":[-1.6701030323564918,0.3368290857704442,0.4085634112147711,-0.2609292027374199,1.03858526766539,-1.1834942836859748,0.329115112510825,-0.5062439315857767,-0.20258699151402954,-1.5165171746692285,0.6797520584930642,0.46829304879061284,2.1200868882484314,0.09783346801088524,1.0010410681439061,-1.2527328267374065,0.5754792234124635,-0.3889304908545396,-0.373242293460391,1.0037913240827707,-1.4026704979708402,-0.5646043317513443,0.3532007676964699,1.2276551334301977,-0.3175360368197647,0.41860523409267536,-1.8499485045881012,-0.5920222165195655,1.5497216444864297,-0.281370254788845,-0.7036704257574311,-0.33973740921140927,-1.3476936284037948,0.8035616999883674,-2.085385636751772,0.8599946278231366,0.6066664541090648,0.1429239286914942,-0.7818185576279524,-0.16342631454320167,-0.4839660374870785,0.6832631608974632,0.36461909340238174,-0.6048358849457867,-0.4877087422906153,0.7626006743590177,-0.801194850110795,-0.16391986424584382,-0.2760379768886679,-0.2818069058368221,0.3415670473408656,-0.9083408301431953,0.9417175775117806,-0.17014946757555932,-0.7689132288795508,-0.016602113918186258,-0.012166090442086145,0.04943436967091934,1.05954732768156,0.26919748530736987,-0.06289933675464783,1.1051302838258188,-1.1128818858171763,0.10265854156733796,-0.3059741692652197,-1.1851294314657834,-0.21532493535923913,1.505372756166192,-2.1090645180957406,-0.9006287160772863,0.3016813791381589,0.3264687018343165,1.2453894983688352,0.14407596240337592,1.0621366631787224,-0.7772308168662023,1.4000027059493336,0.21164261135950327,1.1156317236556874,-0.7363576081712462,1.2016978430115075,1.4000767040820903,-0.49535032860372397,-0.22343647718972454,-1.6564231099080602,-0.6916618538666285,-0.3610743852822338,1.2302810526366341,1.4370046180337912,0.4486464895794693,0.18226283025247542,0.7905816629685782,1.7479008559921185,-0.41200224945744646,-0.9731172217423998,-0.22570279201620733,1.0226899662754614,0.8181400034846601,2.461406949546242,-0.17909699650262223,-0.13388172817083574,0.24577268771813593,-0.3661375551049507,1.261994026617479,-1.6449632114329593,1.0710546900692706,-1.0123481223261825,-0.10732652255073866,-2.481948708083967,-0.6175939568803854,-1.4216861067564381,-1.0817272549385628,0.29529341999296077,0.5806010591765883,1.043927188805293,0.13091510871708897,0.5807905454452187,0.17686751685059443,0.17937352750242033,-0.7484445355821028,-0.9703806915122216,-0.4337360380997433,-0.6331593615676779,0.32544563336609694,0.5976844567357417,1.2319496976802649,-1.0371024714109998,-0.08572326586195973,1.0408120555187297,-2.0715650657766123,1.9478997427551057,-0.4376430561465631,-0.3054668886493835,-0.8666083620095719,-1.2311732952505794,0.3242170113752961,1.0993115121388526,-0.3666424325511977,-1.2997361461996093,0.9567241605795869,1.2942436078325161,1.0523803240199425,0.33765906959837866,0.6110027403076047,-0.12446924830309676,-1.122345003389952,0.366980416488248,0.428401270904547,1.2260051275070452,-0.31511592179833403,1.2362119311595485,-0.7793160112538006,1.443865357531846,0.24150415157501665,0.7315195945150514,-1.1005600303619723,0.620066518932852,0.8173386154549596,0.7342205613425437,-1.4092658209944984,0.1401879456309687,-0.4644950711453617,0.06213369963806236,1.6067967613834873,0.08792559850183225,0.780034836624588,-1.6091317357843369,0.33207491472610046,-1.2356834856378898,1.126499132170484,-2.203168506358293,1.6745046074333039,1.0654341639946807,-0.691356915947782,-2.1033945855906264,-0.2689377030358262,0.4691594152088457,-0.053651215144174355,-0.09330278497629953,1.2014658720635545,-1.6495888211229426,0.2136491156734022,0.13515417694070836,-0.285284666874493,-0.3437996604152277,0.3013216281526066,-0.8958565389521076,-1.1317212417888396,-0.51089818235969,0.703714506385458,-0.9076139406578618,1.8058161714293637,1.3187018622712359,0.4377296481095245,-1.715273562742603,-0.0052931144840435655,0.6364324405152546,0.20047941867911034,-0.5030102098982037,0.25596072714956486,-0.7877089569283989,-0.9131771616609577,0.6638886658954963,-1.1734727513100247,0.7700749322275173,0.331943665840448,0.09317870553037438,-0.06651034841258148,1.9973546033056169,0.7166827979823174,-0.6520634133675779,-0.018997944134986948,-0.6879692119553023,-0.6557233969305847,0.6388218955468054,-0.8792739998191414,-0.19631320498136295,-0.24792742208223328,-0.7769080253770755,-0.8513438906193173,1.5501705529157186,1.9766972607706663,-1.5075666953561584,-1.0889960536244143,0.30334792106499825,0.1976507414227278,-1.5960165419300454,1.4530058502071748,0.5811448167773754,-0.23714217164637305,-0.5808566819910415,1.4698676722063357,-1.3870458763053324,-0.35801457374341056,-0.03712936962944276,-0.15686257776748574,0.44051037721802866,1.165071797554002,0.4918545679862106,-0.6375657500528898,-0.7219467303780995,0.8102822911181504,0.4772028444327678,-0.10625869141004701,0.02814014746639756,-0.6927897035904265,1.4444713079576785,-0.05287299487656706,0.5425331981461196,1.4819389777952345,0.3430032331132436,-0.8228548199309192,-1.833661678896224,-0.13175284319513555,0.17223306062518137,-1.7792341661738407,-0.831492930084593,-0.22958923829115244,-0.3027079669983431,1.1973257701704776,1.5867149937627856,-0.1980636408862411,-0.1655401220659,0.262343394075536,2.0856015796421614,-0.436677889321195,-0.5986061049801219,-1.1709301174869535,1.126095862643624,1.4691201864037136,-1.6993696350147776,-0.17693950382919377,0.09865635049528876,0.7308892999276265,-0.9324391538892126,-0.24172642911521403,1.3256119287264128,-0.8284658669287895,-0.37955712671472064,-0.08178714302372614,0.9296316265377857,-1.3920989299736692,-0.46162404189687123,0.7824727213247228,-0.32973898961039233,-0.759019817381409,0.3848348575587726,-0.2334949041554579,2.0190975686885193,-0.8827125920953716,-0.11220223809375544,-0.3009371732710363,-2.6036320470250156,-0.05799590897514521,-0.2118966277231749,-0.9736080743864512,0.6910668852995177,0.20513885949877428,-0.08779437791354701,2.0249663219244214,1.126979785669987,0.6147816540263772,0.880493599271284,-0.15266537920596487,0.5844773632188305,0.10663754038415586,2.228886318892564,-1.111915540968317,-2.1394618295726753,-1.4462547383870614,-2.062527755498634,-0.1540075644920927,-0.0557775153901629,0.3315244183394539,-0.5466994546709073,0.11222181677067475,0.12840113561293998,0.3527024617235935,-0.7439206778391348,2.0847182790683907,-1.4093274150787454,-0.11851758128214875,1.2751017563094278,1.1307578912446146,1.0786893433020752,1.652173980430373,-0.9324805341424685,1.1490461577898277,0.36560109234061555,0.08596559668158127,-1.3019607354294407,0.5035676242078739,0.9225471773700861,-0.18482442599095805,1.1317349404316248,1.205843096120693,1.6351972218784974,0.5286812333729487,-1.3173574084725115,-0.5515286586778452,0.14808858980832126,0.8179361578608209,-0.19984436018718565,-1.3346378085687014,0.9830147726406567,0.4147142932420545,-0.9191251370155652,-0.9599794840384884,-0.3559370718310508,0.68258463094506,1.1281677361038966,-0.31268016769983004,-1.360155130809929,1.8731934525491754,-0.14413990329531212,0.45467341772297426,-0.2820799528559125,0.18371882639942685,-0.9135685428820755,-1.076928467219569,0.4578397407763209,0.987581642070146,0.5901120771667888,-1.1008188786530408,-0.6788952160389223,0.7617016526875895,0.46716616374881786,0.5675715363465424,0.8758474177527253,0.4607700758885596,-0.3159185700041984,0.5435221047243859,-0.3542561667306151,-0.09531971021348536,0.07769181193232512,-2.3094345323423644,0.879067405544819,0.5565786021417272,-0.21742873421490083,-0.6688523773104427,-1.2154936791126671,0.7058093705142977,0.8250200883340634,-0.5431597821255251,0.4762461388568398,0.17928680995527502,1.0830675095670743,0.5145106396875615,-0.9612318313695442,1.049685215324207,1.067428401150978,-0.04457220823500035,1.5247823606292,-0.05554049280582325,0.23438251979209754,-0.8337581104042019,-0.046992460430074996,-0.49826361932653623,-0.3866702615114681,-2.5325298059885206,-0.6350262433490518,-1.5890234899043332,1.2425525723245134,1.7105837680014693,0.143565298914263,1.179815359171094,0.5970643420252738,0.07305940063402092,0.12850952092513512,0.6652039014342533,-0.6053086909894121,-1.9296659165789054,1.7431815114632412,0.32014018797429483,-0.33548777938368385,-1.0954203361913453,0.9016911370943754,0.4404480950463742,-1.5208009856531552,-0.2696565377804391,0.8308634877990421,-1.6608539172484427,0.2318930143520407,0.7248883039110643,0.034024441900911084,-0.8282472646828266,0.45421459603846925,0.3550447225884157,-0.5254951335102663,-0.021880851918866802,-0.43503824708900846,0.686292274651367,-0.8722589136510408,0.451420185841558,0.8701617369697945,-0.8733362576889216,-0.15260944754587671,0.41561086987831664,0.40941363731494057,1.3120760361659283,-0.13018996422059667,0.844762058722851,0.8003876611225869,0.41017627540219004,-1.3640495737209877,0.7621656113308255,0.4977869478229671,-1.0027329388393502,0.2333540294820123,-1.816482977139983,0.06019024406939205,-0.47665888510027543,-0.5617347252593416,0.2937161799458143,-0.1955337622861237,0.4579704544061019,0.09696911585548629,-1.708137846308231,-0.7439766533627414,1.0626604286025414,-0.2974372840682379,-1.7310472981390963,-0.6000521797460986,1.2409552147292533,-1.3905961073447517,-0.3505843928022024,0.26028638851934754,-3.6016865196441663,-0.36903960321674156,-0.6368903661331526,-1.0846383132014203,0.2477677318021537,0.6218518180049265,-0.4564061131217417,-0.20200646661357033,-0.022576530769860603,0.018385412771091784,0.5143221706192341,1.3195235203563216,0.1828301828699795,-1.2209036180809032,-0.5811777778495912,1.4400462535544374,1.0183013243913765,0.9909705739400765,-1.9160069181121908,-0.6853672317556149,0.36494842831550345,-0.09653992385578818,-0.595272553684257,0.4811589526880218,-0.6139715625639833,0.2566268372602098,0.6241697526460896,-2.5150103418457372,-0.40229643949103094,-1.2721742557262297,-1.3461090544896361,-1.3887397539398716,0.6414381987498089,-0.7243310229599685,-0.5852989199930213,1.9219584518485289,1.2217515324495825,0.6553678464040981,-1.1828818396308431,1.1424426839219326,2.46067067284129,0.4228378226412304,0.6437821996451525,-0.016527584085193437,0.7318218299701852,0.19303090779922832,0.2977731360149916,-0.748769396185726,0.15846295144029368,0.47370087675412675,0.05879392305672877,-0.4784097484631836,-0.1366000202530582,-0.1676117805665879,1.15672537670987,1.3648650472890775,-2.71309296507236,-0.003749185098295499,0.006853204077714833,0.3099010058620675,-0.9104002541308712,-0.7791126458650223,-1.1506785078494162,1.5355821516924062,0.4016163072368429,2.1090130949747685,1.2129491493924978,-0.39106048900303997,-0.07182310263802995,-1.5967544034509276,1.9455872037637667,-0.03223715287537644,-1.7407473014419528,0.05561632766596572,-0.9721179437252802,-0.2582670747532983,-0.658122453111194,-1.8604861950719742,0.5934202436438083,1.1101962398229288,0.6817996242701775,2.3991190091458092,-0.16146589085611712,-1.5819321721442363,2.3951051738331555,-1.4334539340226686,-0.9553580414168317,-1.0145412800099454,0.6378415429256158,0.2650327726574263,1.3828086244614088,1.2348066264418511,-0.6658763874118007,-1.0192138852391217,-0.5821712854865422,-0.0108311318897529,0.00684036515994531,0.008704097115465749,1.2069559709720366,0.6360806874844958,0.36293364813791096,0.22673117377867325,1.7055137101883413,0.14121812026442965,-0.4365328079819276,-1.5472853435776743,-1.3059365110456205,1.652370382779471,0.4690202004437895,-0.06797380724554378,0.7745283318325474,-1.383692662897637,1.7244853235729078,0.6768778555662947,0.8183005059793806,-1.96376129305244,0.40051315718934194,-0.9902607409486676,-0.5519855028069449,0.0007422599356801717,1.175779650909369,-0.015386852114518639,-0.45787068021233657,-1.6634810616115003,-1.9302654365890701,-0.24897425909897844,-0.9241297336897211,0.8167137690176797,-0.4665524178407046,-1.3916118605225287,0.34934496341649324,-1.4770834332222462,-0.29059231394629687,0.35621827111686144,0.2001234259121954,0.5697589276450886,-0.23251225216903537,-0.5856940330764373,-0.7225138843842731,-1.4166999026084952,-0.3457521903489675,0.28222327848052275,2.167393916873146,0.46703296057941934,1.3344731885704122,-0.7491037345548635,1.5389314592168823,-1.6534100366563864,-0.03405394400273514,-0.43370836909563587,1.5770499732118406,-0.08577542429904166,1.1518407410243463,-0.44021076543942844,-0.2518763663823839,0.578831103432568,1.5351964700550949,1.6934300185764424,-0.0447524779282568,0.619047427703744,0.7525372763273198,-1.2940734469019728,-0.4028080854193348,1.0397957456279767,0.30117454106957814,-0.5179507917159456,0.5861674776550577,1.800266382584988,2.192415481455989,-3.0526500417110003,1.5269171732501605,-0.20681272331762504,-0.7406165542319857,-0.03434047657233865,-0.6182147643406302,0.05243642895922271,0.039200515389014506,-1.7525331694388628,-1.6422559022424623,0.8016238159678334,-0.8648818271268165,0.8386324684245983,1.0969551733468736,-1.000053720031543,0.2540213262291591,0.002425033995670827,-0.6242197078029335,-0.32565187089837133,-1.1782009832191471,1.2040904084869741,-1.7203126709305232,1.3950516049922506,-0.6016647774805042,-0.6031672162947387,-1.8004061872560877,1.7151913340428326,-0.7441639652827184,0.6689156455035695,-0.010580728271083818,0.9552971851082473,-0.8772937362689646,-0.32367671964135664,-0.09528486334742832,1.3578375943772196,0.6031482084242735,-0.4073005572548626,1.037679562467223,0.5159385648636747,0.7718565701684424,0.24106504411909513,0.08484183011938548,-0.020303583751576385,1.0321865641279397,0.5804514793987834,1.6950907745305095,-1.277386761871279,-0.02523517739470843,0.9315044448865142,0.011210881351909202,0.17143916722350658,-0.6357728728521718,-0.7648779298319651,-1.4000108520425496,-1.808936581845516,-0.03432558872682917,-0.4199716028543874,-0.21677686164028984,-0.7194432169792917,0.6078414154692022,-0.11723540679578781,0.24192516230461694,0.7768313304337124,-1.4766210833609061,0.5412771416270956,2.0767405480866574,1.764592579615399,-1.8977695846292462,-1.5481743497326714,-1.702984786684866,1.6850786380426024,0.7244343451278524,0.4916849019102923,0.8752211419403831,0.32004056820161697,0.2596159830064363,0.9765758741395776,-0.5881301035528489,-0.28148468174894714,0.7905954827403867,1.5022302544736872,0.6672640474394546,-0.6897957192384511,0.3205393960445668,-0.5484313474296688,-0.10495736208743116,-0.13939220318272658,-1.1615787381431355,-0.0937235530722808,0.20585387530206514,1.7442726102409094,-1.6522029779864906,0.4910015527679473,-2.3989865869495794,0.28015532084408445,-2.2758076170252193,1.0917984071083164,1.2082535621842632,0.2610389978954911,0.3636218191009498,-0.31525986513358606,-0.2185769788653285,0.5562548072763229,-0.6078685842543943,-0.023322073043847823,-0.1707241815813599,-0.5290379479024304,-0.13363053865058416,0.38649915754273984,0.13860111692715427,-0.06131839839424539,-1.1326441199854784,0.8925014237926034,0.7593826652039104,-0.05788258658682802,1.307978219750916,0.9859245500835071,-0.5024121186893723,-0.8890374746511749,0.5823985860021785,-0.6144063795957091,-0.6447309349124977,-0.32282549802741156,0.17680667952574064,0.14831706809644551,-0.9734896393197059,-1.0336258393137971,0.47252616159916777,0.2967491933561305,0.339409979768811,1.6989894707044748,-0.5809607611980743,0.47630083573855736,0.6186505679647982,0.29362859125284235,0.25586626157495956,0.7018579535963587,0.8042975142117245,-0.10573867855076535,0.8754536951862477,-0.6748299471286109,-1.0762783962234144,-0.7810522703081919,-1.21121279810834,0.3361771568258197,0.3050957105218247,-0.265625314395616,-0.09053540085028836,1.9989996607341767,-0.1297693073666284,1.7351263390934735,0.7665428928280887,0.20602156539502267,-1.1134172528617508,-1.2316491692133757,1.081065562674779,-0.8546206647492212,-1.0447857137450485,1.3234466697906726,-1.3615846886329872,-0.2153641059239748,2.0865364763274292,0.8755068585241228,-1.1730276510929056,0.6863405667344994,-0.06944217264228957,0.607678728879115,1.581467051102434,0.4802678985551041,1.0910109441957396,0.7815702177912554,0.5286226900312075,-0.1388461907627023,0.7727429640829373,0.067400136715937,-2.0337332328982107,0.3738972450771068,-0.4489941850274653,-0.951626387244612,-0.6593735679212883,-1.063214929350644,-0.24048898345551,0.4167226204992176,0.4502377516416486,-1.10002421352539,0.6911139101926268,1.9479512314953604,0.5883868984142758,-0.04139218926689246,-0.5526011831733222,-1.2280974521352765,1.1209198370566076,0.334032078582344,1.405393458838029,0.2896575126125951,0.8036132501840956,-0.5719348026404485,0.6829883931533135,0.19453359710347104,-1.6362910832293869,-1.4611618765307475,-1.864490122915156,0.5710973218314247,-0.4288408357405686,0.10278257719153631,0.3934081568920037,-1.4748490626980721,0.6833152513070846,0.371075348689164,-0.535972411390593,0.3784824149897522,-0.6703028833443955,2.2141720510679286,0.8388410725957383,0.9920822149574806,1.6460471481237233,-1.581290917451671,1.7063645682825774,-1.145403455827265,0.4774862625464906,-0.6546448875341554,-0.8600378909523345,-1.8478665865374393,-0.2169911922935749,0.9973863057577178,0.5070022391235369,-2.086880855955845,-0.11954381643899777,0.9216156812085572,-0.13587691963190693,0.5160342759486785,-0.6781076388453503,0.2164275294377423,-1.1055421348087415,0.40351980072762034,2.918423170229868,0.5365613619767142,0.35063390545291245,-0.9073608618350868,-0.18916879173013898,-0.4646045024374096,-1.2703398549241065,0.8659454893220235,0.8429353993358796,0.4266331925488124,-0.21221960649690724,-0.8000388050793981,-0.7489760740949055,1.5620796518710536,-0.3364618588063353,1.6759298437494143,1.6808554175184591,-0.21321078205117064,-0.8129160519590729,0.6085996955807313,0.025837927421624822,-0.3409580182292332,0.16205828632178632,0.1536791178059343,3.763960422018893,0.40558630102195914,1.142902437228093,0.29776126064851116,-0.1398051976233221,0.644332585464977,0.1672411989499797,1.421540231083173,-1.8139083229096429,1.6594780558985747,0.6440179598324708,-1.1220219845436241,0.6651117200952466,-0.05637329519811541,1.467391975602535,-0.6219554508598617,2.296356208064693,-0.18040105887484986,0.8894677491611954,-0.5221100536579137,-0.3048707391129538,-1.878784202025484,0.8348508196178187,0.6049347001977734,0.5178307584506469,-0.9779068892249881,-0.5406525724218014,-3.0336390549310774,0.3629674185656675,-1.5505127381915542,-0.3386474454430413,0.08589759356261482,-1.4334807208708642,-1.088877962698406,-1.4009773305390785,0.586490131698208,-0.7827869020387237,-0.043495293521085394,-1.3588278180818978,0.2202003282910385,-1.0027807143146181,-0.26863703497883124,0.03155208022196887,1.3629791110422287,0.465113549874979,1.6040302749988629,-0.09294479832217462,0.04678676825203577,-1.096801438399018,0.25049051500408576,0.12265040175255931,-0.41312696755215017,-0.45192602199945187,0.14501394082874874,-0.12287848320114894,2.394420247855446,0.16959149853646913,-0.7285909793546806,-1.6264236211512961,-0.014558229571824876,-0.20088010003735082,-0.4461651844690883,2.108640429006534,-1.005748366677895,-0.6762837285589723,-0.2918202257175614,-0.8324538834050522,1.061241491077624,1.2885917056957676,0.07787518291570857,-0.9275206112422509,1.862377726071916,-1.4250485597644214,-0.27490473874467597,-1.4798507381848436,0.2314890985569204,-0.16133793447231354,-0.8248883470639617,0.54985680545976,1.4579242169736244,-0.2664374192764085,1.2351844492333346,1.5437546323950417,3.0313999610393836,2.5668327275322045,-2.597744764928392,-0.4620751695465803,-1.0548504697712877,-0.279922808329116,0.23048574717837744,-1.8197225666143066,1.6303744185459834,1.253672368300516,1.7013006320797535,2.8466800799466,-0.06116688100811116,-0.8186243447981953,0.5548938895328139,1.3411099479900868,0.36704219094422297,0.6674151910694174,1.0448051892637824,-1.1176159469290556,-0.04286485342052699,-0.23606806627004315],\"type\":\"scatter\"}],                        {\"template\":{\"data\":{\"barpolar\":[{\"marker\":{\"line\":{\"color\":\"#E5ECF6\",\"width\":0.5},\"pattern\":{\"fillmode\":\"overlay\",\"size\":10,\"solidity\":0.2}},\"type\":\"barpolar\"}],\"bar\":[{\"error_x\":{\"color\":\"#2a3f5f\"},\"error_y\":{\"color\":\"#2a3f5f\"},\"marker\":{\"line\":{\"color\":\"#E5ECF6\",\"width\":0.5},\"pattern\":{\"fillmode\":\"overlay\",\"size\":10,\"solidity\":0.2}},\"type\":\"bar\"}],\"carpet\":[{\"aaxis\":{\"endlinecolor\":\"#2a3f5f\",\"gridcolor\":\"white\",\"linecolor\":\"white\",\"minorgridcolor\":\"white\",\"startlinecolor\":\"#2a3f5f\"},\"baxis\":{\"endlinecolor\":\"#2a3f5f\",\"gridcolor\":\"white\",\"linecolor\":\"white\",\"minorgridcolor\":\"white\",\"startlinecolor\":\"#2a3f5f\"},\"type\":\"carpet\"}],\"choropleth\":[{\"colorbar\":{\"outlinewidth\":0,\"ticks\":\"\"},\"type\":\"choropleth\"}],\"contourcarpet\":[{\"colorbar\":{\"outlinewidth\":0,\"ticks\":\"\"},\"type\":\"contourcarpet\"}],\"contour\":[{\"colorbar\":{\"outlinewidth\":0,\"ticks\":\"\"},\"colorscale\":[[0.0,\"#0d0887\"],[0.1111111111111111,\"#46039f\"],[0.2222222222222222,\"#7201a8\"],[0.3333333333333333,\"#9c179e\"],[0.4444444444444444,\"#bd3786\"],[0.5555555555555556,\"#d8576b\"],[0.6666666666666666,\"#ed7953\"],[0.7777777777777778,\"#fb9f3a\"],[0.8888888888888888,\"#fdca26\"],[1.0,\"#f0f921\"]],\"type\":\"contour\"}],\"heatmapgl\":[{\"colorbar\":{\"outlinewidth\":0,\"ticks\":\"\"},\"colorscale\":[[0.0,\"#0d0887\"],[0.1111111111111111,\"#46039f\"],[0.2222222222222222,\"#7201a8\"],[0.3333333333333333,\"#9c179e\"],[0.4444444444444444,\"#bd3786\"],[0.5555555555555556,\"#d8576b\"],[0.6666666666666666,\"#ed7953\"],[0.7777777777777778,\"#fb9f3a\"],[0.8888888888888888,\"#fdca26\"],[1.0,\"#f0f921\"]],\"type\":\"heatmapgl\"}],\"heatmap\":[{\"colorbar\":{\"outlinewidth\":0,\"ticks\":\"\"},\"colorscale\":[[0.0,\"#0d0887\"],[0.1111111111111111,\"#46039f\"],[0.2222222222222222,\"#7201a8\"],[0.3333333333333333,\"#9c179e\"],[0.4444444444444444,\"#bd3786\"],[0.5555555555555556,\"#d8576b\"],[0.6666666666666666,\"#ed7953\"],[0.7777777777777778,\"#fb9f3a\"],[0.8888888888888888,\"#fdca26\"],[1.0,\"#f0f921\"]],\"type\":\"heatmap\"}],\"histogram2dcontour\":[{\"colorbar\":{\"outlinewidth\":0,\"ticks\":\"\"},\"colorscale\":[[0.0,\"#0d0887\"],[0.1111111111111111,\"#46039f\"],[0.2222222222222222,\"#7201a8\"],[0.3333333333333333,\"#9c179e\"],[0.4444444444444444,\"#bd3786\"],[0.5555555555555556,\"#d8576b\"],[0.6666666666666666,\"#ed7953\"],[0.7777777777777778,\"#fb9f3a\"],[0.8888888888888888,\"#fdca26\"],[1.0,\"#f0f921\"]],\"type\":\"histogram2dcontour\"}],\"histogram2d\":[{\"colorbar\":{\"outlinewidth\":0,\"ticks\":\"\"},\"colorscale\":[[0.0,\"#0d0887\"],[0.1111111111111111,\"#46039f\"],[0.2222222222222222,\"#7201a8\"],[0.3333333333333333,\"#9c179e\"],[0.4444444444444444,\"#bd3786\"],[0.5555555555555556,\"#d8576b\"],[0.6666666666666666,\"#ed7953\"],[0.7777777777777778,\"#fb9f3a\"],[0.8888888888888888,\"#fdca26\"],[1.0,\"#f0f921\"]],\"type\":\"histogram2d\"}],\"histogram\":[{\"marker\":{\"pattern\":{\"fillmode\":\"overlay\",\"size\":10,\"solidity\":0.2}},\"type\":\"histogram\"}],\"mesh3d\":[{\"colorbar\":{\"outlinewidth\":0,\"ticks\":\"\"},\"type\":\"mesh3d\"}],\"parcoords\":[{\"line\":{\"colorbar\":{\"outlinewidth\":0,\"ticks\":\"\"}},\"type\":\"parcoords\"}],\"pie\":[{\"automargin\":true,\"type\":\"pie\"}],\"scatter3d\":[{\"line\":{\"colorbar\":{\"outlinewidth\":0,\"ticks\":\"\"}},\"marker\":{\"colorbar\":{\"outlinewidth\":0,\"ticks\":\"\"}},\"type\":\"scatter3d\"}],\"scattercarpet\":[{\"marker\":{\"colorbar\":{\"outlinewidth\":0,\"ticks\":\"\"}},\"type\":\"scattercarpet\"}],\"scattergeo\":[{\"marker\":{\"colorbar\":{\"outlinewidth\":0,\"ticks\":\"\"}},\"type\":\"scattergeo\"}],\"scattergl\":[{\"marker\":{\"colorbar\":{\"outlinewidth\":0,\"ticks\":\"\"}},\"type\":\"scattergl\"}],\"scattermapbox\":[{\"marker\":{\"colorbar\":{\"outlinewidth\":0,\"ticks\":\"\"}},\"type\":\"scattermapbox\"}],\"scatterpolargl\":[{\"marker\":{\"colorbar\":{\"outlinewidth\":0,\"ticks\":\"\"}},\"type\":\"scatterpolargl\"}],\"scatterpolar\":[{\"marker\":{\"colorbar\":{\"outlinewidth\":0,\"ticks\":\"\"}},\"type\":\"scatterpolar\"}],\"scatter\":[{\"fillpattern\":{\"fillmode\":\"overlay\",\"size\":10,\"solidity\":0.2},\"type\":\"scatter\"}],\"scatterternary\":[{\"marker\":{\"colorbar\":{\"outlinewidth\":0,\"ticks\":\"\"}},\"type\":\"scatterternary\"}],\"surface\":[{\"colorbar\":{\"outlinewidth\":0,\"ticks\":\"\"},\"colorscale\":[[0.0,\"#0d0887\"],[0.1111111111111111,\"#46039f\"],[0.2222222222222222,\"#7201a8\"],[0.3333333333333333,\"#9c179e\"],[0.4444444444444444,\"#bd3786\"],[0.5555555555555556,\"#d8576b\"],[0.6666666666666666,\"#ed7953\"],[0.7777777777777778,\"#fb9f3a\"],[0.8888888888888888,\"#fdca26\"],[1.0,\"#f0f921\"]],\"type\":\"surface\"}],\"table\":[{\"cells\":{\"fill\":{\"color\":\"#EBF0F8\"},\"line\":{\"color\":\"white\"}},\"header\":{\"fill\":{\"color\":\"#C8D4E3\"},\"line\":{\"color\":\"white\"}},\"type\":\"table\"}]},\"layout\":{\"annotationdefaults\":{\"arrowcolor\":\"#2a3f5f\",\"arrowhead\":0,\"arrowwidth\":1},\"autotypenumbers\":\"strict\",\"coloraxis\":{\"colorbar\":{\"outlinewidth\":0,\"ticks\":\"\"}},\"colorscale\":{\"diverging\":[[0,\"#8e0152\"],[0.1,\"#c51b7d\"],[0.2,\"#de77ae\"],[0.3,\"#f1b6da\"],[0.4,\"#fde0ef\"],[0.5,\"#f7f7f7\"],[0.6,\"#e6f5d0\"],[0.7,\"#b8e186\"],[0.8,\"#7fbc41\"],[0.9,\"#4d9221\"],[1,\"#276419\"]],\"sequential\":[[0.0,\"#0d0887\"],[0.1111111111111111,\"#46039f\"],[0.2222222222222222,\"#7201a8\"],[0.3333333333333333,\"#9c179e\"],[0.4444444444444444,\"#bd3786\"],[0.5555555555555556,\"#d8576b\"],[0.6666666666666666,\"#ed7953\"],[0.7777777777777778,\"#fb9f3a\"],[0.8888888888888888,\"#fdca26\"],[1.0,\"#f0f921\"]],\"sequentialminus\":[[0.0,\"#0d0887\"],[0.1111111111111111,\"#46039f\"],[0.2222222222222222,\"#7201a8\"],[0.3333333333333333,\"#9c179e\"],[0.4444444444444444,\"#bd3786\"],[0.5555555555555556,\"#d8576b\"],[0.6666666666666666,\"#ed7953\"],[0.7777777777777778,\"#fb9f3a\"],[0.8888888888888888,\"#fdca26\"],[1.0,\"#f0f921\"]]},\"colorway\":[\"#636efa\",\"#EF553B\",\"#00cc96\",\"#ab63fa\",\"#FFA15A\",\"#19d3f3\",\"#FF6692\",\"#B6E880\",\"#FF97FF\",\"#FECB52\"],\"font\":{\"color\":\"#2a3f5f\"},\"geo\":{\"bgcolor\":\"white\",\"lakecolor\":\"white\",\"landcolor\":\"#E5ECF6\",\"showlakes\":true,\"showland\":true,\"subunitcolor\":\"white\"},\"hoverlabel\":{\"align\":\"left\"},\"hovermode\":\"closest\",\"mapbox\":{\"style\":\"light\"},\"paper_bgcolor\":\"white\",\"plot_bgcolor\":\"#E5ECF6\",\"polar\":{\"angularaxis\":{\"gridcolor\":\"white\",\"linecolor\":\"white\",\"ticks\":\"\"},\"bgcolor\":\"#E5ECF6\",\"radialaxis\":{\"gridcolor\":\"white\",\"linecolor\":\"white\",\"ticks\":\"\"}},\"scene\":{\"xaxis\":{\"backgroundcolor\":\"#E5ECF6\",\"gridcolor\":\"white\",\"gridwidth\":2,\"linecolor\":\"white\",\"showbackground\":true,\"ticks\":\"\",\"zerolinecolor\":\"white\"},\"yaxis\":{\"backgroundcolor\":\"#E5ECF6\",\"gridcolor\":\"white\",\"gridwidth\":2,\"linecolor\":\"white\",\"showbackground\":true,\"ticks\":\"\",\"zerolinecolor\":\"white\"},\"zaxis\":{\"backgroundcolor\":\"#E5ECF6\",\"gridcolor\":\"white\",\"gridwidth\":2,\"linecolor\":\"white\",\"showbackground\":true,\"ticks\":\"\",\"zerolinecolor\":\"white\"}},\"shapedefaults\":{\"line\":{\"color\":\"#2a3f5f\"}},\"ternary\":{\"aaxis\":{\"gridcolor\":\"white\",\"linecolor\":\"white\",\"ticks\":\"\"},\"baxis\":{\"gridcolor\":\"white\",\"linecolor\":\"white\",\"ticks\":\"\"},\"bgcolor\":\"#E5ECF6\",\"caxis\":{\"gridcolor\":\"white\",\"linecolor\":\"white\",\"ticks\":\"\"}},\"title\":{\"x\":0.05},\"xaxis\":{\"automargin\":true,\"gridcolor\":\"white\",\"linecolor\":\"white\",\"ticks\":\"\",\"title\":{\"standoff\":15},\"zerolinecolor\":\"white\",\"zerolinewidth\":2},\"yaxis\":{\"automargin\":true,\"gridcolor\":\"white\",\"linecolor\":\"white\",\"ticks\":\"\",\"title\":{\"standoff\":15},\"zerolinecolor\":\"white\",\"zerolinewidth\":2}}}},                        {\"responsive\": true}                    ).then(function(){\n",
       "                            \n",
       "var gd = document.getElementById('1d3bb653-878a-4eaa-a16f-09dad7f26986');\n",
       "var x = new MutationObserver(function (mutations, observer) {{\n",
       "        var display = window.getComputedStyle(gd).display;\n",
       "        if (!display || display === 'none') {{\n",
       "            console.log([gd, 'removed!']);\n",
       "            Plotly.purge(gd);\n",
       "            observer.disconnect();\n",
       "        }}\n",
       "}});\n",
       "\n",
       "// Listen for the removal of the full notebook cells\n",
       "var notebookContainer = gd.closest('#notebook-container');\n",
       "if (notebookContainer) {{\n",
       "    x.observe(notebookContainer, {childList: true});\n",
       "}}\n",
       "\n",
       "// Listen for the clearing of the current output cell\n",
       "var outputEl = gd.closest('.output');\n",
       "if (outputEl) {{\n",
       "    x.observe(outputEl, {childList: true});\n",
       "}}\n",
       "\n",
       "                        })                };                });            </script>        </div>"
      ]
     },
     "metadata": {},
     "output_type": "display_data"
    }
   ],
   "source": [
    "#import plotly.plotly as py\n",
    "import plotly.graph_objs as go\n",
    "\n",
    "# Create random data with numpy\n",
    "import numpy as np\n",
    "\n",
    "N = 1000\n",
    "random_x = np.random.randn(N)\n",
    "random_y = np.random.randn(N)\n",
    "\n",
    "# Create a trace\n",
    "trace = go.Scatter(\n",
    "    x = random_x,\n",
    "    y = random_y,\n",
    "    mode = 'markers'\n",
    ")\n",
    "\n",
    "data = [trace]\n",
    "\n",
    "# Plot and embed in ipython notebook!\n",
    "plotly.offline.iplot(data, filename='basic-scatter')\n",
    "# or plot with: plot_url = py.plot(data, filename='basic-line')"
   ]
  },
  {
   "cell_type": "code",
   "execution_count": 60,
   "id": "de55e2f4",
   "metadata": {},
   "outputs": [
    {
     "name": "stderr",
     "output_type": "stream",
     "text": [
      "/opt/anaconda3/lib/python3.8/site-packages/plotly/offline/offline.py:562: UserWarning:\n",
      "\n",
      "Your filename `basic-line` didn't end with .html. Adding .html to the end of your file.\n",
      "\n"
     ]
    },
    {
     "data": {
      "text/plain": [
       "'basic-line.html'"
      ]
     },
     "execution_count": 60,
     "metadata": {},
     "output_type": "execute_result"
    }
   ],
   "source": [
    "#將圖變html\n",
    "plotly.offline.plot(data,filename='basic-line')"
   ]
  },
  {
   "cell_type": "code",
   "execution_count": 59,
   "id": "f4a2b01e",
   "metadata": {},
   "outputs": [
    {
     "data": {
      "application/vnd.plotly.v1+json": {
       "config": {
        "linkText": "Export to plot.ly",
        "plotlyServerURL": "https://plot.ly",
        "showLink": false
       },
       "data": [
        {
         "mode": "markers",
         "name": "markers",
         "type": "scatter",
         "x": [
          0,
          0.010101010101010102,
          0.020202020202020204,
          0.030303030303030304,
          0.04040404040404041,
          0.05050505050505051,
          0.06060606060606061,
          0.07070707070707072,
          0.08080808080808081,
          0.09090909090909091,
          0.10101010101010102,
          0.11111111111111112,
          0.12121212121212122,
          0.13131313131313133,
          0.14141414141414144,
          0.15151515151515152,
          0.16161616161616163,
          0.17171717171717174,
          0.18181818181818182,
          0.19191919191919193,
          0.20202020202020204,
          0.21212121212121213,
          0.22222222222222224,
          0.23232323232323235,
          0.24242424242424243,
          0.25252525252525254,
          0.26262626262626265,
          0.27272727272727276,
          0.2828282828282829,
          0.29292929292929293,
          0.30303030303030304,
          0.31313131313131315,
          0.32323232323232326,
          0.33333333333333337,
          0.3434343434343435,
          0.3535353535353536,
          0.36363636363636365,
          0.37373737373737376,
          0.38383838383838387,
          0.393939393939394,
          0.4040404040404041,
          0.4141414141414142,
          0.42424242424242425,
          0.43434343434343436,
          0.4444444444444445,
          0.4545454545454546,
          0.4646464646464647,
          0.4747474747474748,
          0.48484848484848486,
          0.494949494949495,
          0.5050505050505051,
          0.5151515151515152,
          0.5252525252525253,
          0.5353535353535354,
          0.5454545454545455,
          0.5555555555555556,
          0.5656565656565657,
          0.5757575757575758,
          0.5858585858585859,
          0.595959595959596,
          0.6060606060606061,
          0.6161616161616162,
          0.6262626262626263,
          0.6363636363636365,
          0.6464646464646465,
          0.6565656565656566,
          0.6666666666666667,
          0.6767676767676768,
          0.686868686868687,
          0.696969696969697,
          0.7070707070707072,
          0.7171717171717172,
          0.7272727272727273,
          0.7373737373737375,
          0.7474747474747475,
          0.7575757575757577,
          0.7676767676767677,
          0.7777777777777778,
          0.787878787878788,
          0.797979797979798,
          0.8080808080808082,
          0.8181818181818182,
          0.8282828282828284,
          0.8383838383838385,
          0.8484848484848485,
          0.8585858585858587,
          0.8686868686868687,
          0.8787878787878789,
          0.888888888888889,
          0.8989898989898991,
          0.9090909090909092,
          0.9191919191919192,
          0.9292929292929294,
          0.9393939393939394,
          0.9494949494949496,
          0.9595959595959597,
          0.9696969696969697,
          0.9797979797979799,
          0.98989898989899,
          1
         ],
         "y": [
          4.572956975292039,
          4.123332237965092,
          6.66348284333878,
          4.492631296112054,
          3.7623708883091522,
          3.536510950063332,
          4.9724557978290695,
          6.042865045813494,
          3.612673485862164,
          5.527186829782253,
          4.683420903513728,
          5.835749369391999,
          5.671211371897305,
          6.697056036836881,
          3.7387127932472874,
          5.486251390453082,
          4.062684418297237,
          6.052339291063953,
          4.943673811132393,
          4.806797113539768,
          5.404412162568694,
          3.9796386289656116,
          4.80070441238733,
          7.018421971251573,
          6.188080659046516,
          4.645016591875966,
          6.3657698423024005,
          5.393287741990675,
          6.344508731346401,
          5.124192884064593,
          4.816114528842102,
          3.7342970737595214,
          4.945031491570531,
          6.396785263822018,
          5.631248664518859,
          4.081131743997329,
          6.4019024411338785,
          7.049073250278293,
          5.97119931069379,
          5.762075669242463,
          5.19777005622912,
          6.18211820334,
          5.469783671698596,
          4.296571146698603,
          4.737434952008381,
          5.233707689233443,
          5.508332195530425,
          4.32697610112876,
          7.45334254182217,
          5.381514455487391,
          6.288144358703693,
          6.810824294290419,
          6.615003884410582,
          6.694834865182671,
          5.488040116106084,
          3.6236751556368025,
          6.618712929105244,
          6.1887670404310455,
          2.65192224674093,
          6.026090188973007,
          4.618149473718328,
          6.5592326584693685,
          5.34818314928526,
          5.227028562467187,
          4.517046304014747,
          4.253328811212301,
          4.099947702488392,
          3.3709930972465436,
          6.318919543229535,
          5.657836792594502,
          6.017629173777254,
          4.909964707979239,
          4.431272390882538,
          5.756219476533546,
          5.395394944865298,
          5.216461562576204,
          7.071389292621163,
          4.202910206166477,
          3.71425945530672,
          4.150867408624922,
          4.177877937765232,
          6.395590359987594,
          7.930194148435309,
          5.137061716577551,
          3.706874405383344,
          5.746424392399366,
          3.5359986431702755,
          5.532007843765492,
          6.849393761273207,
          4.516640758706718,
          5.631743178301764,
          5.443351113285946,
          3.6718217916523503,
          5.170019513236573,
          6.542484501585912,
          4.302379003833998,
          4.956430392311264,
          5.508277660826308,
          4.4651349775919975,
          5.444049240893955
         ]
        },
        {
         "mode": "lines+markers",
         "name": "lines+markers",
         "type": "scatter",
         "x": [
          0,
          0.010101010101010102,
          0.020202020202020204,
          0.030303030303030304,
          0.04040404040404041,
          0.05050505050505051,
          0.06060606060606061,
          0.07070707070707072,
          0.08080808080808081,
          0.09090909090909091,
          0.10101010101010102,
          0.11111111111111112,
          0.12121212121212122,
          0.13131313131313133,
          0.14141414141414144,
          0.15151515151515152,
          0.16161616161616163,
          0.17171717171717174,
          0.18181818181818182,
          0.19191919191919193,
          0.20202020202020204,
          0.21212121212121213,
          0.22222222222222224,
          0.23232323232323235,
          0.24242424242424243,
          0.25252525252525254,
          0.26262626262626265,
          0.27272727272727276,
          0.2828282828282829,
          0.29292929292929293,
          0.30303030303030304,
          0.31313131313131315,
          0.32323232323232326,
          0.33333333333333337,
          0.3434343434343435,
          0.3535353535353536,
          0.36363636363636365,
          0.37373737373737376,
          0.38383838383838387,
          0.393939393939394,
          0.4040404040404041,
          0.4141414141414142,
          0.42424242424242425,
          0.43434343434343436,
          0.4444444444444445,
          0.4545454545454546,
          0.4646464646464647,
          0.4747474747474748,
          0.48484848484848486,
          0.494949494949495,
          0.5050505050505051,
          0.5151515151515152,
          0.5252525252525253,
          0.5353535353535354,
          0.5454545454545455,
          0.5555555555555556,
          0.5656565656565657,
          0.5757575757575758,
          0.5858585858585859,
          0.595959595959596,
          0.6060606060606061,
          0.6161616161616162,
          0.6262626262626263,
          0.6363636363636365,
          0.6464646464646465,
          0.6565656565656566,
          0.6666666666666667,
          0.6767676767676768,
          0.686868686868687,
          0.696969696969697,
          0.7070707070707072,
          0.7171717171717172,
          0.7272727272727273,
          0.7373737373737375,
          0.7474747474747475,
          0.7575757575757577,
          0.7676767676767677,
          0.7777777777777778,
          0.787878787878788,
          0.797979797979798,
          0.8080808080808082,
          0.8181818181818182,
          0.8282828282828284,
          0.8383838383838385,
          0.8484848484848485,
          0.8585858585858587,
          0.8686868686868687,
          0.8787878787878789,
          0.888888888888889,
          0.8989898989898991,
          0.9090909090909092,
          0.9191919191919192,
          0.9292929292929294,
          0.9393939393939394,
          0.9494949494949496,
          0.9595959595959597,
          0.9696969696969697,
          0.9797979797979799,
          0.98989898989899,
          1
         ],
         "y": [
          -0.6927801430845875,
          -1.5165295620376118,
          0.9207568833064418,
          0.20872651637654518,
          -0.0943020498383217,
          -0.5893780587458072,
          1.3972177953617453,
          0.33818822620554656,
          -1.8155530819348673,
          -0.9424955877978305,
          0.22897590941137566,
          0.31984142317713954,
          0.5688915230157021,
          -0.49214056292717573,
          0.7738644718274823,
          -1.1359727299399816,
          -0.3924847671545218,
          0.014712033788327911,
          -0.923451979071587,
          -1.871829214068314,
          -0.06782129443143746,
          1.0896970366145373,
          -0.008123070028116611,
          1.1496816270620784,
          1.0975393269743647,
          -0.7571183426603798,
          -2.26509770005089,
          -0.8617631284058354,
          0.4063724144303353,
          1.4627777256874446,
          0.7950330895546488,
          1.111050364229449,
          0.6990251407307561,
          -0.23971909708895137,
          -0.4976788382460045,
          -0.1888024204420082,
          -0.23607351272188884,
          -2.192430736755564,
          -0.26645426757574686,
          1.0248239065436695,
          -2.7665163635774124,
          -0.4617052454851214,
          0.5070014927362967,
          0.921451180533073,
          -0.8523431000100598,
          -2.434194496610772,
          0.4544908260572011,
          0.3307112425630756,
          0.9611360988249229,
          -2.442542673706455,
          2.5794536197176394,
          0.6854259903088215,
          -1.9917795386785109,
          1.4632179881538363,
          0.8899664425840659,
          1.67780112543747,
          -0.5009476394034067,
          1.6332365810874467,
          -0.09238089072096642,
          -0.23198652737086292,
          0.820114128265268,
          -0.8419182803667287,
          -0.9283620990285887,
          0.25697821493941236,
          -1.1122435575288414,
          0.9800162713314524,
          -0.11351293188633535,
          2.981664593686979,
          -0.7388544758981777,
          0.5985532343274375,
          0.03533308284040824,
          1.1087833350053944,
          0.38954605512684776,
          1.2212019004068548,
          -0.38300541428999113,
          0.2045778593171882,
          1.2047842538458078,
          -0.558963767024376,
          0.2173617632542898,
          -1.7840268274851638,
          -0.8868972372399492,
          -1.030798180159372,
          0.24748254196063665,
          1.6499213248309517,
          0.3047979505010874,
          -0.855912824039764,
          0.9312096520144191,
          2.573367099050516,
          -0.9435455498309642,
          -0.552343326125431,
          -1.5206656821964535,
          -2.3809048691235173,
          -1.8028535769889669,
          -1.5288020347305196,
          -0.809216583254992,
          2.0223838580226587,
          -0.8091259051542102,
          1.1884838322521458,
          0.6705681728684889,
          0.5292171740132645
         ]
        },
        {
         "mode": "lines",
         "name": "lines",
         "type": "scatter",
         "x": [
          0,
          0.010101010101010102,
          0.020202020202020204,
          0.030303030303030304,
          0.04040404040404041,
          0.05050505050505051,
          0.06060606060606061,
          0.07070707070707072,
          0.08080808080808081,
          0.09090909090909091,
          0.10101010101010102,
          0.11111111111111112,
          0.12121212121212122,
          0.13131313131313133,
          0.14141414141414144,
          0.15151515151515152,
          0.16161616161616163,
          0.17171717171717174,
          0.18181818181818182,
          0.19191919191919193,
          0.20202020202020204,
          0.21212121212121213,
          0.22222222222222224,
          0.23232323232323235,
          0.24242424242424243,
          0.25252525252525254,
          0.26262626262626265,
          0.27272727272727276,
          0.2828282828282829,
          0.29292929292929293,
          0.30303030303030304,
          0.31313131313131315,
          0.32323232323232326,
          0.33333333333333337,
          0.3434343434343435,
          0.3535353535353536,
          0.36363636363636365,
          0.37373737373737376,
          0.38383838383838387,
          0.393939393939394,
          0.4040404040404041,
          0.4141414141414142,
          0.42424242424242425,
          0.43434343434343436,
          0.4444444444444445,
          0.4545454545454546,
          0.4646464646464647,
          0.4747474747474748,
          0.48484848484848486,
          0.494949494949495,
          0.5050505050505051,
          0.5151515151515152,
          0.5252525252525253,
          0.5353535353535354,
          0.5454545454545455,
          0.5555555555555556,
          0.5656565656565657,
          0.5757575757575758,
          0.5858585858585859,
          0.595959595959596,
          0.6060606060606061,
          0.6161616161616162,
          0.6262626262626263,
          0.6363636363636365,
          0.6464646464646465,
          0.6565656565656566,
          0.6666666666666667,
          0.6767676767676768,
          0.686868686868687,
          0.696969696969697,
          0.7070707070707072,
          0.7171717171717172,
          0.7272727272727273,
          0.7373737373737375,
          0.7474747474747475,
          0.7575757575757577,
          0.7676767676767677,
          0.7777777777777778,
          0.787878787878788,
          0.797979797979798,
          0.8080808080808082,
          0.8181818181818182,
          0.8282828282828284,
          0.8383838383838385,
          0.8484848484848485,
          0.8585858585858587,
          0.8686868686868687,
          0.8787878787878789,
          0.888888888888889,
          0.8989898989898991,
          0.9090909090909092,
          0.9191919191919192,
          0.9292929292929294,
          0.9393939393939394,
          0.9494949494949496,
          0.9595959595959597,
          0.9696969696969697,
          0.9797979797979799,
          0.98989898989899,
          1
         ],
         "y": [
          -4.825896501837872,
          -5.1818733332486815,
          -3.759275842115529,
          -4.576106994319394,
          -2.96796871633073,
          -5.030459391492225,
          -5.674104654390884,
          -6.489963715415573,
          -4.893837688383462,
          -5.496343887754175,
          -5.200919339258348,
          -5.490118168977523,
          -6.391285815039718,
          -4.552885277759979,
          -5.028615447191473,
          -3.918203619140745,
          -5.412920591788075,
          -4.823506543772393,
          -4.7458452690306085,
          -3.6407273673638185,
          -5.100992716445967,
          -3.5161444242073454,
          -3.35095352628519,
          -5.903230062148108,
          -3.6854388231879245,
          -6.344553001439742,
          -3.7991051360155184,
          -4.174513286170366,
          -3.536732532978708,
          -4.911732585077481,
          -2.488338997183598,
          -4.974089222450751,
          -5.246614457949346,
          -5.2791681373241675,
          -4.120881215899339,
          -5.513558329392367,
          -4.406925384841283,
          -4.701160191606153,
          -4.694318581010391,
          -5.464920803537238,
          -4.791629825985966,
          -6.33964429136257,
          -4.993003510664068,
          -3.4638623843177063,
          -5.590718176479456,
          -6.346104773800778,
          -5.5766442624598715,
          -6.727824145621681,
          -3.840792652312061,
          -3.9896101275178495,
          -6.528186022979,
          -4.750319110854997,
          -5.098544955268439,
          -3.565887502651412,
          -3.1506287321670587,
          -3.701330349555194,
          -5.130630518474609,
          -6.369493177152683,
          -4.586758274125875,
          -4.516632545579909,
          -4.056933585857821,
          -4.402600292932577,
          -6.216161765774859,
          -3.676441606212024,
          -3.1582562398233254,
          -6.0141877878591306,
          -5.372332854713167,
          -5.16282034773994,
          -4.681779058816716,
          -6.271180212587984,
          -5.1306297818880715,
          -4.426228252228926,
          -4.219176379027433,
          -5.630462711477561,
          -3.878056309656045,
          -5.63237476447501,
          -4.762259453273813,
          -3.826914679850223,
          -4.960581951692893,
          -6.723040492788,
          -5.069530359791234,
          -4.545652758179768,
          -4.6962137141886835,
          -5.33132736310909,
          -5.205398240389837,
          -6.401840819587239,
          -5.473153423817095,
          -6.010410825553992,
          -3.570706019545979,
          -4.039226353455439,
          -6.058074281637973,
          -4.020158534291157,
          -4.721238336413876,
          -4.815289339005449,
          -4.720597094880218,
          -4.196572369875625,
          -8.038932172107252,
          -4.880526236629464,
          -6.203386618346043,
          -3.9608742116785143
         ]
        }
       ],
       "layout": {
        "template": {
         "data": {
          "bar": [
           {
            "error_x": {
             "color": "#2a3f5f"
            },
            "error_y": {
             "color": "#2a3f5f"
            },
            "marker": {
             "line": {
              "color": "#E5ECF6",
              "width": 0.5
             },
             "pattern": {
              "fillmode": "overlay",
              "size": 10,
              "solidity": 0.2
             }
            },
            "type": "bar"
           }
          ],
          "barpolar": [
           {
            "marker": {
             "line": {
              "color": "#E5ECF6",
              "width": 0.5
             },
             "pattern": {
              "fillmode": "overlay",
              "size": 10,
              "solidity": 0.2
             }
            },
            "type": "barpolar"
           }
          ],
          "carpet": [
           {
            "aaxis": {
             "endlinecolor": "#2a3f5f",
             "gridcolor": "white",
             "linecolor": "white",
             "minorgridcolor": "white",
             "startlinecolor": "#2a3f5f"
            },
            "baxis": {
             "endlinecolor": "#2a3f5f",
             "gridcolor": "white",
             "linecolor": "white",
             "minorgridcolor": "white",
             "startlinecolor": "#2a3f5f"
            },
            "type": "carpet"
           }
          ],
          "choropleth": [
           {
            "colorbar": {
             "outlinewidth": 0,
             "ticks": ""
            },
            "type": "choropleth"
           }
          ],
          "contour": [
           {
            "colorbar": {
             "outlinewidth": 0,
             "ticks": ""
            },
            "colorscale": [
             [
              0,
              "#0d0887"
             ],
             [
              0.1111111111111111,
              "#46039f"
             ],
             [
              0.2222222222222222,
              "#7201a8"
             ],
             [
              0.3333333333333333,
              "#9c179e"
             ],
             [
              0.4444444444444444,
              "#bd3786"
             ],
             [
              0.5555555555555556,
              "#d8576b"
             ],
             [
              0.6666666666666666,
              "#ed7953"
             ],
             [
              0.7777777777777778,
              "#fb9f3a"
             ],
             [
              0.8888888888888888,
              "#fdca26"
             ],
             [
              1,
              "#f0f921"
             ]
            ],
            "type": "contour"
           }
          ],
          "contourcarpet": [
           {
            "colorbar": {
             "outlinewidth": 0,
             "ticks": ""
            },
            "type": "contourcarpet"
           }
          ],
          "heatmap": [
           {
            "colorbar": {
             "outlinewidth": 0,
             "ticks": ""
            },
            "colorscale": [
             [
              0,
              "#0d0887"
             ],
             [
              0.1111111111111111,
              "#46039f"
             ],
             [
              0.2222222222222222,
              "#7201a8"
             ],
             [
              0.3333333333333333,
              "#9c179e"
             ],
             [
              0.4444444444444444,
              "#bd3786"
             ],
             [
              0.5555555555555556,
              "#d8576b"
             ],
             [
              0.6666666666666666,
              "#ed7953"
             ],
             [
              0.7777777777777778,
              "#fb9f3a"
             ],
             [
              0.8888888888888888,
              "#fdca26"
             ],
             [
              1,
              "#f0f921"
             ]
            ],
            "type": "heatmap"
           }
          ],
          "heatmapgl": [
           {
            "colorbar": {
             "outlinewidth": 0,
             "ticks": ""
            },
            "colorscale": [
             [
              0,
              "#0d0887"
             ],
             [
              0.1111111111111111,
              "#46039f"
             ],
             [
              0.2222222222222222,
              "#7201a8"
             ],
             [
              0.3333333333333333,
              "#9c179e"
             ],
             [
              0.4444444444444444,
              "#bd3786"
             ],
             [
              0.5555555555555556,
              "#d8576b"
             ],
             [
              0.6666666666666666,
              "#ed7953"
             ],
             [
              0.7777777777777778,
              "#fb9f3a"
             ],
             [
              0.8888888888888888,
              "#fdca26"
             ],
             [
              1,
              "#f0f921"
             ]
            ],
            "type": "heatmapgl"
           }
          ],
          "histogram": [
           {
            "marker": {
             "pattern": {
              "fillmode": "overlay",
              "size": 10,
              "solidity": 0.2
             }
            },
            "type": "histogram"
           }
          ],
          "histogram2d": [
           {
            "colorbar": {
             "outlinewidth": 0,
             "ticks": ""
            },
            "colorscale": [
             [
              0,
              "#0d0887"
             ],
             [
              0.1111111111111111,
              "#46039f"
             ],
             [
              0.2222222222222222,
              "#7201a8"
             ],
             [
              0.3333333333333333,
              "#9c179e"
             ],
             [
              0.4444444444444444,
              "#bd3786"
             ],
             [
              0.5555555555555556,
              "#d8576b"
             ],
             [
              0.6666666666666666,
              "#ed7953"
             ],
             [
              0.7777777777777778,
              "#fb9f3a"
             ],
             [
              0.8888888888888888,
              "#fdca26"
             ],
             [
              1,
              "#f0f921"
             ]
            ],
            "type": "histogram2d"
           }
          ],
          "histogram2dcontour": [
           {
            "colorbar": {
             "outlinewidth": 0,
             "ticks": ""
            },
            "colorscale": [
             [
              0,
              "#0d0887"
             ],
             [
              0.1111111111111111,
              "#46039f"
             ],
             [
              0.2222222222222222,
              "#7201a8"
             ],
             [
              0.3333333333333333,
              "#9c179e"
             ],
             [
              0.4444444444444444,
              "#bd3786"
             ],
             [
              0.5555555555555556,
              "#d8576b"
             ],
             [
              0.6666666666666666,
              "#ed7953"
             ],
             [
              0.7777777777777778,
              "#fb9f3a"
             ],
             [
              0.8888888888888888,
              "#fdca26"
             ],
             [
              1,
              "#f0f921"
             ]
            ],
            "type": "histogram2dcontour"
           }
          ],
          "mesh3d": [
           {
            "colorbar": {
             "outlinewidth": 0,
             "ticks": ""
            },
            "type": "mesh3d"
           }
          ],
          "parcoords": [
           {
            "line": {
             "colorbar": {
              "outlinewidth": 0,
              "ticks": ""
             }
            },
            "type": "parcoords"
           }
          ],
          "pie": [
           {
            "automargin": true,
            "type": "pie"
           }
          ],
          "scatter": [
           {
            "fillpattern": {
             "fillmode": "overlay",
             "size": 10,
             "solidity": 0.2
            },
            "type": "scatter"
           }
          ],
          "scatter3d": [
           {
            "line": {
             "colorbar": {
              "outlinewidth": 0,
              "ticks": ""
             }
            },
            "marker": {
             "colorbar": {
              "outlinewidth": 0,
              "ticks": ""
             }
            },
            "type": "scatter3d"
           }
          ],
          "scattercarpet": [
           {
            "marker": {
             "colorbar": {
              "outlinewidth": 0,
              "ticks": ""
             }
            },
            "type": "scattercarpet"
           }
          ],
          "scattergeo": [
           {
            "marker": {
             "colorbar": {
              "outlinewidth": 0,
              "ticks": ""
             }
            },
            "type": "scattergeo"
           }
          ],
          "scattergl": [
           {
            "marker": {
             "colorbar": {
              "outlinewidth": 0,
              "ticks": ""
             }
            },
            "type": "scattergl"
           }
          ],
          "scattermapbox": [
           {
            "marker": {
             "colorbar": {
              "outlinewidth": 0,
              "ticks": ""
             }
            },
            "type": "scattermapbox"
           }
          ],
          "scatterpolar": [
           {
            "marker": {
             "colorbar": {
              "outlinewidth": 0,
              "ticks": ""
             }
            },
            "type": "scatterpolar"
           }
          ],
          "scatterpolargl": [
           {
            "marker": {
             "colorbar": {
              "outlinewidth": 0,
              "ticks": ""
             }
            },
            "type": "scatterpolargl"
           }
          ],
          "scatterternary": [
           {
            "marker": {
             "colorbar": {
              "outlinewidth": 0,
              "ticks": ""
             }
            },
            "type": "scatterternary"
           }
          ],
          "surface": [
           {
            "colorbar": {
             "outlinewidth": 0,
             "ticks": ""
            },
            "colorscale": [
             [
              0,
              "#0d0887"
             ],
             [
              0.1111111111111111,
              "#46039f"
             ],
             [
              0.2222222222222222,
              "#7201a8"
             ],
             [
              0.3333333333333333,
              "#9c179e"
             ],
             [
              0.4444444444444444,
              "#bd3786"
             ],
             [
              0.5555555555555556,
              "#d8576b"
             ],
             [
              0.6666666666666666,
              "#ed7953"
             ],
             [
              0.7777777777777778,
              "#fb9f3a"
             ],
             [
              0.8888888888888888,
              "#fdca26"
             ],
             [
              1,
              "#f0f921"
             ]
            ],
            "type": "surface"
           }
          ],
          "table": [
           {
            "cells": {
             "fill": {
              "color": "#EBF0F8"
             },
             "line": {
              "color": "white"
             }
            },
            "header": {
             "fill": {
              "color": "#C8D4E3"
             },
             "line": {
              "color": "white"
             }
            },
            "type": "table"
           }
          ]
         },
         "layout": {
          "annotationdefaults": {
           "arrowcolor": "#2a3f5f",
           "arrowhead": 0,
           "arrowwidth": 1
          },
          "autotypenumbers": "strict",
          "coloraxis": {
           "colorbar": {
            "outlinewidth": 0,
            "ticks": ""
           }
          },
          "colorscale": {
           "diverging": [
            [
             0,
             "#8e0152"
            ],
            [
             0.1,
             "#c51b7d"
            ],
            [
             0.2,
             "#de77ae"
            ],
            [
             0.3,
             "#f1b6da"
            ],
            [
             0.4,
             "#fde0ef"
            ],
            [
             0.5,
             "#f7f7f7"
            ],
            [
             0.6,
             "#e6f5d0"
            ],
            [
             0.7,
             "#b8e186"
            ],
            [
             0.8,
             "#7fbc41"
            ],
            [
             0.9,
             "#4d9221"
            ],
            [
             1,
             "#276419"
            ]
           ],
           "sequential": [
            [
             0,
             "#0d0887"
            ],
            [
             0.1111111111111111,
             "#46039f"
            ],
            [
             0.2222222222222222,
             "#7201a8"
            ],
            [
             0.3333333333333333,
             "#9c179e"
            ],
            [
             0.4444444444444444,
             "#bd3786"
            ],
            [
             0.5555555555555556,
             "#d8576b"
            ],
            [
             0.6666666666666666,
             "#ed7953"
            ],
            [
             0.7777777777777778,
             "#fb9f3a"
            ],
            [
             0.8888888888888888,
             "#fdca26"
            ],
            [
             1,
             "#f0f921"
            ]
           ],
           "sequentialminus": [
            [
             0,
             "#0d0887"
            ],
            [
             0.1111111111111111,
             "#46039f"
            ],
            [
             0.2222222222222222,
             "#7201a8"
            ],
            [
             0.3333333333333333,
             "#9c179e"
            ],
            [
             0.4444444444444444,
             "#bd3786"
            ],
            [
             0.5555555555555556,
             "#d8576b"
            ],
            [
             0.6666666666666666,
             "#ed7953"
            ],
            [
             0.7777777777777778,
             "#fb9f3a"
            ],
            [
             0.8888888888888888,
             "#fdca26"
            ],
            [
             1,
             "#f0f921"
            ]
           ]
          },
          "colorway": [
           "#636efa",
           "#EF553B",
           "#00cc96",
           "#ab63fa",
           "#FFA15A",
           "#19d3f3",
           "#FF6692",
           "#B6E880",
           "#FF97FF",
           "#FECB52"
          ],
          "font": {
           "color": "#2a3f5f"
          },
          "geo": {
           "bgcolor": "white",
           "lakecolor": "white",
           "landcolor": "#E5ECF6",
           "showlakes": true,
           "showland": true,
           "subunitcolor": "white"
          },
          "hoverlabel": {
           "align": "left"
          },
          "hovermode": "closest",
          "mapbox": {
           "style": "light"
          },
          "paper_bgcolor": "white",
          "plot_bgcolor": "#E5ECF6",
          "polar": {
           "angularaxis": {
            "gridcolor": "white",
            "linecolor": "white",
            "ticks": ""
           },
           "bgcolor": "#E5ECF6",
           "radialaxis": {
            "gridcolor": "white",
            "linecolor": "white",
            "ticks": ""
           }
          },
          "scene": {
           "xaxis": {
            "backgroundcolor": "#E5ECF6",
            "gridcolor": "white",
            "gridwidth": 2,
            "linecolor": "white",
            "showbackground": true,
            "ticks": "",
            "zerolinecolor": "white"
           },
           "yaxis": {
            "backgroundcolor": "#E5ECF6",
            "gridcolor": "white",
            "gridwidth": 2,
            "linecolor": "white",
            "showbackground": true,
            "ticks": "",
            "zerolinecolor": "white"
           },
           "zaxis": {
            "backgroundcolor": "#E5ECF6",
            "gridcolor": "white",
            "gridwidth": 2,
            "linecolor": "white",
            "showbackground": true,
            "ticks": "",
            "zerolinecolor": "white"
           }
          },
          "shapedefaults": {
           "line": {
            "color": "#2a3f5f"
           }
          },
          "ternary": {
           "aaxis": {
            "gridcolor": "white",
            "linecolor": "white",
            "ticks": ""
           },
           "baxis": {
            "gridcolor": "white",
            "linecolor": "white",
            "ticks": ""
           },
           "bgcolor": "#E5ECF6",
           "caxis": {
            "gridcolor": "white",
            "linecolor": "white",
            "ticks": ""
           }
          },
          "title": {
           "x": 0.05
          },
          "xaxis": {
           "automargin": true,
           "gridcolor": "white",
           "linecolor": "white",
           "ticks": "",
           "title": {
            "standoff": 15
           },
           "zerolinecolor": "white",
           "zerolinewidth": 2
          },
          "yaxis": {
           "automargin": true,
           "gridcolor": "white",
           "linecolor": "white",
           "ticks": "",
           "title": {
            "standoff": 15
           },
           "zerolinecolor": "white",
           "zerolinewidth": 2
          }
         }
        }
       }
      },
      "text/html": [
       "<div>                            <div id=\"36ad46d9-7e38-4ff3-b347-90101414e6d2\" class=\"plotly-graph-div\" style=\"height:525px; width:100%;\"></div>            <script type=\"text/javascript\">                require([\"plotly\"], function(Plotly) {                    window.PLOTLYENV=window.PLOTLYENV || {};                                    if (document.getElementById(\"36ad46d9-7e38-4ff3-b347-90101414e6d2\")) {                    Plotly.newPlot(                        \"36ad46d9-7e38-4ff3-b347-90101414e6d2\",                        [{\"mode\":\"markers\",\"name\":\"markers\",\"x\":[0.0,0.010101010101010102,0.020202020202020204,0.030303030303030304,0.04040404040404041,0.05050505050505051,0.06060606060606061,0.07070707070707072,0.08080808080808081,0.09090909090909091,0.10101010101010102,0.11111111111111112,0.12121212121212122,0.13131313131313133,0.14141414141414144,0.15151515151515152,0.16161616161616163,0.17171717171717174,0.18181818181818182,0.19191919191919193,0.20202020202020204,0.21212121212121213,0.22222222222222224,0.23232323232323235,0.24242424242424243,0.25252525252525254,0.26262626262626265,0.27272727272727276,0.2828282828282829,0.29292929292929293,0.30303030303030304,0.31313131313131315,0.32323232323232326,0.33333333333333337,0.3434343434343435,0.3535353535353536,0.36363636363636365,0.37373737373737376,0.38383838383838387,0.393939393939394,0.4040404040404041,0.4141414141414142,0.42424242424242425,0.43434343434343436,0.4444444444444445,0.4545454545454546,0.4646464646464647,0.4747474747474748,0.48484848484848486,0.494949494949495,0.5050505050505051,0.5151515151515152,0.5252525252525253,0.5353535353535354,0.5454545454545455,0.5555555555555556,0.5656565656565657,0.5757575757575758,0.5858585858585859,0.595959595959596,0.6060606060606061,0.6161616161616162,0.6262626262626263,0.6363636363636365,0.6464646464646465,0.6565656565656566,0.6666666666666667,0.6767676767676768,0.686868686868687,0.696969696969697,0.7070707070707072,0.7171717171717172,0.7272727272727273,0.7373737373737375,0.7474747474747475,0.7575757575757577,0.7676767676767677,0.7777777777777778,0.787878787878788,0.797979797979798,0.8080808080808082,0.8181818181818182,0.8282828282828284,0.8383838383838385,0.8484848484848485,0.8585858585858587,0.8686868686868687,0.8787878787878789,0.888888888888889,0.8989898989898991,0.9090909090909092,0.9191919191919192,0.9292929292929294,0.9393939393939394,0.9494949494949496,0.9595959595959597,0.9696969696969697,0.9797979797979799,0.98989898989899,1.0],\"y\":[4.572956975292039,4.123332237965092,6.66348284333878,4.492631296112054,3.7623708883091522,3.536510950063332,4.9724557978290695,6.042865045813494,3.612673485862164,5.527186829782253,4.683420903513728,5.835749369391999,5.671211371897305,6.697056036836881,3.7387127932472874,5.486251390453082,4.062684418297237,6.052339291063953,4.943673811132393,4.806797113539768,5.404412162568694,3.9796386289656116,4.80070441238733,7.018421971251573,6.188080659046516,4.645016591875966,6.3657698423024005,5.393287741990675,6.344508731346401,5.124192884064593,4.816114528842102,3.7342970737595214,4.945031491570531,6.396785263822018,5.631248664518859,4.081131743997329,6.4019024411338785,7.049073250278293,5.97119931069379,5.762075669242463,5.19777005622912,6.18211820334,5.469783671698596,4.296571146698603,4.737434952008381,5.233707689233443,5.508332195530425,4.32697610112876,7.45334254182217,5.381514455487391,6.288144358703693,6.810824294290419,6.615003884410582,6.694834865182671,5.488040116106084,3.6236751556368025,6.618712929105244,6.1887670404310455,2.65192224674093,6.026090188973007,4.618149473718328,6.5592326584693685,5.34818314928526,5.227028562467187,4.517046304014747,4.253328811212301,4.099947702488392,3.3709930972465436,6.318919543229535,5.657836792594502,6.017629173777254,4.909964707979239,4.431272390882538,5.756219476533546,5.395394944865298,5.216461562576204,7.071389292621163,4.202910206166477,3.71425945530672,4.150867408624922,4.177877937765232,6.395590359987594,7.930194148435309,5.137061716577551,3.706874405383344,5.746424392399366,3.5359986431702755,5.532007843765492,6.849393761273207,4.516640758706718,5.631743178301764,5.443351113285946,3.6718217916523503,5.170019513236573,6.542484501585912,4.302379003833998,4.956430392311264,5.508277660826308,4.4651349775919975,5.444049240893955],\"type\":\"scatter\"},{\"mode\":\"lines+markers\",\"name\":\"lines+markers\",\"x\":[0.0,0.010101010101010102,0.020202020202020204,0.030303030303030304,0.04040404040404041,0.05050505050505051,0.06060606060606061,0.07070707070707072,0.08080808080808081,0.09090909090909091,0.10101010101010102,0.11111111111111112,0.12121212121212122,0.13131313131313133,0.14141414141414144,0.15151515151515152,0.16161616161616163,0.17171717171717174,0.18181818181818182,0.19191919191919193,0.20202020202020204,0.21212121212121213,0.22222222222222224,0.23232323232323235,0.24242424242424243,0.25252525252525254,0.26262626262626265,0.27272727272727276,0.2828282828282829,0.29292929292929293,0.30303030303030304,0.31313131313131315,0.32323232323232326,0.33333333333333337,0.3434343434343435,0.3535353535353536,0.36363636363636365,0.37373737373737376,0.38383838383838387,0.393939393939394,0.4040404040404041,0.4141414141414142,0.42424242424242425,0.43434343434343436,0.4444444444444445,0.4545454545454546,0.4646464646464647,0.4747474747474748,0.48484848484848486,0.494949494949495,0.5050505050505051,0.5151515151515152,0.5252525252525253,0.5353535353535354,0.5454545454545455,0.5555555555555556,0.5656565656565657,0.5757575757575758,0.5858585858585859,0.595959595959596,0.6060606060606061,0.6161616161616162,0.6262626262626263,0.6363636363636365,0.6464646464646465,0.6565656565656566,0.6666666666666667,0.6767676767676768,0.686868686868687,0.696969696969697,0.7070707070707072,0.7171717171717172,0.7272727272727273,0.7373737373737375,0.7474747474747475,0.7575757575757577,0.7676767676767677,0.7777777777777778,0.787878787878788,0.797979797979798,0.8080808080808082,0.8181818181818182,0.8282828282828284,0.8383838383838385,0.8484848484848485,0.8585858585858587,0.8686868686868687,0.8787878787878789,0.888888888888889,0.8989898989898991,0.9090909090909092,0.9191919191919192,0.9292929292929294,0.9393939393939394,0.9494949494949496,0.9595959595959597,0.9696969696969697,0.9797979797979799,0.98989898989899,1.0],\"y\":[-0.6927801430845875,-1.5165295620376118,0.9207568833064418,0.20872651637654518,-0.0943020498383217,-0.5893780587458072,1.3972177953617453,0.33818822620554656,-1.8155530819348673,-0.9424955877978305,0.22897590941137566,0.31984142317713954,0.5688915230157021,-0.49214056292717573,0.7738644718274823,-1.1359727299399816,-0.3924847671545218,0.014712033788327911,-0.923451979071587,-1.871829214068314,-0.06782129443143746,1.0896970366145373,-0.008123070028116611,1.1496816270620784,1.0975393269743647,-0.7571183426603798,-2.26509770005089,-0.8617631284058354,0.4063724144303353,1.4627777256874446,0.7950330895546488,1.111050364229449,0.6990251407307561,-0.23971909708895137,-0.4976788382460045,-0.1888024204420082,-0.23607351272188884,-2.192430736755564,-0.26645426757574686,1.0248239065436695,-2.7665163635774124,-0.4617052454851214,0.5070014927362967,0.921451180533073,-0.8523431000100598,-2.434194496610772,0.4544908260572011,0.3307112425630756,0.9611360988249229,-2.442542673706455,2.5794536197176394,0.6854259903088215,-1.9917795386785109,1.4632179881538363,0.8899664425840659,1.67780112543747,-0.5009476394034067,1.6332365810874467,-0.09238089072096642,-0.23198652737086292,0.820114128265268,-0.8419182803667287,-0.9283620990285887,0.25697821493941236,-1.1122435575288414,0.9800162713314524,-0.11351293188633535,2.981664593686979,-0.7388544758981777,0.5985532343274375,0.03533308284040824,1.1087833350053944,0.38954605512684776,1.2212019004068548,-0.38300541428999113,0.2045778593171882,1.2047842538458078,-0.558963767024376,0.2173617632542898,-1.7840268274851638,-0.8868972372399492,-1.030798180159372,0.24748254196063665,1.6499213248309517,0.3047979505010874,-0.855912824039764,0.9312096520144191,2.573367099050516,-0.9435455498309642,-0.552343326125431,-1.5206656821964535,-2.3809048691235173,-1.8028535769889669,-1.5288020347305196,-0.809216583254992,2.0223838580226587,-0.8091259051542102,1.1884838322521458,0.6705681728684889,0.5292171740132645],\"type\":\"scatter\"},{\"mode\":\"lines\",\"name\":\"lines\",\"x\":[0.0,0.010101010101010102,0.020202020202020204,0.030303030303030304,0.04040404040404041,0.05050505050505051,0.06060606060606061,0.07070707070707072,0.08080808080808081,0.09090909090909091,0.10101010101010102,0.11111111111111112,0.12121212121212122,0.13131313131313133,0.14141414141414144,0.15151515151515152,0.16161616161616163,0.17171717171717174,0.18181818181818182,0.19191919191919193,0.20202020202020204,0.21212121212121213,0.22222222222222224,0.23232323232323235,0.24242424242424243,0.25252525252525254,0.26262626262626265,0.27272727272727276,0.2828282828282829,0.29292929292929293,0.30303030303030304,0.31313131313131315,0.32323232323232326,0.33333333333333337,0.3434343434343435,0.3535353535353536,0.36363636363636365,0.37373737373737376,0.38383838383838387,0.393939393939394,0.4040404040404041,0.4141414141414142,0.42424242424242425,0.43434343434343436,0.4444444444444445,0.4545454545454546,0.4646464646464647,0.4747474747474748,0.48484848484848486,0.494949494949495,0.5050505050505051,0.5151515151515152,0.5252525252525253,0.5353535353535354,0.5454545454545455,0.5555555555555556,0.5656565656565657,0.5757575757575758,0.5858585858585859,0.595959595959596,0.6060606060606061,0.6161616161616162,0.6262626262626263,0.6363636363636365,0.6464646464646465,0.6565656565656566,0.6666666666666667,0.6767676767676768,0.686868686868687,0.696969696969697,0.7070707070707072,0.7171717171717172,0.7272727272727273,0.7373737373737375,0.7474747474747475,0.7575757575757577,0.7676767676767677,0.7777777777777778,0.787878787878788,0.797979797979798,0.8080808080808082,0.8181818181818182,0.8282828282828284,0.8383838383838385,0.8484848484848485,0.8585858585858587,0.8686868686868687,0.8787878787878789,0.888888888888889,0.8989898989898991,0.9090909090909092,0.9191919191919192,0.9292929292929294,0.9393939393939394,0.9494949494949496,0.9595959595959597,0.9696969696969697,0.9797979797979799,0.98989898989899,1.0],\"y\":[-4.825896501837872,-5.1818733332486815,-3.759275842115529,-4.576106994319394,-2.96796871633073,-5.030459391492225,-5.674104654390884,-6.489963715415573,-4.893837688383462,-5.496343887754175,-5.200919339258348,-5.490118168977523,-6.391285815039718,-4.552885277759979,-5.028615447191473,-3.918203619140745,-5.412920591788075,-4.823506543772393,-4.7458452690306085,-3.6407273673638185,-5.100992716445967,-3.5161444242073454,-3.35095352628519,-5.903230062148108,-3.6854388231879245,-6.344553001439742,-3.7991051360155184,-4.174513286170366,-3.536732532978708,-4.911732585077481,-2.488338997183598,-4.974089222450751,-5.246614457949346,-5.2791681373241675,-4.120881215899339,-5.513558329392367,-4.406925384841283,-4.701160191606153,-4.694318581010391,-5.464920803537238,-4.791629825985966,-6.33964429136257,-4.993003510664068,-3.4638623843177063,-5.590718176479456,-6.346104773800778,-5.5766442624598715,-6.727824145621681,-3.840792652312061,-3.9896101275178495,-6.528186022979,-4.750319110854997,-5.098544955268439,-3.565887502651412,-3.1506287321670587,-3.701330349555194,-5.130630518474609,-6.369493177152683,-4.586758274125875,-4.516632545579909,-4.056933585857821,-4.402600292932577,-6.216161765774859,-3.676441606212024,-3.1582562398233254,-6.0141877878591306,-5.372332854713167,-5.16282034773994,-4.681779058816716,-6.271180212587984,-5.1306297818880715,-4.426228252228926,-4.219176379027433,-5.630462711477561,-3.878056309656045,-5.63237476447501,-4.762259453273813,-3.826914679850223,-4.960581951692893,-6.723040492788,-5.069530359791234,-4.545652758179768,-4.6962137141886835,-5.33132736310909,-5.205398240389837,-6.401840819587239,-5.473153423817095,-6.010410825553992,-3.570706019545979,-4.039226353455439,-6.058074281637973,-4.020158534291157,-4.721238336413876,-4.815289339005449,-4.720597094880218,-4.196572369875625,-8.038932172107252,-4.880526236629464,-6.203386618346043,-3.9608742116785143],\"type\":\"scatter\"}],                        {\"template\":{\"data\":{\"barpolar\":[{\"marker\":{\"line\":{\"color\":\"#E5ECF6\",\"width\":0.5},\"pattern\":{\"fillmode\":\"overlay\",\"size\":10,\"solidity\":0.2}},\"type\":\"barpolar\"}],\"bar\":[{\"error_x\":{\"color\":\"#2a3f5f\"},\"error_y\":{\"color\":\"#2a3f5f\"},\"marker\":{\"line\":{\"color\":\"#E5ECF6\",\"width\":0.5},\"pattern\":{\"fillmode\":\"overlay\",\"size\":10,\"solidity\":0.2}},\"type\":\"bar\"}],\"carpet\":[{\"aaxis\":{\"endlinecolor\":\"#2a3f5f\",\"gridcolor\":\"white\",\"linecolor\":\"white\",\"minorgridcolor\":\"white\",\"startlinecolor\":\"#2a3f5f\"},\"baxis\":{\"endlinecolor\":\"#2a3f5f\",\"gridcolor\":\"white\",\"linecolor\":\"white\",\"minorgridcolor\":\"white\",\"startlinecolor\":\"#2a3f5f\"},\"type\":\"carpet\"}],\"choropleth\":[{\"colorbar\":{\"outlinewidth\":0,\"ticks\":\"\"},\"type\":\"choropleth\"}],\"contourcarpet\":[{\"colorbar\":{\"outlinewidth\":0,\"ticks\":\"\"},\"type\":\"contourcarpet\"}],\"contour\":[{\"colorbar\":{\"outlinewidth\":0,\"ticks\":\"\"},\"colorscale\":[[0.0,\"#0d0887\"],[0.1111111111111111,\"#46039f\"],[0.2222222222222222,\"#7201a8\"],[0.3333333333333333,\"#9c179e\"],[0.4444444444444444,\"#bd3786\"],[0.5555555555555556,\"#d8576b\"],[0.6666666666666666,\"#ed7953\"],[0.7777777777777778,\"#fb9f3a\"],[0.8888888888888888,\"#fdca26\"],[1.0,\"#f0f921\"]],\"type\":\"contour\"}],\"heatmapgl\":[{\"colorbar\":{\"outlinewidth\":0,\"ticks\":\"\"},\"colorscale\":[[0.0,\"#0d0887\"],[0.1111111111111111,\"#46039f\"],[0.2222222222222222,\"#7201a8\"],[0.3333333333333333,\"#9c179e\"],[0.4444444444444444,\"#bd3786\"],[0.5555555555555556,\"#d8576b\"],[0.6666666666666666,\"#ed7953\"],[0.7777777777777778,\"#fb9f3a\"],[0.8888888888888888,\"#fdca26\"],[1.0,\"#f0f921\"]],\"type\":\"heatmapgl\"}],\"heatmap\":[{\"colorbar\":{\"outlinewidth\":0,\"ticks\":\"\"},\"colorscale\":[[0.0,\"#0d0887\"],[0.1111111111111111,\"#46039f\"],[0.2222222222222222,\"#7201a8\"],[0.3333333333333333,\"#9c179e\"],[0.4444444444444444,\"#bd3786\"],[0.5555555555555556,\"#d8576b\"],[0.6666666666666666,\"#ed7953\"],[0.7777777777777778,\"#fb9f3a\"],[0.8888888888888888,\"#fdca26\"],[1.0,\"#f0f921\"]],\"type\":\"heatmap\"}],\"histogram2dcontour\":[{\"colorbar\":{\"outlinewidth\":0,\"ticks\":\"\"},\"colorscale\":[[0.0,\"#0d0887\"],[0.1111111111111111,\"#46039f\"],[0.2222222222222222,\"#7201a8\"],[0.3333333333333333,\"#9c179e\"],[0.4444444444444444,\"#bd3786\"],[0.5555555555555556,\"#d8576b\"],[0.6666666666666666,\"#ed7953\"],[0.7777777777777778,\"#fb9f3a\"],[0.8888888888888888,\"#fdca26\"],[1.0,\"#f0f921\"]],\"type\":\"histogram2dcontour\"}],\"histogram2d\":[{\"colorbar\":{\"outlinewidth\":0,\"ticks\":\"\"},\"colorscale\":[[0.0,\"#0d0887\"],[0.1111111111111111,\"#46039f\"],[0.2222222222222222,\"#7201a8\"],[0.3333333333333333,\"#9c179e\"],[0.4444444444444444,\"#bd3786\"],[0.5555555555555556,\"#d8576b\"],[0.6666666666666666,\"#ed7953\"],[0.7777777777777778,\"#fb9f3a\"],[0.8888888888888888,\"#fdca26\"],[1.0,\"#f0f921\"]],\"type\":\"histogram2d\"}],\"histogram\":[{\"marker\":{\"pattern\":{\"fillmode\":\"overlay\",\"size\":10,\"solidity\":0.2}},\"type\":\"histogram\"}],\"mesh3d\":[{\"colorbar\":{\"outlinewidth\":0,\"ticks\":\"\"},\"type\":\"mesh3d\"}],\"parcoords\":[{\"line\":{\"colorbar\":{\"outlinewidth\":0,\"ticks\":\"\"}},\"type\":\"parcoords\"}],\"pie\":[{\"automargin\":true,\"type\":\"pie\"}],\"scatter3d\":[{\"line\":{\"colorbar\":{\"outlinewidth\":0,\"ticks\":\"\"}},\"marker\":{\"colorbar\":{\"outlinewidth\":0,\"ticks\":\"\"}},\"type\":\"scatter3d\"}],\"scattercarpet\":[{\"marker\":{\"colorbar\":{\"outlinewidth\":0,\"ticks\":\"\"}},\"type\":\"scattercarpet\"}],\"scattergeo\":[{\"marker\":{\"colorbar\":{\"outlinewidth\":0,\"ticks\":\"\"}},\"type\":\"scattergeo\"}],\"scattergl\":[{\"marker\":{\"colorbar\":{\"outlinewidth\":0,\"ticks\":\"\"}},\"type\":\"scattergl\"}],\"scattermapbox\":[{\"marker\":{\"colorbar\":{\"outlinewidth\":0,\"ticks\":\"\"}},\"type\":\"scattermapbox\"}],\"scatterpolargl\":[{\"marker\":{\"colorbar\":{\"outlinewidth\":0,\"ticks\":\"\"}},\"type\":\"scatterpolargl\"}],\"scatterpolar\":[{\"marker\":{\"colorbar\":{\"outlinewidth\":0,\"ticks\":\"\"}},\"type\":\"scatterpolar\"}],\"scatter\":[{\"fillpattern\":{\"fillmode\":\"overlay\",\"size\":10,\"solidity\":0.2},\"type\":\"scatter\"}],\"scatterternary\":[{\"marker\":{\"colorbar\":{\"outlinewidth\":0,\"ticks\":\"\"}},\"type\":\"scatterternary\"}],\"surface\":[{\"colorbar\":{\"outlinewidth\":0,\"ticks\":\"\"},\"colorscale\":[[0.0,\"#0d0887\"],[0.1111111111111111,\"#46039f\"],[0.2222222222222222,\"#7201a8\"],[0.3333333333333333,\"#9c179e\"],[0.4444444444444444,\"#bd3786\"],[0.5555555555555556,\"#d8576b\"],[0.6666666666666666,\"#ed7953\"],[0.7777777777777778,\"#fb9f3a\"],[0.8888888888888888,\"#fdca26\"],[1.0,\"#f0f921\"]],\"type\":\"surface\"}],\"table\":[{\"cells\":{\"fill\":{\"color\":\"#EBF0F8\"},\"line\":{\"color\":\"white\"}},\"header\":{\"fill\":{\"color\":\"#C8D4E3\"},\"line\":{\"color\":\"white\"}},\"type\":\"table\"}]},\"layout\":{\"annotationdefaults\":{\"arrowcolor\":\"#2a3f5f\",\"arrowhead\":0,\"arrowwidth\":1},\"autotypenumbers\":\"strict\",\"coloraxis\":{\"colorbar\":{\"outlinewidth\":0,\"ticks\":\"\"}},\"colorscale\":{\"diverging\":[[0,\"#8e0152\"],[0.1,\"#c51b7d\"],[0.2,\"#de77ae\"],[0.3,\"#f1b6da\"],[0.4,\"#fde0ef\"],[0.5,\"#f7f7f7\"],[0.6,\"#e6f5d0\"],[0.7,\"#b8e186\"],[0.8,\"#7fbc41\"],[0.9,\"#4d9221\"],[1,\"#276419\"]],\"sequential\":[[0.0,\"#0d0887\"],[0.1111111111111111,\"#46039f\"],[0.2222222222222222,\"#7201a8\"],[0.3333333333333333,\"#9c179e\"],[0.4444444444444444,\"#bd3786\"],[0.5555555555555556,\"#d8576b\"],[0.6666666666666666,\"#ed7953\"],[0.7777777777777778,\"#fb9f3a\"],[0.8888888888888888,\"#fdca26\"],[1.0,\"#f0f921\"]],\"sequentialminus\":[[0.0,\"#0d0887\"],[0.1111111111111111,\"#46039f\"],[0.2222222222222222,\"#7201a8\"],[0.3333333333333333,\"#9c179e\"],[0.4444444444444444,\"#bd3786\"],[0.5555555555555556,\"#d8576b\"],[0.6666666666666666,\"#ed7953\"],[0.7777777777777778,\"#fb9f3a\"],[0.8888888888888888,\"#fdca26\"],[1.0,\"#f0f921\"]]},\"colorway\":[\"#636efa\",\"#EF553B\",\"#00cc96\",\"#ab63fa\",\"#FFA15A\",\"#19d3f3\",\"#FF6692\",\"#B6E880\",\"#FF97FF\",\"#FECB52\"],\"font\":{\"color\":\"#2a3f5f\"},\"geo\":{\"bgcolor\":\"white\",\"lakecolor\":\"white\",\"landcolor\":\"#E5ECF6\",\"showlakes\":true,\"showland\":true,\"subunitcolor\":\"white\"},\"hoverlabel\":{\"align\":\"left\"},\"hovermode\":\"closest\",\"mapbox\":{\"style\":\"light\"},\"paper_bgcolor\":\"white\",\"plot_bgcolor\":\"#E5ECF6\",\"polar\":{\"angularaxis\":{\"gridcolor\":\"white\",\"linecolor\":\"white\",\"ticks\":\"\"},\"bgcolor\":\"#E5ECF6\",\"radialaxis\":{\"gridcolor\":\"white\",\"linecolor\":\"white\",\"ticks\":\"\"}},\"scene\":{\"xaxis\":{\"backgroundcolor\":\"#E5ECF6\",\"gridcolor\":\"white\",\"gridwidth\":2,\"linecolor\":\"white\",\"showbackground\":true,\"ticks\":\"\",\"zerolinecolor\":\"white\"},\"yaxis\":{\"backgroundcolor\":\"#E5ECF6\",\"gridcolor\":\"white\",\"gridwidth\":2,\"linecolor\":\"white\",\"showbackground\":true,\"ticks\":\"\",\"zerolinecolor\":\"white\"},\"zaxis\":{\"backgroundcolor\":\"#E5ECF6\",\"gridcolor\":\"white\",\"gridwidth\":2,\"linecolor\":\"white\",\"showbackground\":true,\"ticks\":\"\",\"zerolinecolor\":\"white\"}},\"shapedefaults\":{\"line\":{\"color\":\"#2a3f5f\"}},\"ternary\":{\"aaxis\":{\"gridcolor\":\"white\",\"linecolor\":\"white\",\"ticks\":\"\"},\"baxis\":{\"gridcolor\":\"white\",\"linecolor\":\"white\",\"ticks\":\"\"},\"bgcolor\":\"#E5ECF6\",\"caxis\":{\"gridcolor\":\"white\",\"linecolor\":\"white\",\"ticks\":\"\"}},\"title\":{\"x\":0.05},\"xaxis\":{\"automargin\":true,\"gridcolor\":\"white\",\"linecolor\":\"white\",\"ticks\":\"\",\"title\":{\"standoff\":15},\"zerolinecolor\":\"white\",\"zerolinewidth\":2},\"yaxis\":{\"automargin\":true,\"gridcolor\":\"white\",\"linecolor\":\"white\",\"ticks\":\"\",\"title\":{\"standoff\":15},\"zerolinecolor\":\"white\",\"zerolinewidth\":2}}}},                        {\"responsive\": true}                    ).then(function(){\n",
       "                            \n",
       "var gd = document.getElementById('36ad46d9-7e38-4ff3-b347-90101414e6d2');\n",
       "var x = new MutationObserver(function (mutations, observer) {{\n",
       "        var display = window.getComputedStyle(gd).display;\n",
       "        if (!display || display === 'none') {{\n",
       "            console.log([gd, 'removed!']);\n",
       "            Plotly.purge(gd);\n",
       "            observer.disconnect();\n",
       "        }}\n",
       "}});\n",
       "\n",
       "// Listen for the removal of the full notebook cells\n",
       "var notebookContainer = gd.closest('#notebook-container');\n",
       "if (notebookContainer) {{\n",
       "    x.observe(notebookContainer, {childList: true});\n",
       "}}\n",
       "\n",
       "// Listen for the clearing of the current output cell\n",
       "var outputEl = gd.closest('.output');\n",
       "if (outputEl) {{\n",
       "    x.observe(outputEl, {childList: true});\n",
       "}}\n",
       "\n",
       "                        })                };                });            </script>        </div>"
      ]
     },
     "metadata": {},
     "output_type": "display_data"
    },
    {
     "data": {
      "application/vnd.plotly.v1+json": {
       "config": {
        "linkText": "Export to plot.ly",
        "plotlyServerURL": "https://plot.ly",
        "showLink": false
       },
       "data": [
        {
         "mode": "markers",
         "name": "setosa",
         "type": "scatter",
         "x": [
          5.1,
          4.9,
          4.7,
          4.6,
          5,
          5.4,
          4.6,
          5,
          4.4,
          4.9,
          5.4,
          4.8,
          4.8,
          4.3,
          5.8,
          5.7,
          5.4,
          5.1,
          5.7,
          5.1,
          5.4,
          5.1,
          4.6,
          5.1,
          4.8,
          5,
          5,
          5.2,
          5.2,
          4.7,
          4.8,
          5.4,
          5.2,
          5.5,
          4.9,
          5,
          5.5,
          4.9,
          4.4,
          5.1,
          5,
          4.5,
          4.4,
          5,
          5.1,
          4.8,
          5.1,
          4.6,
          5.3,
          5
         ],
         "y": [
          0.2,
          0.2,
          0.2,
          0.2,
          0.2,
          0.4,
          0.3,
          0.2,
          0.2,
          0.1,
          0.2,
          0.2,
          0.1,
          0.1,
          0.2,
          0.4,
          0.4,
          0.3,
          0.3,
          0.3,
          0.2,
          0.4,
          0.2,
          0.5,
          0.2,
          0.2,
          0.4,
          0.2,
          0.2,
          0.2,
          0.2,
          0.4,
          0.1,
          0.2,
          0.2,
          0.2,
          0.2,
          0.1,
          0.2,
          0.2,
          0.3,
          0.3,
          0.2,
          0.6,
          0.4,
          0.3,
          0.2,
          0.2,
          0.2,
          0.2
         ]
        },
        {
         "mode": "markers",
         "name": "versicolor",
         "type": "scatter",
         "x": [
          7,
          6.4,
          6.9,
          5.5,
          6.5,
          5.7,
          6.3,
          4.9,
          6.6,
          5.2,
          5,
          5.9,
          6,
          6.1,
          5.6,
          6.7,
          5.6,
          5.8,
          6.2,
          5.6,
          5.9,
          6.1,
          6.3,
          6.1,
          6.4,
          6.6,
          6.8,
          6.7,
          6,
          5.7,
          5.5,
          5.5,
          5.8,
          6,
          5.4,
          6,
          6.7,
          6.3,
          5.6,
          5.5,
          5.5,
          6.1,
          5.8,
          5,
          5.6,
          5.7,
          5.7,
          6.2,
          5.1,
          5.7
         ],
         "y": [
          1.4,
          1.5,
          1.5,
          1.3,
          1.5,
          1.3,
          1.6,
          1,
          1.3,
          1.4,
          1,
          1.5,
          1,
          1.4,
          1.3,
          1.4,
          1.5,
          1,
          1.5,
          1.1,
          1.8,
          1.3,
          1.5,
          1.2,
          1.3,
          1.4,
          1.4,
          1.7,
          1.5,
          1,
          1.1,
          1,
          1.2,
          1.6,
          1.5,
          1.6,
          1.5,
          1.3,
          1.3,
          1.3,
          1.2,
          1.4,
          1.2,
          1,
          1.3,
          1.2,
          1.3,
          1.3,
          1.1,
          1.3
         ]
        },
        {
         "mode": "markers",
         "name": "virginica",
         "type": "scatter",
         "x": [
          6.3,
          5.8,
          7.1,
          6.3,
          6.5,
          7.6,
          4.9,
          7.3,
          6.7,
          7.2,
          6.5,
          6.4,
          6.8,
          5.7,
          5.8,
          6.4,
          6.5,
          7.7,
          7.7,
          6,
          6.9,
          5.6,
          7.7,
          6.3,
          6.7,
          7.2,
          6.2,
          6.1,
          6.4,
          7.2,
          7.4,
          7.9,
          6.4,
          6.3,
          6.1,
          7.7,
          6.3,
          6.4,
          6,
          6.9,
          6.7,
          6.9,
          5.8,
          6.8,
          6.7,
          6.7,
          6.3,
          6.5,
          6.2,
          5.9
         ],
         "y": [
          2.5,
          1.9,
          2.1,
          1.8,
          2.2,
          2.1,
          1.7,
          1.8,
          1.8,
          2.5,
          2,
          1.9,
          2.1,
          2,
          2.4,
          2.3,
          1.8,
          2.2,
          2.3,
          1.5,
          2.3,
          2,
          2,
          1.8,
          2.1,
          1.8,
          1.8,
          1.8,
          2.1,
          1.6,
          1.9,
          2,
          2.2,
          1.5,
          1.4,
          2.3,
          2.4,
          1.8,
          1.8,
          2.1,
          2.4,
          2.3,
          1.9,
          2.3,
          2.5,
          2.3,
          1.9,
          2,
          2.3,
          1.8
         ]
        }
       ],
       "layout": {
        "template": {
         "data": {
          "bar": [
           {
            "error_x": {
             "color": "#2a3f5f"
            },
            "error_y": {
             "color": "#2a3f5f"
            },
            "marker": {
             "line": {
              "color": "#E5ECF6",
              "width": 0.5
             },
             "pattern": {
              "fillmode": "overlay",
              "size": 10,
              "solidity": 0.2
             }
            },
            "type": "bar"
           }
          ],
          "barpolar": [
           {
            "marker": {
             "line": {
              "color": "#E5ECF6",
              "width": 0.5
             },
             "pattern": {
              "fillmode": "overlay",
              "size": 10,
              "solidity": 0.2
             }
            },
            "type": "barpolar"
           }
          ],
          "carpet": [
           {
            "aaxis": {
             "endlinecolor": "#2a3f5f",
             "gridcolor": "white",
             "linecolor": "white",
             "minorgridcolor": "white",
             "startlinecolor": "#2a3f5f"
            },
            "baxis": {
             "endlinecolor": "#2a3f5f",
             "gridcolor": "white",
             "linecolor": "white",
             "minorgridcolor": "white",
             "startlinecolor": "#2a3f5f"
            },
            "type": "carpet"
           }
          ],
          "choropleth": [
           {
            "colorbar": {
             "outlinewidth": 0,
             "ticks": ""
            },
            "type": "choropleth"
           }
          ],
          "contour": [
           {
            "colorbar": {
             "outlinewidth": 0,
             "ticks": ""
            },
            "colorscale": [
             [
              0,
              "#0d0887"
             ],
             [
              0.1111111111111111,
              "#46039f"
             ],
             [
              0.2222222222222222,
              "#7201a8"
             ],
             [
              0.3333333333333333,
              "#9c179e"
             ],
             [
              0.4444444444444444,
              "#bd3786"
             ],
             [
              0.5555555555555556,
              "#d8576b"
             ],
             [
              0.6666666666666666,
              "#ed7953"
             ],
             [
              0.7777777777777778,
              "#fb9f3a"
             ],
             [
              0.8888888888888888,
              "#fdca26"
             ],
             [
              1,
              "#f0f921"
             ]
            ],
            "type": "contour"
           }
          ],
          "contourcarpet": [
           {
            "colorbar": {
             "outlinewidth": 0,
             "ticks": ""
            },
            "type": "contourcarpet"
           }
          ],
          "heatmap": [
           {
            "colorbar": {
             "outlinewidth": 0,
             "ticks": ""
            },
            "colorscale": [
             [
              0,
              "#0d0887"
             ],
             [
              0.1111111111111111,
              "#46039f"
             ],
             [
              0.2222222222222222,
              "#7201a8"
             ],
             [
              0.3333333333333333,
              "#9c179e"
             ],
             [
              0.4444444444444444,
              "#bd3786"
             ],
             [
              0.5555555555555556,
              "#d8576b"
             ],
             [
              0.6666666666666666,
              "#ed7953"
             ],
             [
              0.7777777777777778,
              "#fb9f3a"
             ],
             [
              0.8888888888888888,
              "#fdca26"
             ],
             [
              1,
              "#f0f921"
             ]
            ],
            "type": "heatmap"
           }
          ],
          "heatmapgl": [
           {
            "colorbar": {
             "outlinewidth": 0,
             "ticks": ""
            },
            "colorscale": [
             [
              0,
              "#0d0887"
             ],
             [
              0.1111111111111111,
              "#46039f"
             ],
             [
              0.2222222222222222,
              "#7201a8"
             ],
             [
              0.3333333333333333,
              "#9c179e"
             ],
             [
              0.4444444444444444,
              "#bd3786"
             ],
             [
              0.5555555555555556,
              "#d8576b"
             ],
             [
              0.6666666666666666,
              "#ed7953"
             ],
             [
              0.7777777777777778,
              "#fb9f3a"
             ],
             [
              0.8888888888888888,
              "#fdca26"
             ],
             [
              1,
              "#f0f921"
             ]
            ],
            "type": "heatmapgl"
           }
          ],
          "histogram": [
           {
            "marker": {
             "pattern": {
              "fillmode": "overlay",
              "size": 10,
              "solidity": 0.2
             }
            },
            "type": "histogram"
           }
          ],
          "histogram2d": [
           {
            "colorbar": {
             "outlinewidth": 0,
             "ticks": ""
            },
            "colorscale": [
             [
              0,
              "#0d0887"
             ],
             [
              0.1111111111111111,
              "#46039f"
             ],
             [
              0.2222222222222222,
              "#7201a8"
             ],
             [
              0.3333333333333333,
              "#9c179e"
             ],
             [
              0.4444444444444444,
              "#bd3786"
             ],
             [
              0.5555555555555556,
              "#d8576b"
             ],
             [
              0.6666666666666666,
              "#ed7953"
             ],
             [
              0.7777777777777778,
              "#fb9f3a"
             ],
             [
              0.8888888888888888,
              "#fdca26"
             ],
             [
              1,
              "#f0f921"
             ]
            ],
            "type": "histogram2d"
           }
          ],
          "histogram2dcontour": [
           {
            "colorbar": {
             "outlinewidth": 0,
             "ticks": ""
            },
            "colorscale": [
             [
              0,
              "#0d0887"
             ],
             [
              0.1111111111111111,
              "#46039f"
             ],
             [
              0.2222222222222222,
              "#7201a8"
             ],
             [
              0.3333333333333333,
              "#9c179e"
             ],
             [
              0.4444444444444444,
              "#bd3786"
             ],
             [
              0.5555555555555556,
              "#d8576b"
             ],
             [
              0.6666666666666666,
              "#ed7953"
             ],
             [
              0.7777777777777778,
              "#fb9f3a"
             ],
             [
              0.8888888888888888,
              "#fdca26"
             ],
             [
              1,
              "#f0f921"
             ]
            ],
            "type": "histogram2dcontour"
           }
          ],
          "mesh3d": [
           {
            "colorbar": {
             "outlinewidth": 0,
             "ticks": ""
            },
            "type": "mesh3d"
           }
          ],
          "parcoords": [
           {
            "line": {
             "colorbar": {
              "outlinewidth": 0,
              "ticks": ""
             }
            },
            "type": "parcoords"
           }
          ],
          "pie": [
           {
            "automargin": true,
            "type": "pie"
           }
          ],
          "scatter": [
           {
            "fillpattern": {
             "fillmode": "overlay",
             "size": 10,
             "solidity": 0.2
            },
            "type": "scatter"
           }
          ],
          "scatter3d": [
           {
            "line": {
             "colorbar": {
              "outlinewidth": 0,
              "ticks": ""
             }
            },
            "marker": {
             "colorbar": {
              "outlinewidth": 0,
              "ticks": ""
             }
            },
            "type": "scatter3d"
           }
          ],
          "scattercarpet": [
           {
            "marker": {
             "colorbar": {
              "outlinewidth": 0,
              "ticks": ""
             }
            },
            "type": "scattercarpet"
           }
          ],
          "scattergeo": [
           {
            "marker": {
             "colorbar": {
              "outlinewidth": 0,
              "ticks": ""
             }
            },
            "type": "scattergeo"
           }
          ],
          "scattergl": [
           {
            "marker": {
             "colorbar": {
              "outlinewidth": 0,
              "ticks": ""
             }
            },
            "type": "scattergl"
           }
          ],
          "scattermapbox": [
           {
            "marker": {
             "colorbar": {
              "outlinewidth": 0,
              "ticks": ""
             }
            },
            "type": "scattermapbox"
           }
          ],
          "scatterpolar": [
           {
            "marker": {
             "colorbar": {
              "outlinewidth": 0,
              "ticks": ""
             }
            },
            "type": "scatterpolar"
           }
          ],
          "scatterpolargl": [
           {
            "marker": {
             "colorbar": {
              "outlinewidth": 0,
              "ticks": ""
             }
            },
            "type": "scatterpolargl"
           }
          ],
          "scatterternary": [
           {
            "marker": {
             "colorbar": {
              "outlinewidth": 0,
              "ticks": ""
             }
            },
            "type": "scatterternary"
           }
          ],
          "surface": [
           {
            "colorbar": {
             "outlinewidth": 0,
             "ticks": ""
            },
            "colorscale": [
             [
              0,
              "#0d0887"
             ],
             [
              0.1111111111111111,
              "#46039f"
             ],
             [
              0.2222222222222222,
              "#7201a8"
             ],
             [
              0.3333333333333333,
              "#9c179e"
             ],
             [
              0.4444444444444444,
              "#bd3786"
             ],
             [
              0.5555555555555556,
              "#d8576b"
             ],
             [
              0.6666666666666666,
              "#ed7953"
             ],
             [
              0.7777777777777778,
              "#fb9f3a"
             ],
             [
              0.8888888888888888,
              "#fdca26"
             ],
             [
              1,
              "#f0f921"
             ]
            ],
            "type": "surface"
           }
          ],
          "table": [
           {
            "cells": {
             "fill": {
              "color": "#EBF0F8"
             },
             "line": {
              "color": "white"
             }
            },
            "header": {
             "fill": {
              "color": "#C8D4E3"
             },
             "line": {
              "color": "white"
             }
            },
            "type": "table"
           }
          ]
         },
         "layout": {
          "annotationdefaults": {
           "arrowcolor": "#2a3f5f",
           "arrowhead": 0,
           "arrowwidth": 1
          },
          "autotypenumbers": "strict",
          "coloraxis": {
           "colorbar": {
            "outlinewidth": 0,
            "ticks": ""
           }
          },
          "colorscale": {
           "diverging": [
            [
             0,
             "#8e0152"
            ],
            [
             0.1,
             "#c51b7d"
            ],
            [
             0.2,
             "#de77ae"
            ],
            [
             0.3,
             "#f1b6da"
            ],
            [
             0.4,
             "#fde0ef"
            ],
            [
             0.5,
             "#f7f7f7"
            ],
            [
             0.6,
             "#e6f5d0"
            ],
            [
             0.7,
             "#b8e186"
            ],
            [
             0.8,
             "#7fbc41"
            ],
            [
             0.9,
             "#4d9221"
            ],
            [
             1,
             "#276419"
            ]
           ],
           "sequential": [
            [
             0,
             "#0d0887"
            ],
            [
             0.1111111111111111,
             "#46039f"
            ],
            [
             0.2222222222222222,
             "#7201a8"
            ],
            [
             0.3333333333333333,
             "#9c179e"
            ],
            [
             0.4444444444444444,
             "#bd3786"
            ],
            [
             0.5555555555555556,
             "#d8576b"
            ],
            [
             0.6666666666666666,
             "#ed7953"
            ],
            [
             0.7777777777777778,
             "#fb9f3a"
            ],
            [
             0.8888888888888888,
             "#fdca26"
            ],
            [
             1,
             "#f0f921"
            ]
           ],
           "sequentialminus": [
            [
             0,
             "#0d0887"
            ],
            [
             0.1111111111111111,
             "#46039f"
            ],
            [
             0.2222222222222222,
             "#7201a8"
            ],
            [
             0.3333333333333333,
             "#9c179e"
            ],
            [
             0.4444444444444444,
             "#bd3786"
            ],
            [
             0.5555555555555556,
             "#d8576b"
            ],
            [
             0.6666666666666666,
             "#ed7953"
            ],
            [
             0.7777777777777778,
             "#fb9f3a"
            ],
            [
             0.8888888888888888,
             "#fdca26"
            ],
            [
             1,
             "#f0f921"
            ]
           ]
          },
          "colorway": [
           "#636efa",
           "#EF553B",
           "#00cc96",
           "#ab63fa",
           "#FFA15A",
           "#19d3f3",
           "#FF6692",
           "#B6E880",
           "#FF97FF",
           "#FECB52"
          ],
          "font": {
           "color": "#2a3f5f"
          },
          "geo": {
           "bgcolor": "white",
           "lakecolor": "white",
           "landcolor": "#E5ECF6",
           "showlakes": true,
           "showland": true,
           "subunitcolor": "white"
          },
          "hoverlabel": {
           "align": "left"
          },
          "hovermode": "closest",
          "mapbox": {
           "style": "light"
          },
          "paper_bgcolor": "white",
          "plot_bgcolor": "#E5ECF6",
          "polar": {
           "angularaxis": {
            "gridcolor": "white",
            "linecolor": "white",
            "ticks": ""
           },
           "bgcolor": "#E5ECF6",
           "radialaxis": {
            "gridcolor": "white",
            "linecolor": "white",
            "ticks": ""
           }
          },
          "scene": {
           "xaxis": {
            "backgroundcolor": "#E5ECF6",
            "gridcolor": "white",
            "gridwidth": 2,
            "linecolor": "white",
            "showbackground": true,
            "ticks": "",
            "zerolinecolor": "white"
           },
           "yaxis": {
            "backgroundcolor": "#E5ECF6",
            "gridcolor": "white",
            "gridwidth": 2,
            "linecolor": "white",
            "showbackground": true,
            "ticks": "",
            "zerolinecolor": "white"
           },
           "zaxis": {
            "backgroundcolor": "#E5ECF6",
            "gridcolor": "white",
            "gridwidth": 2,
            "linecolor": "white",
            "showbackground": true,
            "ticks": "",
            "zerolinecolor": "white"
           }
          },
          "shapedefaults": {
           "line": {
            "color": "#2a3f5f"
           }
          },
          "ternary": {
           "aaxis": {
            "gridcolor": "white",
            "linecolor": "white",
            "ticks": ""
           },
           "baxis": {
            "gridcolor": "white",
            "linecolor": "white",
            "ticks": ""
           },
           "bgcolor": "#E5ECF6",
           "caxis": {
            "gridcolor": "white",
            "linecolor": "white",
            "ticks": ""
           }
          },
          "title": {
           "x": 0.05
          },
          "xaxis": {
           "automargin": true,
           "gridcolor": "white",
           "linecolor": "white",
           "ticks": "",
           "title": {
            "standoff": 15
           },
           "zerolinecolor": "white",
           "zerolinewidth": 2
          },
          "yaxis": {
           "automargin": true,
           "gridcolor": "white",
           "linecolor": "white",
           "ticks": "",
           "title": {
            "standoff": 15
           },
           "zerolinecolor": "white",
           "zerolinewidth": 2
          }
         }
        }
       }
      },
      "text/html": [
       "<div>                            <div id=\"b187c2ff-5154-4833-b0c0-279c2f0df2a8\" class=\"plotly-graph-div\" style=\"height:525px; width:100%;\"></div>            <script type=\"text/javascript\">                require([\"plotly\"], function(Plotly) {                    window.PLOTLYENV=window.PLOTLYENV || {};                                    if (document.getElementById(\"b187c2ff-5154-4833-b0c0-279c2f0df2a8\")) {                    Plotly.newPlot(                        \"b187c2ff-5154-4833-b0c0-279c2f0df2a8\",                        [{\"mode\":\"markers\",\"name\":\"setosa\",\"x\":[5.1,4.9,4.7,4.6,5.0,5.4,4.6,5.0,4.4,4.9,5.4,4.8,4.8,4.3,5.8,5.7,5.4,5.1,5.7,5.1,5.4,5.1,4.6,5.1,4.8,5.0,5.0,5.2,5.2,4.7,4.8,5.4,5.2,5.5,4.9,5.0,5.5,4.9,4.4,5.1,5.0,4.5,4.4,5.0,5.1,4.8,5.1,4.6,5.3,5.0],\"y\":[0.2,0.2,0.2,0.2,0.2,0.4,0.3,0.2,0.2,0.1,0.2,0.2,0.1,0.1,0.2,0.4,0.4,0.3,0.3,0.3,0.2,0.4,0.2,0.5,0.2,0.2,0.4,0.2,0.2,0.2,0.2,0.4,0.1,0.2,0.2,0.2,0.2,0.1,0.2,0.2,0.3,0.3,0.2,0.6,0.4,0.3,0.2,0.2,0.2,0.2],\"type\":\"scatter\"},{\"mode\":\"markers\",\"name\":\"versicolor\",\"x\":[7.0,6.4,6.9,5.5,6.5,5.7,6.3,4.9,6.6,5.2,5.0,5.9,6.0,6.1,5.6,6.7,5.6,5.8,6.2,5.6,5.9,6.1,6.3,6.1,6.4,6.6,6.8,6.7,6.0,5.7,5.5,5.5,5.8,6.0,5.4,6.0,6.7,6.3,5.6,5.5,5.5,6.1,5.8,5.0,5.6,5.7,5.7,6.2,5.1,5.7],\"y\":[1.4,1.5,1.5,1.3,1.5,1.3,1.6,1.0,1.3,1.4,1.0,1.5,1.0,1.4,1.3,1.4,1.5,1.0,1.5,1.1,1.8,1.3,1.5,1.2,1.3,1.4,1.4,1.7,1.5,1.0,1.1,1.0,1.2,1.6,1.5,1.6,1.5,1.3,1.3,1.3,1.2,1.4,1.2,1.0,1.3,1.2,1.3,1.3,1.1,1.3],\"type\":\"scatter\"},{\"mode\":\"markers\",\"name\":\"virginica\",\"x\":[6.3,5.8,7.1,6.3,6.5,7.6,4.9,7.3,6.7,7.2,6.5,6.4,6.8,5.7,5.8,6.4,6.5,7.7,7.7,6.0,6.9,5.6,7.7,6.3,6.7,7.2,6.2,6.1,6.4,7.2,7.4,7.9,6.4,6.3,6.1,7.7,6.3,6.4,6.0,6.9,6.7,6.9,5.8,6.8,6.7,6.7,6.3,6.5,6.2,5.9],\"y\":[2.5,1.9,2.1,1.8,2.2,2.1,1.7,1.8,1.8,2.5,2.0,1.9,2.1,2.0,2.4,2.3,1.8,2.2,2.3,1.5,2.3,2.0,2.0,1.8,2.1,1.8,1.8,1.8,2.1,1.6,1.9,2.0,2.2,1.5,1.4,2.3,2.4,1.8,1.8,2.1,2.4,2.3,1.9,2.3,2.5,2.3,1.9,2.0,2.3,1.8],\"type\":\"scatter\"}],                        {\"template\":{\"data\":{\"barpolar\":[{\"marker\":{\"line\":{\"color\":\"#E5ECF6\",\"width\":0.5},\"pattern\":{\"fillmode\":\"overlay\",\"size\":10,\"solidity\":0.2}},\"type\":\"barpolar\"}],\"bar\":[{\"error_x\":{\"color\":\"#2a3f5f\"},\"error_y\":{\"color\":\"#2a3f5f\"},\"marker\":{\"line\":{\"color\":\"#E5ECF6\",\"width\":0.5},\"pattern\":{\"fillmode\":\"overlay\",\"size\":10,\"solidity\":0.2}},\"type\":\"bar\"}],\"carpet\":[{\"aaxis\":{\"endlinecolor\":\"#2a3f5f\",\"gridcolor\":\"white\",\"linecolor\":\"white\",\"minorgridcolor\":\"white\",\"startlinecolor\":\"#2a3f5f\"},\"baxis\":{\"endlinecolor\":\"#2a3f5f\",\"gridcolor\":\"white\",\"linecolor\":\"white\",\"minorgridcolor\":\"white\",\"startlinecolor\":\"#2a3f5f\"},\"type\":\"carpet\"}],\"choropleth\":[{\"colorbar\":{\"outlinewidth\":0,\"ticks\":\"\"},\"type\":\"choropleth\"}],\"contourcarpet\":[{\"colorbar\":{\"outlinewidth\":0,\"ticks\":\"\"},\"type\":\"contourcarpet\"}],\"contour\":[{\"colorbar\":{\"outlinewidth\":0,\"ticks\":\"\"},\"colorscale\":[[0.0,\"#0d0887\"],[0.1111111111111111,\"#46039f\"],[0.2222222222222222,\"#7201a8\"],[0.3333333333333333,\"#9c179e\"],[0.4444444444444444,\"#bd3786\"],[0.5555555555555556,\"#d8576b\"],[0.6666666666666666,\"#ed7953\"],[0.7777777777777778,\"#fb9f3a\"],[0.8888888888888888,\"#fdca26\"],[1.0,\"#f0f921\"]],\"type\":\"contour\"}],\"heatmapgl\":[{\"colorbar\":{\"outlinewidth\":0,\"ticks\":\"\"},\"colorscale\":[[0.0,\"#0d0887\"],[0.1111111111111111,\"#46039f\"],[0.2222222222222222,\"#7201a8\"],[0.3333333333333333,\"#9c179e\"],[0.4444444444444444,\"#bd3786\"],[0.5555555555555556,\"#d8576b\"],[0.6666666666666666,\"#ed7953\"],[0.7777777777777778,\"#fb9f3a\"],[0.8888888888888888,\"#fdca26\"],[1.0,\"#f0f921\"]],\"type\":\"heatmapgl\"}],\"heatmap\":[{\"colorbar\":{\"outlinewidth\":0,\"ticks\":\"\"},\"colorscale\":[[0.0,\"#0d0887\"],[0.1111111111111111,\"#46039f\"],[0.2222222222222222,\"#7201a8\"],[0.3333333333333333,\"#9c179e\"],[0.4444444444444444,\"#bd3786\"],[0.5555555555555556,\"#d8576b\"],[0.6666666666666666,\"#ed7953\"],[0.7777777777777778,\"#fb9f3a\"],[0.8888888888888888,\"#fdca26\"],[1.0,\"#f0f921\"]],\"type\":\"heatmap\"}],\"histogram2dcontour\":[{\"colorbar\":{\"outlinewidth\":0,\"ticks\":\"\"},\"colorscale\":[[0.0,\"#0d0887\"],[0.1111111111111111,\"#46039f\"],[0.2222222222222222,\"#7201a8\"],[0.3333333333333333,\"#9c179e\"],[0.4444444444444444,\"#bd3786\"],[0.5555555555555556,\"#d8576b\"],[0.6666666666666666,\"#ed7953\"],[0.7777777777777778,\"#fb9f3a\"],[0.8888888888888888,\"#fdca26\"],[1.0,\"#f0f921\"]],\"type\":\"histogram2dcontour\"}],\"histogram2d\":[{\"colorbar\":{\"outlinewidth\":0,\"ticks\":\"\"},\"colorscale\":[[0.0,\"#0d0887\"],[0.1111111111111111,\"#46039f\"],[0.2222222222222222,\"#7201a8\"],[0.3333333333333333,\"#9c179e\"],[0.4444444444444444,\"#bd3786\"],[0.5555555555555556,\"#d8576b\"],[0.6666666666666666,\"#ed7953\"],[0.7777777777777778,\"#fb9f3a\"],[0.8888888888888888,\"#fdca26\"],[1.0,\"#f0f921\"]],\"type\":\"histogram2d\"}],\"histogram\":[{\"marker\":{\"pattern\":{\"fillmode\":\"overlay\",\"size\":10,\"solidity\":0.2}},\"type\":\"histogram\"}],\"mesh3d\":[{\"colorbar\":{\"outlinewidth\":0,\"ticks\":\"\"},\"type\":\"mesh3d\"}],\"parcoords\":[{\"line\":{\"colorbar\":{\"outlinewidth\":0,\"ticks\":\"\"}},\"type\":\"parcoords\"}],\"pie\":[{\"automargin\":true,\"type\":\"pie\"}],\"scatter3d\":[{\"line\":{\"colorbar\":{\"outlinewidth\":0,\"ticks\":\"\"}},\"marker\":{\"colorbar\":{\"outlinewidth\":0,\"ticks\":\"\"}},\"type\":\"scatter3d\"}],\"scattercarpet\":[{\"marker\":{\"colorbar\":{\"outlinewidth\":0,\"ticks\":\"\"}},\"type\":\"scattercarpet\"}],\"scattergeo\":[{\"marker\":{\"colorbar\":{\"outlinewidth\":0,\"ticks\":\"\"}},\"type\":\"scattergeo\"}],\"scattergl\":[{\"marker\":{\"colorbar\":{\"outlinewidth\":0,\"ticks\":\"\"}},\"type\":\"scattergl\"}],\"scattermapbox\":[{\"marker\":{\"colorbar\":{\"outlinewidth\":0,\"ticks\":\"\"}},\"type\":\"scattermapbox\"}],\"scatterpolargl\":[{\"marker\":{\"colorbar\":{\"outlinewidth\":0,\"ticks\":\"\"}},\"type\":\"scatterpolargl\"}],\"scatterpolar\":[{\"marker\":{\"colorbar\":{\"outlinewidth\":0,\"ticks\":\"\"}},\"type\":\"scatterpolar\"}],\"scatter\":[{\"fillpattern\":{\"fillmode\":\"overlay\",\"size\":10,\"solidity\":0.2},\"type\":\"scatter\"}],\"scatterternary\":[{\"marker\":{\"colorbar\":{\"outlinewidth\":0,\"ticks\":\"\"}},\"type\":\"scatterternary\"}],\"surface\":[{\"colorbar\":{\"outlinewidth\":0,\"ticks\":\"\"},\"colorscale\":[[0.0,\"#0d0887\"],[0.1111111111111111,\"#46039f\"],[0.2222222222222222,\"#7201a8\"],[0.3333333333333333,\"#9c179e\"],[0.4444444444444444,\"#bd3786\"],[0.5555555555555556,\"#d8576b\"],[0.6666666666666666,\"#ed7953\"],[0.7777777777777778,\"#fb9f3a\"],[0.8888888888888888,\"#fdca26\"],[1.0,\"#f0f921\"]],\"type\":\"surface\"}],\"table\":[{\"cells\":{\"fill\":{\"color\":\"#EBF0F8\"},\"line\":{\"color\":\"white\"}},\"header\":{\"fill\":{\"color\":\"#C8D4E3\"},\"line\":{\"color\":\"white\"}},\"type\":\"table\"}]},\"layout\":{\"annotationdefaults\":{\"arrowcolor\":\"#2a3f5f\",\"arrowhead\":0,\"arrowwidth\":1},\"autotypenumbers\":\"strict\",\"coloraxis\":{\"colorbar\":{\"outlinewidth\":0,\"ticks\":\"\"}},\"colorscale\":{\"diverging\":[[0,\"#8e0152\"],[0.1,\"#c51b7d\"],[0.2,\"#de77ae\"],[0.3,\"#f1b6da\"],[0.4,\"#fde0ef\"],[0.5,\"#f7f7f7\"],[0.6,\"#e6f5d0\"],[0.7,\"#b8e186\"],[0.8,\"#7fbc41\"],[0.9,\"#4d9221\"],[1,\"#276419\"]],\"sequential\":[[0.0,\"#0d0887\"],[0.1111111111111111,\"#46039f\"],[0.2222222222222222,\"#7201a8\"],[0.3333333333333333,\"#9c179e\"],[0.4444444444444444,\"#bd3786\"],[0.5555555555555556,\"#d8576b\"],[0.6666666666666666,\"#ed7953\"],[0.7777777777777778,\"#fb9f3a\"],[0.8888888888888888,\"#fdca26\"],[1.0,\"#f0f921\"]],\"sequentialminus\":[[0.0,\"#0d0887\"],[0.1111111111111111,\"#46039f\"],[0.2222222222222222,\"#7201a8\"],[0.3333333333333333,\"#9c179e\"],[0.4444444444444444,\"#bd3786\"],[0.5555555555555556,\"#d8576b\"],[0.6666666666666666,\"#ed7953\"],[0.7777777777777778,\"#fb9f3a\"],[0.8888888888888888,\"#fdca26\"],[1.0,\"#f0f921\"]]},\"colorway\":[\"#636efa\",\"#EF553B\",\"#00cc96\",\"#ab63fa\",\"#FFA15A\",\"#19d3f3\",\"#FF6692\",\"#B6E880\",\"#FF97FF\",\"#FECB52\"],\"font\":{\"color\":\"#2a3f5f\"},\"geo\":{\"bgcolor\":\"white\",\"lakecolor\":\"white\",\"landcolor\":\"#E5ECF6\",\"showlakes\":true,\"showland\":true,\"subunitcolor\":\"white\"},\"hoverlabel\":{\"align\":\"left\"},\"hovermode\":\"closest\",\"mapbox\":{\"style\":\"light\"},\"paper_bgcolor\":\"white\",\"plot_bgcolor\":\"#E5ECF6\",\"polar\":{\"angularaxis\":{\"gridcolor\":\"white\",\"linecolor\":\"white\",\"ticks\":\"\"},\"bgcolor\":\"#E5ECF6\",\"radialaxis\":{\"gridcolor\":\"white\",\"linecolor\":\"white\",\"ticks\":\"\"}},\"scene\":{\"xaxis\":{\"backgroundcolor\":\"#E5ECF6\",\"gridcolor\":\"white\",\"gridwidth\":2,\"linecolor\":\"white\",\"showbackground\":true,\"ticks\":\"\",\"zerolinecolor\":\"white\"},\"yaxis\":{\"backgroundcolor\":\"#E5ECF6\",\"gridcolor\":\"white\",\"gridwidth\":2,\"linecolor\":\"white\",\"showbackground\":true,\"ticks\":\"\",\"zerolinecolor\":\"white\"},\"zaxis\":{\"backgroundcolor\":\"#E5ECF6\",\"gridcolor\":\"white\",\"gridwidth\":2,\"linecolor\":\"white\",\"showbackground\":true,\"ticks\":\"\",\"zerolinecolor\":\"white\"}},\"shapedefaults\":{\"line\":{\"color\":\"#2a3f5f\"}},\"ternary\":{\"aaxis\":{\"gridcolor\":\"white\",\"linecolor\":\"white\",\"ticks\":\"\"},\"baxis\":{\"gridcolor\":\"white\",\"linecolor\":\"white\",\"ticks\":\"\"},\"bgcolor\":\"#E5ECF6\",\"caxis\":{\"gridcolor\":\"white\",\"linecolor\":\"white\",\"ticks\":\"\"}},\"title\":{\"x\":0.05},\"xaxis\":{\"automargin\":true,\"gridcolor\":\"white\",\"linecolor\":\"white\",\"ticks\":\"\",\"title\":{\"standoff\":15},\"zerolinecolor\":\"white\",\"zerolinewidth\":2},\"yaxis\":{\"automargin\":true,\"gridcolor\":\"white\",\"linecolor\":\"white\",\"ticks\":\"\",\"title\":{\"standoff\":15},\"zerolinecolor\":\"white\",\"zerolinewidth\":2}}}},                        {\"responsive\": true}                    ).then(function(){\n",
       "                            \n",
       "var gd = document.getElementById('b187c2ff-5154-4833-b0c0-279c2f0df2a8');\n",
       "var x = new MutationObserver(function (mutations, observer) {{\n",
       "        var display = window.getComputedStyle(gd).display;\n",
       "        if (!display || display === 'none') {{\n",
       "            console.log([gd, 'removed!']);\n",
       "            Plotly.purge(gd);\n",
       "            observer.disconnect();\n",
       "        }}\n",
       "}});\n",
       "\n",
       "// Listen for the removal of the full notebook cells\n",
       "var notebookContainer = gd.closest('#notebook-container');\n",
       "if (notebookContainer) {{\n",
       "    x.observe(notebookContainer, {childList: true});\n",
       "}}\n",
       "\n",
       "// Listen for the clearing of the current output cell\n",
       "var outputEl = gd.closest('.output');\n",
       "if (outputEl) {{\n",
       "    x.observe(outputEl, {childList: true});\n",
       "}}\n",
       "\n",
       "                        })                };                });            </script>        </div>"
      ]
     },
     "metadata": {},
     "output_type": "display_data"
    }
   ],
   "source": [
    "N = 100\n",
    "random_x = np.linspace(0, 1, N)\n",
    "random_y0 = np.random.randn(N)+5\n",
    "random_y1 = np.random.randn(N)\n",
    "random_y2 = np.random.randn(N)-5\n",
    "\n",
    "# Create traces\n",
    "trace0 = go.Scatter(\n",
    "    x = random_x,\n",
    "    y = random_y0,\n",
    "    mode = 'markers',\n",
    "    name = 'markers'\n",
    ")\n",
    "trace1 = go.Scatter(\n",
    "    x = random_x,\n",
    "    y = random_y1,\n",
    "    mode = 'lines+markers',\n",
    "    name = 'lines+markers'\n",
    ")\n",
    "trace2 = go.Scatter(\n",
    "    x = random_x,\n",
    "    y = random_y2,\n",
    "    mode = 'lines',\n",
    "    name = 'lines'\n",
    ")\n",
    "\n",
    "data = [trace0, trace1, trace2]\n",
    "plotly.offline.iplot(data, filename='scatter-mode')\n",
    "trace0 = go.Scatter(\n",
    "    x = iris_data[iris_data['target']==0]['sepal length (cm)'],\n",
    "    y = iris_data[iris_data['target']==0]['petal width (cm)'],\n",
    "    mode = 'markers',\n",
    "    name = 'setosa'\n",
    ")\n",
    "trace1 = go.Scatter(\n",
    "    x = iris_data[iris_data['target']==1]['sepal length (cm)'],\n",
    "    y = iris_data[iris_data['target']==1]['petal width (cm)'],\n",
    "    mode = 'markers',\n",
    "    name = 'versicolor'\n",
    ")\n",
    "trace2 = go.Scatter(\n",
    "    x = iris_data[iris_data['target']==2]['sepal length (cm)'],\n",
    "    y = iris_data[iris_data['target']==2]['petal width (cm)'],\n",
    "    mode = 'markers',\n",
    "    name = 'virginica'\n",
    ")\n",
    "\n",
    "data = [trace0, trace1, trace2]\n",
    "plotly.offline.iplot(data, filename='basic-scatter')"
   ]
  },
  {
   "cell_type": "code",
   "execution_count": 65,
   "id": "d4aa8fdf",
   "metadata": {},
   "outputs": [
    {
     "data": {
      "application/vnd.plotly.v1+json": {
       "config": {
        "linkText": "Export to plot.ly",
        "plotlyServerURL": "https://plot.ly",
        "showLink": false
       },
       "data": [
        {
         "marker": {
          "color": [
           -1.1203030443244015,
           -0.2644528712599105,
           -0.5788530609117603,
           1.426738516561892,
           -0.9851967828764313,
           -0.10783772870788151,
           0.5818221789660195,
           1.5852266835800641,
           -1.012602422267457,
           -1.3930718910830082,
           -0.2745722606813233,
           -1.0461114943169114,
           2.644182177495587,
           -0.37220603874152625,
           -0.10834264356819232,
           -0.19459914011610804,
           -1.1395713538753534,
           0.21427554096464413,
           2.774941485231473,
           1.7675590159257484,
           0.6405381829516933,
           -0.7804750315951341,
           -0.5644874684978389,
           -1.1776354407052936,
           -0.18302184003001215,
           0.11940135296920365,
           1.6054531576662985,
           0.03830656924636087,
           0.02520318494801763,
           0.5590909190455359,
           -0.41685303377299676,
           -1.1584635739049678,
           -1.3654701521055634,
           -0.35103488970796837,
           1.1484736033664837,
           0.3435617579589207,
           0.029644401777983193,
           1.0430571505005644,
           0.2576484378384445,
           0.8517383762439983,
           0.3356551897341221,
           0.6007977913018651,
           -1.2164026935522052,
           2.049351131561216,
           -1.9761121479327721,
           0.3443452654466919,
           1.3313184318472322,
           -1.609318865770756,
           0.46616253726250007,
           0.2963236180463442,
           2.1417489187799057,
           -0.014101078175423496,
           3.1789073015002143,
           -1.3836070654466492,
           2.1058815764099483,
           1.1719818295419366,
           0.7868995195255343,
           -0.1433550202878901,
           -0.6165666531157669,
           -0.633255554955799,
           1.000857775457978,
           -0.8723205270494246,
           1.3254039446929504,
           -0.11379340397897188,
           -0.0810568921873574,
           -0.7025398564120052,
           -0.7134013302747185,
           -2.500444902319758,
           2.922406142319444,
           2.371508508605112,
           -1.9712851462894945,
           0.48620195538064387,
           -0.23826090538786687,
           2.1797271521270996,
           -0.5658236297649512,
           -0.020802812779052073,
           -0.9292323155904294,
           -1.3784114847303277,
           0.12436984751895781,
           1.4322232739668361,
           -0.6844936063743484,
           0.6325358928891432,
           -0.6577958700500012,
           -0.406887175300438,
           0.3437597846036845,
           -0.018778856820864366,
           2.0862033680162373,
           -0.5042339367078444,
           -1.1132085790529624,
           0.26745532059798677,
           -1.496343472444279,
           -1.5219141671405134,
           0.7935384530456643,
           -0.44176045392636193,
           0.16430677847543,
           0.877154709868744,
           0.5179475657701328,
           1.427737344144543,
           -0.10669885111762388,
           0.23599483248268902,
           -0.0567906468523679,
           0.18165533284668606,
           -0.6086987311007401,
           0.6636419321098979,
           0.9078116338858758,
           0.18779508625943786,
           -0.923445265058113,
           0.15397805719812924,
           0.7427424117674157,
           -0.2821755749639546,
           -0.05442675884503359,
           -0.6307656422375859,
           -0.0949487588498419,
           -0.31806848503588303,
           -1.1121903383454539,
           -0.8155458743781518,
           -0.14897620743491358,
           0.6503953730293583,
           0.036782780211357724,
           -1.4414290500407034,
           0.05648293924814722,
           -0.6497536965222399,
           1.6908655632253498,
           1.8217848220059494,
           -0.1834025464387034,
           -1.6447178157653772,
           0.08426624746393035,
           -0.7486936603158644,
           -0.5159001359107418,
           1.2034572420297946,
           0.8038976255396889,
           -0.5186948779399847,
           -1.13994703183182,
           0.3080893210608066,
           0.23776071966433282,
           -0.21859530946113911,
           -0.5675461181076308,
           -0.2833072077240605,
           0.7277968266350638,
           -0.14946576054079877,
           -0.6980975954230529,
           0.48782915211302713,
           -0.7397793950402038,
           -1.5724636835402053,
           0.03801837888142187,
           -0.5338284930752869,
           1.2036082429995325,
           0.4360166991449123,
           0.6092605145156567,
           -0.3524633884763916,
           0.26620584387953417,
           0.005819667736854981,
           -0.3177001762082229,
           0.2719078039191425,
           1.082003293477053,
           0.39548311769017913,
           -0.3458170802856236,
           -0.14594061676228332,
           1.0733003004086468,
           -1.0885129834631666,
           -0.44687682710491305,
           -0.5662964271302996,
           1.213517925788399,
           -0.7457023582708173,
           -0.9184641914864787,
           -1.4029633297801798,
           0.4601302350676865,
           0.2781818385501591,
           1.009610180860582,
           -0.4925096361110392,
           -1.000976361540445,
           0.8234054336369102,
           -0.11188557528302404,
           -1.3819422234236705,
           0.35174879884982263,
           -0.006682311295392599,
           -0.01702581289730959,
           -1.8774058280672032,
           -1.3065531590998873,
           1.6150360699030817,
           0.36106950320185144,
           1.425431318248891,
           0.15797198795816597,
           -0.511633013499562,
           0.6139125531099909,
           -1.1903923330008668,
           2.0481396323029157,
           0.8679759394861283,
           1.1033204580178626,
           -0.3687267615423628,
           -0.9953798072984043,
           0.33044297355857816,
           0.3103675719271791,
           0.9385615836904545,
           -0.9057112368174723,
           -0.5563307541402648,
           0.08955268343185789,
           -0.48791049288137767,
           1.0886290605702975,
           0.7807972761608493,
           0.02055211827986829,
           0.5075827701880153,
           1.2467520783260442,
           0.6677780701983662,
           0.2440979926933309,
           0.3414973027654975,
           -0.9267226438657146,
           0.9719672710357363,
           2.5734408856260824,
           -1.4179814208087738,
           0.6976418663684967,
           -0.8316023680271891,
           -0.4975433103553649,
           1.176694039619859,
           0.3384316338473226,
           1.3931368280487866,
           0.8516427543809497,
           -2.1629001155754017,
           -0.46953659039533024,
           -0.7328199593222497,
           1.002179089640531,
           -0.008150964260954564,
           0.880339915138166,
           0.385617718066659,
           1.2112447920778397,
           1.1371483319306472,
           -0.008100802051161683,
           -1.9114794565402697,
           1.4383327561329602,
           -0.4808764783658503,
           -1.1255958181395707,
           0.08896976310427307,
           0.6476790743258302,
           1.47284120639291,
           -0.08330287378903845,
           -0.7445702211191871,
           -0.8237292974334501,
           0.20605133301378023,
           -0.6933286736248742,
           0.6613759047952371,
           -0.3253754217559649,
           -0.30186875219248127,
           -0.5656186267171517,
           -0.7165089679174215,
           0.9904247221327196,
           0.3762628796374166,
           -0.7313738313797528,
           -0.10006572803214414,
           0.9271555795760948,
           0.5390013541962926,
           1.5446457294728904,
           0.8255838101274191,
           0.2207803105279347,
           -0.163268149259328,
           0.847486421821672,
           -0.8103507227603521,
           -0.3939656396914116,
           0.6414877172681445,
           -0.4809629550516763,
           0.19726820614480525,
           0.9594731003239413,
           -1.568697860063734,
           -0.13759029007011714,
           -0.7363713833181897,
           1.720626132664227,
           0.5564940481948387,
           -1.1819263375014126,
           -0.49037632124759695,
           -1.8778643033172187,
           -0.2492486002678868,
           -0.8364650542503173,
           -0.7869115607233165,
           1.321495470687744,
           -0.4993894603166018,
           -0.007176448367678663,
           0.03758427465492715,
           0.030097706899791746,
           -0.8225262201134951,
           0.00041712697028832763,
           -1.5804409518448748,
           0.587281119318452,
           1.3207888927606326,
           -1.4170679468441403,
           -0.9134885579539296,
           -0.07043541892556768,
           -0.8401595953591745,
           -0.5880118315791366,
           1.0891329071382017,
           -2.015732444624768,
           0.7270160650817796,
           -0.3882287005644807,
           0.19441390087583738,
           -0.045301489786549576,
           0.5409506591906876,
           1.265104982790459,
           0.456035522245523,
           -0.35166992489702686,
           1.5360519666556995,
           -0.346196594509522,
           0.8577860420595799,
           2.6435036565405206,
           -0.3028530871379897,
           0.7781611038286317,
           1.6654777259523923,
           0.5286976710722271,
           1.9601198236841852,
           -0.3153552317328774,
           -0.6911601004435265,
           -0.353109535333997,
           -0.13820480938575316,
           0.8664353713996857,
           0.7297672328780371,
           -0.2057799849424522,
           -0.9390727506953626,
           1.1347238087388343,
           0.7521605860327462,
           0.4456410691133582,
           0.06964816786329715,
           0.47578994669353614,
           -0.46085704263016364,
           -0.249556103240027,
           0.8665906312480404,
           -0.7305169500087891,
           0.13219038394971314,
           -0.5366437734188161,
           -1.3804171738144075,
           0.8184883160320663,
           0.2119018197271224,
           -1.5544406625746383,
           0.23666620341776204,
           1.8180992688749886,
           0.09508766689201964,
           -2.2721201744212207,
           0.3403739807869703,
           0.6322611831406262,
           -0.18053006327906976,
           1.0654833225344336,
           1.319462881760275,
           0.9162814712003197,
           0.052646337915911216,
           0.47030084793606675,
           -1.0156600824498871,
           1.0484976977049143,
           0.6348595242950302,
           -0.45401497332000174,
           -0.5995047359297427,
           0.2209254478479215,
           -1.690617817225502,
           0.5337704959349181,
           -0.32910351459335535,
           -2.0673193325511274,
           -0.3013819777604657,
           1.285941423461856,
           1.1443792958418904,
           0.1275638088610661,
           0.5164836830364677,
           1.455821762624946,
           -0.8891472987586586,
           0.2885624960162541,
           2.123171713131371,
           0.4279827947425219,
           -1.439637882373018,
           -0.11598179951430457,
           -0.8288088902426867,
           0.42747444110567134,
           -1.3131926368136146,
           1.6538080330314782,
           -1.0235310815170084,
           -0.04736777968055369,
           0.4385328396404333,
           0.8536754868888697,
           -0.9283701395161084,
           0.5260832821803149,
           -0.12426113002817248,
           1.2684179380555873,
           0.009991426366267783,
           0.33710076885318047,
           1.350418773092485,
           1.5335805918702503,
           -0.6338594580373245,
           -0.1383220984240753,
           0.09687754725379447,
           -1.475893112878813,
           0.7791374101274076,
           -0.6585195970146849,
           0.7067602489130853,
           -0.8371792174353757,
           0.23331035904826353,
           -0.09188375258491832,
           1.5278729690832795,
           -0.9147848187615207,
           0.4221056673468741,
           1.2669578951143126,
           0.14792420412151155,
           0.7607100705852644,
           0.4254686904272737,
           1.586398314723665,
           0.43063479005852995,
           1.89043318684852,
           -1.9096648396269225
          ],
          "colorscale": [
           [
            0,
            "#440154"
           ],
           [
            0.1111111111111111,
            "#482878"
           ],
           [
            0.2222222222222222,
            "#3e4989"
           ],
           [
            0.3333333333333333,
            "#31688e"
           ],
           [
            0.4444444444444444,
            "#26828e"
           ],
           [
            0.5555555555555556,
            "#1f9e89"
           ],
           [
            0.6666666666666666,
            "#35b779"
           ],
           [
            0.7777777777777778,
            "#6ece58"
           ],
           [
            0.8888888888888888,
            "#b5de2b"
           ],
           [
            1,
            "#fde725"
           ]
          ],
          "opacity": 0.8,
          "size": 12
         },
         "mode": "markers",
         "type": "scatter3d",
         "x": [
          -0.4734211084899219,
          -2.3162597281396002,
          1.2020435967415215,
          0.7636554676834776,
          -1.4469274504681866,
          -1.5954956325722016,
          1.2614417971524639,
          -0.1687450965212954,
          -1.6921717147177238,
          -0.5664676563679267,
          -0.704247244632459,
          -0.31366379661135985,
          -0.5446078736770259,
          2.0233045197264925,
          1.1924412240010265,
          1.1502763504734588,
          0.6448097939771454,
          0.8914756552513294,
          1.7296886130156677,
          1.221381835648915,
          -0.24169010775809324,
          -0.4317971385649669,
          -0.801227338688371,
          0.6598217764020243,
          -0.35374793397197646,
          0.3018796710194212,
          -0.31507013685654034,
          0.4787088756805738,
          -0.058726249189676547,
          -0.4030009571883851,
          -0.62616231379271,
          0.985821161005278,
          0.7451733989637718,
          -0.928494484524156,
          -1.2496414645142904,
          -0.4608527040455306,
          0.18763185219754533,
          -1.059644153427559,
          -0.25191413663024315,
          0.5427402325704269,
          -1.4032416679846105,
          0.34941847392808667,
          1.5285723247069427,
          -0.9842351172979981,
          -0.6646904332333781,
          -0.8943532904973683,
          0.5674510509744357,
          -1.5941085695190969,
          0.5739305843717887,
          -0.5592794659286766,
          -0.11076275998725309,
          3.139380773851984,
          0.1951576258496921,
          0.6079089767311922,
          -0.6734731964512325,
          0.526096232328853,
          -0.02112754514136464,
          1.268803312659771,
          -1.59263848575103,
          -1.1029805460797029,
          -0.5134383807594183,
          0.07244251056186297,
          0.9027884105379747,
          1.1291182942471418,
          -0.20410899806096847,
          0.37904020154155776,
          -0.046308120743742825,
          1.1340008212573893,
          0.7199421457847389,
          0.5933019621392375,
          0.8799168932488897,
          -1.0903159973584364,
          0.3704745425745323,
          -0.017057273511275176,
          0.356390121352209,
          -1.285886410875985,
          2.5294981602276847,
          -1.9466453741665086,
          -2.266434443957181,
          0.8329814808497475,
          1.052933637230077,
          0.5085421163335615,
          -0.6219364079290853,
          0.4446756304607153,
          -0.9762389722503915,
          -1.0108225918840505,
          -0.9531925491873553,
          0.24158519787387098,
          1.5797948521801417,
          -0.4490572206964412,
          -0.3546519085647183,
          0.04561778528230665,
          1.174732684684099,
          0.38254957854328575,
          1.122149018462237,
          1.2039419498424349,
          0.49811439181414446,
          -0.1761335869065655,
          -1.4230638598434295,
          0.31151310526966863,
          -1.4530737562679465,
          -0.4722431129746518,
          1.8331763615288206,
          0.13891073640140977,
          -0.4683263571772875,
          0.793912432536844,
          -0.0007987993818590623,
          1.2888919723776113,
          -0.32501124763501504,
          0.6873369210502633,
          -1.257601656126963,
          0.4031585483500356,
          -2.2244395711868656,
          -0.6629450871458812,
          -0.37380162461190547,
          0.14914883349933553,
          0.9190342854663,
          0.39677415559013846,
          0.1613180868128353,
          -0.1584337000597229,
          2.000997530130904,
          0.7740281709738975,
          1.0363487064259989,
          -1.0636209091797522,
          1.4374210978729451,
          0.7318485062848116,
          -0.8419342837315534,
          -0.4972930202204672,
          -1.7862808852908256,
          0.4233834014783082,
          1.3489003291922714,
          -0.7551861934119425,
          -0.2996219591851306,
          -0.3927670483879126,
          -1.3291802470942795,
          0.1541653881197049,
          0.1661382573314389,
          -0.19815015899698699,
          -1.1296929558599498,
          -1.339761374489834,
          0.3950273353832027,
          0.40431876118144905,
          -0.5434343557930134,
          -0.7012148041673455,
          -0.16626481857255884,
          1.4291214923135194,
          -0.6665384983388768,
          0.2733712163780749,
          0.6591395657956362,
          2.165758358050766,
          -1.170081435670512,
          1.9242803958256653,
          0.5839144570564642,
          -0.9633731255159415,
          -0.4416353306687543,
          0.4563701841207323,
          -0.5200265676731423,
          0.680371392711504,
          -0.4204237308014461,
          1.0422077736659259,
          0.4270031631173888,
          -1.604367831532917,
          0.7460578095452467,
          -0.6958747961833218,
          -0.6160647463138963,
          0.42754334199620697,
          1.4486809689548186,
          -0.027725816050265473,
          0.264881603647785,
          -0.9436656056636917,
          0.2585490857692469,
          1.719938063932681,
          -1.4103571152358536,
          0.10995561712968716,
          2.029861660439229,
          0.11855174710807527,
          -0.3717215615582281,
          -1.1582088209224992,
          0.759617104462157,
          -1.5403916092682952,
          -0.5351322312126825,
          -0.2857090660954339,
          0.48238236514376287,
          -1.2004604818044025,
          -0.10103393719490199,
          1.2246856574351235,
          -0.7067828057207949,
          1.9229313300917048,
          2.6239014599806807,
          -0.5357240567851222,
          1.2269396627266465,
          0.8408874714912953,
          -0.4486623324490162,
          0.48912745960085824,
          0.3534254171874844,
          2.428905822204437,
          0.5779644494587935,
          -1.5305075271099484,
          -1.1531229129051093,
          2.1666979479083377,
          -0.2809993916741608,
          -1.2397273003107614,
          1.5840778323818643,
          -1.7479000347802411,
          0.9990476442730288,
          -0.7324847109048331,
          -1.4034092103005227,
          0.9581549123263825,
          -0.4040479052928169,
          -0.8279993737123857,
          -1.2459324062592954,
          0.9234771766895545,
          0.45193672311486205,
          -0.4772044770932859,
          0.48012357681836676,
          2.215999179227667,
          -1.5516547249808814,
          1.1954101792336993,
          -0.9221397150893806,
          0.902878066551362,
          -0.40547372364620915,
          -1.9525110100450458,
          -0.7465409585369437,
          -0.43778662340453794,
          1.0549326709458777,
          -0.14132623864009106,
          1.192340189278622,
          0.5163527735227524,
          -0.8937260978855093,
          -0.3547815260288113,
          0.3570144914649902,
          -0.6584647891573415,
          0.11715496627935443,
          1.6921242276449158,
          0.6825672686892666,
          -0.33936166228568404,
          -1.253602736331044,
          -0.8335816442267585,
          -0.3187023529265557,
          -0.302296851474937,
          0.20081548129806037,
          -2.4994011219914674,
          1.3289503135559768,
          1.959337781837394,
          -0.13653894924708046,
          -1.0201945970734057,
          0.43868009596554214,
          1.2334722301230059,
          -2.0363391800437607,
          1.2650900383698207,
          0.426741788806386,
          0.19852314098989776,
          -0.7691900891427771,
          2.235222732129146,
          1.1180739481974746,
          -1.201636137534762,
          -2.3182223905498613,
          -0.7899464435645606,
          0.9782313045048318,
          0.7782907091410243,
          1.0454957398249183,
          1.3317435457981581,
          -2.398136890033281,
          -0.9821175089347531,
          -0.41934821963147145,
          -0.40895935491974006,
          2.4848066163576643,
          0.88988383168462,
          0.6807825158884022,
          1.4091167012408616,
          0.9578874514458706,
          -1.187723989733528,
          -0.020934990658057373,
          1.9317278318755557,
          -0.4253297722733344,
          0.9606096972118127,
          0.03868749063194922,
          -0.7474637296962913,
          0.3864530344953796,
          0.5098051725871838,
          -0.7220408708190555,
          0.9784414155581921,
          -0.6434336932121197,
          -0.5212261519011966,
          0.037160745876684456,
          -0.28161628536979594,
          -0.8714657982792413,
          0.3394933978542411,
          0.7824225148472046,
          0.5847464288817915,
          0.1296161634259853,
          -0.5399827139408271,
          0.3660622069019794,
          0.3293249062667545,
          0.7579315480063333,
          -0.8333650464099295,
          -1.7704974025280522,
          -0.38663447762830067,
          0.47550438294070857,
          1.1370280898630403,
          -1.3991080254479131,
          0.677020070800949,
          -0.848021109051496,
          0.45626592892809403,
          -0.7837512516679902,
          -1.3591124694472045,
          1.734305207386673,
          1.8367194158476183,
          3.6375754660043764,
          -0.21095256199958454,
          -0.6692456214121161,
          -1.6283282767154421,
          0.1411476318763514,
          1.2997029459872562,
          0.2179206206781528,
          -0.09091716366789677,
          -0.8549487715942182,
          0.7973018166353896,
          0.43506968184272593,
          0.2833271422554656,
          -0.07970234635685947,
          0.21188950203459636,
          1.038544081738313,
          -0.0788872890415448,
          -0.5687990372902593,
          -0.42857335943145025,
          -0.45829831535116533,
          -0.9843954060652922,
          0.5254385038176373,
          1.1513536504818958,
          -2.680134881180286,
          -1.7696574235570923,
          -0.9581947929731814,
          -0.5734944547375574,
          -2.038656637963596,
          -0.08310900648012666,
          0.08365294199035532,
          -1.1128923488865645,
          -0.05230973902500226,
          -1.9842953067370266,
          1.1631513630049723,
          -0.8526847291269022,
          1.263716290644545,
          -0.4677144061602926,
          0.22143355423588482,
          0.4794194381346149,
          0.14911971595819584,
          -1.295531184355369,
          -0.6983220949369955,
          0.7355260681646066,
          -1.1663750804368325,
          -0.4897123219071892,
          0.07805929742692129,
          -1.2676306639607182,
          -1.6959474651341708,
          -0.8145778116250086,
          0.5938510022151375,
          -0.17562427112026233,
          0.6739803443838686,
          -1.5535013914111295,
          0.47288345011289856,
          1.4121226160123783,
          0.44577201249877674,
          -0.06926880096402288,
          0.03217998470304145,
          0.583018734287207,
          -0.6876513890455946,
          -0.42532075555211346,
          -0.16985762910196928,
          -2.141979654811916,
          -0.9377185127643263,
          -1.7336125272553145,
          -1.4802553353017878,
          -0.891726572274594,
          -2.4220004224265392,
          0.3653540391693215,
          0.5620590672189555,
          0.4815453460232371,
          -2.313072693242302,
          1.8517248985323411,
          -0.10345281974179646,
          0.52653479452454,
          0.6023434286295778,
          -0.3754844051649219,
          -1.6382493120368748,
          0.7337987118399445,
          -0.016604291732181465,
          0.723593774196132,
          1.7061337608023368,
          0.7516226989328085,
          -0.9355637007419129,
          -1.74273696096486,
          0.9034891009787511,
          -1.7187628562361732,
          0.6109838404023341,
          0.5455542779717147,
          -0.2606610863171048,
          -0.6156356926469372,
          0.5565622771081716,
          1.603613551889297
         ],
         "y": [
          -1.0507148911048299,
          0.26783952650700105,
          -0.9130732592099121,
          -0.1250657550661673,
          -0.5897363557435895,
          0.935845706623824,
          0.5143263653852186,
          -0.5904868865727376,
          0.43362702859749236,
          -0.043815349085882645,
          0.8016920911093462,
          0.9729889820746752,
          0.6439606491834114,
          -0.44272021692924907,
          -1.5395737832946361,
          -1.6532414727366682,
          -0.5942224182290338,
          0.8908263774104824,
          -0.6955115286233544,
          0.29878808113652616,
          -0.9918944572179423,
          -0.2373818911853555,
          2.7352120432417544,
          -0.42508818408611126,
          -0.5705624819418688,
          0.297055251984576,
          0.04453616205212559,
          -1.5957703981034257,
          0.32531192845518786,
          -2.324654384702632,
          2.126927961560872,
          0.3905132199519119,
          1.711060701278541,
          0.41176429632146516,
          -0.804957438932387,
          2.0733301879771435,
          0.7663945653196437,
          -1.144343718103041,
          0.03231335283577056,
          0.34299522798363696,
          0.40458845492340545,
          -0.6608495512832391,
          -0.9119645595949618,
          -0.20784103521757685,
          0.6606544392103829,
          -0.005824759532595154,
          -0.5999465182031342,
          -0.5347451421811578,
          0.4999908742021697,
          0.019510734564515367,
          -0.12966023312353633,
          0.06338859045599585,
          0.9479753243241594,
          -1.2787249456951726,
          2.196558837644598,
          1.099104168431579,
          -0.5873258099203805,
          0.8225715125595656,
          -0.29548411456986384,
          0.7885645237483615,
          1.5220097662781358,
          -0.3448571453830223,
          -0.11888956042724146,
          0.9111109444117311,
          1.0886885744317458,
          -1.3936306308701811,
          1.5497930685627541,
          -0.7929117825473714,
          -0.11805488739931928,
          1.0600867904052431,
          -1.1074335136415085,
          0.8158579652158715,
          1.689472902261352,
          -0.12937513940986253,
          -0.7041977033238128,
          0.004398846496052002,
          -1.154261313412908,
          0.5967993081669832,
          -1.8109285612696497,
          1.090315645050029,
          0.17795763258731168,
          0.7079218859396896,
          1.4717406790680787,
          0.37479257258800147,
          -0.3083429695482758,
          -2.0383597759948002,
          -0.3010815001091006,
          0.719691346975734,
          -0.19327529419998457,
          -1.2406753484832878,
          1.5710613532804714,
          -0.7838848177970194,
          0.2545040782284876,
          -0.6517091907041446,
          1.3943538579175787,
          1.6886408362779812,
          -0.48362375967642485,
          -0.3081999354798361,
          0.28171918245820365,
          0.2581437224812052,
          1.185711667604076,
          0.0652262849079129,
          -0.4638438701997606,
          0.41032324345361565,
          0.10518024699978705,
          -0.21090032873803713,
          -0.9250449809543347,
          0.22096474967576019,
          -1.0436863006533263,
          -0.5976377129544729,
          1.0874690124775883,
          0.8061444392681887,
          0.6457530566498957,
          0.7232021071080038,
          -0.6425738116149129,
          -1.068587014335703,
          -1.1750747780255621,
          -1.5168727965290798,
          -0.05915486220990761,
          -0.6056222217660795,
          -0.9643874536414601,
          0.1306869848999633,
          -0.5396030214051282,
          -1.1152228969281273,
          -0.4943401321639899,
          1.1302095422572243,
          0.3947873451460451,
          -1.645381934673653,
          1.250943523603876,
          -0.3833109806668942,
          -0.0038026840608400146,
          0.058301307504840465,
          -1.7154103815375668,
          0.04134538350770971,
          0.3770742796760227,
          1.0849795350935254,
          0.40836843610837725,
          -1.1453669818192154,
          0.5742333522332574,
          0.7061278421190705,
          0.4596836198046907,
          1.4150283723607706,
          -0.5117584809420869,
          0.7692569844616375,
          0.3594457937775697,
          -1.2741617815566149,
          0.4732101394821448,
          -1.071633124441293,
          -0.39968494255835996,
          -2.0384984236777055,
          1.28669499199351,
          1.7927414055396358,
          0.9451114767135976,
          1.3666175168155694,
          1.194277155130864,
          -0.5631502581848633,
          -1.9606406542603105,
          -0.7899517186812223,
          1.8487895145004156,
          -0.8489413499132825,
          -0.4602787867432254,
          0.17563619156978894,
          0.5997802590553643,
          -2.2248730418971943,
          -1.0192541289370187,
          0.8201849218517844,
          -0.37253533837520836,
          0.3230403371207757,
          0.3401977335833128,
          -0.22679109944524742,
          -0.39910357503382526,
          0.3472017944422186,
          -0.2772105272840943,
          0.04731093535832018,
          -0.7530584376251948,
          0.23197732745307895,
          -0.5211844030433721,
          -0.7834044777623705,
          -1.227638073878093,
          -0.21967282780496442,
          -0.9021457035967155,
          1.1851903040169063,
          0.6080357525146561,
          0.33767104568205275,
          0.16215603702321707,
          1.076743971107511,
          -0.5691352509881933,
          1.4852006609779487,
          -0.39832194646130625,
          -0.7719046670354863,
          0.7858981980300187,
          0.8553712712648498,
          -0.6294900149751773,
          2.312702971759759,
          -0.9614640941570922,
          -0.05306770484449441,
          -0.10998911139158868,
          0.45051815052653743,
          1.786307909179459,
          -1.5351548973512485,
          -0.09180530497508874,
          0.911977943384462,
          -0.8518418198237716,
          0.14351717545742626,
          0.7472714081111738,
          -0.19114314472751212,
          -1.7840128543321854,
          -0.3461144132884823,
          1.3777263094542171,
          0.6865983670521038,
          0.06218881341674874,
          0.3023692043056262,
          0.43555929323772763,
          -0.6960101948805749,
          -2.875451318528446,
          1.2650006244574903,
          -0.5391972907172252,
          -0.352294220252417,
          -1.6426718095167934,
          0.17178088113993797,
          0.05450504528133212,
          1.6197147091286357,
          -1.4466166061962662,
          -0.16507593174844692,
          1.0256119821854746,
          -0.19947282999811528,
          -0.12863754015816584,
          -1.3307635681872172,
          1.5311325366638155,
          0.8510356894512879,
          0.7405492029257311,
          -0.023904096470533286,
          0.17575160609080442,
          0.9227521396368521,
          -0.8481040100072992,
          -0.8504088712200568,
          0.6383629621359117,
          -2.8201818052043275,
          -0.3113080378996912,
          0.06174434202047215,
          0.7973530635738095,
          -0.6675769438545628,
          -1.186136895368832,
          -0.5915562472743913,
          1.174892391226012,
          -1.209504391291387,
          -0.5643484368702838,
          -0.6642739404186103,
          1.1630313801512215,
          2.1916838073304703,
          -2.6260455677754373,
          -0.5334762541671936,
          -0.0034329875884509115,
          0.9830263909016146,
          -0.2892174401773539,
          0.9702114629670896,
          -0.835072312074011,
          0.2041283569930039,
          1.3277889233929905,
          -0.07609584822382257,
          1.1830772661242799,
          -0.10828968729866299,
          -1.3553678036207444,
          1.1696693073021995,
          -0.673990873259307,
          1.212414147796128,
          0.7576218448905214,
          -0.5528790908440375,
          -0.008100257607413772,
          1.8374492316856679,
          -0.9819844680511617,
          1.2998415416091742,
          -0.3103233996569089,
          0.572659820546705,
          0.20712152349166363,
          1.524566282534626,
          0.7769573600307011,
          -2.101507765149121,
          -0.15653709109913938,
          0.3880145451242525,
          -0.06434016595161139,
          0.6279342780195534,
          0.3702231762962372,
          -0.5398257499693081,
          -0.27452710250953094,
          -0.7210526568928656,
          1.957661719998406,
          0.4878634781716516,
          0.29386148667994233,
          0.6949730518559125,
          0.18834240947153547,
          -0.38147997720653076,
          0.5357351307906494,
          -1.0693835864542391,
          -0.7275545433063891,
          -0.3637286031707274,
          0.7321301240475004,
          -1.315075033078628,
          -0.6512704156665903,
          -0.3856058420072533,
          0.18141020443969097,
          0.19476556561412361,
          1.0153125941559697,
          1.1175536701018127,
          0.5296020816924906,
          -0.5130931554046153,
          0.25089600861850087,
          -2.1224790325975573,
          0.05378572645284588,
          0.5150561658317407,
          0.12221259270442873,
          -0.773315215891247,
          -2.2950600728608985,
          -0.13499382004348406,
          1.0425756712419103,
          1.8607728570821362,
          -0.956090867316888,
          -0.762941664979935,
          1.1654118457722134,
          0.6791699635978418,
          -1.0082087423791828,
          -0.6497462593116834,
          0.6826217218342443,
          -0.27697933989602375,
          0.03920768597770025,
          -0.5784936454065318,
          1.0590223875435978,
          -0.5997477227370254,
          -0.6761575642464929,
          0.08228171269752456,
          0.381294562569837,
          -0.0076279674259221285,
          0.9145866277780422,
          -0.43429964909267116,
          -2.5956486864316393,
          0.25636852211342115,
          0.856546079369519,
          -0.5450897132427102,
          -3.008265838623249,
          -1.0945796795940743,
          0.29359189042203215,
          -1.1066270395431197,
          0.19749492992539855,
          -0.8824415294801738,
          0.9445422376012342,
          -0.8091615001667639,
          -1.197243593322836,
          1.4477815214073702,
          0.2642392879877563,
          -2.467574313249057,
          -1.6438991144861768,
          0.16121102032794582,
          -0.8196838777176393,
          -0.6978711516231542,
          1.361081213240217,
          -1.2132293328980983,
          -0.003271661747325964,
          1.3783642653894423,
          1.550698652667446,
          0.550341639324457,
          1.1961693595821454,
          1.0584052358134322,
          0.40818626861446017,
          -0.3595964885109189,
          1.1207378260560867,
          0.7997766696250385,
          -0.571913831589098,
          -1.373587337563924,
          2.1526859308310957,
          -2.073715152364148,
          1.3462814043228688,
          0.7383643187468473,
          -2.093162329444866,
          0.03888197472546639,
          -0.06813031521779962,
          0.0031269642523660017,
          -0.3188552875011352,
          0.594217836029786,
          -0.06882946313626125,
          -0.2401553035509163,
          -0.8602035670654492,
          0.32865258889216914,
          -0.32302806681962865,
          -1.4120149305152332,
          0.25926726182936094,
          0.4322523814911301,
          -0.7999847786753677,
          -0.631022797450825,
          -1.198572299887271,
          0.27284353483412904,
          -0.0980428221035696,
          0.48239002122835584,
          -0.044647745671596885,
          -1.185950475352305,
          0.7082550818594137,
          -0.2858927238278238,
          2.092247302853176,
          -2.3515798994694026,
          -1.70540019014235,
          0.28489458546829954
         ],
         "z": [
          -1.1203030443244015,
          -0.2644528712599105,
          -0.5788530609117603,
          1.426738516561892,
          -0.9851967828764313,
          -0.10783772870788151,
          0.5818221789660195,
          1.5852266835800641,
          -1.012602422267457,
          -1.3930718910830082,
          -0.2745722606813233,
          -1.0461114943169114,
          2.644182177495587,
          -0.37220603874152625,
          -0.10834264356819232,
          -0.19459914011610804,
          -1.1395713538753534,
          0.21427554096464413,
          2.774941485231473,
          1.7675590159257484,
          0.6405381829516933,
          -0.7804750315951341,
          -0.5644874684978389,
          -1.1776354407052936,
          -0.18302184003001215,
          0.11940135296920365,
          1.6054531576662985,
          0.03830656924636087,
          0.02520318494801763,
          0.5590909190455359,
          -0.41685303377299676,
          -1.1584635739049678,
          -1.3654701521055634,
          -0.35103488970796837,
          1.1484736033664837,
          0.3435617579589207,
          0.029644401777983193,
          1.0430571505005644,
          0.2576484378384445,
          0.8517383762439983,
          0.3356551897341221,
          0.6007977913018651,
          -1.2164026935522052,
          2.049351131561216,
          -1.9761121479327721,
          0.3443452654466919,
          1.3313184318472322,
          -1.609318865770756,
          0.46616253726250007,
          0.2963236180463442,
          2.1417489187799057,
          -0.014101078175423496,
          3.1789073015002143,
          -1.3836070654466492,
          2.1058815764099483,
          1.1719818295419366,
          0.7868995195255343,
          -0.1433550202878901,
          -0.6165666531157669,
          -0.633255554955799,
          1.000857775457978,
          -0.8723205270494246,
          1.3254039446929504,
          -0.11379340397897188,
          -0.0810568921873574,
          -0.7025398564120052,
          -0.7134013302747185,
          -2.500444902319758,
          2.922406142319444,
          2.371508508605112,
          -1.9712851462894945,
          0.48620195538064387,
          -0.23826090538786687,
          2.1797271521270996,
          -0.5658236297649512,
          -0.020802812779052073,
          -0.9292323155904294,
          -1.3784114847303277,
          0.12436984751895781,
          1.4322232739668361,
          -0.6844936063743484,
          0.6325358928891432,
          -0.6577958700500012,
          -0.406887175300438,
          0.3437597846036845,
          -0.018778856820864366,
          2.0862033680162373,
          -0.5042339367078444,
          -1.1132085790529624,
          0.26745532059798677,
          -1.496343472444279,
          -1.5219141671405134,
          0.7935384530456643,
          -0.44176045392636193,
          0.16430677847543,
          0.877154709868744,
          0.5179475657701328,
          1.427737344144543,
          -0.10669885111762388,
          0.23599483248268902,
          -0.0567906468523679,
          0.18165533284668606,
          -0.6086987311007401,
          0.6636419321098979,
          0.9078116338858758,
          0.18779508625943786,
          -0.923445265058113,
          0.15397805719812924,
          0.7427424117674157,
          -0.2821755749639546,
          -0.05442675884503359,
          -0.6307656422375859,
          -0.0949487588498419,
          -0.31806848503588303,
          -1.1121903383454539,
          -0.8155458743781518,
          -0.14897620743491358,
          0.6503953730293583,
          0.036782780211357724,
          -1.4414290500407034,
          0.05648293924814722,
          -0.6497536965222399,
          1.6908655632253498,
          1.8217848220059494,
          -0.1834025464387034,
          -1.6447178157653772,
          0.08426624746393035,
          -0.7486936603158644,
          -0.5159001359107418,
          1.2034572420297946,
          0.8038976255396889,
          -0.5186948779399847,
          -1.13994703183182,
          0.3080893210608066,
          0.23776071966433282,
          -0.21859530946113911,
          -0.5675461181076308,
          -0.2833072077240605,
          0.7277968266350638,
          -0.14946576054079877,
          -0.6980975954230529,
          0.48782915211302713,
          -0.7397793950402038,
          -1.5724636835402053,
          0.03801837888142187,
          -0.5338284930752869,
          1.2036082429995325,
          0.4360166991449123,
          0.6092605145156567,
          -0.3524633884763916,
          0.26620584387953417,
          0.005819667736854981,
          -0.3177001762082229,
          0.2719078039191425,
          1.082003293477053,
          0.39548311769017913,
          -0.3458170802856236,
          -0.14594061676228332,
          1.0733003004086468,
          -1.0885129834631666,
          -0.44687682710491305,
          -0.5662964271302996,
          1.213517925788399,
          -0.7457023582708173,
          -0.9184641914864787,
          -1.4029633297801798,
          0.4601302350676865,
          0.2781818385501591,
          1.009610180860582,
          -0.4925096361110392,
          -1.000976361540445,
          0.8234054336369102,
          -0.11188557528302404,
          -1.3819422234236705,
          0.35174879884982263,
          -0.006682311295392599,
          -0.01702581289730959,
          -1.8774058280672032,
          -1.3065531590998873,
          1.6150360699030817,
          0.36106950320185144,
          1.425431318248891,
          0.15797198795816597,
          -0.511633013499562,
          0.6139125531099909,
          -1.1903923330008668,
          2.0481396323029157,
          0.8679759394861283,
          1.1033204580178626,
          -0.3687267615423628,
          -0.9953798072984043,
          0.33044297355857816,
          0.3103675719271791,
          0.9385615836904545,
          -0.9057112368174723,
          -0.5563307541402648,
          0.08955268343185789,
          -0.48791049288137767,
          1.0886290605702975,
          0.7807972761608493,
          0.02055211827986829,
          0.5075827701880153,
          1.2467520783260442,
          0.6677780701983662,
          0.2440979926933309,
          0.3414973027654975,
          -0.9267226438657146,
          0.9719672710357363,
          2.5734408856260824,
          -1.4179814208087738,
          0.6976418663684967,
          -0.8316023680271891,
          -0.4975433103553649,
          1.176694039619859,
          0.3384316338473226,
          1.3931368280487866,
          0.8516427543809497,
          -2.1629001155754017,
          -0.46953659039533024,
          -0.7328199593222497,
          1.002179089640531,
          -0.008150964260954564,
          0.880339915138166,
          0.385617718066659,
          1.2112447920778397,
          1.1371483319306472,
          -0.008100802051161683,
          -1.9114794565402697,
          1.4383327561329602,
          -0.4808764783658503,
          -1.1255958181395707,
          0.08896976310427307,
          0.6476790743258302,
          1.47284120639291,
          -0.08330287378903845,
          -0.7445702211191871,
          -0.8237292974334501,
          0.20605133301378023,
          -0.6933286736248742,
          0.6613759047952371,
          -0.3253754217559649,
          -0.30186875219248127,
          -0.5656186267171517,
          -0.7165089679174215,
          0.9904247221327196,
          0.3762628796374166,
          -0.7313738313797528,
          -0.10006572803214414,
          0.9271555795760948,
          0.5390013541962926,
          1.5446457294728904,
          0.8255838101274191,
          0.2207803105279347,
          -0.163268149259328,
          0.847486421821672,
          -0.8103507227603521,
          -0.3939656396914116,
          0.6414877172681445,
          -0.4809629550516763,
          0.19726820614480525,
          0.9594731003239413,
          -1.568697860063734,
          -0.13759029007011714,
          -0.7363713833181897,
          1.720626132664227,
          0.5564940481948387,
          -1.1819263375014126,
          -0.49037632124759695,
          -1.8778643033172187,
          -0.2492486002678868,
          -0.8364650542503173,
          -0.7869115607233165,
          1.321495470687744,
          -0.4993894603166018,
          -0.007176448367678663,
          0.03758427465492715,
          0.030097706899791746,
          -0.8225262201134951,
          0.00041712697028832763,
          -1.5804409518448748,
          0.587281119318452,
          1.3207888927606326,
          -1.4170679468441403,
          -0.9134885579539296,
          -0.07043541892556768,
          -0.8401595953591745,
          -0.5880118315791366,
          1.0891329071382017,
          -2.015732444624768,
          0.7270160650817796,
          -0.3882287005644807,
          0.19441390087583738,
          -0.045301489786549576,
          0.5409506591906876,
          1.265104982790459,
          0.456035522245523,
          -0.35166992489702686,
          1.5360519666556995,
          -0.346196594509522,
          0.8577860420595799,
          2.6435036565405206,
          -0.3028530871379897,
          0.7781611038286317,
          1.6654777259523923,
          0.5286976710722271,
          1.9601198236841852,
          -0.3153552317328774,
          -0.6911601004435265,
          -0.353109535333997,
          -0.13820480938575316,
          0.8664353713996857,
          0.7297672328780371,
          -0.2057799849424522,
          -0.9390727506953626,
          1.1347238087388343,
          0.7521605860327462,
          0.4456410691133582,
          0.06964816786329715,
          0.47578994669353614,
          -0.46085704263016364,
          -0.249556103240027,
          0.8665906312480404,
          -0.7305169500087891,
          0.13219038394971314,
          -0.5366437734188161,
          -1.3804171738144075,
          0.8184883160320663,
          0.2119018197271224,
          -1.5544406625746383,
          0.23666620341776204,
          1.8180992688749886,
          0.09508766689201964,
          -2.2721201744212207,
          0.3403739807869703,
          0.6322611831406262,
          -0.18053006327906976,
          1.0654833225344336,
          1.319462881760275,
          0.9162814712003197,
          0.052646337915911216,
          0.47030084793606675,
          -1.0156600824498871,
          1.0484976977049143,
          0.6348595242950302,
          -0.45401497332000174,
          -0.5995047359297427,
          0.2209254478479215,
          -1.690617817225502,
          0.5337704959349181,
          -0.32910351459335535,
          -2.0673193325511274,
          -0.3013819777604657,
          1.285941423461856,
          1.1443792958418904,
          0.1275638088610661,
          0.5164836830364677,
          1.455821762624946,
          -0.8891472987586586,
          0.2885624960162541,
          2.123171713131371,
          0.4279827947425219,
          -1.439637882373018,
          -0.11598179951430457,
          -0.8288088902426867,
          0.42747444110567134,
          -1.3131926368136146,
          1.6538080330314782,
          -1.0235310815170084,
          -0.04736777968055369,
          0.4385328396404333,
          0.8536754868888697,
          -0.9283701395161084,
          0.5260832821803149,
          -0.12426113002817248,
          1.2684179380555873,
          0.009991426366267783,
          0.33710076885318047,
          1.350418773092485,
          1.5335805918702503,
          -0.6338594580373245,
          -0.1383220984240753,
          0.09687754725379447,
          -1.475893112878813,
          0.7791374101274076,
          -0.6585195970146849,
          0.7067602489130853,
          -0.8371792174353757,
          0.23331035904826353,
          -0.09188375258491832,
          1.5278729690832795,
          -0.9147848187615207,
          0.4221056673468741,
          1.2669578951143126,
          0.14792420412151155,
          0.7607100705852644,
          0.4254686904272737,
          1.586398314723665,
          0.43063479005852995,
          1.89043318684852,
          -1.9096648396269225
         ]
        }
       ],
       "layout": {
        "margin": {
         "b": 0,
         "l": 0,
         "r": 0,
         "t": 0
        },
        "template": {
         "data": {
          "bar": [
           {
            "error_x": {
             "color": "#2a3f5f"
            },
            "error_y": {
             "color": "#2a3f5f"
            },
            "marker": {
             "line": {
              "color": "#E5ECF6",
              "width": 0.5
             },
             "pattern": {
              "fillmode": "overlay",
              "size": 10,
              "solidity": 0.2
             }
            },
            "type": "bar"
           }
          ],
          "barpolar": [
           {
            "marker": {
             "line": {
              "color": "#E5ECF6",
              "width": 0.5
             },
             "pattern": {
              "fillmode": "overlay",
              "size": 10,
              "solidity": 0.2
             }
            },
            "type": "barpolar"
           }
          ],
          "carpet": [
           {
            "aaxis": {
             "endlinecolor": "#2a3f5f",
             "gridcolor": "white",
             "linecolor": "white",
             "minorgridcolor": "white",
             "startlinecolor": "#2a3f5f"
            },
            "baxis": {
             "endlinecolor": "#2a3f5f",
             "gridcolor": "white",
             "linecolor": "white",
             "minorgridcolor": "white",
             "startlinecolor": "#2a3f5f"
            },
            "type": "carpet"
           }
          ],
          "choropleth": [
           {
            "colorbar": {
             "outlinewidth": 0,
             "ticks": ""
            },
            "type": "choropleth"
           }
          ],
          "contour": [
           {
            "colorbar": {
             "outlinewidth": 0,
             "ticks": ""
            },
            "colorscale": [
             [
              0,
              "#0d0887"
             ],
             [
              0.1111111111111111,
              "#46039f"
             ],
             [
              0.2222222222222222,
              "#7201a8"
             ],
             [
              0.3333333333333333,
              "#9c179e"
             ],
             [
              0.4444444444444444,
              "#bd3786"
             ],
             [
              0.5555555555555556,
              "#d8576b"
             ],
             [
              0.6666666666666666,
              "#ed7953"
             ],
             [
              0.7777777777777778,
              "#fb9f3a"
             ],
             [
              0.8888888888888888,
              "#fdca26"
             ],
             [
              1,
              "#f0f921"
             ]
            ],
            "type": "contour"
           }
          ],
          "contourcarpet": [
           {
            "colorbar": {
             "outlinewidth": 0,
             "ticks": ""
            },
            "type": "contourcarpet"
           }
          ],
          "heatmap": [
           {
            "colorbar": {
             "outlinewidth": 0,
             "ticks": ""
            },
            "colorscale": [
             [
              0,
              "#0d0887"
             ],
             [
              0.1111111111111111,
              "#46039f"
             ],
             [
              0.2222222222222222,
              "#7201a8"
             ],
             [
              0.3333333333333333,
              "#9c179e"
             ],
             [
              0.4444444444444444,
              "#bd3786"
             ],
             [
              0.5555555555555556,
              "#d8576b"
             ],
             [
              0.6666666666666666,
              "#ed7953"
             ],
             [
              0.7777777777777778,
              "#fb9f3a"
             ],
             [
              0.8888888888888888,
              "#fdca26"
             ],
             [
              1,
              "#f0f921"
             ]
            ],
            "type": "heatmap"
           }
          ],
          "heatmapgl": [
           {
            "colorbar": {
             "outlinewidth": 0,
             "ticks": ""
            },
            "colorscale": [
             [
              0,
              "#0d0887"
             ],
             [
              0.1111111111111111,
              "#46039f"
             ],
             [
              0.2222222222222222,
              "#7201a8"
             ],
             [
              0.3333333333333333,
              "#9c179e"
             ],
             [
              0.4444444444444444,
              "#bd3786"
             ],
             [
              0.5555555555555556,
              "#d8576b"
             ],
             [
              0.6666666666666666,
              "#ed7953"
             ],
             [
              0.7777777777777778,
              "#fb9f3a"
             ],
             [
              0.8888888888888888,
              "#fdca26"
             ],
             [
              1,
              "#f0f921"
             ]
            ],
            "type": "heatmapgl"
           }
          ],
          "histogram": [
           {
            "marker": {
             "pattern": {
              "fillmode": "overlay",
              "size": 10,
              "solidity": 0.2
             }
            },
            "type": "histogram"
           }
          ],
          "histogram2d": [
           {
            "colorbar": {
             "outlinewidth": 0,
             "ticks": ""
            },
            "colorscale": [
             [
              0,
              "#0d0887"
             ],
             [
              0.1111111111111111,
              "#46039f"
             ],
             [
              0.2222222222222222,
              "#7201a8"
             ],
             [
              0.3333333333333333,
              "#9c179e"
             ],
             [
              0.4444444444444444,
              "#bd3786"
             ],
             [
              0.5555555555555556,
              "#d8576b"
             ],
             [
              0.6666666666666666,
              "#ed7953"
             ],
             [
              0.7777777777777778,
              "#fb9f3a"
             ],
             [
              0.8888888888888888,
              "#fdca26"
             ],
             [
              1,
              "#f0f921"
             ]
            ],
            "type": "histogram2d"
           }
          ],
          "histogram2dcontour": [
           {
            "colorbar": {
             "outlinewidth": 0,
             "ticks": ""
            },
            "colorscale": [
             [
              0,
              "#0d0887"
             ],
             [
              0.1111111111111111,
              "#46039f"
             ],
             [
              0.2222222222222222,
              "#7201a8"
             ],
             [
              0.3333333333333333,
              "#9c179e"
             ],
             [
              0.4444444444444444,
              "#bd3786"
             ],
             [
              0.5555555555555556,
              "#d8576b"
             ],
             [
              0.6666666666666666,
              "#ed7953"
             ],
             [
              0.7777777777777778,
              "#fb9f3a"
             ],
             [
              0.8888888888888888,
              "#fdca26"
             ],
             [
              1,
              "#f0f921"
             ]
            ],
            "type": "histogram2dcontour"
           }
          ],
          "mesh3d": [
           {
            "colorbar": {
             "outlinewidth": 0,
             "ticks": ""
            },
            "type": "mesh3d"
           }
          ],
          "parcoords": [
           {
            "line": {
             "colorbar": {
              "outlinewidth": 0,
              "ticks": ""
             }
            },
            "type": "parcoords"
           }
          ],
          "pie": [
           {
            "automargin": true,
            "type": "pie"
           }
          ],
          "scatter": [
           {
            "fillpattern": {
             "fillmode": "overlay",
             "size": 10,
             "solidity": 0.2
            },
            "type": "scatter"
           }
          ],
          "scatter3d": [
           {
            "line": {
             "colorbar": {
              "outlinewidth": 0,
              "ticks": ""
             }
            },
            "marker": {
             "colorbar": {
              "outlinewidth": 0,
              "ticks": ""
             }
            },
            "type": "scatter3d"
           }
          ],
          "scattercarpet": [
           {
            "marker": {
             "colorbar": {
              "outlinewidth": 0,
              "ticks": ""
             }
            },
            "type": "scattercarpet"
           }
          ],
          "scattergeo": [
           {
            "marker": {
             "colorbar": {
              "outlinewidth": 0,
              "ticks": ""
             }
            },
            "type": "scattergeo"
           }
          ],
          "scattergl": [
           {
            "marker": {
             "colorbar": {
              "outlinewidth": 0,
              "ticks": ""
             }
            },
            "type": "scattergl"
           }
          ],
          "scattermapbox": [
           {
            "marker": {
             "colorbar": {
              "outlinewidth": 0,
              "ticks": ""
             }
            },
            "type": "scattermapbox"
           }
          ],
          "scatterpolar": [
           {
            "marker": {
             "colorbar": {
              "outlinewidth": 0,
              "ticks": ""
             }
            },
            "type": "scatterpolar"
           }
          ],
          "scatterpolargl": [
           {
            "marker": {
             "colorbar": {
              "outlinewidth": 0,
              "ticks": ""
             }
            },
            "type": "scatterpolargl"
           }
          ],
          "scatterternary": [
           {
            "marker": {
             "colorbar": {
              "outlinewidth": 0,
              "ticks": ""
             }
            },
            "type": "scatterternary"
           }
          ],
          "surface": [
           {
            "colorbar": {
             "outlinewidth": 0,
             "ticks": ""
            },
            "colorscale": [
             [
              0,
              "#0d0887"
             ],
             [
              0.1111111111111111,
              "#46039f"
             ],
             [
              0.2222222222222222,
              "#7201a8"
             ],
             [
              0.3333333333333333,
              "#9c179e"
             ],
             [
              0.4444444444444444,
              "#bd3786"
             ],
             [
              0.5555555555555556,
              "#d8576b"
             ],
             [
              0.6666666666666666,
              "#ed7953"
             ],
             [
              0.7777777777777778,
              "#fb9f3a"
             ],
             [
              0.8888888888888888,
              "#fdca26"
             ],
             [
              1,
              "#f0f921"
             ]
            ],
            "type": "surface"
           }
          ],
          "table": [
           {
            "cells": {
             "fill": {
              "color": "#EBF0F8"
             },
             "line": {
              "color": "white"
             }
            },
            "header": {
             "fill": {
              "color": "#C8D4E3"
             },
             "line": {
              "color": "white"
             }
            },
            "type": "table"
           }
          ]
         },
         "layout": {
          "annotationdefaults": {
           "arrowcolor": "#2a3f5f",
           "arrowhead": 0,
           "arrowwidth": 1
          },
          "autotypenumbers": "strict",
          "coloraxis": {
           "colorbar": {
            "outlinewidth": 0,
            "ticks": ""
           }
          },
          "colorscale": {
           "diverging": [
            [
             0,
             "#8e0152"
            ],
            [
             0.1,
             "#c51b7d"
            ],
            [
             0.2,
             "#de77ae"
            ],
            [
             0.3,
             "#f1b6da"
            ],
            [
             0.4,
             "#fde0ef"
            ],
            [
             0.5,
             "#f7f7f7"
            ],
            [
             0.6,
             "#e6f5d0"
            ],
            [
             0.7,
             "#b8e186"
            ],
            [
             0.8,
             "#7fbc41"
            ],
            [
             0.9,
             "#4d9221"
            ],
            [
             1,
             "#276419"
            ]
           ],
           "sequential": [
            [
             0,
             "#0d0887"
            ],
            [
             0.1111111111111111,
             "#46039f"
            ],
            [
             0.2222222222222222,
             "#7201a8"
            ],
            [
             0.3333333333333333,
             "#9c179e"
            ],
            [
             0.4444444444444444,
             "#bd3786"
            ],
            [
             0.5555555555555556,
             "#d8576b"
            ],
            [
             0.6666666666666666,
             "#ed7953"
            ],
            [
             0.7777777777777778,
             "#fb9f3a"
            ],
            [
             0.8888888888888888,
             "#fdca26"
            ],
            [
             1,
             "#f0f921"
            ]
           ],
           "sequentialminus": [
            [
             0,
             "#0d0887"
            ],
            [
             0.1111111111111111,
             "#46039f"
            ],
            [
             0.2222222222222222,
             "#7201a8"
            ],
            [
             0.3333333333333333,
             "#9c179e"
            ],
            [
             0.4444444444444444,
             "#bd3786"
            ],
            [
             0.5555555555555556,
             "#d8576b"
            ],
            [
             0.6666666666666666,
             "#ed7953"
            ],
            [
             0.7777777777777778,
             "#fb9f3a"
            ],
            [
             0.8888888888888888,
             "#fdca26"
            ],
            [
             1,
             "#f0f921"
            ]
           ]
          },
          "colorway": [
           "#636efa",
           "#EF553B",
           "#00cc96",
           "#ab63fa",
           "#FFA15A",
           "#19d3f3",
           "#FF6692",
           "#B6E880",
           "#FF97FF",
           "#FECB52"
          ],
          "font": {
           "color": "#2a3f5f"
          },
          "geo": {
           "bgcolor": "white",
           "lakecolor": "white",
           "landcolor": "#E5ECF6",
           "showlakes": true,
           "showland": true,
           "subunitcolor": "white"
          },
          "hoverlabel": {
           "align": "left"
          },
          "hovermode": "closest",
          "mapbox": {
           "style": "light"
          },
          "paper_bgcolor": "white",
          "plot_bgcolor": "#E5ECF6",
          "polar": {
           "angularaxis": {
            "gridcolor": "white",
            "linecolor": "white",
            "ticks": ""
           },
           "bgcolor": "#E5ECF6",
           "radialaxis": {
            "gridcolor": "white",
            "linecolor": "white",
            "ticks": ""
           }
          },
          "scene": {
           "xaxis": {
            "backgroundcolor": "#E5ECF6",
            "gridcolor": "white",
            "gridwidth": 2,
            "linecolor": "white",
            "showbackground": true,
            "ticks": "",
            "zerolinecolor": "white"
           },
           "yaxis": {
            "backgroundcolor": "#E5ECF6",
            "gridcolor": "white",
            "gridwidth": 2,
            "linecolor": "white",
            "showbackground": true,
            "ticks": "",
            "zerolinecolor": "white"
           },
           "zaxis": {
            "backgroundcolor": "#E5ECF6",
            "gridcolor": "white",
            "gridwidth": 2,
            "linecolor": "white",
            "showbackground": true,
            "ticks": "",
            "zerolinecolor": "white"
           }
          },
          "shapedefaults": {
           "line": {
            "color": "#2a3f5f"
           }
          },
          "ternary": {
           "aaxis": {
            "gridcolor": "white",
            "linecolor": "white",
            "ticks": ""
           },
           "baxis": {
            "gridcolor": "white",
            "linecolor": "white",
            "ticks": ""
           },
           "bgcolor": "#E5ECF6",
           "caxis": {
            "gridcolor": "white",
            "linecolor": "white",
            "ticks": ""
           }
          },
          "title": {
           "x": 0.05
          },
          "xaxis": {
           "automargin": true,
           "gridcolor": "white",
           "linecolor": "white",
           "ticks": "",
           "title": {
            "standoff": 15
           },
           "zerolinecolor": "white",
           "zerolinewidth": 2
          },
          "yaxis": {
           "automargin": true,
           "gridcolor": "white",
           "linecolor": "white",
           "ticks": "",
           "title": {
            "standoff": 15
           },
           "zerolinecolor": "white",
           "zerolinewidth": 2
          }
         }
        }
       }
      },
      "text/html": [
       "<div>                            <div id=\"48c8fda9-ca43-4261-9304-22b8926fadb7\" class=\"plotly-graph-div\" style=\"height:525px; width:100%;\"></div>            <script type=\"text/javascript\">                require([\"plotly\"], function(Plotly) {                    window.PLOTLYENV=window.PLOTLYENV || {};                                    if (document.getElementById(\"48c8fda9-ca43-4261-9304-22b8926fadb7\")) {                    Plotly.newPlot(                        \"48c8fda9-ca43-4261-9304-22b8926fadb7\",                        [{\"marker\":{\"color\":[-1.1203030443244015,-0.2644528712599105,-0.5788530609117603,1.426738516561892,-0.9851967828764313,-0.10783772870788151,0.5818221789660195,1.5852266835800641,-1.012602422267457,-1.3930718910830082,-0.2745722606813233,-1.0461114943169114,2.644182177495587,-0.37220603874152625,-0.10834264356819232,-0.19459914011610804,-1.1395713538753534,0.21427554096464413,2.774941485231473,1.7675590159257484,0.6405381829516933,-0.7804750315951341,-0.5644874684978389,-1.1776354407052936,-0.18302184003001215,0.11940135296920365,1.6054531576662985,0.03830656924636087,0.02520318494801763,0.5590909190455359,-0.41685303377299676,-1.1584635739049678,-1.3654701521055634,-0.35103488970796837,1.1484736033664837,0.3435617579589207,0.029644401777983193,1.0430571505005644,0.2576484378384445,0.8517383762439983,0.3356551897341221,0.6007977913018651,-1.2164026935522052,2.049351131561216,-1.9761121479327721,0.3443452654466919,1.3313184318472322,-1.609318865770756,0.46616253726250007,0.2963236180463442,2.1417489187799057,-0.014101078175423496,3.1789073015002143,-1.3836070654466492,2.1058815764099483,1.1719818295419366,0.7868995195255343,-0.1433550202878901,-0.6165666531157669,-0.633255554955799,1.000857775457978,-0.8723205270494246,1.3254039446929504,-0.11379340397897188,-0.0810568921873574,-0.7025398564120052,-0.7134013302747185,-2.500444902319758,2.922406142319444,2.371508508605112,-1.9712851462894945,0.48620195538064387,-0.23826090538786687,2.1797271521270996,-0.5658236297649512,-0.020802812779052073,-0.9292323155904294,-1.3784114847303277,0.12436984751895781,1.4322232739668361,-0.6844936063743484,0.6325358928891432,-0.6577958700500012,-0.406887175300438,0.3437597846036845,-0.018778856820864366,2.0862033680162373,-0.5042339367078444,-1.1132085790529624,0.26745532059798677,-1.496343472444279,-1.5219141671405134,0.7935384530456643,-0.44176045392636193,0.16430677847543,0.877154709868744,0.5179475657701328,1.427737344144543,-0.10669885111762388,0.23599483248268902,-0.0567906468523679,0.18165533284668606,-0.6086987311007401,0.6636419321098979,0.9078116338858758,0.18779508625943786,-0.923445265058113,0.15397805719812924,0.7427424117674157,-0.2821755749639546,-0.05442675884503359,-0.6307656422375859,-0.0949487588498419,-0.31806848503588303,-1.1121903383454539,-0.8155458743781518,-0.14897620743491358,0.6503953730293583,0.036782780211357724,-1.4414290500407034,0.05648293924814722,-0.6497536965222399,1.6908655632253498,1.8217848220059494,-0.1834025464387034,-1.6447178157653772,0.08426624746393035,-0.7486936603158644,-0.5159001359107418,1.2034572420297946,0.8038976255396889,-0.5186948779399847,-1.13994703183182,0.3080893210608066,0.23776071966433282,-0.21859530946113911,-0.5675461181076308,-0.2833072077240605,0.7277968266350638,-0.14946576054079877,-0.6980975954230529,0.48782915211302713,-0.7397793950402038,-1.5724636835402053,0.03801837888142187,-0.5338284930752869,1.2036082429995325,0.4360166991449123,0.6092605145156567,-0.3524633884763916,0.26620584387953417,0.005819667736854981,-0.3177001762082229,0.2719078039191425,1.082003293477053,0.39548311769017913,-0.3458170802856236,-0.14594061676228332,1.0733003004086468,-1.0885129834631666,-0.44687682710491305,-0.5662964271302996,1.213517925788399,-0.7457023582708173,-0.9184641914864787,-1.4029633297801798,0.4601302350676865,0.2781818385501591,1.009610180860582,-0.4925096361110392,-1.000976361540445,0.8234054336369102,-0.11188557528302404,-1.3819422234236705,0.35174879884982263,-0.006682311295392599,-0.01702581289730959,-1.8774058280672032,-1.3065531590998873,1.6150360699030817,0.36106950320185144,1.425431318248891,0.15797198795816597,-0.511633013499562,0.6139125531099909,-1.1903923330008668,2.0481396323029157,0.8679759394861283,1.1033204580178626,-0.3687267615423628,-0.9953798072984043,0.33044297355857816,0.3103675719271791,0.9385615836904545,-0.9057112368174723,-0.5563307541402648,0.08955268343185789,-0.48791049288137767,1.0886290605702975,0.7807972761608493,0.02055211827986829,0.5075827701880153,1.2467520783260442,0.6677780701983662,0.2440979926933309,0.3414973027654975,-0.9267226438657146,0.9719672710357363,2.5734408856260824,-1.4179814208087738,0.6976418663684967,-0.8316023680271891,-0.4975433103553649,1.176694039619859,0.3384316338473226,1.3931368280487866,0.8516427543809497,-2.1629001155754017,-0.46953659039533024,-0.7328199593222497,1.002179089640531,-0.008150964260954564,0.880339915138166,0.385617718066659,1.2112447920778397,1.1371483319306472,-0.008100802051161683,-1.9114794565402697,1.4383327561329602,-0.4808764783658503,-1.1255958181395707,0.08896976310427307,0.6476790743258302,1.47284120639291,-0.08330287378903845,-0.7445702211191871,-0.8237292974334501,0.20605133301378023,-0.6933286736248742,0.6613759047952371,-0.3253754217559649,-0.30186875219248127,-0.5656186267171517,-0.7165089679174215,0.9904247221327196,0.3762628796374166,-0.7313738313797528,-0.10006572803214414,0.9271555795760948,0.5390013541962926,1.5446457294728904,0.8255838101274191,0.2207803105279347,-0.163268149259328,0.847486421821672,-0.8103507227603521,-0.3939656396914116,0.6414877172681445,-0.4809629550516763,0.19726820614480525,0.9594731003239413,-1.568697860063734,-0.13759029007011714,-0.7363713833181897,1.720626132664227,0.5564940481948387,-1.1819263375014126,-0.49037632124759695,-1.8778643033172187,-0.2492486002678868,-0.8364650542503173,-0.7869115607233165,1.321495470687744,-0.4993894603166018,-0.007176448367678663,0.03758427465492715,0.030097706899791746,-0.8225262201134951,0.00041712697028832763,-1.5804409518448748,0.587281119318452,1.3207888927606326,-1.4170679468441403,-0.9134885579539296,-0.07043541892556768,-0.8401595953591745,-0.5880118315791366,1.0891329071382017,-2.015732444624768,0.7270160650817796,-0.3882287005644807,0.19441390087583738,-0.045301489786549576,0.5409506591906876,1.265104982790459,0.456035522245523,-0.35166992489702686,1.5360519666556995,-0.346196594509522,0.8577860420595799,2.6435036565405206,-0.3028530871379897,0.7781611038286317,1.6654777259523923,0.5286976710722271,1.9601198236841852,-0.3153552317328774,-0.6911601004435265,-0.353109535333997,-0.13820480938575316,0.8664353713996857,0.7297672328780371,-0.2057799849424522,-0.9390727506953626,1.1347238087388343,0.7521605860327462,0.4456410691133582,0.06964816786329715,0.47578994669353614,-0.46085704263016364,-0.249556103240027,0.8665906312480404,-0.7305169500087891,0.13219038394971314,-0.5366437734188161,-1.3804171738144075,0.8184883160320663,0.2119018197271224,-1.5544406625746383,0.23666620341776204,1.8180992688749886,0.09508766689201964,-2.2721201744212207,0.3403739807869703,0.6322611831406262,-0.18053006327906976,1.0654833225344336,1.319462881760275,0.9162814712003197,0.052646337915911216,0.47030084793606675,-1.0156600824498871,1.0484976977049143,0.6348595242950302,-0.45401497332000174,-0.5995047359297427,0.2209254478479215,-1.690617817225502,0.5337704959349181,-0.32910351459335535,-2.0673193325511274,-0.3013819777604657,1.285941423461856,1.1443792958418904,0.1275638088610661,0.5164836830364677,1.455821762624946,-0.8891472987586586,0.2885624960162541,2.123171713131371,0.4279827947425219,-1.439637882373018,-0.11598179951430457,-0.8288088902426867,0.42747444110567134,-1.3131926368136146,1.6538080330314782,-1.0235310815170084,-0.04736777968055369,0.4385328396404333,0.8536754868888697,-0.9283701395161084,0.5260832821803149,-0.12426113002817248,1.2684179380555873,0.009991426366267783,0.33710076885318047,1.350418773092485,1.5335805918702503,-0.6338594580373245,-0.1383220984240753,0.09687754725379447,-1.475893112878813,0.7791374101274076,-0.6585195970146849,0.7067602489130853,-0.8371792174353757,0.23331035904826353,-0.09188375258491832,1.5278729690832795,-0.9147848187615207,0.4221056673468741,1.2669578951143126,0.14792420412151155,0.7607100705852644,0.4254686904272737,1.586398314723665,0.43063479005852995,1.89043318684852,-1.9096648396269225],\"colorscale\":[[0.0,\"#440154\"],[0.1111111111111111,\"#482878\"],[0.2222222222222222,\"#3e4989\"],[0.3333333333333333,\"#31688e\"],[0.4444444444444444,\"#26828e\"],[0.5555555555555556,\"#1f9e89\"],[0.6666666666666666,\"#35b779\"],[0.7777777777777778,\"#6ece58\"],[0.8888888888888888,\"#b5de2b\"],[1.0,\"#fde725\"]],\"opacity\":0.8,\"size\":12},\"mode\":\"markers\",\"x\":[-0.4734211084899219,-2.3162597281396002,1.2020435967415215,0.7636554676834776,-1.4469274504681866,-1.5954956325722016,1.2614417971524639,-0.1687450965212954,-1.6921717147177238,-0.5664676563679267,-0.704247244632459,-0.31366379661135985,-0.5446078736770259,2.0233045197264925,1.1924412240010265,1.1502763504734588,0.6448097939771454,0.8914756552513294,1.7296886130156677,1.221381835648915,-0.24169010775809324,-0.4317971385649669,-0.801227338688371,0.6598217764020243,-0.35374793397197646,0.3018796710194212,-0.31507013685654034,0.4787088756805738,-0.058726249189676547,-0.4030009571883851,-0.62616231379271,0.985821161005278,0.7451733989637718,-0.928494484524156,-1.2496414645142904,-0.4608527040455306,0.18763185219754533,-1.059644153427559,-0.25191413663024315,0.5427402325704269,-1.4032416679846105,0.34941847392808667,1.5285723247069427,-0.9842351172979981,-0.6646904332333781,-0.8943532904973683,0.5674510509744357,-1.5941085695190969,0.5739305843717887,-0.5592794659286766,-0.11076275998725309,3.139380773851984,0.1951576258496921,0.6079089767311922,-0.6734731964512325,0.526096232328853,-0.02112754514136464,1.268803312659771,-1.59263848575103,-1.1029805460797029,-0.5134383807594183,0.07244251056186297,0.9027884105379747,1.1291182942471418,-0.20410899806096847,0.37904020154155776,-0.046308120743742825,1.1340008212573893,0.7199421457847389,0.5933019621392375,0.8799168932488897,-1.0903159973584364,0.3704745425745323,-0.017057273511275176,0.356390121352209,-1.285886410875985,2.5294981602276847,-1.9466453741665086,-2.266434443957181,0.8329814808497475,1.052933637230077,0.5085421163335615,-0.6219364079290853,0.4446756304607153,-0.9762389722503915,-1.0108225918840505,-0.9531925491873553,0.24158519787387098,1.5797948521801417,-0.4490572206964412,-0.3546519085647183,0.04561778528230665,1.174732684684099,0.38254957854328575,1.122149018462237,1.2039419498424349,0.49811439181414446,-0.1761335869065655,-1.4230638598434295,0.31151310526966863,-1.4530737562679465,-0.4722431129746518,1.8331763615288206,0.13891073640140977,-0.4683263571772875,0.793912432536844,-0.0007987993818590623,1.2888919723776113,-0.32501124763501504,0.6873369210502633,-1.257601656126963,0.4031585483500356,-2.2244395711868656,-0.6629450871458812,-0.37380162461190547,0.14914883349933553,0.9190342854663,0.39677415559013846,0.1613180868128353,-0.1584337000597229,2.000997530130904,0.7740281709738975,1.0363487064259989,-1.0636209091797522,1.4374210978729451,0.7318485062848116,-0.8419342837315534,-0.4972930202204672,-1.7862808852908256,0.4233834014783082,1.3489003291922714,-0.7551861934119425,-0.2996219591851306,-0.3927670483879126,-1.3291802470942795,0.1541653881197049,0.1661382573314389,-0.19815015899698699,-1.1296929558599498,-1.339761374489834,0.3950273353832027,0.40431876118144905,-0.5434343557930134,-0.7012148041673455,-0.16626481857255884,1.4291214923135194,-0.6665384983388768,0.2733712163780749,0.6591395657956362,2.165758358050766,-1.170081435670512,1.9242803958256653,0.5839144570564642,-0.9633731255159415,-0.4416353306687543,0.4563701841207323,-0.5200265676731423,0.680371392711504,-0.4204237308014461,1.0422077736659259,0.4270031631173888,-1.604367831532917,0.7460578095452467,-0.6958747961833218,-0.6160647463138963,0.42754334199620697,1.4486809689548186,-0.027725816050265473,0.264881603647785,-0.9436656056636917,0.2585490857692469,1.719938063932681,-1.4103571152358536,0.10995561712968716,2.029861660439229,0.11855174710807527,-0.3717215615582281,-1.1582088209224992,0.759617104462157,-1.5403916092682952,-0.5351322312126825,-0.2857090660954339,0.48238236514376287,-1.2004604818044025,-0.10103393719490199,1.2246856574351235,-0.7067828057207949,1.9229313300917048,2.6239014599806807,-0.5357240567851222,1.2269396627266465,0.8408874714912953,-0.4486623324490162,0.48912745960085824,0.3534254171874844,2.428905822204437,0.5779644494587935,-1.5305075271099484,-1.1531229129051093,2.1666979479083377,-0.2809993916741608,-1.2397273003107614,1.5840778323818643,-1.7479000347802411,0.9990476442730288,-0.7324847109048331,-1.4034092103005227,0.9581549123263825,-0.4040479052928169,-0.8279993737123857,-1.2459324062592954,0.9234771766895545,0.45193672311486205,-0.4772044770932859,0.48012357681836676,2.215999179227667,-1.5516547249808814,1.1954101792336993,-0.9221397150893806,0.902878066551362,-0.40547372364620915,-1.9525110100450458,-0.7465409585369437,-0.43778662340453794,1.0549326709458777,-0.14132623864009106,1.192340189278622,0.5163527735227524,-0.8937260978855093,-0.3547815260288113,0.3570144914649902,-0.6584647891573415,0.11715496627935443,1.6921242276449158,0.6825672686892666,-0.33936166228568404,-1.253602736331044,-0.8335816442267585,-0.3187023529265557,-0.302296851474937,0.20081548129806037,-2.4994011219914674,1.3289503135559768,1.959337781837394,-0.13653894924708046,-1.0201945970734057,0.43868009596554214,1.2334722301230059,-2.0363391800437607,1.2650900383698207,0.426741788806386,0.19852314098989776,-0.7691900891427771,2.235222732129146,1.1180739481974746,-1.201636137534762,-2.3182223905498613,-0.7899464435645606,0.9782313045048318,0.7782907091410243,1.0454957398249183,1.3317435457981581,-2.398136890033281,-0.9821175089347531,-0.41934821963147145,-0.40895935491974006,2.4848066163576643,0.88988383168462,0.6807825158884022,1.4091167012408616,0.9578874514458706,-1.187723989733528,-0.020934990658057373,1.9317278318755557,-0.4253297722733344,0.9606096972118127,0.03868749063194922,-0.7474637296962913,0.3864530344953796,0.5098051725871838,-0.7220408708190555,0.9784414155581921,-0.6434336932121197,-0.5212261519011966,0.037160745876684456,-0.28161628536979594,-0.8714657982792413,0.3394933978542411,0.7824225148472046,0.5847464288817915,0.1296161634259853,-0.5399827139408271,0.3660622069019794,0.3293249062667545,0.7579315480063333,-0.8333650464099295,-1.7704974025280522,-0.38663447762830067,0.47550438294070857,1.1370280898630403,-1.3991080254479131,0.677020070800949,-0.848021109051496,0.45626592892809403,-0.7837512516679902,-1.3591124694472045,1.734305207386673,1.8367194158476183,3.6375754660043764,-0.21095256199958454,-0.6692456214121161,-1.6283282767154421,0.1411476318763514,1.2997029459872562,0.2179206206781528,-0.09091716366789677,-0.8549487715942182,0.7973018166353896,0.43506968184272593,0.2833271422554656,-0.07970234635685947,0.21188950203459636,1.038544081738313,-0.0788872890415448,-0.5687990372902593,-0.42857335943145025,-0.45829831535116533,-0.9843954060652922,0.5254385038176373,1.1513536504818958,-2.680134881180286,-1.7696574235570923,-0.9581947929731814,-0.5734944547375574,-2.038656637963596,-0.08310900648012666,0.08365294199035532,-1.1128923488865645,-0.05230973902500226,-1.9842953067370266,1.1631513630049723,-0.8526847291269022,1.263716290644545,-0.4677144061602926,0.22143355423588482,0.4794194381346149,0.14911971595819584,-1.295531184355369,-0.6983220949369955,0.7355260681646066,-1.1663750804368325,-0.4897123219071892,0.07805929742692129,-1.2676306639607182,-1.6959474651341708,-0.8145778116250086,0.5938510022151375,-0.17562427112026233,0.6739803443838686,-1.5535013914111295,0.47288345011289856,1.4121226160123783,0.44577201249877674,-0.06926880096402288,0.03217998470304145,0.583018734287207,-0.6876513890455946,-0.42532075555211346,-0.16985762910196928,-2.141979654811916,-0.9377185127643263,-1.7336125272553145,-1.4802553353017878,-0.891726572274594,-2.4220004224265392,0.3653540391693215,0.5620590672189555,0.4815453460232371,-2.313072693242302,1.8517248985323411,-0.10345281974179646,0.52653479452454,0.6023434286295778,-0.3754844051649219,-1.6382493120368748,0.7337987118399445,-0.016604291732181465,0.723593774196132,1.7061337608023368,0.7516226989328085,-0.9355637007419129,-1.74273696096486,0.9034891009787511,-1.7187628562361732,0.6109838404023341,0.5455542779717147,-0.2606610863171048,-0.6156356926469372,0.5565622771081716,1.603613551889297],\"y\":[-1.0507148911048299,0.26783952650700105,-0.9130732592099121,-0.1250657550661673,-0.5897363557435895,0.935845706623824,0.5143263653852186,-0.5904868865727376,0.43362702859749236,-0.043815349085882645,0.8016920911093462,0.9729889820746752,0.6439606491834114,-0.44272021692924907,-1.5395737832946361,-1.6532414727366682,-0.5942224182290338,0.8908263774104824,-0.6955115286233544,0.29878808113652616,-0.9918944572179423,-0.2373818911853555,2.7352120432417544,-0.42508818408611126,-0.5705624819418688,0.297055251984576,0.04453616205212559,-1.5957703981034257,0.32531192845518786,-2.324654384702632,2.126927961560872,0.3905132199519119,1.711060701278541,0.41176429632146516,-0.804957438932387,2.0733301879771435,0.7663945653196437,-1.144343718103041,0.03231335283577056,0.34299522798363696,0.40458845492340545,-0.6608495512832391,-0.9119645595949618,-0.20784103521757685,0.6606544392103829,-0.005824759532595154,-0.5999465182031342,-0.5347451421811578,0.4999908742021697,0.019510734564515367,-0.12966023312353633,0.06338859045599585,0.9479753243241594,-1.2787249456951726,2.196558837644598,1.099104168431579,-0.5873258099203805,0.8225715125595656,-0.29548411456986384,0.7885645237483615,1.5220097662781358,-0.3448571453830223,-0.11888956042724146,0.9111109444117311,1.0886885744317458,-1.3936306308701811,1.5497930685627541,-0.7929117825473714,-0.11805488739931928,1.0600867904052431,-1.1074335136415085,0.8158579652158715,1.689472902261352,-0.12937513940986253,-0.7041977033238128,0.004398846496052002,-1.154261313412908,0.5967993081669832,-1.8109285612696497,1.090315645050029,0.17795763258731168,0.7079218859396896,1.4717406790680787,0.37479257258800147,-0.3083429695482758,-2.0383597759948002,-0.3010815001091006,0.719691346975734,-0.19327529419998457,-1.2406753484832878,1.5710613532804714,-0.7838848177970194,0.2545040782284876,-0.6517091907041446,1.3943538579175787,1.6886408362779812,-0.48362375967642485,-0.3081999354798361,0.28171918245820365,0.2581437224812052,1.185711667604076,0.0652262849079129,-0.4638438701997606,0.41032324345361565,0.10518024699978705,-0.21090032873803713,-0.9250449809543347,0.22096474967576019,-1.0436863006533263,-0.5976377129544729,1.0874690124775883,0.8061444392681887,0.6457530566498957,0.7232021071080038,-0.6425738116149129,-1.068587014335703,-1.1750747780255621,-1.5168727965290798,-0.05915486220990761,-0.6056222217660795,-0.9643874536414601,0.1306869848999633,-0.5396030214051282,-1.1152228969281273,-0.4943401321639899,1.1302095422572243,0.3947873451460451,-1.645381934673653,1.250943523603876,-0.3833109806668942,-0.0038026840608400146,0.058301307504840465,-1.7154103815375668,0.04134538350770971,0.3770742796760227,1.0849795350935254,0.40836843610837725,-1.1453669818192154,0.5742333522332574,0.7061278421190705,0.4596836198046907,1.4150283723607706,-0.5117584809420869,0.7692569844616375,0.3594457937775697,-1.2741617815566149,0.4732101394821448,-1.071633124441293,-0.39968494255835996,-2.0384984236777055,1.28669499199351,1.7927414055396358,0.9451114767135976,1.3666175168155694,1.194277155130864,-0.5631502581848633,-1.9606406542603105,-0.7899517186812223,1.8487895145004156,-0.8489413499132825,-0.4602787867432254,0.17563619156978894,0.5997802590553643,-2.2248730418971943,-1.0192541289370187,0.8201849218517844,-0.37253533837520836,0.3230403371207757,0.3401977335833128,-0.22679109944524742,-0.39910357503382526,0.3472017944422186,-0.2772105272840943,0.04731093535832018,-0.7530584376251948,0.23197732745307895,-0.5211844030433721,-0.7834044777623705,-1.227638073878093,-0.21967282780496442,-0.9021457035967155,1.1851903040169063,0.6080357525146561,0.33767104568205275,0.16215603702321707,1.076743971107511,-0.5691352509881933,1.4852006609779487,-0.39832194646130625,-0.7719046670354863,0.7858981980300187,0.8553712712648498,-0.6294900149751773,2.312702971759759,-0.9614640941570922,-0.05306770484449441,-0.10998911139158868,0.45051815052653743,1.786307909179459,-1.5351548973512485,-0.09180530497508874,0.911977943384462,-0.8518418198237716,0.14351717545742626,0.7472714081111738,-0.19114314472751212,-1.7840128543321854,-0.3461144132884823,1.3777263094542171,0.6865983670521038,0.06218881341674874,0.3023692043056262,0.43555929323772763,-0.6960101948805749,-2.875451318528446,1.2650006244574903,-0.5391972907172252,-0.352294220252417,-1.6426718095167934,0.17178088113993797,0.05450504528133212,1.6197147091286357,-1.4466166061962662,-0.16507593174844692,1.0256119821854746,-0.19947282999811528,-0.12863754015816584,-1.3307635681872172,1.5311325366638155,0.8510356894512879,0.7405492029257311,-0.023904096470533286,0.17575160609080442,0.9227521396368521,-0.8481040100072992,-0.8504088712200568,0.6383629621359117,-2.8201818052043275,-0.3113080378996912,0.06174434202047215,0.7973530635738095,-0.6675769438545628,-1.186136895368832,-0.5915562472743913,1.174892391226012,-1.209504391291387,-0.5643484368702838,-0.6642739404186103,1.1630313801512215,2.1916838073304703,-2.6260455677754373,-0.5334762541671936,-0.0034329875884509115,0.9830263909016146,-0.2892174401773539,0.9702114629670896,-0.835072312074011,0.2041283569930039,1.3277889233929905,-0.07609584822382257,1.1830772661242799,-0.10828968729866299,-1.3553678036207444,1.1696693073021995,-0.673990873259307,1.212414147796128,0.7576218448905214,-0.5528790908440375,-0.008100257607413772,1.8374492316856679,-0.9819844680511617,1.2998415416091742,-0.3103233996569089,0.572659820546705,0.20712152349166363,1.524566282534626,0.7769573600307011,-2.101507765149121,-0.15653709109913938,0.3880145451242525,-0.06434016595161139,0.6279342780195534,0.3702231762962372,-0.5398257499693081,-0.27452710250953094,-0.7210526568928656,1.957661719998406,0.4878634781716516,0.29386148667994233,0.6949730518559125,0.18834240947153547,-0.38147997720653076,0.5357351307906494,-1.0693835864542391,-0.7275545433063891,-0.3637286031707274,0.7321301240475004,-1.315075033078628,-0.6512704156665903,-0.3856058420072533,0.18141020443969097,0.19476556561412361,1.0153125941559697,1.1175536701018127,0.5296020816924906,-0.5130931554046153,0.25089600861850087,-2.1224790325975573,0.05378572645284588,0.5150561658317407,0.12221259270442873,-0.773315215891247,-2.2950600728608985,-0.13499382004348406,1.0425756712419103,1.8607728570821362,-0.956090867316888,-0.762941664979935,1.1654118457722134,0.6791699635978418,-1.0082087423791828,-0.6497462593116834,0.6826217218342443,-0.27697933989602375,0.03920768597770025,-0.5784936454065318,1.0590223875435978,-0.5997477227370254,-0.6761575642464929,0.08228171269752456,0.381294562569837,-0.0076279674259221285,0.9145866277780422,-0.43429964909267116,-2.5956486864316393,0.25636852211342115,0.856546079369519,-0.5450897132427102,-3.008265838623249,-1.0945796795940743,0.29359189042203215,-1.1066270395431197,0.19749492992539855,-0.8824415294801738,0.9445422376012342,-0.8091615001667639,-1.197243593322836,1.4477815214073702,0.2642392879877563,-2.467574313249057,-1.6438991144861768,0.16121102032794582,-0.8196838777176393,-0.6978711516231542,1.361081213240217,-1.2132293328980983,-0.003271661747325964,1.3783642653894423,1.550698652667446,0.550341639324457,1.1961693595821454,1.0584052358134322,0.40818626861446017,-0.3595964885109189,1.1207378260560867,0.7997766696250385,-0.571913831589098,-1.373587337563924,2.1526859308310957,-2.073715152364148,1.3462814043228688,0.7383643187468473,-2.093162329444866,0.03888197472546639,-0.06813031521779962,0.0031269642523660017,-0.3188552875011352,0.594217836029786,-0.06882946313626125,-0.2401553035509163,-0.8602035670654492,0.32865258889216914,-0.32302806681962865,-1.4120149305152332,0.25926726182936094,0.4322523814911301,-0.7999847786753677,-0.631022797450825,-1.198572299887271,0.27284353483412904,-0.0980428221035696,0.48239002122835584,-0.044647745671596885,-1.185950475352305,0.7082550818594137,-0.2858927238278238,2.092247302853176,-2.3515798994694026,-1.70540019014235,0.28489458546829954],\"z\":[-1.1203030443244015,-0.2644528712599105,-0.5788530609117603,1.426738516561892,-0.9851967828764313,-0.10783772870788151,0.5818221789660195,1.5852266835800641,-1.012602422267457,-1.3930718910830082,-0.2745722606813233,-1.0461114943169114,2.644182177495587,-0.37220603874152625,-0.10834264356819232,-0.19459914011610804,-1.1395713538753534,0.21427554096464413,2.774941485231473,1.7675590159257484,0.6405381829516933,-0.7804750315951341,-0.5644874684978389,-1.1776354407052936,-0.18302184003001215,0.11940135296920365,1.6054531576662985,0.03830656924636087,0.02520318494801763,0.5590909190455359,-0.41685303377299676,-1.1584635739049678,-1.3654701521055634,-0.35103488970796837,1.1484736033664837,0.3435617579589207,0.029644401777983193,1.0430571505005644,0.2576484378384445,0.8517383762439983,0.3356551897341221,0.6007977913018651,-1.2164026935522052,2.049351131561216,-1.9761121479327721,0.3443452654466919,1.3313184318472322,-1.609318865770756,0.46616253726250007,0.2963236180463442,2.1417489187799057,-0.014101078175423496,3.1789073015002143,-1.3836070654466492,2.1058815764099483,1.1719818295419366,0.7868995195255343,-0.1433550202878901,-0.6165666531157669,-0.633255554955799,1.000857775457978,-0.8723205270494246,1.3254039446929504,-0.11379340397897188,-0.0810568921873574,-0.7025398564120052,-0.7134013302747185,-2.500444902319758,2.922406142319444,2.371508508605112,-1.9712851462894945,0.48620195538064387,-0.23826090538786687,2.1797271521270996,-0.5658236297649512,-0.020802812779052073,-0.9292323155904294,-1.3784114847303277,0.12436984751895781,1.4322232739668361,-0.6844936063743484,0.6325358928891432,-0.6577958700500012,-0.406887175300438,0.3437597846036845,-0.018778856820864366,2.0862033680162373,-0.5042339367078444,-1.1132085790529624,0.26745532059798677,-1.496343472444279,-1.5219141671405134,0.7935384530456643,-0.44176045392636193,0.16430677847543,0.877154709868744,0.5179475657701328,1.427737344144543,-0.10669885111762388,0.23599483248268902,-0.0567906468523679,0.18165533284668606,-0.6086987311007401,0.6636419321098979,0.9078116338858758,0.18779508625943786,-0.923445265058113,0.15397805719812924,0.7427424117674157,-0.2821755749639546,-0.05442675884503359,-0.6307656422375859,-0.0949487588498419,-0.31806848503588303,-1.1121903383454539,-0.8155458743781518,-0.14897620743491358,0.6503953730293583,0.036782780211357724,-1.4414290500407034,0.05648293924814722,-0.6497536965222399,1.6908655632253498,1.8217848220059494,-0.1834025464387034,-1.6447178157653772,0.08426624746393035,-0.7486936603158644,-0.5159001359107418,1.2034572420297946,0.8038976255396889,-0.5186948779399847,-1.13994703183182,0.3080893210608066,0.23776071966433282,-0.21859530946113911,-0.5675461181076308,-0.2833072077240605,0.7277968266350638,-0.14946576054079877,-0.6980975954230529,0.48782915211302713,-0.7397793950402038,-1.5724636835402053,0.03801837888142187,-0.5338284930752869,1.2036082429995325,0.4360166991449123,0.6092605145156567,-0.3524633884763916,0.26620584387953417,0.005819667736854981,-0.3177001762082229,0.2719078039191425,1.082003293477053,0.39548311769017913,-0.3458170802856236,-0.14594061676228332,1.0733003004086468,-1.0885129834631666,-0.44687682710491305,-0.5662964271302996,1.213517925788399,-0.7457023582708173,-0.9184641914864787,-1.4029633297801798,0.4601302350676865,0.2781818385501591,1.009610180860582,-0.4925096361110392,-1.000976361540445,0.8234054336369102,-0.11188557528302404,-1.3819422234236705,0.35174879884982263,-0.006682311295392599,-0.01702581289730959,-1.8774058280672032,-1.3065531590998873,1.6150360699030817,0.36106950320185144,1.425431318248891,0.15797198795816597,-0.511633013499562,0.6139125531099909,-1.1903923330008668,2.0481396323029157,0.8679759394861283,1.1033204580178626,-0.3687267615423628,-0.9953798072984043,0.33044297355857816,0.3103675719271791,0.9385615836904545,-0.9057112368174723,-0.5563307541402648,0.08955268343185789,-0.48791049288137767,1.0886290605702975,0.7807972761608493,0.02055211827986829,0.5075827701880153,1.2467520783260442,0.6677780701983662,0.2440979926933309,0.3414973027654975,-0.9267226438657146,0.9719672710357363,2.5734408856260824,-1.4179814208087738,0.6976418663684967,-0.8316023680271891,-0.4975433103553649,1.176694039619859,0.3384316338473226,1.3931368280487866,0.8516427543809497,-2.1629001155754017,-0.46953659039533024,-0.7328199593222497,1.002179089640531,-0.008150964260954564,0.880339915138166,0.385617718066659,1.2112447920778397,1.1371483319306472,-0.008100802051161683,-1.9114794565402697,1.4383327561329602,-0.4808764783658503,-1.1255958181395707,0.08896976310427307,0.6476790743258302,1.47284120639291,-0.08330287378903845,-0.7445702211191871,-0.8237292974334501,0.20605133301378023,-0.6933286736248742,0.6613759047952371,-0.3253754217559649,-0.30186875219248127,-0.5656186267171517,-0.7165089679174215,0.9904247221327196,0.3762628796374166,-0.7313738313797528,-0.10006572803214414,0.9271555795760948,0.5390013541962926,1.5446457294728904,0.8255838101274191,0.2207803105279347,-0.163268149259328,0.847486421821672,-0.8103507227603521,-0.3939656396914116,0.6414877172681445,-0.4809629550516763,0.19726820614480525,0.9594731003239413,-1.568697860063734,-0.13759029007011714,-0.7363713833181897,1.720626132664227,0.5564940481948387,-1.1819263375014126,-0.49037632124759695,-1.8778643033172187,-0.2492486002678868,-0.8364650542503173,-0.7869115607233165,1.321495470687744,-0.4993894603166018,-0.007176448367678663,0.03758427465492715,0.030097706899791746,-0.8225262201134951,0.00041712697028832763,-1.5804409518448748,0.587281119318452,1.3207888927606326,-1.4170679468441403,-0.9134885579539296,-0.07043541892556768,-0.8401595953591745,-0.5880118315791366,1.0891329071382017,-2.015732444624768,0.7270160650817796,-0.3882287005644807,0.19441390087583738,-0.045301489786549576,0.5409506591906876,1.265104982790459,0.456035522245523,-0.35166992489702686,1.5360519666556995,-0.346196594509522,0.8577860420595799,2.6435036565405206,-0.3028530871379897,0.7781611038286317,1.6654777259523923,0.5286976710722271,1.9601198236841852,-0.3153552317328774,-0.6911601004435265,-0.353109535333997,-0.13820480938575316,0.8664353713996857,0.7297672328780371,-0.2057799849424522,-0.9390727506953626,1.1347238087388343,0.7521605860327462,0.4456410691133582,0.06964816786329715,0.47578994669353614,-0.46085704263016364,-0.249556103240027,0.8665906312480404,-0.7305169500087891,0.13219038394971314,-0.5366437734188161,-1.3804171738144075,0.8184883160320663,0.2119018197271224,-1.5544406625746383,0.23666620341776204,1.8180992688749886,0.09508766689201964,-2.2721201744212207,0.3403739807869703,0.6322611831406262,-0.18053006327906976,1.0654833225344336,1.319462881760275,0.9162814712003197,0.052646337915911216,0.47030084793606675,-1.0156600824498871,1.0484976977049143,0.6348595242950302,-0.45401497332000174,-0.5995047359297427,0.2209254478479215,-1.690617817225502,0.5337704959349181,-0.32910351459335535,-2.0673193325511274,-0.3013819777604657,1.285941423461856,1.1443792958418904,0.1275638088610661,0.5164836830364677,1.455821762624946,-0.8891472987586586,0.2885624960162541,2.123171713131371,0.4279827947425219,-1.439637882373018,-0.11598179951430457,-0.8288088902426867,0.42747444110567134,-1.3131926368136146,1.6538080330314782,-1.0235310815170084,-0.04736777968055369,0.4385328396404333,0.8536754868888697,-0.9283701395161084,0.5260832821803149,-0.12426113002817248,1.2684179380555873,0.009991426366267783,0.33710076885318047,1.350418773092485,1.5335805918702503,-0.6338594580373245,-0.1383220984240753,0.09687754725379447,-1.475893112878813,0.7791374101274076,-0.6585195970146849,0.7067602489130853,-0.8371792174353757,0.23331035904826353,-0.09188375258491832,1.5278729690832795,-0.9147848187615207,0.4221056673468741,1.2669578951143126,0.14792420412151155,0.7607100705852644,0.4254686904272737,1.586398314723665,0.43063479005852995,1.89043318684852,-1.9096648396269225],\"type\":\"scatter3d\"}],                        {\"margin\":{\"b\":0,\"l\":0,\"r\":0,\"t\":0},\"template\":{\"data\":{\"barpolar\":[{\"marker\":{\"line\":{\"color\":\"#E5ECF6\",\"width\":0.5},\"pattern\":{\"fillmode\":\"overlay\",\"size\":10,\"solidity\":0.2}},\"type\":\"barpolar\"}],\"bar\":[{\"error_x\":{\"color\":\"#2a3f5f\"},\"error_y\":{\"color\":\"#2a3f5f\"},\"marker\":{\"line\":{\"color\":\"#E5ECF6\",\"width\":0.5},\"pattern\":{\"fillmode\":\"overlay\",\"size\":10,\"solidity\":0.2}},\"type\":\"bar\"}],\"carpet\":[{\"aaxis\":{\"endlinecolor\":\"#2a3f5f\",\"gridcolor\":\"white\",\"linecolor\":\"white\",\"minorgridcolor\":\"white\",\"startlinecolor\":\"#2a3f5f\"},\"baxis\":{\"endlinecolor\":\"#2a3f5f\",\"gridcolor\":\"white\",\"linecolor\":\"white\",\"minorgridcolor\":\"white\",\"startlinecolor\":\"#2a3f5f\"},\"type\":\"carpet\"}],\"choropleth\":[{\"colorbar\":{\"outlinewidth\":0,\"ticks\":\"\"},\"type\":\"choropleth\"}],\"contourcarpet\":[{\"colorbar\":{\"outlinewidth\":0,\"ticks\":\"\"},\"type\":\"contourcarpet\"}],\"contour\":[{\"colorbar\":{\"outlinewidth\":0,\"ticks\":\"\"},\"colorscale\":[[0.0,\"#0d0887\"],[0.1111111111111111,\"#46039f\"],[0.2222222222222222,\"#7201a8\"],[0.3333333333333333,\"#9c179e\"],[0.4444444444444444,\"#bd3786\"],[0.5555555555555556,\"#d8576b\"],[0.6666666666666666,\"#ed7953\"],[0.7777777777777778,\"#fb9f3a\"],[0.8888888888888888,\"#fdca26\"],[1.0,\"#f0f921\"]],\"type\":\"contour\"}],\"heatmapgl\":[{\"colorbar\":{\"outlinewidth\":0,\"ticks\":\"\"},\"colorscale\":[[0.0,\"#0d0887\"],[0.1111111111111111,\"#46039f\"],[0.2222222222222222,\"#7201a8\"],[0.3333333333333333,\"#9c179e\"],[0.4444444444444444,\"#bd3786\"],[0.5555555555555556,\"#d8576b\"],[0.6666666666666666,\"#ed7953\"],[0.7777777777777778,\"#fb9f3a\"],[0.8888888888888888,\"#fdca26\"],[1.0,\"#f0f921\"]],\"type\":\"heatmapgl\"}],\"heatmap\":[{\"colorbar\":{\"outlinewidth\":0,\"ticks\":\"\"},\"colorscale\":[[0.0,\"#0d0887\"],[0.1111111111111111,\"#46039f\"],[0.2222222222222222,\"#7201a8\"],[0.3333333333333333,\"#9c179e\"],[0.4444444444444444,\"#bd3786\"],[0.5555555555555556,\"#d8576b\"],[0.6666666666666666,\"#ed7953\"],[0.7777777777777778,\"#fb9f3a\"],[0.8888888888888888,\"#fdca26\"],[1.0,\"#f0f921\"]],\"type\":\"heatmap\"}],\"histogram2dcontour\":[{\"colorbar\":{\"outlinewidth\":0,\"ticks\":\"\"},\"colorscale\":[[0.0,\"#0d0887\"],[0.1111111111111111,\"#46039f\"],[0.2222222222222222,\"#7201a8\"],[0.3333333333333333,\"#9c179e\"],[0.4444444444444444,\"#bd3786\"],[0.5555555555555556,\"#d8576b\"],[0.6666666666666666,\"#ed7953\"],[0.7777777777777778,\"#fb9f3a\"],[0.8888888888888888,\"#fdca26\"],[1.0,\"#f0f921\"]],\"type\":\"histogram2dcontour\"}],\"histogram2d\":[{\"colorbar\":{\"outlinewidth\":0,\"ticks\":\"\"},\"colorscale\":[[0.0,\"#0d0887\"],[0.1111111111111111,\"#46039f\"],[0.2222222222222222,\"#7201a8\"],[0.3333333333333333,\"#9c179e\"],[0.4444444444444444,\"#bd3786\"],[0.5555555555555556,\"#d8576b\"],[0.6666666666666666,\"#ed7953\"],[0.7777777777777778,\"#fb9f3a\"],[0.8888888888888888,\"#fdca26\"],[1.0,\"#f0f921\"]],\"type\":\"histogram2d\"}],\"histogram\":[{\"marker\":{\"pattern\":{\"fillmode\":\"overlay\",\"size\":10,\"solidity\":0.2}},\"type\":\"histogram\"}],\"mesh3d\":[{\"colorbar\":{\"outlinewidth\":0,\"ticks\":\"\"},\"type\":\"mesh3d\"}],\"parcoords\":[{\"line\":{\"colorbar\":{\"outlinewidth\":0,\"ticks\":\"\"}},\"type\":\"parcoords\"}],\"pie\":[{\"automargin\":true,\"type\":\"pie\"}],\"scatter3d\":[{\"line\":{\"colorbar\":{\"outlinewidth\":0,\"ticks\":\"\"}},\"marker\":{\"colorbar\":{\"outlinewidth\":0,\"ticks\":\"\"}},\"type\":\"scatter3d\"}],\"scattercarpet\":[{\"marker\":{\"colorbar\":{\"outlinewidth\":0,\"ticks\":\"\"}},\"type\":\"scattercarpet\"}],\"scattergeo\":[{\"marker\":{\"colorbar\":{\"outlinewidth\":0,\"ticks\":\"\"}},\"type\":\"scattergeo\"}],\"scattergl\":[{\"marker\":{\"colorbar\":{\"outlinewidth\":0,\"ticks\":\"\"}},\"type\":\"scattergl\"}],\"scattermapbox\":[{\"marker\":{\"colorbar\":{\"outlinewidth\":0,\"ticks\":\"\"}},\"type\":\"scattermapbox\"}],\"scatterpolargl\":[{\"marker\":{\"colorbar\":{\"outlinewidth\":0,\"ticks\":\"\"}},\"type\":\"scatterpolargl\"}],\"scatterpolar\":[{\"marker\":{\"colorbar\":{\"outlinewidth\":0,\"ticks\":\"\"}},\"type\":\"scatterpolar\"}],\"scatter\":[{\"fillpattern\":{\"fillmode\":\"overlay\",\"size\":10,\"solidity\":0.2},\"type\":\"scatter\"}],\"scatterternary\":[{\"marker\":{\"colorbar\":{\"outlinewidth\":0,\"ticks\":\"\"}},\"type\":\"scatterternary\"}],\"surface\":[{\"colorbar\":{\"outlinewidth\":0,\"ticks\":\"\"},\"colorscale\":[[0.0,\"#0d0887\"],[0.1111111111111111,\"#46039f\"],[0.2222222222222222,\"#7201a8\"],[0.3333333333333333,\"#9c179e\"],[0.4444444444444444,\"#bd3786\"],[0.5555555555555556,\"#d8576b\"],[0.6666666666666666,\"#ed7953\"],[0.7777777777777778,\"#fb9f3a\"],[0.8888888888888888,\"#fdca26\"],[1.0,\"#f0f921\"]],\"type\":\"surface\"}],\"table\":[{\"cells\":{\"fill\":{\"color\":\"#EBF0F8\"},\"line\":{\"color\":\"white\"}},\"header\":{\"fill\":{\"color\":\"#C8D4E3\"},\"line\":{\"color\":\"white\"}},\"type\":\"table\"}]},\"layout\":{\"annotationdefaults\":{\"arrowcolor\":\"#2a3f5f\",\"arrowhead\":0,\"arrowwidth\":1},\"autotypenumbers\":\"strict\",\"coloraxis\":{\"colorbar\":{\"outlinewidth\":0,\"ticks\":\"\"}},\"colorscale\":{\"diverging\":[[0,\"#8e0152\"],[0.1,\"#c51b7d\"],[0.2,\"#de77ae\"],[0.3,\"#f1b6da\"],[0.4,\"#fde0ef\"],[0.5,\"#f7f7f7\"],[0.6,\"#e6f5d0\"],[0.7,\"#b8e186\"],[0.8,\"#7fbc41\"],[0.9,\"#4d9221\"],[1,\"#276419\"]],\"sequential\":[[0.0,\"#0d0887\"],[0.1111111111111111,\"#46039f\"],[0.2222222222222222,\"#7201a8\"],[0.3333333333333333,\"#9c179e\"],[0.4444444444444444,\"#bd3786\"],[0.5555555555555556,\"#d8576b\"],[0.6666666666666666,\"#ed7953\"],[0.7777777777777778,\"#fb9f3a\"],[0.8888888888888888,\"#fdca26\"],[1.0,\"#f0f921\"]],\"sequentialminus\":[[0.0,\"#0d0887\"],[0.1111111111111111,\"#46039f\"],[0.2222222222222222,\"#7201a8\"],[0.3333333333333333,\"#9c179e\"],[0.4444444444444444,\"#bd3786\"],[0.5555555555555556,\"#d8576b\"],[0.6666666666666666,\"#ed7953\"],[0.7777777777777778,\"#fb9f3a\"],[0.8888888888888888,\"#fdca26\"],[1.0,\"#f0f921\"]]},\"colorway\":[\"#636efa\",\"#EF553B\",\"#00cc96\",\"#ab63fa\",\"#FFA15A\",\"#19d3f3\",\"#FF6692\",\"#B6E880\",\"#FF97FF\",\"#FECB52\"],\"font\":{\"color\":\"#2a3f5f\"},\"geo\":{\"bgcolor\":\"white\",\"lakecolor\":\"white\",\"landcolor\":\"#E5ECF6\",\"showlakes\":true,\"showland\":true,\"subunitcolor\":\"white\"},\"hoverlabel\":{\"align\":\"left\"},\"hovermode\":\"closest\",\"mapbox\":{\"style\":\"light\"},\"paper_bgcolor\":\"white\",\"plot_bgcolor\":\"#E5ECF6\",\"polar\":{\"angularaxis\":{\"gridcolor\":\"white\",\"linecolor\":\"white\",\"ticks\":\"\"},\"bgcolor\":\"#E5ECF6\",\"radialaxis\":{\"gridcolor\":\"white\",\"linecolor\":\"white\",\"ticks\":\"\"}},\"scene\":{\"xaxis\":{\"backgroundcolor\":\"#E5ECF6\",\"gridcolor\":\"white\",\"gridwidth\":2,\"linecolor\":\"white\",\"showbackground\":true,\"ticks\":\"\",\"zerolinecolor\":\"white\"},\"yaxis\":{\"backgroundcolor\":\"#E5ECF6\",\"gridcolor\":\"white\",\"gridwidth\":2,\"linecolor\":\"white\",\"showbackground\":true,\"ticks\":\"\",\"zerolinecolor\":\"white\"},\"zaxis\":{\"backgroundcolor\":\"#E5ECF6\",\"gridcolor\":\"white\",\"gridwidth\":2,\"linecolor\":\"white\",\"showbackground\":true,\"ticks\":\"\",\"zerolinecolor\":\"white\"}},\"shapedefaults\":{\"line\":{\"color\":\"#2a3f5f\"}},\"ternary\":{\"aaxis\":{\"gridcolor\":\"white\",\"linecolor\":\"white\",\"ticks\":\"\"},\"baxis\":{\"gridcolor\":\"white\",\"linecolor\":\"white\",\"ticks\":\"\"},\"bgcolor\":\"#E5ECF6\",\"caxis\":{\"gridcolor\":\"white\",\"linecolor\":\"white\",\"ticks\":\"\"}},\"title\":{\"x\":0.05},\"xaxis\":{\"automargin\":true,\"gridcolor\":\"white\",\"linecolor\":\"white\",\"ticks\":\"\",\"title\":{\"standoff\":15},\"zerolinecolor\":\"white\",\"zerolinewidth\":2},\"yaxis\":{\"automargin\":true,\"gridcolor\":\"white\",\"linecolor\":\"white\",\"ticks\":\"\",\"title\":{\"standoff\":15},\"zerolinecolor\":\"white\",\"zerolinewidth\":2}}}},                        {\"responsive\": true}                    ).then(function(){\n",
       "                            \n",
       "var gd = document.getElementById('48c8fda9-ca43-4261-9304-22b8926fadb7');\n",
       "var x = new MutationObserver(function (mutations, observer) {{\n",
       "        var display = window.getComputedStyle(gd).display;\n",
       "        if (!display || display === 'none') {{\n",
       "            console.log([gd, 'removed!']);\n",
       "            Plotly.purge(gd);\n",
       "            observer.disconnect();\n",
       "        }}\n",
       "}});\n",
       "\n",
       "// Listen for the removal of the full notebook cells\n",
       "var notebookContainer = gd.closest('#notebook-container');\n",
       "if (notebookContainer) {{\n",
       "    x.observe(notebookContainer, {childList: true});\n",
       "}}\n",
       "\n",
       "// Listen for the clearing of the current output cell\n",
       "var outputEl = gd.closest('.output');\n",
       "if (outputEl) {{\n",
       "    x.observe(outputEl, {childList: true});\n",
       "}}\n",
       "\n",
       "                        })                };                });            </script>        </div>"
      ]
     },
     "metadata": {},
     "output_type": "display_data"
    }
   ],
   "source": [
    "#import plotly.plotly as py\n",
    "import plotly.graph_objs as go\n",
    "import numpy as np\n",
    "\n",
    "x,y,z=np.random.multivariate_normal(np.array([0,0,0]),np.eye(3),400).transpose()\n",
    "tracel=go.Scatter3d(\n",
    "    x=x,\n",
    "    y=y,\n",
    "    z=z,\n",
    "    mode='markers',\n",
    "    marker=dict(\n",
    "        size=12,\n",
    "        color=z,\n",
    "        colorscale='Viridis',\n",
    "        opacity=0.8\n",
    "    )\n",
    ")\n",
    "\n",
    "data=[tracel]\n",
    "layout=go.Layout(\n",
    "    margin=dict(\n",
    "        l=0,\n",
    "        r=0,\n",
    "        b=0,\n",
    "        t=0\n",
    "    )\n",
    ")\n",
    "fig=go.Figure(data=data,layout=layout)\n",
    "plotly.offline.iplot(fig,filename='3d-scatter-colorscale')"
   ]
  },
  {
   "cell_type": "code",
   "execution_count": null,
   "id": "2968c24f",
   "metadata": {},
   "outputs": [],
   "source": []
  },
  {
   "cell_type": "code",
   "execution_count": null,
   "id": "7a08159d",
   "metadata": {},
   "outputs": [],
   "source": []
  },
  {
   "cell_type": "code",
   "execution_count": null,
   "id": "0a93a043",
   "metadata": {},
   "outputs": [],
   "source": []
  },
  {
   "cell_type": "code",
   "execution_count": null,
   "id": "b4a344ed",
   "metadata": {},
   "outputs": [],
   "source": []
  },
  {
   "cell_type": "code",
   "execution_count": null,
   "id": "89b2790a",
   "metadata": {},
   "outputs": [],
   "source": []
  },
  {
   "cell_type": "code",
   "execution_count": null,
   "id": "a0315c51",
   "metadata": {},
   "outputs": [],
   "source": []
  },
  {
   "cell_type": "code",
   "execution_count": null,
   "id": "7582a0f7",
   "metadata": {},
   "outputs": [],
   "source": []
  }
 ],
 "metadata": {
  "kernelspec": {
   "display_name": "Python 3",
   "language": "python",
   "name": "python3"
  },
  "language_info": {
   "codemirror_mode": {
    "name": "ipython",
    "version": 3
   },
   "file_extension": ".py",
   "mimetype": "text/x-python",
   "name": "python",
   "nbconvert_exporter": "python",
   "pygments_lexer": "ipython3",
   "version": "3.8.8"
  }
 },
 "nbformat": 4,
 "nbformat_minor": 5
}
