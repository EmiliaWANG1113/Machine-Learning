{
 "cells": [
  {
   "cell_type": "code",
   "execution_count": 1,
   "id": "939cbdfa",
   "metadata": {},
   "outputs": [],
   "source": [
    "from sklearn import datasets\n",
    "import pandas as pd\n",
    "import numpy as np\n",
    "import matplotlib.pyplot as plt\n",
    "import seaborn as sns\n",
    "%matplotlib inline"
   ]
  },
  {
   "cell_type": "code",
   "execution_count": 2,
   "id": "c69c7ecd",
   "metadata": {},
   "outputs": [
    {
     "name": "stdout",
     "output_type": "stream",
     "text": [
      "target_names: ['setosa' 'versicolor' 'virginica']\n"
     ]
    },
    {
     "data": {
      "text/html": [
       "<div>\n",
       "<style scoped>\n",
       "    .dataframe tbody tr th:only-of-type {\n",
       "        vertical-align: middle;\n",
       "    }\n",
       "\n",
       "    .dataframe tbody tr th {\n",
       "        vertical-align: top;\n",
       "    }\n",
       "\n",
       "    .dataframe thead th {\n",
       "        text-align: right;\n",
       "    }\n",
       "</style>\n",
       "<table border=\"1\" class=\"dataframe\">\n",
       "  <thead>\n",
       "    <tr style=\"text-align: right;\">\n",
       "      <th></th>\n",
       "      <th>sepal length (cm)</th>\n",
       "      <th>petal length (cm)</th>\n",
       "      <th>target</th>\n",
       "    </tr>\n",
       "  </thead>\n",
       "  <tbody>\n",
       "    <tr>\n",
       "      <th>0</th>\n",
       "      <td>5.1</td>\n",
       "      <td>1.4</td>\n",
       "      <td>0</td>\n",
       "    </tr>\n",
       "    <tr>\n",
       "      <th>1</th>\n",
       "      <td>4.9</td>\n",
       "      <td>1.4</td>\n",
       "      <td>0</td>\n",
       "    </tr>\n",
       "    <tr>\n",
       "      <th>2</th>\n",
       "      <td>4.7</td>\n",
       "      <td>1.3</td>\n",
       "      <td>0</td>\n",
       "    </tr>\n",
       "  </tbody>\n",
       "</table>\n",
       "</div>"
      ],
      "text/plain": [
       "   sepal length (cm)  petal length (cm)  target\n",
       "0                5.1                1.4       0\n",
       "1                4.9                1.4       0\n",
       "2                4.7                1.3       0"
      ]
     },
     "execution_count": 2,
     "metadata": {},
     "output_type": "execute_result"
    }
   ],
   "source": [
    "iris = datasets.load_iris()\n",
    "x = pd.DataFrame(iris['data'], columns=iris['feature_names'])\n",
    "print(\"target_names: \"+str(iris['target_names']))\n",
    "y = pd.DataFrame(iris['target'], columns=['target'])\n",
    "iris_data = pd.concat([x,y], axis=1)\n",
    "iris_data = iris_data[['sepal length (cm)','petal length (cm)','target']]\n",
    "iris_data = iris_data[iris_data['target'].isin([0,1])]\n",
    "iris_data.head(3)"
   ]
  },
  {
   "cell_type": "markdown",
   "id": "724d548b",
   "metadata": {},
   "source": [
    "## 切割train 和test"
   ]
  },
  {
   "cell_type": "code",
   "execution_count": 5,
   "id": "dce5024f",
   "metadata": {},
   "outputs": [],
   "source": [
    "from sklearn.model_selection import train_test_split"
   ]
  },
  {
   "cell_type": "code",
   "execution_count": 6,
   "id": "4003a0a5",
   "metadata": {},
   "outputs": [],
   "source": [
    "X_train, X_test, y_train, y_test = train_test_split(\n",
    "    iris_data[['sepal length (cm)','petal length (cm)']], iris_data[['target']], test_size=0.3, random_state=0)"
   ]
  },
  {
   "cell_type": "markdown",
   "id": "2502d55b",
   "metadata": {},
   "source": [
    "## 不需要做特徵標準化(DT & RF)"
   ]
  },
  {
   "cell_type": "markdown",
   "id": "0647367d",
   "metadata": {},
   "source": [
    "# DT"
   ]
  },
  {
   "cell_type": "code",
   "execution_count": 8,
   "id": "bdb7d047",
   "metadata": {},
   "outputs": [],
   "source": [
    "from sklearn.tree import DecisionTreeClassifier"
   ]
  },
  {
   "cell_type": "code",
   "execution_count": 9,
   "id": "204d3507",
   "metadata": {},
   "outputs": [],
   "source": [
    "tree = DecisionTreeClassifier(criterion = 'entropy', random_state=0)"
   ]
  },
  {
   "cell_type": "code",
   "execution_count": 10,
   "id": "f6a55acb",
   "metadata": {},
   "outputs": [
    {
     "data": {
      "text/plain": [
       "DecisionTreeClassifier(criterion='entropy', random_state=0)"
      ]
     },
     "execution_count": 10,
     "metadata": {},
     "output_type": "execute_result"
    }
   ],
   "source": [
    "tree.fit(X_train,y_train)"
   ]
  },
  {
   "cell_type": "code",
   "execution_count": 12,
   "id": "d7bd3ff5",
   "metadata": {},
   "outputs": [
    {
     "data": {
      "text/plain": [
       "array([0, 1, 0, 1, 1, 1, 0, 1, 1, 1, 1, 1, 1, 0, 0, 0, 0, 0, 0, 0, 0, 1,\n",
       "       0, 1, 0, 0, 0, 1, 1, 1])"
      ]
     },
     "execution_count": 12,
     "metadata": {},
     "output_type": "execute_result"
    }
   ],
   "source": [
    "#預測之資料\n",
    "tree.predict(X_test)"
   ]
  },
  {
   "cell_type": "code",
   "execution_count": 13,
   "id": "16e8571f",
   "metadata": {},
   "outputs": [
    {
     "data": {
      "text/plain": [
       "array([0, 1, 0, 1, 1, 1, 0, 1, 1, 1, 1, 1, 1, 0, 0, 0, 0, 0, 0, 0, 0, 1,\n",
       "       0, 1, 0, 0, 0, 1, 1, 1])"
      ]
     },
     "execution_count": 13,
     "metadata": {},
     "output_type": "execute_result"
    }
   ],
   "source": [
    "y_test['target'].values"
   ]
  },
  {
   "cell_type": "markdown",
   "id": "a068969d",
   "metadata": {},
   "source": [
    "## 計算正確率"
   ]
  },
  {
   "cell_type": "code",
   "execution_count": 14,
   "id": "44b1092b",
   "metadata": {},
   "outputs": [
    {
     "name": "stdout",
     "output_type": "stream",
     "text": [
      "0\n"
     ]
    }
   ],
   "source": [
    "error = 0\n",
    "for i, v in enumerate(tree.predict(X_test)):\n",
    "    if v!= y_test['target'].values[i]:\n",
    "        print(i,v)\n",
    "        error+=1\n",
    "print(error)"
   ]
  },
  {
   "cell_type": "code",
   "execution_count": 15,
   "id": "2cd59ae8",
   "metadata": {},
   "outputs": [
    {
     "data": {
      "text/plain": [
       "1.0"
      ]
     },
     "execution_count": 15,
     "metadata": {},
     "output_type": "execute_result"
    }
   ],
   "source": [
    "tree.score(X_test,y_test['target'])"
   ]
  },
  {
   "cell_type": "markdown",
   "id": "af602552",
   "metadata": {},
   "source": [
    "## 畫圖"
   ]
  },
  {
   "cell_type": "code",
   "execution_count": 16,
   "id": "85bb76e3",
   "metadata": {},
   "outputs": [],
   "source": [
    "from matplotlib.colors import ListedColormap\n",
    "\n",
    "def plot_decision_regions(X, y, classifier, test_idx=None, resolution=0.02):\n",
    "\n",
    "    # setup marker generator and color map\n",
    "    markers = ('s', 'x', 'o', '^', 'v')\n",
    "    colors = ('red', 'blue', 'lightgreen', 'gray', 'cyan')\n",
    "    cmap = ListedColormap(colors[:len(np.unique(y))])\n",
    "\n",
    "    # plot the decision surface\n",
    "    x1_min, x1_max = X[:, 0].min() - 1, X[:, 0].max() + 1\n",
    "    x2_min, x2_max = X[:, 1].min() - 1, X[:, 1].max() + 1\n",
    "    xx1, xx2 = np.meshgrid(np.arange(x1_min, x1_max, resolution),\n",
    "                           np.arange(x2_min, x2_max, resolution))\n",
    "    Z = classifier.predict(np.array([xx1.ravel(), xx2.ravel()]).T)\n",
    "    Z = Z.reshape(xx1.shape)\n",
    "    plt.contourf(xx1, xx2, Z, alpha=0.4, cmap=cmap)\n",
    "    plt.xlim(xx1.min(), xx1.max())\n",
    "    plt.ylim(xx2.min(), xx2.max())\n",
    "\n",
    "    for idx, cl in enumerate(np.unique(y)):\n",
    "        plt.scatter(x=X[y == cl, 0], \n",
    "                    y=X[y == cl, 1],\n",
    "                    alpha=0.6, \n",
    "                    c=cmap(idx),\n",
    "                    edgecolor='black',\n",
    "                    marker=markers[idx], \n",
    "                    label=cl)\n",
    "\n",
    "    # highlight test samples\n",
    "    if test_idx:\n",
    "        # plot all samples\n",
    "        if not versiontuple(np.__version__) >= versiontuple('1.9.0'):\n",
    "            X_test, y_test = X[list(test_idx), :], y[list(test_idx)]\n",
    "            warnings.warn('Please update to NumPy 1.9.0 or newer')\n",
    "        else:\n",
    "            X_test, y_test = X[test_idx, :], y[test_idx]\n",
    "\n",
    "        plt.scatter(X_test[:, 0],\n",
    "                    X_test[:, 1],\n",
    "                    c='',\n",
    "                    alpha=1.0,\n",
    "                    edgecolor='black',\n",
    "                    linewidths=1,\n",
    "                    marker='o',\n",
    "                    s=55, label='test set')"
   ]
  },
  {
   "cell_type": "code",
   "execution_count": 29,
   "id": "e0333229",
   "metadata": {},
   "outputs": [
    {
     "data": {
      "image/png": "[encoded data removed]",
      "text/plain": [
       "<Figure size 432x288 with 1 Axes>"
      ]
     },
     "metadata": {
      "needs_background": "light"
     },
     "output_type": "display_data"
    }
   ],
   "source": [
    "#花瓣寬度大於2.多判斷為1類，花瓣寬度小於2.多判斷為0類\n",
    "plot_decision_regions(X_train.values, y_train['target'].values, classifier=tree)\n",
    "plt.xlabel('petal length [standardized]')\n",
    "plt.ylabel('petal width [standardized]')\n",
    "plt.legend(loc='upper left')\n",
    "plt.tight_layout()\n",
    "plt.show()"
   ]
  },
  {
   "cell_type": "markdown",
   "id": "7ce54b4b",
   "metadata": {},
   "source": [
    "## 畫圖(Tree 視覺化)"
   ]
  },
  {
   "cell_type": "code",
   "execution_count": 20,
   "id": "ae5ca18d",
   "metadata": {},
   "outputs": [
    {
     "name": "stdout",
     "output_type": "stream",
     "text": [
      "HOMEBREW_BREW_GIT_REMOTE set: using https://mirrors.ustc.edu.cn/brew.git as the Homebrew/brew Git remote.\n",
      "remote: Enumerating objects: 18, done.\u001b[K\n",
      "remote: Counting objects: 100% (18/18), done.\u001b[K\n",
      "remote: Total 83 (delta 18), reused 18 (delta 18), pack-reused 65\u001b[K\n",
      "Unpacking objects: 100% (83/83), 56.65 KiB | 951.00 KiB/s, done.\n",
      "From https://mirrors.ustc.edu.cn/brew\n",
      "   a380aed88..c34e833b0  master     -> origin/master\n",
      "Running `brew update --auto-update`...\n",
      "\u001b[34m==>\u001b[0m \u001b[1mDownloading https://mirrors.ustc.edu.cn/homebrew-bottles/bottles-portable-ruby/portable-ruby-2.6.10_1.el_capitan.bottle.tar.gz\u001b[0m\n",
      "######################################################################### 100.0%  2.9%##                                              40.3%          88.9%#######################################   99.7%\n",
      "\u001b[34m==>\u001b[0m \u001b[1mPouring portable-ruby-2.6.10_1.el_capitan.bottle.tar.gz\u001b[0m\n",
      "\u001b[34m==>\u001b[0m \u001b[1mAuto-updated Homebrew!\u001b[0m\n",
      "Updated 2 taps (homebrew/core and homebrew/cask).\n",
      "\u001b[34m==>\u001b[0m \u001b[1mNew Formulae\u001b[0m\n",
      "aarch64-elf-gdb                          libomemo-c\n",
      "access                                   libpaho-mqtt\n",
      "ada-url                                  libvisual\n",
      "aftman                                   libvisual-plugins\n",
      "aliyunpan                                libvisual-projectm\n",
      "amber                                    libzen\n",
      "ansible@7                                lpeg\n",
      "apko                                     melange\n",
      "ares                                     meta-package-manager\n",
      "arjun                                    millet\n",
      "ast-grep                                 mods\n",
      "ata                                      nerdfix\n",
      "aws-amplify                              nexttrace\n",
      "bashate                                  notify\n",
      "blocky                                   ntfy\n",
      "boolector                                openfga\n",
      "chatblade                                pocketbase\n",
      "clive                                    poke\n",
      "cloudpan189-go                           procps@3\n",
      "convco                                   quantum++\n",
      "debugbreak                               renovate\n",
      "devcontainer                             resvg\n",
      "dtools                                   roblox-ts\n",
      "dzr                                      rojo\n",
      "elfx86exts                               rye\n",
      "enchive                                  sad\n",
      "fastgron                                 safeint\n",
      "ffmpeg@5                                 scip\n",
      "forgit                                   shodan\n",
      "form                                     ssocr\n",
      "gat                                      staq\n",
      "gcc@12                                   svlint\n",
      "git-big-picture                          svls\n",
      "git-credential-oauth                     tailwindcss-language-server\n",
      "gitoxide                                 thriftgo\n",
      "hck                                      trurl\n",
      "hz                                       trust-dns\n",
      "jet                                      virtualfish\n",
      "joshuto                                  votca\n",
      "kitex                                    vulkan-extensionlayer\n",
      "ksops                                    vulkan-tools\n",
      "libabigail                               vulkan-validationlayers\n",
      "libansilove                              vvdec\n",
      "libclc                                   vvenc\n",
      "libfastjson                              wally\n",
      "libgedit-gtksourceview                   wazero\n",
      "libint                                   wxlua\n",
      "liblxi                                   wzprof\n",
      "libmediainfo                             yamlfmt\n",
      "\u001b[34m==>\u001b[0m \u001b[1mNew Casks\u001b[0m\n",
      "1kc-razer\n",
      "active-trader-pro\n",
      "alipay-key-tool\n",
      "archaeology\n",
      "asix-ax88179\n",
      "beardie\n",
      "bloop\n",
      "bluos-controller\n",
      "bookletcreator\n",
      "bose-updater\n",
      "caldigit-docking-utility\n",
      "caldigit-thunderbolt-charging\n",
      "cameracontroller\n",
      "canon-eos-utility\n",
      "capacities\n",
      "carbide-create\n",
      "chatbox\n",
      "concept2-utility\n",
      "copilot\n",
      "corsair-icue\n",
      "craft\n",
      "creative\n",
      "cursor\n",
      "dadroit-json-viewer\n",
      "ddpm\n",
      "dintch\n",
      "displaylink\n",
      "droidcam-obs\n",
      "dymo-label\n",
      "elgato-camera-hub\n",
      "elgato-control-center\n",
      "elgato-game-capture-hd\n",
      "elgato-stream-deck\n",
      "elgato-video-capture\n",
      "elgato-wave-link\n",
      "engine-dj\n",
      "entry\n",
      "eobcanka\n",
      "eu\n",
      "eusamanager\n",
      "filemonitor\n",
      "firefly-shimmer\n",
      "focusrite-control\n",
      "focusrite-saffire-mixcontrol\n",
      "fractal-bot\n",
      "ftdi-vcp-driver\n",
      "fujitsu-scansnap-home\n",
      "garmin-express\n",
      "genesys-cloud\n",
      "gitkraken-cli\n",
      "gutenprint\n",
      "hdhomerun\n",
      "hp-easy-start\n",
      "huiontablet\n",
      "insta360-studio\n",
      "jabra-direct\n",
      "karafun\n",
      "kiibohd-configurator\n",
      "konica-minolta-bizhub-c750i-driver\n",
      "konica-minolta-bizhub-c759-c658-c368-c287-c3851-driver\n",
      "lasso\n",
      "lg-onscreen-control\n",
      "linn-konfig\n",
      "llamachat\n",
      "lo-rain\n",
      "logi-options-plus\n",
      "logitech-camera-settings\n",
      "logitech-g-hub\n",
      "logitech-options\n",
      "logitune\n",
      "loupedeck\n",
      "macwhisper\n",
      "motu-m-series\n",
      "mullvad-browser\n",
      "music-miniplayer\n",
      "music-remote\n",
      "music-widget\n",
      "nordic-nrf-command-line-tools\n",
      "nozbe\n",
      "obsbot-webcam\n",
      "opal\n",
      "openbb-terminal\n",
      "openrocket\n",
      "orcaslicer\n",
      "pallotron-yubiswitch\n",
      "philips-hue-sync\n",
      "piclist\n",
      "pololu-avr-programmer-v2\n",
      "processmonitor\n",
      "prolific-pl2303\n",
      "qflipper\n",
      "qmk-toolbox\n",
      "red-canary-mac-monitor\n",
      "reminders-menubar\n",
      "rewind\n",
      "ricoh-theta\n",
      "saleae-logic\n",
      "samsung-portable-ssd-t7\n",
      "segger-jlink\n",
      "shureplus-motiv\n",
      "silicon-labs-vcp-driver\n",
      "skiff\n",
      "smooze-pro\n",
      "sonos\n",
      "sony-ps-remote-play\n",
      "stack\n",
      "steelseries-engine\n",
      "steelseries-gg\n",
      "submariner\n",
      "synology-cloud-station-backup\n",
      "synology-drive\n",
      "synology-photo-station-uploader\n",
      "synology-surveillance-station-client\n",
      "synologyassistant\n",
      "tachidesk-sorayomi\n",
      "tea\n",
      "tiptoi-manager\n",
      "toshiba-color-mfp\n",
      "tuist\n",
      "ubiquiti-unifi-controller\n",
      "uhk-agent\n",
      "usmart-trade\n",
      "vbrokers\n",
      "volta\n",
      "wacom-tablet\n",
      "wch-ch34x-usb-serial-driver\n",
      "xtool-creative-space\n",
      "yealink-meeting\n",
      "yubico-authenticator\n",
      "yubico-yubikey-manager\n",
      "zsa-wally\n",
      "\n",
      "You have \u001b[1m18\u001b[0m outdated formulae installed.\n",
      "\n",
      "\u001b[32m==>\u001b[0m \u001b[1mFetching dependencies for graphviz: \u001b[32mlibpng\u001b[39m, \u001b[32mfreetype\u001b[39m, \u001b[32mfontconfig\u001b[39m, \u001b[32mjpeg-turbo\u001b[39m, \u001b[32mbrotli\u001b[39m, \u001b[32mgiflib\u001b[39m, \u001b[32mhighway\u001b[39m, \u001b[32mimath\u001b[39m, \u001b[32mlz4\u001b[39m, \u001b[32mxz\u001b[39m, \u001b[32mzstd\u001b[39m, \u001b[32mlibtiff\u001b[39m, \u001b[32mlittle-cms2\u001b[39m, \u001b[32mopenexr\u001b[39m, \u001b[32mwebp\u001b[39m, \u001b[32mjpeg-xl\u001b[39m, \u001b[32mlibvmaf\u001b[39m, \u001b[32maom\u001b[39m, \u001b[32mlibavif\u001b[39m, \u001b[32mgd\u001b[39m, \u001b[32mglib\u001b[39m, \u001b[32mjasper\u001b[39m, \u001b[32mnetpbm\u001b[39m, \u001b[32mgts\u001b[39m, \u001b[32mxorgproto\u001b[39m, \u001b[32mlibxau\u001b[39m, \u001b[32mlibxdmcp\u001b[39m, \u001b[32mlibxcb\u001b[39m, \u001b[32mlibx11\u001b[39m, \u001b[32mlibxext\u001b[39m, \u001b[32mlibxrender\u001b[39m, \u001b[32mlzo\u001b[39m, \u001b[32mpixman\u001b[39m, \u001b[32mcairo\u001b[39m, \u001b[32mgdk-pixbuf\u001b[39m, \u001b[32mfribidi\u001b[39m, \u001b[32mgraphite2\u001b[39m, \u001b[32micu4c\u001b[39m, \u001b[32mharfbuzz\u001b[39m, \u001b[32mpango\u001b[39m, \u001b[32mlibrsvg\u001b[39m, \u001b[32mm4\u001b[39m and \u001b[32mlibtool\u001b[39m\u001b[0m\n",
      "\u001b[32m==>\u001b[0m \u001b[1mFetching \u001b[32mlibpng\u001b[39m\u001b[0m\n",
      "\u001b[34m==>\u001b[0m \u001b[1mDownloading https://mirrors.ustc.edu.cn/homebrew-bottles/libpng-1.6.39.monte\u001b[0m\n",
      "######################################################################### 100.0%\n",
      "\u001b[32m==>\u001b[0m \u001b[1mFetching \u001b[32mfreetype\u001b[39m\u001b[0m\n",
      "\u001b[34m==>\u001b[0m \u001b[1mDownloading https://mirrors.ustc.edu.cn/homebrew-bottles/freetype-2.13.0_1.m\u001b[0m\n",
      "######################################################################### 100.0%\n",
      "\u001b[32m==>\u001b[0m \u001b[1mFetching \u001b[32mfontconfig\u001b[39m\u001b[0m\n",
      "\u001b[34m==>\u001b[0m \u001b[1mDownloading https://mirrors.ustc.edu.cn/homebrew-bottles/fontconfig-2.14.2.m\u001b[0m\n",
      "######################################################################### 100.0%\n",
      "\u001b[32m==>\u001b[0m \u001b[1mFetching \u001b[32mjpeg-turbo\u001b[39m\u001b[0m\n",
      "\u001b[34m==>\u001b[0m \u001b[1mDownloading https://mirrors.ustc.edu.cn/homebrew-bottles/jpeg-turbo-2.1.5.1.\u001b[0m\n",
      "######################################################################### 100.0%\n",
      "\u001b[32m==>\u001b[0m \u001b[1mFetching \u001b[32mbrotli\u001b[39m\u001b[0m\n",
      "\u001b[34m==>\u001b[0m \u001b[1mDownloading https://mirrors.ustc.edu.cn/homebrew-bottles/brotli-1.0.9.monter\u001b[0m\n",
      "######################################################################### 100.0%\n",
      "\u001b[32m==>\u001b[0m \u001b[1mFetching \u001b[32mgiflib\u001b[39m\u001b[0m\n",
      "\u001b[34m==>\u001b[0m \u001b[1mDownloading https://mirrors.ustc.edu.cn/homebrew-bottles/giflib-5.2.1.monter\u001b[0m\n",
      "######################################################################### 100.0%\n",
      "\u001b[32m==>\u001b[0m \u001b[1mFetching \u001b[32mhighway\u001b[39m\u001b[0m\n",
      "\u001b[34m==>\u001b[0m \u001b[1mDownloading https://mirrors.ustc.edu.cn/homebrew-bottles/highway-1.0.4.monte\u001b[0m\n",
      "######################################################################### 100.0%\n",
      "\u001b[32m==>\u001b[0m \u001b[1mFetching \u001b[32mimath\u001b[39m\u001b[0m\n",
      "\u001b[34m==>\u001b[0m \u001b[1mDownloading https://mirrors.ustc.edu.cn/homebrew-bottles/imath-3.1.7.montere\u001b[0m\n"
     ]
    },
    {
     "name": "stdout",
     "output_type": "stream",
     "text": [
      "######################################################################### 100.0%\n",
      "\u001b[32m==>\u001b[0m \u001b[1mFetching \u001b[32mlz4\u001b[39m\u001b[0m\n",
      "\u001b[34m==>\u001b[0m \u001b[1mDownloading https://mirrors.ustc.edu.cn/homebrew-bottles/lz4-1.9.4.monterey.\u001b[0m\n",
      "######################################################################### 100.0%\n",
      "\u001b[32m==>\u001b[0m \u001b[1mFetching \u001b[32mxz\u001b[39m\u001b[0m\n",
      "\u001b[34m==>\u001b[0m \u001b[1mDownloading https://mirrors.ustc.edu.cn/homebrew-bottles/xz-5.4.3.monterey.b\u001b[0m\n",
      "######################################################################### 100.0%\n",
      "\u001b[32m==>\u001b[0m \u001b[1mFetching \u001b[32mzstd\u001b[39m\u001b[0m\n",
      "\u001b[34m==>\u001b[0m \u001b[1mDownloading https://mirrors.ustc.edu.cn/homebrew-bottles/zstd-1.5.5.monterey\u001b[0m\n",
      "######################################################################### 100.0%\n",
      "\u001b[32m==>\u001b[0m \u001b[1mFetching \u001b[32mlibtiff\u001b[39m\u001b[0m\n",
      "\u001b[34m==>\u001b[0m \u001b[1mDownloading https://mirrors.ustc.edu.cn/homebrew-bottles/libtiff-4.5.0.monte\u001b[0m\n",
      "######################################################################### 100.0%\n",
      "\u001b[32m==>\u001b[0m \u001b[1mFetching \u001b[32mlittle-cms2\u001b[39m\u001b[0m\n",
      "\u001b[34m==>\u001b[0m \u001b[1mDownloading https://mirrors.ustc.edu.cn/homebrew-bottles/little-cms2-2.15.mo\u001b[0m\n",
      "######################################################################### 100.0%\n",
      "\u001b[32m==>\u001b[0m \u001b[1mFetching \u001b[32mopenexr\u001b[39m\u001b[0m\n",
      "\u001b[34m==>\u001b[0m \u001b[1mDownloading https://mirrors.ustc.edu.cn/homebrew-bottles/openexr-3.1.7.monte\u001b[0m\n",
      "######################################################################### 100.0%\n",
      "\u001b[32m==>\u001b[0m \u001b[1mFetching \u001b[32mwebp\u001b[39m\u001b[0m\n",
      "\u001b[34m==>\u001b[0m \u001b[1mDownloading https://mirrors.ustc.edu.cn/homebrew-bottles/webp-1.3.0_1.monter\u001b[0m\n",
      "######################################################################### 100.0%\n",
      "\u001b[32m==>\u001b[0m \u001b[1mFetching \u001b[32mjpeg-xl\u001b[39m\u001b[0m\n",
      "\u001b[34m==>\u001b[0m \u001b[1mDownloading https://mirrors.ustc.edu.cn/homebrew-bottles/jpeg-xl-0.8.1_2.mon\u001b[0m\n",
      "######################################################################### 100.0%\n",
      "\u001b[32m==>\u001b[0m \u001b[1mFetching \u001b[32mlibvmaf\u001b[39m\u001b[0m\n",
      "\u001b[34m==>\u001b[0m \u001b[1mDownloading https://mirrors.ustc.edu.cn/homebrew-bottles/libvmaf-2.3.1.monte\u001b[0m\n",
      "######################################################################### 100.0%\n",
      "\u001b[32m==>\u001b[0m \u001b[1mFetching \u001b[32maom\u001b[39m\u001b[0m\n",
      "\u001b[34m==>\u001b[0m \u001b[1mDownloading https://mirrors.ustc.edu.cn/homebrew-bottles/aom-3.6.1.monterey.\u001b[0m\n",
      "######################################################################### 100.0%\n",
      "\u001b[32m==>\u001b[0m \u001b[1mFetching \u001b[32mlibavif\u001b[39m\u001b[0m\n",
      "\u001b[34m==>\u001b[0m \u001b[1mDownloading https://mirrors.ustc.edu.cn/homebrew-bottles/libavif-0.11.1.mont\u001b[0m\n",
      "######################################################################### 100.0%\n",
      "\u001b[32m==>\u001b[0m \u001b[1mFetching \u001b[32mgd\u001b[39m\u001b[0m\n",
      "\u001b[34m==>\u001b[0m \u001b[1mDownloading https://mirrors.ustc.edu.cn/homebrew-bottles/gd-2.3.3_5.monterey\u001b[0m\n",
      "######################################################################### 100.0%\n",
      "\u001b[32m==>\u001b[0m \u001b[1mFetching \u001b[32mglib\u001b[39m\u001b[0m\n",
      "\u001b[34m==>\u001b[0m \u001b[1mDownloading https://mirrors.ustc.edu.cn/homebrew-bottles/glib-2.76.3.montere\u001b[0m\n",
      "######################################################################### 100.0%\n",
      "\u001b[32m==>\u001b[0m \u001b[1mFetching \u001b[32mjasper\u001b[39m\u001b[0m\n",
      "\u001b[34m==>\u001b[0m \u001b[1mDownloading https://mirrors.ustc.edu.cn/homebrew-bottles/jasper-4.0.0.monter\u001b[0m\n",
      "######################################################################### 100.0%\n",
      "\u001b[32m==>\u001b[0m \u001b[1mFetching \u001b[32mnetpbm\u001b[39m\u001b[0m\n",
      "\u001b[34m==>\u001b[0m \u001b[1mDownloading https://mirrors.ustc.edu.cn/homebrew-bottles/netpbm-10.86.38_1.m\u001b[0m\n",
      "######################################################################### 100.0%\n",
      "\u001b[32m==>\u001b[0m \u001b[1mFetching \u001b[32mgts\u001b[39m\u001b[0m\n",
      "\u001b[34m==>\u001b[0m \u001b[1mDownloading https://mirrors.ustc.edu.cn/homebrew-bottles/gts-0.7.6_2.montere\u001b[0m\n",
      "######################################################################### 100.0%\n",
      "\u001b[32m==>\u001b[0m \u001b[1mFetching \u001b[32mxorgproto\u001b[39m\u001b[0m\n",
      "\u001b[34m==>\u001b[0m \u001b[1mDownloading https://mirrors.ustc.edu.cn/homebrew-bottles/xorgproto-2022.2.mo\u001b[0m\n",
      "######################################################################### 100.0%\n",
      "\u001b[32m==>\u001b[0m \u001b[1mFetching \u001b[32mlibxau\u001b[39m\u001b[0m\n",
      "\u001b[34m==>\u001b[0m \u001b[1mDownloading https://mirrors.ustc.edu.cn/homebrew-bottles/libxau-1.0.11.monte\u001b[0m\n",
      "######################################################################### 100.0%\n",
      "\u001b[32m==>\u001b[0m \u001b[1mFetching \u001b[32mlibxdmcp\u001b[39m\u001b[0m\n",
      "\u001b[34m==>\u001b[0m \u001b[1mDownloading https://mirrors.ustc.edu.cn/homebrew-bottles/libxdmcp-1.1.4.mont\u001b[0m\n",
      "######################################################################### 100.0%\n",
      "\u001b[32m==>\u001b[0m \u001b[1mFetching \u001b[32mlibxcb\u001b[39m\u001b[0m\n",
      "\u001b[34m==>\u001b[0m \u001b[1mDownloading https://mirrors.ustc.edu.cn/homebrew-bottles/libxcb-1.15_1.monte\u001b[0m\n",
      "######################################################################### 100.0%\n",
      "\u001b[32m==>\u001b[0m \u001b[1mFetching \u001b[32mlibx11\u001b[39m\u001b[0m\n",
      "\u001b[34m==>\u001b[0m \u001b[1mDownloading https://mirrors.ustc.edu.cn/homebrew-bottles/libx11-1.8.4.monter\u001b[0m\n",
      "######################################################################### 100.0%\n",
      "\u001b[32m==>\u001b[0m \u001b[1mFetching \u001b[32mlibxext\u001b[39m\u001b[0m\n",
      "\u001b[34m==>\u001b[0m \u001b[1mDownloading https://mirrors.ustc.edu.cn/homebrew-bottles/libxext-1.3.5.monte\u001b[0m\n",
      "######################################################################### 100.0%\n",
      "\u001b[32m==>\u001b[0m \u001b[1mFetching \u001b[32mlibxrender\u001b[39m\u001b[0m\n",
      "\u001b[34m==>\u001b[0m \u001b[1mDownloading https://mirrors.ustc.edu.cn/homebrew-bottles/libxrender-0.9.11.m\u001b[0m\n",
      "######################################################################### 100.0%\n",
      "\u001b[32m==>\u001b[0m \u001b[1mFetching \u001b[32mlzo\u001b[39m\u001b[0m\n",
      "\u001b[34m==>\u001b[0m \u001b[1mDownloading https://mirrors.ustc.edu.cn/homebrew-bottles/lzo-2.10.monterey.b\u001b[0m\n",
      "######################################################################### 100.0%\n",
      "\u001b[32m==>\u001b[0m \u001b[1mFetching \u001b[32mpixman\u001b[39m\u001b[0m\n",
      "\u001b[34m==>\u001b[0m \u001b[1mDownloading https://mirrors.ustc.edu.cn/homebrew-bottles/pixman-0.42.2.monte\u001b[0m\n",
      "######################################################################### 100.0%\n",
      "\u001b[32m==>\u001b[0m \u001b[1mFetching \u001b[32mcairo\u001b[39m\u001b[0m\n",
      "\u001b[34m==>\u001b[0m \u001b[1mDownloading https://mirrors.ustc.edu.cn/homebrew-bottles/cairo-1.16.0_5.mont\u001b[0m\n",
      "######################################################################### 100.0%\n",
      "\u001b[32m==>\u001b[0m \u001b[1mFetching \u001b[32mgdk-pixbuf\u001b[39m\u001b[0m\n",
      "\u001b[34m==>\u001b[0m \u001b[1mDownloading https://mirrors.ustc.edu.cn/homebrew-bottles/gdk-pixbuf-2.42.10_\u001b[0m\n",
      "######################################################################### 100.0%\n",
      "\u001b[32m==>\u001b[0m \u001b[1mFetching \u001b[32mfribidi\u001b[39m\u001b[0m\n",
      "\u001b[34m==>\u001b[0m \u001b[1mDownloading https://mirrors.ustc.edu.cn/homebrew-bottles/fribidi-1.0.13.mont\u001b[0m\n",
      "######################################################################### 100.0%\n",
      "\u001b[32m==>\u001b[0m \u001b[1mFetching \u001b[32mgraphite2\u001b[39m\u001b[0m\n",
      "\u001b[34m==>\u001b[0m \u001b[1mDownloading https://mirrors.ustc.edu.cn/homebrew-bottles/graphite2-1.3.14.mo\u001b[0m\n",
      "######################################################################### 100.0%\n",
      "\u001b[32m==>\u001b[0m \u001b[1mFetching \u001b[32micu4c\u001b[39m\u001b[0m\n",
      "\u001b[34m==>\u001b[0m \u001b[1mDownloading https://mirrors.ustc.edu.cn/homebrew-bottles/icu4c-72.1.monterey\u001b[0m\n",
      "######################################################################### 100.0%\n",
      "\u001b[32m==>\u001b[0m \u001b[1mFetching \u001b[32mharfbuzz\u001b[39m\u001b[0m\n",
      "\u001b[34m==>\u001b[0m \u001b[1mDownloading https://mirrors.ustc.edu.cn/homebrew-bottles/harfbuzz-7.3.0.mont\u001b[0m\n",
      "######################################################################### 100.0%\n",
      "\u001b[32m==>\u001b[0m \u001b[1mFetching \u001b[32mpango\u001b[39m\u001b[0m\n",
      "\u001b[34m==>\u001b[0m \u001b[1mDownloading https://mirrors.ustc.edu.cn/homebrew-bottles/pango-1.50.14.monte\u001b[0m\n",
      "######################################################################### 100.0%\n",
      "\u001b[32m==>\u001b[0m \u001b[1mFetching \u001b[32mlibrsvg\u001b[39m\u001b[0m\n",
      "\u001b[34m==>\u001b[0m \u001b[1mDownloading https://mirrors.ustc.edu.cn/homebrew-bottles/librsvg-2.56.1.mont\u001b[0m\n",
      "######################################################################### 100.0%\n",
      "\u001b[32m==>\u001b[0m \u001b[1mFetching \u001b[32mm4\u001b[39m\u001b[0m\n",
      "\u001b[34m==>\u001b[0m \u001b[1mDownloading https://mirrors.ustc.edu.cn/homebrew-bottles/m4-1.4.19.monterey.\u001b[0m\n",
      "######################################################################### 100.0%\n",
      "\u001b[32m==>\u001b[0m \u001b[1mFetching \u001b[32mlibtool\u001b[39m\u001b[0m\n",
      "\u001b[34m==>\u001b[0m \u001b[1mDownloading https://mirrors.ustc.edu.cn/homebrew-bottles/libtool-2.4.7.monte\u001b[0m\n",
      "######################################################################### 100.0%\n",
      "\u001b[32m==>\u001b[0m \u001b[1mFetching \u001b[32mgraphviz\u001b[39m\u001b[0m\n",
      "\u001b[34m==>\u001b[0m \u001b[1mDownloading https://mirrors.ustc.edu.cn/homebrew-bottles/graphviz-8.0.5.mont\u001b[0m\n"
     ]
    },
    {
     "name": "stdout",
     "output_type": "stream",
     "text": [
      "######################################################################### 100.0%\n",
      "\u001b[32m==>\u001b[0m \u001b[1mInstalling dependencies for graphviz: \u001b[32mlibpng\u001b[39m, \u001b[32mfreetype\u001b[39m, \u001b[32mfontconfig\u001b[39m, \u001b[32mjpeg-turbo\u001b[39m, \u001b[32mbrotli\u001b[39m, \u001b[32mgiflib\u001b[39m, \u001b[32mhighway\u001b[39m, \u001b[32mimath\u001b[39m, \u001b[32mlz4\u001b[39m, \u001b[32mxz\u001b[39m, \u001b[32mzstd\u001b[39m, \u001b[32mlibtiff\u001b[39m, \u001b[32mlittle-cms2\u001b[39m, \u001b[32mopenexr\u001b[39m, \u001b[32mwebp\u001b[39m, \u001b[32mjpeg-xl\u001b[39m, \u001b[32mlibvmaf\u001b[39m, \u001b[32maom\u001b[39m, \u001b[32mlibavif\u001b[39m, \u001b[32mgd\u001b[39m, \u001b[32mglib\u001b[39m, \u001b[32mjasper\u001b[39m, \u001b[32mnetpbm\u001b[39m, \u001b[32mgts\u001b[39m, \u001b[32mxorgproto\u001b[39m, \u001b[32mlibxau\u001b[39m, \u001b[32mlibxdmcp\u001b[39m, \u001b[32mlibxcb\u001b[39m, \u001b[32mlibx11\u001b[39m, \u001b[32mlibxext\u001b[39m, \u001b[32mlibxrender\u001b[39m, \u001b[32mlzo\u001b[39m, \u001b[32mpixman\u001b[39m, \u001b[32mcairo\u001b[39m, \u001b[32mgdk-pixbuf\u001b[39m, \u001b[32mfribidi\u001b[39m, \u001b[32mgraphite2\u001b[39m, \u001b[32micu4c\u001b[39m, \u001b[32mharfbuzz\u001b[39m, \u001b[32mpango\u001b[39m, \u001b[32mlibrsvg\u001b[39m, \u001b[32mm4\u001b[39m and \u001b[32mlibtool\u001b[39m\u001b[0m\n",
      "\u001b[32m==>\u001b[0m \u001b[1mInstalling graphviz dependency: \u001b[32mlibpng\u001b[39m\u001b[0m\n",
      "\u001b[34m==>\u001b[0m \u001b[1mPouring libpng-1.6.39.monterey.bottle.1.tar.gz\u001b[0m\n",
      "🍺  /usr/local/Cellar/libpng/1.6.39: 27 files, 1.3MB\n",
      "\u001b[32m==>\u001b[0m \u001b[1mInstalling graphviz dependency: \u001b[32mfreetype\u001b[39m\u001b[0m\n",
      "\u001b[34m==>\u001b[0m \u001b[1mPouring freetype-2.13.0_1.monterey.bottle.tar.gz\u001b[0m\n",
      "🍺  /usr/local/Cellar/freetype/2.13.0_1: 67 files, 2.4MB\n",
      "\u001b[32m==>\u001b[0m \u001b[1mInstalling graphviz dependency: \u001b[32mfontconfig\u001b[39m\u001b[0m\n",
      "\u001b[34m==>\u001b[0m \u001b[1mPouring fontconfig-2.14.2.monterey.bottle.tar.gz\u001b[0m\n",
      "\u001b[34m==>\u001b[0m \u001b[1mRegenerating font cache, this may take a while\u001b[0m\n",
      "\u001b[34m==>\u001b[0m \u001b[1m/usr/local/Cellar/fontconfig/2.14.2/bin/fc-cache -frv\u001b[0m\n",
      "🍺  /usr/local/Cellar/fontconfig/2.14.2: 88 files, 2.3MB\n",
      "\u001b[32m==>\u001b[0m \u001b[1mInstalling graphviz dependency: \u001b[32mjpeg-turbo\u001b[39m\u001b[0m\n",
      "\u001b[34m==>\u001b[0m \u001b[1mPouring jpeg-turbo-2.1.5.1.monterey.bottle.tar.gz\u001b[0m\n",
      "🍺  /usr/local/Cellar/jpeg-turbo/2.1.5.1: 44 files, 3.9MB\n",
      "\u001b[32m==>\u001b[0m \u001b[1mInstalling graphviz dependency: \u001b[32mbrotli\u001b[39m\u001b[0m\n",
      "\u001b[34m==>\u001b[0m \u001b[1mPouring brotli-1.0.9.monterey.bottle.tar.gz\u001b[0m\n",
      "🍺  /usr/local/Cellar/brotli/1.0.9: 25 files, 2.3MB\n",
      "\u001b[32m==>\u001b[0m \u001b[1mInstalling graphviz dependency: \u001b[32mgiflib\u001b[39m\u001b[0m\n",
      "\u001b[34m==>\u001b[0m \u001b[1mPouring giflib-5.2.1.monterey.bottle.tar.gz\u001b[0m\n",
      "🍺  /usr/local/Cellar/giflib/5.2.1: 19 files, 583.6KB\n",
      "\u001b[32m==>\u001b[0m \u001b[1mInstalling graphviz dependency: \u001b[32mhighway\u001b[39m\u001b[0m\n",
      "\u001b[34m==>\u001b[0m \u001b[1mPouring highway-1.0.4.monterey.bottle.tar.gz\u001b[0m\n",
      "🍺  /usr/local/Cellar/highway/1.0.4: 65 files, 4.0MB\n",
      "\u001b[32m==>\u001b[0m \u001b[1mInstalling graphviz dependency: \u001b[32mimath\u001b[39m\u001b[0m\n",
      "\u001b[34m==>\u001b[0m \u001b[1mPouring imath-3.1.7.monterey.bottle.tar.gz\u001b[0m\n",
      "🍺  /usr/local/Cellar/imath/3.1.7: 49 files, 927.9KB\n",
      "\u001b[32m==>\u001b[0m \u001b[1mInstalling graphviz dependency: \u001b[32mlz4\u001b[39m\u001b[0m\n",
      "\u001b[34m==>\u001b[0m \u001b[1mPouring lz4-1.9.4.monterey.bottle.tar.gz\u001b[0m\n",
      "🍺  /usr/local/Cellar/lz4/1.9.4: 22 files, 685KB\n",
      "\u001b[32m==>\u001b[0m \u001b[1mInstalling graphviz dependency: \u001b[32mxz\u001b[39m\u001b[0m\n",
      "\u001b[34m==>\u001b[0m \u001b[1mPouring xz-5.4.3.monterey.bottle.tar.gz\u001b[0m\n",
      "🍺  /usr/local/Cellar/xz/5.4.3: 162 files, 2.5MB\n",
      "\u001b[32m==>\u001b[0m \u001b[1mInstalling graphviz dependency: \u001b[32mzstd\u001b[39m\u001b[0m\n",
      "\u001b[34m==>\u001b[0m \u001b[1mPouring zstd-1.5.5.monterey.bottle.tar.gz\u001b[0m\n",
      "🍺  /usr/local/Cellar/zstd/1.5.5: 31 files, 2.5MB\n",
      "\u001b[32m==>\u001b[0m \u001b[1mInstalling graphviz dependency: \u001b[32mlibtiff\u001b[39m\u001b[0m\n",
      "\u001b[34m==>\u001b[0m \u001b[1mPouring libtiff-4.5.0.monterey.bottle.tar.gz\u001b[0m\n",
      "🍺  /usr/local/Cellar/libtiff/4.5.0: 474 files, 8MB\n",
      "\u001b[32m==>\u001b[0m \u001b[1mInstalling graphviz dependency: \u001b[32mlittle-cms2\u001b[39m\u001b[0m\n",
      "\u001b[34m==>\u001b[0m \u001b[1mPouring little-cms2-2.15.monterey.bottle.tar.gz\u001b[0m\n",
      "🍺  /usr/local/Cellar/little-cms2/2.15: 21 files, 1.3MB\n",
      "\u001b[32m==>\u001b[0m \u001b[1mInstalling graphviz dependency: \u001b[32mopenexr\u001b[39m\u001b[0m\n",
      "\u001b[34m==>\u001b[0m \u001b[1mPouring openexr-3.1.7.monterey.bottle.tar.gz\u001b[0m\n",
      "🍺  /usr/local/Cellar/openexr/3.1.7: 194 files, 5.9MB\n",
      "\u001b[32m==>\u001b[0m \u001b[1mInstalling graphviz dependency: \u001b[32mwebp\u001b[39m\u001b[0m\n",
      "\u001b[34m==>\u001b[0m \u001b[1mPouring webp-1.3.0_1.monterey.bottle.tar.gz\u001b[0m\n",
      "🍺  /usr/local/Cellar/webp/1.3.0_1: 63 files, 2.6MB\n",
      "\u001b[32m==>\u001b[0m \u001b[1mInstalling graphviz dependency: \u001b[32mjpeg-xl\u001b[39m\u001b[0m\n",
      "\u001b[34m==>\u001b[0m \u001b[1mPouring jpeg-xl-0.8.1_2.monterey.bottle.tar.gz\u001b[0m\n",
      "🍺  /usr/local/Cellar/jpeg-xl/0.8.1_2: 43 files, 19.4MB\n",
      "\u001b[32m==>\u001b[0m \u001b[1mInstalling graphviz dependency: \u001b[32mlibvmaf\u001b[39m\u001b[0m\n",
      "\u001b[34m==>\u001b[0m \u001b[1mPouring libvmaf-2.3.1.monterey.bottle.tar.gz\u001b[0m\n",
      "🍺  /usr/local/Cellar/libvmaf/2.3.1: 234 files, 7.1MB\n",
      "\u001b[32m==>\u001b[0m \u001b[1mInstalling graphviz dependency: \u001b[32maom\u001b[39m\u001b[0m\n",
      "\u001b[34m==>\u001b[0m \u001b[1mPouring aom-3.6.1.monterey.bottle.tar.gz\u001b[0m\n",
      "🍺  /usr/local/Cellar/aom/3.6.1: 23 files, 13MB\n",
      "\u001b[32m==>\u001b[0m \u001b[1mInstalling graphviz dependency: \u001b[32mlibavif\u001b[39m\u001b[0m\n",
      "\u001b[34m==>\u001b[0m \u001b[1mPouring libavif-0.11.1.monterey.bottle.tar.gz\u001b[0m\n",
      "🍺  /usr/local/Cellar/libavif/0.11.1: 19 files, 473.4KB\n",
      "\u001b[32m==>\u001b[0m \u001b[1mInstalling graphviz dependency: \u001b[32mgd\u001b[39m\u001b[0m\n",
      "\u001b[34m==>\u001b[0m \u001b[1mPouring gd-2.3.3_5.monterey.bottle.tar.gz\u001b[0m\n",
      "🍺  /usr/local/Cellar/gd/2.3.3_5: 33 files, 1.5MB\n",
      "\u001b[32m==>\u001b[0m \u001b[1mInstalling graphviz dependency: \u001b[32mglib\u001b[39m\u001b[0m\n",
      "\u001b[34m==>\u001b[0m \u001b[1mPouring glib-2.76.3.monterey.bottle.tar.gz\u001b[0m\n",
      "🍺  /usr/local/Cellar/glib/2.76.3: 455 files, 21.2MB\n",
      "\u001b[32m==>\u001b[0m \u001b[1mInstalling graphviz dependency: \u001b[32mjasper\u001b[39m\u001b[0m\n",
      "\u001b[34m==>\u001b[0m \u001b[1mPouring jasper-4.0.0.monterey.bottle.tar.gz\u001b[0m\n",
      "🍺  /usr/local/Cellar/jasper/4.0.0: 44 files, 1.6MB\n",
      "\u001b[32m==>\u001b[0m \u001b[1mInstalling graphviz dependency: \u001b[32mnetpbm\u001b[39m\u001b[0m\n",
      "\u001b[34m==>\u001b[0m \u001b[1mPouring netpbm-10.86.38_1.monterey.bottle.1.tar.gz\u001b[0m\n",
      "🍺  /usr/local/Cellar/netpbm/10.86.38_1: 409 files, 17.5MB\n",
      "\u001b[32m==>\u001b[0m \u001b[1mInstalling graphviz dependency: \u001b[32mgts\u001b[39m\u001b[0m\n",
      "\u001b[34m==>\u001b[0m \u001b[1mPouring gts-0.7.6_2.monterey.bottle.tar.gz\u001b[0m\n",
      "🍺  /usr/local/Cellar/gts/0.7.6_2: 26 files, 1.4MB\n",
      "\u001b[32m==>\u001b[0m \u001b[1mInstalling graphviz dependency: \u001b[32mxorgproto\u001b[39m\u001b[0m\n",
      "\u001b[34m==>\u001b[0m \u001b[1mPouring xorgproto-2022.2.monterey.bottle.tar.gz\u001b[0m\n",
      "🍺  /usr/local/Cellar/xorgproto/2022.2: 268 files, 3.9MB\n",
      "\u001b[32m==>\u001b[0m \u001b[1mInstalling graphviz dependency: \u001b[32mlibxau\u001b[39m\u001b[0m\n",
      "\u001b[34m==>\u001b[0m \u001b[1mPouring libxau-1.0.11.monterey.bottle.tar.gz\u001b[0m\n",
      "🍺  /usr/local/Cellar/libxau/1.0.11: 21 files, 105.3KB\n",
      "\u001b[32m==>\u001b[0m \u001b[1mInstalling graphviz dependency: \u001b[32mlibxdmcp\u001b[39m\u001b[0m\n",
      "\u001b[34m==>\u001b[0m \u001b[1mPouring libxdmcp-1.1.4.monterey.bottle.tar.gz\u001b[0m\n",
      "🍺  /usr/local/Cellar/libxdmcp/1.1.4: 11 files, 113.7KB\n",
      "\u001b[32m==>\u001b[0m \u001b[1mInstalling graphviz dependency: \u001b[32mlibxcb\u001b[39m\u001b[0m\n",
      "\u001b[34m==>\u001b[0m \u001b[1mPouring libxcb-1.15_1.monterey.bottle.tar.gz\u001b[0m\n",
      "🍺  /usr/local/Cellar/libxcb/1.15_1: 2,461 files, 6.9MB\n",
      "\u001b[32m==>\u001b[0m \u001b[1mInstalling graphviz dependency: \u001b[32mlibx11\u001b[39m\u001b[0m\n",
      "\u001b[34m==>\u001b[0m \u001b[1mPouring libx11-1.8.4.monterey.bottle.tar.gz\u001b[0m\n",
      "🍺  /usr/local/Cellar/libx11/1.8.4: 1,054 files, 7.0MB\n",
      "\u001b[32m==>\u001b[0m \u001b[1mInstalling graphviz dependency: \u001b[32mlibxext\u001b[39m\u001b[0m\n",
      "\u001b[34m==>\u001b[0m \u001b[1mPouring libxext-1.3.5.monterey.bottle.tar.gz\u001b[0m\n",
      "🍺  /usr/local/Cellar/libxext/1.3.5: 87 files, 426.8KB\n",
      "\u001b[32m==>\u001b[0m \u001b[1mInstalling graphviz dependency: \u001b[32mlibxrender\u001b[39m\u001b[0m\n",
      "\u001b[34m==>\u001b[0m \u001b[1mPouring libxrender-0.9.11.monterey.bottle.tar.gz\u001b[0m\n",
      "🍺  /usr/local/Cellar/libxrender/0.9.11: 12 files, 197.8KB\n",
      "\u001b[32m==>\u001b[0m \u001b[1mInstalling graphviz dependency: \u001b[32mlzo\u001b[39m\u001b[0m\n",
      "\u001b[34m==>\u001b[0m \u001b[1mPouring lzo-2.10.monterey.bottle.tar.gz\u001b[0m\n",
      "🍺  /usr/local/Cellar/lzo/2.10: 31 files, 572.6KB\n",
      "\u001b[32m==>\u001b[0m \u001b[1mInstalling graphviz dependency: \u001b[32mpixman\u001b[39m\u001b[0m\n",
      "\u001b[34m==>\u001b[0m \u001b[1mPouring pixman-0.42.2.monterey.bottle.1.tar.gz\u001b[0m\n",
      "🍺  /usr/local/Cellar/pixman/0.42.2: 11 files, 1.3MB\n",
      "\u001b[32m==>\u001b[0m \u001b[1mInstalling graphviz dependency: \u001b[32mcairo\u001b[39m\u001b[0m\n",
      "\u001b[34m==>\u001b[0m \u001b[1mPouring cairo-1.16.0_5.monterey.bottle.tar.gz\u001b[0m\n",
      "🍺  /usr/local/Cellar/cairo/1.16.0_5: 126 files, 6.3MB\n",
      "\u001b[32m==>\u001b[0m \u001b[1mInstalling graphviz dependency: \u001b[32mgdk-pixbuf\u001b[39m\u001b[0m\n",
      "\u001b[34m==>\u001b[0m \u001b[1mPouring gdk-pixbuf-2.42.10_1.monterey.bottle.tar.gz\u001b[0m\n",
      "\u001b[34m==>\u001b[0m \u001b[1m/usr/local/Cellar/gdk-pixbuf/2.42.10_1/bin/gdk-pixbuf-query-loaders --update\u001b[0m\n",
      "🍺  /usr/local/Cellar/gdk-pixbuf/2.42.10_1: 150 files, 3.7MB\n",
      "\u001b[32m==>\u001b[0m \u001b[1mInstalling graphviz dependency: \u001b[32mfribidi\u001b[39m\u001b[0m\n",
      "\u001b[34m==>\u001b[0m \u001b[1mPouring fribidi-1.0.13.monterey.bottle.tar.gz\u001b[0m\n",
      "🍺  /usr/local/Cellar/fribidi/1.0.13: 67 files, 697KB\n",
      "\u001b[32m==>\u001b[0m \u001b[1mInstalling graphviz dependency: \u001b[32mgraphite2\u001b[39m\u001b[0m\n",
      "\u001b[34m==>\u001b[0m \u001b[1mPouring graphite2-1.3.14.monterey.bottle.tar.gz\u001b[0m\n",
      "🍺  /usr/local/Cellar/graphite2/1.3.14: 18 files, 275.9KB\n",
      "\u001b[32m==>\u001b[0m \u001b[1mInstalling graphviz dependency: \u001b[32micu4c\u001b[39m\u001b[0m\n",
      "\u001b[34m==>\u001b[0m \u001b[1mPouring icu4c-72.1.monterey.bottle.tar.gz\u001b[0m\n"
     ]
    },
    {
     "name": "stdout",
     "output_type": "stream",
     "text": [
      "🍺  /usr/local/Cellar/icu4c/72.1: 263 files, 77.9MB\n",
      "\u001b[32m==>\u001b[0m \u001b[1mInstalling graphviz dependency: \u001b[32mharfbuzz\u001b[39m\u001b[0m\n",
      "\u001b[34m==>\u001b[0m \u001b[1mPouring harfbuzz-7.3.0.monterey.bottle.tar.gz\u001b[0m\n",
      "🍺  /usr/local/Cellar/harfbuzz/7.3.0: 76 files, 9.4MB\n",
      "\u001b[32m==>\u001b[0m \u001b[1mInstalling graphviz dependency: \u001b[32mpango\u001b[39m\u001b[0m\n",
      "\u001b[34m==>\u001b[0m \u001b[1mPouring pango-1.50.14.monterey.bottle.tar.gz\u001b[0m\n",
      "🍺  /usr/local/Cellar/pango/1.50.14: 68 files, 3.2MB\n",
      "\u001b[32m==>\u001b[0m \u001b[1mInstalling graphviz dependency: \u001b[32mlibrsvg\u001b[39m\u001b[0m\n",
      "\u001b[34m==>\u001b[0m \u001b[1mPouring librsvg-2.56.1.monterey.bottle.tar.gz\u001b[0m\n",
      "\u001b[34m==>\u001b[0m \u001b[1m/usr/local/opt/gdk-pixbuf/bin/gdk-pixbuf-query-loaders --update-cache\u001b[0m\n",
      "🍺  /usr/local/Cellar/librsvg/2.56.1: 22 files, 43.4MB\n",
      "\u001b[32m==>\u001b[0m \u001b[1mInstalling graphviz dependency: \u001b[32mm4\u001b[39m\u001b[0m\n",
      "\u001b[34m==>\u001b[0m \u001b[1mPouring m4-1.4.19.monterey.bottle.tar.gz\u001b[0m\n",
      "🍺  /usr/local/Cellar/m4/1.4.19: 13 files, 740.7KB\n",
      "\u001b[32m==>\u001b[0m \u001b[1mInstalling graphviz dependency: \u001b[32mlibtool\u001b[39m\u001b[0m\n",
      "\u001b[34m==>\u001b[0m \u001b[1mPouring libtool-2.4.7.monterey.bottle.tar.gz\u001b[0m\n",
      "🍺  /usr/local/Cellar/libtool/2.4.7: 75 files, 3.8MB\n",
      "\u001b[32m==>\u001b[0m \u001b[1mInstalling \u001b[32mgraphviz\u001b[39m\u001b[0m\n",
      "\u001b[34m==>\u001b[0m \u001b[1mPouring graphviz-8.0.5.monterey.bottle.tar.gz\u001b[0m\n",
      "🍺  /usr/local/Cellar/graphviz/8.0.5: 326 files, 12.7MB\n",
      "\u001b[34m==>\u001b[0m \u001b[1mRunning `brew cleanup graphviz`...\u001b[0m\n",
      "Disable this behaviour by setting HOMEBREW_NO_INSTALL_CLEANUP.\n",
      "Hide these hints with HOMEBREW_NO_ENV_HINTS (see `man brew`).\n",
      "\u001b[34m==>\u001b[0m \u001b[1mUpgrading 4 dependents of upgraded formulae:\u001b[0m\n",
      "Disable this behaviour by setting HOMEBREW_NO_INSTALLED_DEPENDENTS_CHECK.\n",
      "Hide these hints with HOMEBREW_NO_ENV_HINTS (see `man brew`).\n",
      "python@3.10 3.10.4 -> 3.10.11, crystal 1.4.1 -> 1.8.2, gcc 11.3.0 -> 13.1.0, llvm 13.0.1_1 -> 16.0.4\n",
      "\u001b[32m==>\u001b[0m \u001b[1mFetching dependencies for python@3.10: \u001b[32mca-certificates\u001b[39m, \u001b[32mopenssl@1.1\u001b[39m, \u001b[32mreadline\u001b[39m and \u001b[32msqlite\u001b[39m\u001b[0m\n",
      "\u001b[32m==>\u001b[0m \u001b[1mFetching \u001b[32mca-certificates\u001b[39m\u001b[0m\n",
      "\u001b[34m==>\u001b[0m \u001b[1mDownloading https://mirrors.ustc.edu.cn/homebrew-bottles/ca-certificates-202\u001b[0m\n",
      "######################################################################### 100.0%\n",
      "\u001b[32m==>\u001b[0m \u001b[1mFetching \u001b[32mopenssl@1.1\u001b[39m\u001b[0m\n",
      "\u001b[34m==>\u001b[0m \u001b[1mDownloading https://mirrors.ustc.edu.cn/homebrew-bottles/openssl%401.1-1.1.1\u001b[0m\n",
      "######################################################################### 100.0%\n",
      "\u001b[32m==>\u001b[0m \u001b[1mFetching \u001b[32mreadline\u001b[39m\u001b[0m\n",
      "\u001b[34m==>\u001b[0m \u001b[1mDownloading https://mirrors.ustc.edu.cn/homebrew-bottles/readline-8.2.1.mont\u001b[0m\n",
      "######################################################################### 100.0%\n",
      "\u001b[32m==>\u001b[0m \u001b[1mFetching \u001b[32msqlite\u001b[39m\u001b[0m\n",
      "\u001b[34m==>\u001b[0m \u001b[1mDownloading https://mirrors.ustc.edu.cn/homebrew-bottles/sqlite-3.42.0.monte\u001b[0m\n",
      "######################################################################### 100.0%\n",
      "\u001b[32m==>\u001b[0m \u001b[1mFetching \u001b[32mpython@3.10\u001b[39m\u001b[0m\n",
      "\u001b[34m==>\u001b[0m \u001b[1mDownloading https://mirrors.ustc.edu.cn/homebrew-bottles/python%403.10-3.10.\u001b[0m\n",
      "######################################################################### 100.0%\n",
      "\u001b[32m==>\u001b[0m \u001b[1mFetching dependencies for llvm: \u001b[32mpython@3.11\u001b[39m, \u001b[32msix\u001b[39m and \u001b[32mz3\u001b[39m\u001b[0m\n",
      "\u001b[32m==>\u001b[0m \u001b[1mFetching \u001b[32mpython@3.11\u001b[39m\u001b[0m\n",
      "\u001b[34m==>\u001b[0m \u001b[1mDownloading https://mirrors.ustc.edu.cn/homebrew-bottles/python%403.11-3.11.\u001b[0m\n",
      "######################################################################### 100.0%\n",
      "\u001b[32m==>\u001b[0m \u001b[1mFetching \u001b[32msix\u001b[39m\u001b[0m\n",
      "\u001b[34m==>\u001b[0m \u001b[1mDownloading https://mirrors.ustc.edu.cn/homebrew-bottles/six-1.16.0_3.all.bo\u001b[0m\n",
      "######################################################################### 100.0%\n",
      "\u001b[32m==>\u001b[0m \u001b[1mFetching \u001b[32mz3\u001b[39m\u001b[0m\n",
      "\u001b[34m==>\u001b[0m \u001b[1mDownloading https://mirrors.ustc.edu.cn/homebrew-bottles/z3-4.12.2.monterey.\u001b[0m\n",
      "######################################################################### 100.0%\n",
      "\u001b[32m==>\u001b[0m \u001b[1mFetching \u001b[32mllvm\u001b[39m\u001b[0m\n",
      "\u001b[34m==>\u001b[0m \u001b[1mDownloading https://mirrors.ustc.edu.cn/homebrew-bottles/llvm-16.0.4.montere\u001b[0m\n",
      "######################################################################### 100.0%\n",
      "\u001b[32m==>\u001b[0m \u001b[1mFetching dependencies for crystal: \u001b[32mbdw-gc\u001b[39m and \u001b[32mllvm@15\u001b[39m\u001b[0m\n",
      "\u001b[32m==>\u001b[0m \u001b[1mFetching \u001b[32mbdw-gc\u001b[39m\u001b[0m\n",
      "\u001b[34m==>\u001b[0m \u001b[1mDownloading https://mirrors.ustc.edu.cn/homebrew-bottles/bdw-gc-8.2.4.monter\u001b[0m\n",
      "######################################################################### 100.0%\n",
      "\u001b[32m==>\u001b[0m \u001b[1mFetching \u001b[32mllvm@15\u001b[39m\u001b[0m\n",
      "\u001b[34m==>\u001b[0m \u001b[1mDownloading https://mirrors.ustc.edu.cn/homebrew-bottles/llvm%4015-15.0.7.mo\u001b[0m\n",
      "######################################################################### 100.0%\n",
      "\u001b[32m==>\u001b[0m \u001b[1mFetching \u001b[32mcrystal\u001b[39m\u001b[0m\n",
      "\u001b[34m==>\u001b[0m \u001b[1mDownloading https://mirrors.ustc.edu.cn/homebrew-bottles/crystal-1.8.2.monte\u001b[0m\n",
      "######################################################################### 100.0%\n",
      "\u001b[32m==>\u001b[0m \u001b[1mFetching dependencies for gcc: \u001b[32misl\u001b[39m, \u001b[32mmpfr\u001b[39m and \u001b[32mlibmpc\u001b[39m\u001b[0m\n",
      "\u001b[32m==>\u001b[0m \u001b[1mFetching \u001b[32misl\u001b[39m\u001b[0m\n",
      "\u001b[34m==>\u001b[0m \u001b[1mDownloading https://mirrors.ustc.edu.cn/homebrew-bottles/isl-0.26.monterey.b\u001b[0m\n",
      "######################################################################### 100.0%\n",
      "\u001b[32m==>\u001b[0m \u001b[1mFetching \u001b[32mmpfr\u001b[39m\u001b[0m\n",
      "\u001b[34m==>\u001b[0m \u001b[1mDownloading https://mirrors.ustc.edu.cn/homebrew-bottles/mpfr-4.2.0-p9.monte\u001b[0m\n",
      "######################################################################### 100.0%\n",
      "\u001b[32m==>\u001b[0m \u001b[1mFetching \u001b[32mlibmpc\u001b[39m\u001b[0m\n",
      "\u001b[34m==>\u001b[0m \u001b[1mDownloading https://mirrors.ustc.edu.cn/homebrew-bottles/libmpc-1.3.1.monter\u001b[0m\n",
      "######################################################################### 100.0%\n",
      "\u001b[32m==>\u001b[0m \u001b[1mFetching \u001b[32mgcc\u001b[39m\u001b[0m\n",
      "\u001b[34m==>\u001b[0m \u001b[1mDownloading https://mirrors.ustc.edu.cn/homebrew-bottles/gcc-13.1.0.monterey\u001b[0m\n",
      "######################################################################### 100.0%\n",
      "\u001b[32m==>\u001b[0m \u001b[1mUpgrading \u001b[32mpython@3.10\u001b[39m\n",
      "  3.10.4 -> 3.10.11 \n",
      "\u001b[0m\n",
      "\u001b[32m==>\u001b[0m \u001b[1mInstalling dependencies for python@3.10: \u001b[32mca-certificates\u001b[39m, \u001b[32mopenssl@1.1\u001b[39m, \u001b[32mreadline\u001b[39m and \u001b[32msqlite\u001b[39m\u001b[0m\n",
      "\u001b[32m==>\u001b[0m \u001b[1mInstalling python@3.10 dependency: \u001b[32mca-certificates\u001b[39m\u001b[0m\n",
      "\u001b[34m==>\u001b[0m \u001b[1mPouring ca-certificates-2023-05-30.monterey.bottle.tar.gz\u001b[0m\n",
      "\u001b[34m==>\u001b[0m \u001b[1mRegenerating CA certificate bundle from keychain, this may take a while...\u001b[0m\n",
      "🍺  /usr/local/Cellar/ca-certificates/2023-05-30: 3 files, 216.1KB\n",
      "\u001b[32m==>\u001b[0m \u001b[1mInstalling python@3.10 dependency: \u001b[32mopenssl@1.1\u001b[39m\u001b[0m\n",
      "\u001b[34m==>\u001b[0m \u001b[1mPouring openssl@1.1-1.1.1u.monterey.bottle.tar.gz\u001b[0m\n",
      "\u001b[34m==>\u001b[0m \u001b[1mDownloading https://formulae.brew.sh/api/formula.jws.json\u001b[0m\n",
      "######################################################################### 100.0%                                          0.8%                                               15.3%####################                                          45.8%###################                 80.3%\n",
      "🍺  /usr/local/Cellar/openssl@1.1/1.1.1u: 8,101 files, 18.5MB\n",
      "\u001b[32m==>\u001b[0m \u001b[1mInstalling python@3.10 dependency: \u001b[32mreadline\u001b[39m\u001b[0m\n",
      "\u001b[34m==>\u001b[0m \u001b[1mPouring readline-8.2.1.monterey.bottle.tar.gz\u001b[0m\n",
      "🍺  /usr/local/Cellar/readline/8.2.1: 50 files, 1.7MB\n",
      "\u001b[32m==>\u001b[0m \u001b[1mInstalling python@3.10 dependency: \u001b[32msqlite\u001b[39m\u001b[0m\n",
      "\u001b[34m==>\u001b[0m \u001b[1mPouring sqlite-3.42.0.monterey.bottle.tar.gz\u001b[0m\n",
      "🍺  /usr/local/Cellar/sqlite/3.42.0: 11 files, 4.5MB\n",
      "\u001b[32m==>\u001b[0m \u001b[1mInstalling \u001b[32mpython@3.10\u001b[39m\u001b[0m\n",
      "\u001b[34m==>\u001b[0m \u001b[1mPouring python@3.10-3.10.11.monterey.bottle.tar.gz\u001b[0m\n",
      "\u001b[34m==>\u001b[0m \u001b[1m/usr/local/Cellar/python@3.10/3.10.11/bin/python3.10 -m ensurepip\u001b[0m\n",
      "\u001b[34m==>\u001b[0m \u001b[1m/usr/local/Cellar/python@3.10/3.10.11/bin/python3.10 -m pip install -v --no-\u001b[0m\n",
      "🍺  /usr/local/Cellar/python@3.10/3.10.11: 3,097 files, 56.5MB\n",
      "\u001b[34m==>\u001b[0m \u001b[1mRunning `brew cleanup python@3.10`...\u001b[0m\n",
      "Removing: /usr/local/Cellar/python@3.10/3.10.4... (3,138 files, 56.7MB)\n",
      "\u001b[32m==>\u001b[0m \u001b[1mUpgrading \u001b[32mllvm\u001b[39m\n",
      "  13.0.1_1 -> 16.0.4 \n",
      "\u001b[0m\n",
      "\u001b[32m==>\u001b[0m \u001b[1mInstalling dependencies for llvm: \u001b[32mpython@3.11\u001b[39m, \u001b[32msix\u001b[39m and \u001b[32mz3\u001b[39m\u001b[0m\n",
      "\u001b[32m==>\u001b[0m \u001b[1mInstalling llvm dependency: \u001b[32mpython@3.11\u001b[39m\u001b[0m\n",
      "\u001b[34m==>\u001b[0m \u001b[1mPouring python@3.11-3.11.3.monterey.bottle.tar.gz\u001b[0m\n",
      "\u001b[34m==>\u001b[0m \u001b[1m/usr/local/Cellar/python@3.11/3.11.3/bin/python3.11 -m ensurepip\u001b[0m\n"
     ]
    },
    {
     "name": "stdout",
     "output_type": "stream",
     "text": [
      "\u001b[34m==>\u001b[0m \u001b[1m/usr/local/Cellar/python@3.11/3.11.3/bin/python3.11 -m pip install -v --no-d\u001b[0m\n",
      "🍺  /usr/local/Cellar/python@3.11/3.11.3: 3,176 files, 61.4MB\n",
      "\u001b[32m==>\u001b[0m \u001b[1mInstalling llvm dependency: \u001b[32msix\u001b[39m\u001b[0m\n",
      "\u001b[34m==>\u001b[0m \u001b[1mPouring six-1.16.0_3.all.bottle.tar.gz\u001b[0m\n",
      "🍺  /usr/local/Cellar/six/1.16.0_3: 20 files, 122.3KB\n",
      "\u001b[32m==>\u001b[0m \u001b[1mInstalling llvm dependency: \u001b[32mz3\u001b[39m\u001b[0m\n",
      "\u001b[34m==>\u001b[0m \u001b[1mPouring z3-4.12.2.monterey.bottle.tar.gz\u001b[0m\n",
      "🍺  /usr/local/Cellar/z3/4.12.2: 118 files, 31.4MB\n",
      "\u001b[32m==>\u001b[0m \u001b[1mInstalling \u001b[32mllvm\u001b[39m\u001b[0m\n",
      "\u001b[34m==>\u001b[0m \u001b[1mPouring llvm-16.0.4.monterey.bottle.tar.gz\u001b[0m\n",
      "🍺  /usr/local/Cellar/llvm/16.0.4: 6,779 files, 1.6GB\n",
      "\u001b[34m==>\u001b[0m \u001b[1mRunning `brew cleanup llvm`...\u001b[0m\n",
      "Removing: /usr/local/Cellar/llvm/13.0.1_1... (5,449 files, 941.7MB)\n",
      "\u001b[32m==>\u001b[0m \u001b[1mUpgrading \u001b[32mcrystal\u001b[39m\n",
      "  1.4.1 -> 1.8.2 \n",
      "\u001b[0m\n",
      "\u001b[32m==>\u001b[0m \u001b[1mInstalling dependencies for crystal: \u001b[32mbdw-gc\u001b[39m and \u001b[32mllvm@15\u001b[39m\u001b[0m\n",
      "\u001b[32m==>\u001b[0m \u001b[1mInstalling crystal dependency: \u001b[32mbdw-gc\u001b[39m\u001b[0m\n",
      "\u001b[34m==>\u001b[0m \u001b[1mPouring bdw-gc-8.2.4.monterey.bottle.tar.gz\u001b[0m\n",
      "🍺  /usr/local/Cellar/bdw-gc/8.2.4: 73 files, 1.6MB\n",
      "\u001b[32m==>\u001b[0m \u001b[1mInstalling crystal dependency: \u001b[32mllvm@15\u001b[39m\u001b[0m\n",
      "\u001b[34m==>\u001b[0m \u001b[1mPouring llvm@15-15.0.7.monterey.bottle.tar.gz\u001b[0m\n",
      "🍺  /usr/local/Cellar/llvm@15/15.0.7: 5,857 files, 1GB\n",
      "\u001b[32m==>\u001b[0m \u001b[1mInstalling \u001b[32mcrystal\u001b[39m\u001b[0m\n",
      "\u001b[34m==>\u001b[0m \u001b[1mPouring crystal-1.8.2.monterey.bottle.tar.gz\u001b[0m\n",
      "\u001b[34m==>\u001b[0m \u001b[1mCaveats\u001b[0m\n",
      "zsh completions have been installed to:\n",
      "  /usr/local/share/zsh/site-functions\n",
      "\u001b[34m==>\u001b[0m \u001b[1mSummary\u001b[0m\n",
      "🍺  /usr/local/Cellar/crystal/1.8.2: 1,406 files, 23.6MB\n",
      "\u001b[34m==>\u001b[0m \u001b[1mRunning `brew cleanup crystal`...\u001b[0m\n",
      "Removing: /usr/local/Cellar/crystal/1.4.1... (1,334 files, 21.8MB)\n",
      "\u001b[32m==>\u001b[0m \u001b[1mUpgrading \u001b[32mgcc\u001b[39m\n",
      "  11.3.0 -> 13.1.0 \n",
      "\u001b[0m\n",
      "\u001b[32m==>\u001b[0m \u001b[1mInstalling dependencies for gcc: \u001b[32misl\u001b[39m, \u001b[32mmpfr\u001b[39m and \u001b[32mlibmpc\u001b[39m\u001b[0m\n",
      "\u001b[32m==>\u001b[0m \u001b[1mInstalling gcc dependency: \u001b[32misl\u001b[39m\u001b[0m\n",
      "\u001b[34m==>\u001b[0m \u001b[1mPouring isl-0.26.monterey.bottle.tar.gz\u001b[0m\n",
      "🍺  /usr/local/Cellar/isl/0.26: 73 files, 7.6MB\n",
      "\u001b[32m==>\u001b[0m \u001b[1mInstalling gcc dependency: \u001b[32mmpfr\u001b[39m\u001b[0m\n",
      "\u001b[34m==>\u001b[0m \u001b[1mPouring mpfr-4.2.0-p9.monterey.bottle.tar.gz\u001b[0m\n",
      "🍺  /usr/local/Cellar/mpfr/4.2.0-p9: 30 files, 3MB\n",
      "\u001b[32m==>\u001b[0m \u001b[1mInstalling gcc dependency: \u001b[32mlibmpc\u001b[39m\u001b[0m\n",
      "\u001b[34m==>\u001b[0m \u001b[1mPouring libmpc-1.3.1.monterey.bottle.tar.gz\u001b[0m\n",
      "🍺  /usr/local/Cellar/libmpc/1.3.1: 12 files, 463.9KB\n",
      "\u001b[32m==>\u001b[0m \u001b[1mInstalling \u001b[32mgcc\u001b[39m\u001b[0m\n",
      "\u001b[34m==>\u001b[0m \u001b[1mPouring gcc-13.1.0.monterey.bottle.tar.gz\u001b[0m\n",
      "🍺  /usr/local/Cellar/gcc/13.1.0: 1,606 files, 429.4MB\n",
      "\u001b[34m==>\u001b[0m \u001b[1mRunning `brew cleanup gcc`...\u001b[0m\n",
      "Removing: /usr/local/Cellar/gcc/11.3.0... (2,162 files, 460.7MB)\n",
      "Removing: /Users/evelynwang/Library/Caches/Homebrew/gcc--11.3.0.big_sur.bottle.tar.gz... (135.8MB)\n",
      "\u001b[32m==>\u001b[0m \u001b[1mChecking for dependents of upgraded formulae...\u001b[0m\n",
      "\u001b[34m==>\u001b[0m \u001b[1mNo broken dependents found!\u001b[0m\n",
      "\u001b[32m==>\u001b[0m \u001b[1mCaveats\u001b[0m\n",
      "\u001b[34m==>\u001b[0m \u001b[1mcrystal\u001b[0m\n",
      "zsh completions have been installed to:\n",
      "  /usr/local/share/zsh/site-functions\n"
     ]
    }
   ],
   "source": [
    "!brew install graphviz"
   ]
  },
  {
   "cell_type": "code",
   "execution_count": 21,
   "id": "3953f4f7",
   "metadata": {},
   "outputs": [],
   "source": [
    "from sklearn.tree import export_graphviz"
   ]
  },
  {
   "cell_type": "code",
   "execution_count": 22,
   "id": "5efc95ec",
   "metadata": {},
   "outputs": [],
   "source": [
    "export_graphviz(tree, out_file='tree.dot', feature_names=['sepal length (cm)','petal length (cm)'])"
   ]
  },
  {
   "cell_type": "markdown",
   "id": "09771d5e",
   "metadata": {},
   "source": [
    "## 三類花"
   ]
  },
  {
   "cell_type": "code",
   "execution_count": 23,
   "id": "abea12ba",
   "metadata": {},
   "outputs": [
    {
     "name": "stdout",
     "output_type": "stream",
     "text": [
      "target_names: ['setosa' 'versicolor' 'virginica']\n"
     ]
    },
    {
     "data": {
      "text/html": [
       "<div>\n",
       "<style scoped>\n",
       "    .dataframe tbody tr th:only-of-type {\n",
       "        vertical-align: middle;\n",
       "    }\n",
       "\n",
       "    .dataframe tbody tr th {\n",
       "        vertical-align: top;\n",
       "    }\n",
       "\n",
       "    .dataframe thead th {\n",
       "        text-align: right;\n",
       "    }\n",
       "</style>\n",
       "<table border=\"1\" class=\"dataframe\">\n",
       "  <thead>\n",
       "    <tr style=\"text-align: right;\">\n",
       "      <th></th>\n",
       "      <th>petal width (cm)</th>\n",
       "      <th>petal length (cm)</th>\n",
       "      <th>target</th>\n",
       "    </tr>\n",
       "  </thead>\n",
       "  <tbody>\n",
       "    <tr>\n",
       "      <th>0</th>\n",
       "      <td>0.2</td>\n",
       "      <td>1.4</td>\n",
       "      <td>0</td>\n",
       "    </tr>\n",
       "    <tr>\n",
       "      <th>1</th>\n",
       "      <td>0.2</td>\n",
       "      <td>1.4</td>\n",
       "      <td>0</td>\n",
       "    </tr>\n",
       "    <tr>\n",
       "      <th>2</th>\n",
       "      <td>0.2</td>\n",
       "      <td>1.3</td>\n",
       "      <td>0</td>\n",
       "    </tr>\n",
       "  </tbody>\n",
       "</table>\n",
       "</div>"
      ],
      "text/plain": [
       "   petal width (cm)  petal length (cm)  target\n",
       "0               0.2                1.4       0\n",
       "1               0.2                1.4       0\n",
       "2               0.2                1.3       0"
      ]
     },
     "execution_count": 23,
     "metadata": {},
     "output_type": "execute_result"
    }
   ],
   "source": [
    "iris = datasets.load_iris()\n",
    "x = pd.DataFrame(iris['data'], columns=iris['feature_names'])\n",
    "print(\"target_names: \"+str(iris['target_names']))\n",
    "y = pd.DataFrame(iris['target'], columns=['target'])\n",
    "iris_data = pd.concat([x,y], axis=1)\n",
    "iris_data = iris_data[['petal width (cm)','petal length (cm)','target']]\n",
    "iris_data.head(3)"
   ]
  },
  {
   "cell_type": "code",
   "execution_count": 24,
   "id": "35a5a429",
   "metadata": {},
   "outputs": [],
   "source": [
    "X_train, X_test, y_train, y_test = train_test_split(\n",
    "    iris_data[['petal width (cm)','petal length (cm)']], iris_data[['target']], test_size=0.3, random_state=0)\n"
   ]
  },
  {
   "cell_type": "code",
   "execution_count": 25,
   "id": "1143e4f3",
   "metadata": {},
   "outputs": [
    {
     "data": {
      "text/plain": [
       "DecisionTreeClassifier(criterion='entropy', max_depth=3, random_state=0)"
      ]
     },
     "execution_count": 25,
     "metadata": {},
     "output_type": "execute_result"
    }
   ],
   "source": [
    "from sklearn.tree import DecisionTreeClassifier\n",
    "tree = DecisionTreeClassifier(criterion = 'entropy', max_depth=3, random_state=0)\n",
    "tree.fit(X_train,y_train)"
   ]
  },
  {
   "cell_type": "code",
   "execution_count": 27,
   "id": "9548b46b",
   "metadata": {},
   "outputs": [],
   "source": [
    "from matplotlib.axes._axes import _log as matplotlib_axes_logger\n",
    "matplotlib_axes_logger.setLevel('ERROR')"
   ]
  },
  {
   "cell_type": "code",
   "execution_count": 28,
   "id": "a93027ab",
   "metadata": {},
   "outputs": [
    {
     "data": {
      "image/png": "[encoded data removed]",
      "text/plain": [
       "<Figure size 432x288 with 1 Axes>"
      ]
     },
     "metadata": {
      "needs_background": "light"
     },
     "output_type": "display_data"
    }
   ],
   "source": [
    "plot_decision_regions(X_train.values, y_train['target'].values, classifier=tree)\n",
    "plt.xlabel('petal length [standardized]')\n",
    "plt.ylabel('petal width [standardized]')\n",
    "plt.legend(loc='upper left')\n",
    "plt.tight_layout()\n",
    "plt.show()"
   ]
  },
  {
   "cell_type": "code",
   "execution_count": 30,
   "id": "1e69f2b9",
   "metadata": {},
   "outputs": [],
   "source": [
    "export_graphviz(tree, out_file='tree2.dot', feature_names=['sepal length (cm)','petal length (cm)'])"
   ]
  },
  {
   "cell_type": "markdown",
   "id": "5fd1b25b",
   "metadata": {},
   "source": [
    "# RF"
   ]
  },
  {
   "cell_type": "code",
   "execution_count": 31,
   "id": "6c35c9f8",
   "metadata": {},
   "outputs": [],
   "source": [
    "from sklearn.ensemble import RandomForestClassifier"
   ]
  },
  {
   "cell_type": "code",
   "execution_count": 32,
   "id": "478f72fa",
   "metadata": {},
   "outputs": [],
   "source": [
    "forest = RandomForestClassifier(criterion='entropy', n_estimators=10,random_state=3,n_jobs=2)"
   ]
  },
  {
   "cell_type": "code",
   "execution_count": 33,
   "id": "83c0d084",
   "metadata": {},
   "outputs": [
    {
     "data": {
      "text/plain": [
       "RandomForestClassifier(criterion='entropy', n_estimators=10, n_jobs=2,\n",
       "                       random_state=3)"
      ]
     },
     "execution_count": 33,
     "metadata": {},
     "output_type": "execute_result"
    }
   ],
   "source": [
    "forest.fit(X_train,y_train['target'].values)"
   ]
  },
  {
   "cell_type": "code",
   "execution_count": 34,
   "id": "fc5ddb82",
   "metadata": {},
   "outputs": [
    {
     "data": {
      "image/png": "[encoded data removed]",
      "text/plain": [
       "<Figure size 432x288 with 1 Axes>"
      ]
     },
     "metadata": {
      "needs_background": "light"
     },
     "output_type": "display_data"
    }
   ],
   "source": [
    "plot_decision_regions(X_train.values, y_train['target'].values, classifier=forest)"
   ]
  },
  {
   "cell_type": "code",
   "execution_count": null,
   "id": "dba1c6f4",
   "metadata": {},
   "outputs": [],
   "source": []
  }
 ],
 "metadata": {
  "kernelspec": {
   "display_name": "Python 3",
   "language": "python",
   "name": "python3"
  },
  "language_info": {
   "codemirror_mode": {
    "name": "ipython",
    "version": 3
   },
   "file_extension": ".py",
   "mimetype": "text/x-python",
   "name": "python",
   "nbconvert_exporter": "python",
   "pygments_lexer": "ipython3",
   "version": "3.8.8"
  }
 },
 "nbformat": 4,
 "nbformat_minor": 5
}
